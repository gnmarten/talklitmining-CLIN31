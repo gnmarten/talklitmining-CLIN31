{
 "cells": [
  {
   "cell_type": "code",
   "execution_count": 21,
   "id": "positive-party",
   "metadata": {},
   "outputs": [],
   "source": [
    "# Twitter Developer keys here\n",
    "consumer_key = '3SHdoKRk9q9fq5t6RlnJDax7v'\n",
    "consumer_key_secret = 'AcKxqm029dtNl2MzznJku9OLoa8DJNhstGXkICjiuZquBlscp0'\n",
    "access_token = '915011546081841152-7fbciAlQNOHNEo5vwoLvFIEgQSilRWG'\n",
    "access_token_secret = 'CvGUeajpK6G2bRSlTT2UOUTItfpGV3xjcXCxogWRaC92c'"
   ]
  },
  {
   "cell_type": "code",
   "execution_count": 22,
   "id": "legitimate-nicaragua",
   "metadata": {},
   "outputs": [],
   "source": [
    "import csv\n",
    "import tweepy\n",
    "import pandas as pd\n",
    "from sklearn.model_selection import train_test_split\n",
    "import tqdm"
   ]
  },
  {
   "cell_type": "code",
   "execution_count": 23,
   "id": "requested-discovery",
   "metadata": {},
   "outputs": [],
   "source": [
    "auth = tweepy.OAuthHandler(consumer_key, consumer_key_secret)\n",
    "auth.set_access_token(access_token, access_token_secret)\n",
    "api = tweepy.API(auth)"
   ]
  },
  {
   "cell_type": "code",
   "execution_count": 24,
   "id": "raised-slope",
   "metadata": {},
   "outputs": [],
   "source": [
    "def createDataset(corpusFile, targetResultFile):\n",
    "    import csv\n",
    "    import time\n",
    "\n",
    "    counter = 0\n",
    "    corpus = []\n",
    "\n",
    "    with open(corpusFile, 'r') as csvfile:\n",
    "        lineReader = csv.reader(csvfile, delimiter=',', quotechar=\"\\\"\")\n",
    "        for row in lineReader:\n",
    "            corpus.append({\"tweet_id\": row[3], \"label\": row[2], \"aspect\": row[1]})\n",
    "    corpus = corpus[1:]\n",
    "    sleepTime = 2\n",
    "    trainingDataSet = []\n",
    "\n",
    "    for tweet in tqdm.tqdm(corpus):\n",
    "        try:\n",
    "            print(tweet[\"tweet_id\"])\n",
    "            tweetFetched = api.get_status(tweet[\"tweet_id\"], tweet_mode='extended')\n",
    "            print(\"Tweet fetched:  \" + tweetFetched.full_text)\n",
    "            tweet[\"text\"] = tweetFetched.full_text\n",
    "            trainingDataSet.append(tweet)\n",
    "            time.sleep(sleepTime)\n",
    "\n",
    "        except Exception as e:\n",
    "            print(e)\n",
    "            print(\"Inside the exception - no:2\")\n",
    "            time.sleep(sleepTime)\n",
    "            continue\n",
    "\n",
    "    with open(targetResultFile, 'w') as csvfile:\n",
    "        linewriter = csv.writer(csvfile, delimiter=',', quotechar=\"\\\"\")\n",
    "        for tweet in trainingDataSet:\n",
    "            try:\n",
    "                linewriter.writerow([tweet[\"tweet_id\"], tweet[\"text\"], tweet[\"label\"], tweet[\"aspect\"]])\n",
    "            except Exception as e:\n",
    "                print(e)"
   ]
  },
  {
   "cell_type": "code",
   "execution_count": null,
   "id": "korean-acrobat",
   "metadata": {},
   "outputs": [
    {
     "name": "stderr",
     "output_type": "stream",
     "text": [
      "\r",
      "  0%|          | 0/830 [00:00<?, ?it/s]"
     ]
    },
    {
     "name": "stdout",
     "output_type": "stream",
     "text": [
      "1014812423205916672\n",
      "Tweet fetched:  Wettlesen am Wörthersee. Das Setting erinnert ein bisschen an @hartaberfair. Nur das Publikum läuft herrlich anarchisch durch das Livebild: https://t.co/xzZ7ARVfqW via @3sat. #tddl #tddl18 #Bachmannpreis\n"
     ]
    },
    {
     "name": "stderr",
     "output_type": "stream",
     "text": [
      "\r",
      "  0%|          | 1/830 [00:02<31:06,  2.25s/it]"
     ]
    },
    {
     "name": "stdout",
     "output_type": "stream",
     "text": [
      "1014812423205916672\n",
      "Tweet fetched:  Wettlesen am Wörthersee. Das Setting erinnert ein bisschen an @hartaberfair. Nur das Publikum läuft herrlich anarchisch durch das Livebild: https://t.co/xzZ7ARVfqW via @3sat. #tddl #tddl18 #Bachmannpreis\n"
     ]
    },
    {
     "name": "stderr",
     "output_type": "stream",
     "text": [
      "\r",
      "  0%|          | 2/830 [00:04<32:20,  2.34s/it]"
     ]
    },
    {
     "name": "stdout",
     "output_type": "stream",
     "text": [
      "1014814182280171521\n",
      "Tweet fetched:  Figuren im Text schlafen miteinander, peinlich berührtes Husten im Publikum #tddl #Lohse\n"
     ]
    },
    {
     "name": "stderr",
     "output_type": "stream",
     "text": [
      "\r",
      "  0%|          | 3/830 [00:06<31:46,  2.30s/it]"
     ]
    },
    {
     "name": "stdout",
     "output_type": "stream",
     "text": [
      "1014814182280171521\n",
      "Tweet fetched:  Figuren im Text schlafen miteinander, peinlich berührtes Husten im Publikum #tddl #Lohse\n"
     ]
    },
    {
     "name": "stderr",
     "output_type": "stream",
     "text": [
      "\r",
      "  0%|          | 4/830 [00:09<31:28,  2.29s/it]"
     ]
    },
    {
     "name": "stdout",
     "output_type": "stream",
     "text": [
      "1014814182280171521\n",
      "Tweet fetched:  Figuren im Text schlafen miteinander, peinlich berührtes Husten im Publikum #tddl #Lohse\n"
     ]
    },
    {
     "name": "stderr",
     "output_type": "stream",
     "text": [
      "\r",
      "  1%|          | 5/830 [00:11<31:16,  2.27s/it]"
     ]
    },
    {
     "name": "stdout",
     "output_type": "stream",
     "text": [
      "1014825100921720832\n",
      "Tweet fetched:  „Bitte sitzen bleiben! Wir sind noch nicht fertig!“ Sehr gut gefällt uns bislang auch das lustig flottierende Publikum im Klagenfurter @3sat-Studio. 😉 #tddl #tddl18 #Bachmannwettbewerb\n"
     ]
    },
    {
     "name": "stderr",
     "output_type": "stream",
     "text": [
      "\r",
      "  1%|          | 6/830 [00:13<31:10,  2.27s/it]"
     ]
    },
    {
     "name": "stdout",
     "output_type": "stream",
     "text": [
      "1014845016794193920\n",
      "Tweet fetched:  Publikum gefällt: Sonnenbrille, Sommerhut, viel Fächern mit 3sat-Fächern #tddl\n"
     ]
    },
    {
     "name": "stderr",
     "output_type": "stream",
     "text": [
      "\r",
      "  1%|          | 7/830 [00:15<31:05,  2.27s/it]"
     ]
    },
    {
     "name": "stdout",
     "output_type": "stream",
     "text": [
      "1014845016794193920\n",
      "Tweet fetched:  Publikum gefällt: Sonnenbrille, Sommerhut, viel Fächern mit 3sat-Fächern #tddl\n"
     ]
    },
    {
     "name": "stderr",
     "output_type": "stream",
     "text": [
      "\r",
      "  1%|          | 8/830 [00:18<31:01,  2.26s/it]"
     ]
    },
    {
     "name": "stdout",
     "output_type": "stream",
     "text": [
      "1014857863615991808\n",
      "Tweet fetched:  90% der Zuhörer im Studio haben sicher Ähnliches erlebt, wie im Text beschrieben. #tddl\n"
     ]
    },
    {
     "name": "stderr",
     "output_type": "stream",
     "text": [
      "\r",
      "  1%|          | 9/830 [00:20<31:46,  2.32s/it]"
     ]
    },
    {
     "name": "stdout",
     "output_type": "stream",
     "text": [
      "1015145143278718976\n",
      "Tweet fetched:  Das Studiopublikum lacht beim Zusammenschnitt des Vortrags. #tddl\n"
     ]
    },
    {
     "name": "stderr",
     "output_type": "stream",
     "text": [
      "\r",
      "  1%|          | 10/830 [00:23<32:24,  2.37s/it]"
     ]
    },
    {
     "name": "stdout",
     "output_type": "stream",
     "text": [
      "1015150130134179841\n",
      "Tweet fetched:  Entgeistertes Husten im Publikum #tddl #Sievers\n"
     ]
    },
    {
     "name": "stderr",
     "output_type": "stream",
     "text": [
      "\r",
      "  1%|▏         | 11/830 [00:25<31:52,  2.34s/it]"
     ]
    },
    {
     "name": "stdout",
     "output_type": "stream",
     "text": [
      "1015160116243521536\n",
      "Tweet fetched:  @LaVieVagabonde Ich weiß. Eigentlich hätte eine ganze Reihe Publikum aufspringen und rufen müssen. #tddl\n"
     ]
    },
    {
     "name": "stderr",
     "output_type": "stream",
     "text": [
      "\r",
      "  1%|▏         | 12/830 [00:27<31:41,  2.32s/it]"
     ]
    },
    {
     "name": "stdout",
     "output_type": "stream",
     "text": [
      "1015164880033320960\n",
      "Tweet fetched:  Szenenapplaus. #klopfjazz #tddl\n"
     ]
    },
    {
     "name": "stderr",
     "output_type": "stream",
     "text": [
      "\r",
      "  2%|▏         | 13/830 [00:29<31:22,  2.30s/it]"
     ]
    },
    {
     "name": "stdout",
     "output_type": "stream",
     "text": [
      "1014600924126425088\n",
      "Tweet fetched:  Langer Applaus nach der Rede Zaimoglus #tddl\n"
     ]
    },
    {
     "name": "stderr",
     "output_type": "stream",
     "text": [
      "\r",
      "  2%|▏         | 14/830 [00:32<31:06,  2.29s/it]"
     ]
    },
    {
     "name": "stdout",
     "output_type": "stream",
     "text": [
      "1015181254889787392\n",
      "Tweet fetched:  Nett. Nicht mehr. Publikum ist aber dankbar, weil man verstanden hat worum es geht. #Maljartschuk #tddl #tddl18\n"
     ]
    },
    {
     "name": "stderr",
     "output_type": "stream",
     "text": [
      "\r",
      "  2%|▏         | 15/830 [00:34<30:57,  2.28s/it]"
     ]
    },
    {
     "name": "stdout",
     "output_type": "stream",
     "text": [
      "1015181254889787392\n",
      "Tweet fetched:  Nett. Nicht mehr. Publikum ist aber dankbar, weil man verstanden hat worum es geht. #Maljartschuk #tddl #tddl18\n"
     ]
    },
    {
     "name": "stderr",
     "output_type": "stream",
     "text": [
      "\r",
      "  2%|▏         | 16/830 [00:36<30:48,  2.27s/it]"
     ]
    },
    {
     "name": "stdout",
     "output_type": "stream",
     "text": [
      "1015181371101401088\n",
      "Tweet fetched:  Ein ungewohnt gegenständlicher und „einfach“ zu erfassender Text von Tanja Maljartschuk, schöne Geschichte. Größter und längster Applaus am Schluss. #tddl #tddl18 https://t.co/vxz8AQQ2kN\n"
     ]
    },
    {
     "name": "stderr",
     "output_type": "stream",
     "text": [
      "\r",
      "  2%|▏         | 17/830 [00:38<30:41,  2.26s/it]"
     ]
    },
    {
     "name": "stdout",
     "output_type": "stream",
     "text": [
      "1015181371101401088\n",
      "Tweet fetched:  Ein ungewohnt gegenständlicher und „einfach“ zu erfassender Text von Tanja Maljartschuk, schöne Geschichte. Größter und längster Applaus am Schluss. #tddl #tddl18 https://t.co/vxz8AQQ2kN\n"
     ]
    },
    {
     "name": "stderr",
     "output_type": "stream",
     "text": [
      "\r",
      "  2%|▏         | 18/830 [00:41<30:44,  2.27s/it]"
     ]
    },
    {
     "name": "stdout",
     "output_type": "stream",
     "text": [
      "1015181371101401088\n",
      "Tweet fetched:  Ein ungewohnt gegenständlicher und „einfach“ zu erfassender Text von Tanja Maljartschuk, schöne Geschichte. Größter und längster Applaus am Schluss. #tddl #tddl18 https://t.co/vxz8AQQ2kN\n"
     ]
    },
    {
     "name": "stderr",
     "output_type": "stream",
     "text": [
      "\r",
      "  2%|▏         | 19/830 [00:43<30:39,  2.27s/it]"
     ]
    },
    {
     "name": "stdout",
     "output_type": "stream",
     "text": [
      "1015181371101401088\n",
      "Tweet fetched:  Ein ungewohnt gegenständlicher und „einfach“ zu erfassender Text von Tanja Maljartschuk, schöne Geschichte. Größter und längster Applaus am Schluss. #tddl #tddl18 https://t.co/vxz8AQQ2kN\n"
     ]
    },
    {
     "name": "stderr",
     "output_type": "stream",
     "text": [
      "\r",
      "  2%|▏         | 20/830 [00:45<30:38,  2.27s/it]"
     ]
    },
    {
     "name": "stdout",
     "output_type": "stream",
     "text": [
      "1015181371101401088\n",
      "Tweet fetched:  Ein ungewohnt gegenständlicher und „einfach“ zu erfassender Text von Tanja Maljartschuk, schöne Geschichte. Größter und längster Applaus am Schluss. #tddl #tddl18 https://t.co/vxz8AQQ2kN\n"
     ]
    },
    {
     "name": "stderr",
     "output_type": "stream",
     "text": [
      "\r",
      "  3%|▎         | 21/830 [00:48<30:34,  2.27s/it]"
     ]
    },
    {
     "name": "stdout",
     "output_type": "stream",
     "text": [
      "1015181409290514433\n",
      "Tweet fetched:  Oh, mein Gott. So viel Applaus.\n",
      "#Maljartschuk #tddl\n"
     ]
    },
    {
     "name": "stderr",
     "output_type": "stream",
     "text": [
      "\r",
      "  3%|▎         | 22/830 [00:50<30:27,  2.26s/it]"
     ]
    },
    {
     "name": "stdout",
     "output_type": "stream",
     "text": [
      "1015181409290514433\n",
      "Tweet fetched:  Oh, mein Gott. So viel Applaus.\n",
      "#Maljartschuk #tddl\n"
     ]
    },
    {
     "name": "stderr",
     "output_type": "stream",
     "text": [
      "\r",
      "  3%|▎         | 23/830 [00:52<30:34,  2.27s/it]"
     ]
    },
    {
     "name": "stdout",
     "output_type": "stream",
     "text": [
      "1015181467759136768\n",
      "Tweet fetched:  Langer Applaus! Endlich Literatur, sagt Nora Gomringer. #tddl\n"
     ]
    },
    {
     "name": "stderr",
     "output_type": "stream",
     "text": [
      "\r",
      "  3%|▎         | 24/830 [00:54<30:24,  2.26s/it]"
     ]
    },
    {
     "name": "stdout",
     "output_type": "stream",
     "text": [
      "1015181731803095041\n",
      "Tweet fetched:  Kollektives Aufatmen: Endlich mal eine klassisch erzählte Geschichte. #tddl\n"
     ]
    },
    {
     "name": "stderr",
     "output_type": "stream",
     "text": [
      "\r",
      "  3%|▎         | 25/830 [00:57<30:25,  2.27s/it]"
     ]
    },
    {
     "name": "stdout",
     "output_type": "stream",
     "text": [
      "1015213981869445121\n",
      "Tweet fetched:  Scheiße, manche im Publikum sehen aus wie ich. #tddl\n"
     ]
    },
    {
     "name": "stderr",
     "output_type": "stream",
     "text": [
      "\r",
      "  3%|▎         | 26/830 [00:59<30:19,  2.26s/it]"
     ]
    },
    {
     "name": "stdout",
     "output_type": "stream",
     "text": [
      "1015217572126580736\n",
      "Tweet fetched:  Dem Applaus nach zu schließen, kriegt Herr Neft den Publikumspreis. #tddl\n"
     ]
    },
    {
     "name": "stderr",
     "output_type": "stream",
     "text": [
      "\r",
      "  3%|▎         | 27/830 [01:01<30:20,  2.27s/it]"
     ]
    },
    {
     "name": "stdout",
     "output_type": "stream",
     "text": [
      "1015218264371326976\n",
      "Tweet fetched:  Drittes Mal tosender Applaus, gebührend, bei diesen #tddl18 — jetzt für Anselm Neft. Eine sehr dichte Show, toll gelesen! Die vielen Flashbacks sind etwas kompliziert. #tddl\n"
     ]
    },
    {
     "name": "stderr",
     "output_type": "stream",
     "text": [
      "\r",
      "  3%|▎         | 28/830 [01:03<30:14,  2.26s/it]"
     ]
    },
    {
     "name": "stdout",
     "output_type": "stream",
     "text": [
      "1015218264371326976\n",
      "Tweet fetched:  Drittes Mal tosender Applaus, gebührend, bei diesen #tddl18 — jetzt für Anselm Neft. Eine sehr dichte Show, toll gelesen! Die vielen Flashbacks sind etwas kompliziert. #tddl\n"
     ]
    },
    {
     "name": "stderr",
     "output_type": "stream",
     "text": [
      "\r",
      "  3%|▎         | 29/830 [01:06<30:12,  2.26s/it]"
     ]
    },
    {
     "name": "stdout",
     "output_type": "stream",
     "text": [
      "1015218264371326976\n",
      "Tweet fetched:  Drittes Mal tosender Applaus, gebührend, bei diesen #tddl18 — jetzt für Anselm Neft. Eine sehr dichte Show, toll gelesen! Die vielen Flashbacks sind etwas kompliziert. #tddl\n"
     ]
    },
    {
     "name": "stderr",
     "output_type": "stream",
     "text": [
      "\r",
      "  4%|▎         | 30/830 [01:08<30:17,  2.27s/it]"
     ]
    },
    {
     "name": "stdout",
     "output_type": "stream",
     "text": [
      "1015218264371326976\n",
      "Tweet fetched:  Drittes Mal tosender Applaus, gebührend, bei diesen #tddl18 — jetzt für Anselm Neft. Eine sehr dichte Show, toll gelesen! Die vielen Flashbacks sind etwas kompliziert. #tddl\n"
     ]
    },
    {
     "name": "stderr",
     "output_type": "stream",
     "text": [
      "\r",
      "  4%|▎         | 31/830 [01:10<30:10,  2.27s/it]"
     ]
    },
    {
     "name": "stdout",
     "output_type": "stream",
     "text": [
      "1015511946228043776\n",
      "Tweet fetched:  Süßer Lacher im Studio. Wer von euch Flauschis war das? #tddl\n"
     ]
    },
    {
     "name": "stderr",
     "output_type": "stream",
     "text": [
      "\r",
      "  4%|▍         | 32/830 [01:12<30:06,  2.26s/it]"
     ]
    },
    {
     "name": "stdout",
     "output_type": "stream",
     "text": [
      "1014782342118944768\n",
      "Tweet fetched:  #tddl18 jetzt geht es los.... @3sat … das Publikum ist extrem fokussiert...\n"
     ]
    },
    {
     "name": "stderr",
     "output_type": "stream",
     "text": [
      "\r",
      "  4%|▍         | 33/830 [01:15<30:13,  2.27s/it]"
     ]
    },
    {
     "name": "stdout",
     "output_type": "stream",
     "text": [
      "1015512616515571712\n",
      "Tweet fetched:  wenn jemand umkippt bitte immer mit lustigem jazz ablenken #tddl\n"
     ]
    },
    {
     "name": "stderr",
     "output_type": "stream",
     "text": [
      "\r",
      "  4%|▍         | 34/830 [01:17<30:11,  2.28s/it]"
     ]
    },
    {
     "name": "stdout",
     "output_type": "stream",
     "text": [
      "1015512616515571712\n",
      "Tweet fetched:  wenn jemand umkippt bitte immer mit lustigem jazz ablenken #tddl\n"
     ]
    },
    {
     "name": "stderr",
     "output_type": "stream",
     "text": [
      "\r",
      "  4%|▍         | 35/830 [01:19<30:34,  2.31s/it]"
     ]
    },
    {
     "name": "stdout",
     "output_type": "stream",
     "text": [
      "1015512614447800320\n",
      "Tweet fetched:  #tddl Musik super angemessen...\n"
     ]
    },
    {
     "name": "stderr",
     "output_type": "stream",
     "text": [
      "\r",
      "  4%|▍         | 36/830 [01:22<31:43,  2.40s/it]"
     ]
    },
    {
     "name": "stdout",
     "output_type": "stream",
     "text": [
      "1015512750020276224\n",
      "Tweet fetched:  kranke performance, erinnert an goetz #tddl\n"
     ]
    },
    {
     "name": "stderr",
     "output_type": "stream",
     "text": [
      "\r",
      "  4%|▍         | 37/830 [01:24<31:45,  2.40s/it]"
     ]
    },
    {
     "name": "stdout",
     "output_type": "stream",
     "text": [
      "1015512880584822784\n",
      "[{'code': 34, 'message': 'Sorry, that page does not exist.'}]\n",
      "Inside the exception - no:2\n"
     ]
    },
    {
     "name": "stderr",
     "output_type": "stream",
     "text": [
      "\r",
      "  5%|▍         | 38/830 [01:27<31:04,  2.35s/it]"
     ]
    },
    {
     "name": "stdout",
     "output_type": "stream",
     "text": [
      "1015513222030548992\n",
      "Tweet fetched:  Schnelle Besserung an die Dame natürlich #tddl\n"
     ]
    },
    {
     "name": "stderr",
     "output_type": "stream",
     "text": [
      "\r",
      "  5%|▍         | 39/830 [01:29<30:36,  2.32s/it]"
     ]
    },
    {
     "name": "stdout",
     "output_type": "stream",
     "text": [
      "1015513255270371329\n",
      "Tweet fetched:  Kleines Kreislaufproblem im Publikum, aber alles gut!#tddl\n"
     ]
    },
    {
     "name": "stderr",
     "output_type": "stream",
     "text": [
      "\r",
      "  5%|▍         | 40/830 [01:31<30:21,  2.31s/it]"
     ]
    },
    {
     "name": "stdout",
     "output_type": "stream",
     "text": [
      "1015513255270371329\n",
      "Tweet fetched:  Kleines Kreislaufproblem im Publikum, aber alles gut!#tddl\n"
     ]
    },
    {
     "name": "stderr",
     "output_type": "stream",
     "text": [
      "\r",
      "  5%|▍         | 41/830 [01:33<30:07,  2.29s/it]"
     ]
    },
    {
     "name": "stdout",
     "output_type": "stream",
     "text": [
      "1015513755898261504\n",
      "Tweet fetched:  Hoffentlich geht es der Dame bald besser... #tddl\n"
     ]
    },
    {
     "name": "stderr",
     "output_type": "stream",
     "text": [
      "\r",
      "  5%|▌         | 42/830 [01:36<29:55,  2.28s/it]"
     ]
    },
    {
     "name": "stdout",
     "output_type": "stream",
     "text": [
      "1015515551811166208\n",
      "Tweet fetched:  #BachmannPreis \n",
      "1te Lesung des Tages und ich kann mir schon die unterschiedlichen Kritiken vorstellen, die Jakob Nolte gleich erhält. - Hoffe aber, dass es der Person aus dem Publikum gut geht, die da vorhin umgefallen ist.\n"
     ]
    },
    {
     "name": "stderr",
     "output_type": "stream",
     "text": [
      "\r",
      "  5%|▌         | 43/830 [01:38<29:47,  2.27s/it]"
     ]
    },
    {
     "name": "stdout",
     "output_type": "stream",
     "text": [
      "1015515551811166208\n",
      "Tweet fetched:  #BachmannPreis \n",
      "1te Lesung des Tages und ich kann mir schon die unterschiedlichen Kritiken vorstellen, die Jakob Nolte gleich erhält. - Hoffe aber, dass es der Person aus dem Publikum gut geht, die da vorhin umgefallen ist.\n"
     ]
    },
    {
     "name": "stderr",
     "output_type": "stream",
     "text": [
      "\r",
      "  5%|▌         | 44/830 [01:40<29:43,  2.27s/it]"
     ]
    },
    {
     "name": "stdout",
     "output_type": "stream",
     "text": [
      "1015515551811166208\n",
      "Tweet fetched:  #BachmannPreis \n",
      "1te Lesung des Tages und ich kann mir schon die unterschiedlichen Kritiken vorstellen, die Jakob Nolte gleich erhält. - Hoffe aber, dass es der Person aus dem Publikum gut geht, die da vorhin umgefallen ist.\n"
     ]
    },
    {
     "name": "stderr",
     "output_type": "stream",
     "text": [
      "\r",
      "  5%|▌         | 45/830 [01:42<29:34,  2.26s/it]"
     ]
    },
    {
     "name": "stdout",
     "output_type": "stream",
     "text": [
      "1015522141415067649\n",
      "Tweet fetched:  .@KlausKastberger: “Ich möchte noch was zum Kokain sagen.” Publikum lacht. #tddl\n"
     ]
    },
    {
     "name": "stderr",
     "output_type": "stream",
     "text": [
      "\r",
      "  6%|▌         | 46/830 [01:45<29:34,  2.26s/it]"
     ]
    },
    {
     "name": "stdout",
     "output_type": "stream",
     "text": [
      "1015522141415067649\n",
      "Tweet fetched:  .@KlausKastberger: “Ich möchte noch was zum Kokain sagen.” Publikum lacht. #tddl\n"
     ]
    },
    {
     "name": "stderr",
     "output_type": "stream",
     "text": [
      "\r",
      "  6%|▌         | 47/830 [01:47<29:32,  2.26s/it]"
     ]
    },
    {
     "name": "stdout",
     "output_type": "stream",
     "text": [
      "1015523549120008192\n",
      "Tweet fetched:  #tddl bahahaha meine 11 Monate alte Tochter hat jetzt mit dem Publikum mitgeklatscht 😄\n"
     ]
    },
    {
     "name": "stderr",
     "output_type": "stream",
     "text": [
      "\r",
      "  6%|▌         | 48/830 [01:49<29:27,  2.26s/it]"
     ]
    },
    {
     "name": "stdout",
     "output_type": "stream",
     "text": [
      "1014787138163036160\n",
      "Tweet fetched:  Notiz an mich: Man sollte nicht mit rosa Rundumbrillenbügel im Publikum sitzen. #tddl\n"
     ]
    },
    {
     "name": "stderr",
     "output_type": "stream",
     "text": [
      "\r",
      "  6%|▌         | 49/830 [01:52<29:23,  2.26s/it]"
     ]
    },
    {
     "name": "stdout",
     "output_type": "stream",
     "text": [
      "1015529764118032386\n",
      "Tweet fetched:  Das klatshende publikum harrt der geäusserten weisheiten #tddl\n"
     ]
    },
    {
     "name": "stderr",
     "output_type": "stream",
     "text": [
      "\r",
      "  6%|▌         | 50/830 [01:54<29:21,  2.26s/it]"
     ]
    },
    {
     "name": "stdout",
     "output_type": "stream",
     "text": [
      "1015532195157553153\n",
      "Tweet fetched:  Hat Hildegard Keller einen anderen Vortrag als das TV-Publikum gehört? Ein trauriger Clown, der auf unsere Welt schaut?  #tddl\n"
     ]
    },
    {
     "name": "stderr",
     "output_type": "stream",
     "text": [
      "\r",
      "  6%|▌         | 51/830 [01:56<29:18,  2.26s/it]"
     ]
    },
    {
     "name": "stdout",
     "output_type": "stream",
     "text": [
      "1015532195157553153\n",
      "Tweet fetched:  Hat Hildegard Keller einen anderen Vortrag als das TV-Publikum gehört? Ein trauriger Clown, der auf unsere Welt schaut?  #tddl\n"
     ]
    },
    {
     "name": "stderr",
     "output_type": "stream",
     "text": [
      "\r",
      "  6%|▋         | 52/830 [01:58<29:14,  2.26s/it]"
     ]
    },
    {
     "name": "stdout",
     "output_type": "stream",
     "text": [
      "1016260498470391808\n",
      "Tweet fetched:  Das war der Bachmannpreis im Lendhafen 2018. Schön war es! Danke an alle Mitwirkenden, die Ermöglicher*innen und das Publikum und herzliche Gratulation an die Preisträger*innen. Wir freuen uns jetzt schon wieder... https://t.co/nuJCFaIw2q\n"
     ]
    },
    {
     "name": "stderr",
     "output_type": "stream",
     "text": [
      "\r",
      "  6%|▋         | 53/830 [02:01<29:13,  2.26s/it]"
     ]
    },
    {
     "name": "stdout",
     "output_type": "stream",
     "text": [
      "1016260498470391808\n",
      "Tweet fetched:  Das war der Bachmannpreis im Lendhafen 2018. Schön war es! Danke an alle Mitwirkenden, die Ermöglicher*innen und das Publikum und herzliche Gratulation an die Preisträger*innen. Wir freuen uns jetzt schon wieder... https://t.co/nuJCFaIw2q\n"
     ]
    },
    {
     "name": "stderr",
     "output_type": "stream",
     "text": [
      "\r",
      "  7%|▋         | 54/830 [02:03<29:12,  2.26s/it]"
     ]
    },
    {
     "name": "stdout",
     "output_type": "stream",
     "text": [
      "1016260498470391808\n",
      "Tweet fetched:  Das war der Bachmannpreis im Lendhafen 2018. Schön war es! Danke an alle Mitwirkenden, die Ermöglicher*innen und das Publikum und herzliche Gratulation an die Preisträger*innen. Wir freuen uns jetzt schon wieder... https://t.co/nuJCFaIw2q\n"
     ]
    },
    {
     "name": "stderr",
     "output_type": "stream",
     "text": [
      "\r",
      "  7%|▋         | 55/830 [02:05<29:10,  2.26s/it]"
     ]
    },
    {
     "name": "stdout",
     "output_type": "stream",
     "text": [
      "1016260498470391808\n",
      "Tweet fetched:  Das war der Bachmannpreis im Lendhafen 2018. Schön war es! Danke an alle Mitwirkenden, die Ermöglicher*innen und das Publikum und herzliche Gratulation an die Preisträger*innen. Wir freuen uns jetzt schon wieder... https://t.co/nuJCFaIw2q\n"
     ]
    },
    {
     "name": "stderr",
     "output_type": "stream",
     "text": [
      "\r",
      "  7%|▋         | 56/830 [02:07<29:09,  2.26s/it]"
     ]
    },
    {
     "name": "stdout",
     "output_type": "stream",
     "text": [
      "1016260498470391808\n",
      "Tweet fetched:  Das war der Bachmannpreis im Lendhafen 2018. Schön war es! Danke an alle Mitwirkenden, die Ermöglicher*innen und das Publikum und herzliche Gratulation an die Preisträger*innen. Wir freuen uns jetzt schon wieder... https://t.co/nuJCFaIw2q\n"
     ]
    },
    {
     "name": "stderr",
     "output_type": "stream",
     "text": [
      "\r",
      "  7%|▋         | 57/830 [02:10<29:04,  2.26s/it]"
     ]
    },
    {
     "name": "stdout",
     "output_type": "stream",
     "text": [
      "1023618645526753280\n",
      "Tweet fetched:  @raphiedel @tddlit Spannend. Wenn man als Publikum so seine Gedanken über #tddl18 hat und eine der AutorInen ihre dazuwirbelt. Danke @raphiedel und Gratulation fürs teilen &lt;3\n"
     ]
    },
    {
     "name": "stderr",
     "output_type": "stream",
     "text": [
      "\r",
      "  7%|▋         | 58/830 [02:12<29:02,  2.26s/it]"
     ]
    },
    {
     "name": "stdout",
     "output_type": "stream",
     "text": [
      "1023618645526753280\n",
      "Tweet fetched:  @raphiedel @tddlit Spannend. Wenn man als Publikum so seine Gedanken über #tddl18 hat und eine der AutorInen ihre dazuwirbelt. Danke @raphiedel und Gratulation fürs teilen &lt;3\n"
     ]
    },
    {
     "name": "stderr",
     "output_type": "stream",
     "text": [
      "\r",
      "  7%|▋         | 59/830 [02:14<28:59,  2.26s/it]"
     ]
    },
    {
     "name": "stdout",
     "output_type": "stream",
     "text": [
      "1023618645526753280\n",
      "Tweet fetched:  @raphiedel @tddlit Spannend. Wenn man als Publikum so seine Gedanken über #tddl18 hat und eine der AutorInen ihre dazuwirbelt. Danke @raphiedel und Gratulation fürs teilen &lt;3\n"
     ]
    },
    {
     "name": "stderr",
     "output_type": "stream",
     "text": [
      "\r",
      "  7%|▋         | 60/830 [02:16<28:58,  2.26s/it]"
     ]
    },
    {
     "name": "stdout",
     "output_type": "stream",
     "text": [
      "1023618645526753280\n",
      "Tweet fetched:  @raphiedel @tddlit Spannend. Wenn man als Publikum so seine Gedanken über #tddl18 hat und eine der AutorInen ihre dazuwirbelt. Danke @raphiedel und Gratulation fürs teilen &lt;3\n"
     ]
    },
    {
     "name": "stderr",
     "output_type": "stream",
     "text": [
      "\r",
      "  7%|▋         | 61/830 [02:19<29:23,  2.29s/it]"
     ]
    },
    {
     "name": "stdout",
     "output_type": "stream",
     "text": [
      "1014794624081256450\n",
      "Tweet fetched:  Applaus, nachdem @KlausKastberger den Text hochgelobt hat. #tddl\n"
     ]
    },
    {
     "name": "stderr",
     "output_type": "stream",
     "text": [
      "\r",
      "  7%|▋         | 62/830 [02:21<29:54,  2.34s/it]"
     ]
    },
    {
     "name": "stdout",
     "output_type": "stream",
     "text": [
      "1014794624081256450\n",
      "Tweet fetched:  Applaus, nachdem @KlausKastberger den Text hochgelobt hat. #tddl\n"
     ]
    },
    {
     "name": "stderr",
     "output_type": "stream",
     "text": [
      "\r",
      "  8%|▊         | 63/830 [02:24<30:48,  2.41s/it]"
     ]
    },
    {
     "name": "stdout",
     "output_type": "stream",
     "text": [
      "1014795320385994753\n",
      "Tweet fetched:  \"Eigentlich sind ja alle Männer Ausfüllungstechniker\" (Nora Gomringer) - das Publikum scheint nicht ganz sicher, ob es darüber lachen darf (darf es). #tddl18\n"
     ]
    },
    {
     "name": "stderr",
     "output_type": "stream",
     "text": [
      "\r",
      "  8%|▊         | 64/830 [02:26<30:11,  2.37s/it]"
     ]
    },
    {
     "name": "stdout",
     "output_type": "stream",
     "text": [
      "1014795320385994753\n",
      "Tweet fetched:  \"Eigentlich sind ja alle Männer Ausfüllungstechniker\" (Nora Gomringer) - das Publikum scheint nicht ganz sicher, ob es darüber lachen darf (darf es). #tddl18\n"
     ]
    },
    {
     "name": "stderr",
     "output_type": "stream",
     "text": [
      "\r",
      "  8%|▊         | 65/830 [02:28<29:39,  2.33s/it]"
     ]
    },
    {
     "name": "stdout",
     "output_type": "stream",
     "text": [
      "1014795448509452289\n",
      "Tweet fetched:  der satz \"alle männer sind auffüllungstechniker\" lässt das publikum hier kollektiv in liebe zu nora gomringer fallen #tddl\n"
     ]
    },
    {
     "name": "stderr",
     "output_type": "stream",
     "text": [
      "\r",
      "  8%|▊         | 66/830 [02:30<29:20,  2.30s/it]"
     ]
    },
    {
     "name": "stdout",
     "output_type": "stream",
     "text": [
      "1014795448509452289\n",
      "Tweet fetched:  der satz \"alle männer sind auffüllungstechniker\" lässt das publikum hier kollektiv in liebe zu nora gomringer fallen #tddl\n"
     ]
    },
    {
     "name": "stderr",
     "output_type": "stream",
     "text": [
      "\r",
      "  8%|▊         | 67/830 [02:33<29:06,  2.29s/it]"
     ]
    },
    {
     "name": "stdout",
     "output_type": "stream",
     "text": [
      "1014797444838821888\n",
      "Tweet fetched:  Das Publikum klatscht wieder. Ob es auch daran liegt, dass es die einzige Autorin aus Österreich ist? #tddl\n"
     ]
    },
    {
     "name": "stderr",
     "output_type": "stream",
     "text": [
      "\r",
      "  8%|▊         | 68/830 [02:35<28:57,  2.28s/it]"
     ]
    },
    {
     "name": "stdout",
     "output_type": "stream",
     "text": [
      "1014805157845102592\n",
      "Tweet fetched:  Das ist auch so ein Text, der dem Publikum sicher gut gefällt. #tddl\n"
     ]
    },
    {
     "name": "stderr",
     "output_type": "stream",
     "text": [
      "\r",
      "  8%|▊         | 69/830 [02:37<29:36,  2.33s/it]"
     ]
    },
    {
     "name": "stdout",
     "output_type": "stream",
     "text": [
      "1144156517219950592\n",
      "Tweet fetched:  Mein Livestream hängt. Meint ihr, Pointen werden vorweggenommen dadurch, dass man von draußen von der Straße schon ein paar Sekunden vorher lautes Jubeln hört? #tddl\n"
     ]
    },
    {
     "name": "stderr",
     "output_type": "stream",
     "text": [
      "\r",
      "  8%|▊         | 70/830 [02:40<29:14,  2.31s/it]"
     ]
    },
    {
     "name": "stdout",
     "output_type": "stream",
     "text": [
      "1144156517219950592\n",
      "Tweet fetched:  Mein Livestream hängt. Meint ihr, Pointen werden vorweggenommen dadurch, dass man von draußen von der Straße schon ein paar Sekunden vorher lautes Jubeln hört? #tddl\n"
     ]
    },
    {
     "name": "stderr",
     "output_type": "stream",
     "text": [
      "\r",
      "  9%|▊         | 71/830 [02:42<29:02,  2.30s/it]"
     ]
    },
    {
     "name": "stdout",
     "output_type": "stream",
     "text": [
      "1144156593958924288\n",
      "Tweet fetched:  Von wegen auf den Text konzentrieren. Jetzt überlege ich krampfhaft, was wohl mit \"spekulativem Roman\" gemeint ist. #tddl\n"
     ]
    },
    {
     "name": "stderr",
     "output_type": "stream",
     "text": [
      "\r",
      "  9%|▊         | 72/830 [02:44<28:50,  2.28s/it]"
     ]
    },
    {
     "name": "stdout",
     "output_type": "stream",
     "text": [
      "1144156593958924288\n",
      "Tweet fetched:  Von wegen auf den Text konzentrieren. Jetzt überlege ich krampfhaft, was wohl mit \"spekulativem Roman\" gemeint ist. #tddl\n"
     ]
    },
    {
     "name": "stderr",
     "output_type": "stream",
     "text": [
      "\r",
      "  9%|▉         | 73/830 [02:46<28:42,  2.28s/it]"
     ]
    },
    {
     "name": "stdout",
     "output_type": "stream",
     "text": [
      "1144156647549526017\n",
      "Tweet fetched:  #tddl\n",
      "\n",
      "Publikum, zuhören, nicht aufs Blatt starren.\n"
     ]
    },
    {
     "name": "stderr",
     "output_type": "stream",
     "text": [
      "\r",
      "  9%|▉         | 74/830 [02:49<28:33,  2.27s/it]"
     ]
    },
    {
     "name": "stdout",
     "output_type": "stream",
     "text": [
      "1144156691577155584\n",
      "Tweet fetched:  Achja, auch schon wieder vergessen: Die. Lesen. Ja. Immer. Als. Sei. Zwischen. Jedem. Wort. Ein. Punkt. #tddl\n"
     ]
    },
    {
     "name": "stderr",
     "output_type": "stream",
     "text": [
      "\r",
      "  9%|▉         | 75/830 [02:51<28:28,  2.26s/it]"
     ]
    },
    {
     "name": "stdout",
     "output_type": "stream",
     "text": [
      "1144156776591437825\n",
      "Tweet fetched:  Die erste Person im Publikum sieht aus, als ob sie schläft. Fühl ich.  Fühl ich sehr. #tddl\n"
     ]
    },
    {
     "name": "stderr",
     "output_type": "stream",
     "text": [
      "\r",
      "  9%|▉         | 76/830 [02:53<28:23,  2.26s/it]"
     ]
    },
    {
     "name": "stdout",
     "output_type": "stream",
     "text": [
      "1144156780131422208\n",
      "Tweet fetched:  \"Emilia\" hieß der Text, mit dem ich mich beworben habe für diese #tddl\"\n",
      "Hah!\n",
      "Wusste ja nicht, dass es schon einen gab.\n"
     ]
    },
    {
     "name": "stderr",
     "output_type": "stream",
     "text": [
      "\r",
      "  9%|▉         | 77/830 [02:55<28:20,  2.26s/it]"
     ]
    },
    {
     "name": "stdout",
     "output_type": "stream",
     "text": [
      "1144156780081111040\n",
      "Tweet fetched:  Aua. Liest wie befürchtet, mit unötigen kleinen verzögernden Pausen, die aber die Wörter nicht wichtiger machen. #tddl\n"
     ]
    },
    {
     "name": "stderr",
     "output_type": "stream",
     "text": [
      "\r",
      "  9%|▉         | 78/830 [02:58<28:24,  2.27s/it]"
     ]
    },
    {
     "name": "stdout",
     "output_type": "stream",
     "text": [
      "1144156780081111040\n",
      "Tweet fetched:  Aua. Liest wie befürchtet, mit unötigen kleinen verzögernden Pausen, die aber die Wörter nicht wichtiger machen. #tddl\n"
     ]
    },
    {
     "name": "stderr",
     "output_type": "stream",
     "text": [
      "\r",
      " 10%|▉         | 79/830 [03:00<28:25,  2.27s/it]"
     ]
    },
    {
     "name": "stdout",
     "output_type": "stream",
     "text": [
      "1144156780081111040\n",
      "Tweet fetched:  Aua. Liest wie befürchtet, mit unötigen kleinen verzögernden Pausen, die aber die Wörter nicht wichtiger machen. #tddl\n"
     ]
    },
    {
     "name": "stderr",
     "output_type": "stream",
     "text": [
      "\r",
      " 10%|▉         | 80/830 [03:02<28:18,  2.26s/it]"
     ]
    },
    {
     "name": "stdout",
     "output_type": "stream",
     "text": [
      "1144156969063845890\n",
      "Tweet fetched:  Perspektivschneise im Text #tddl\n"
     ]
    },
    {
     "name": "stderr",
     "output_type": "stream",
     "text": [
      "\r",
      " 10%|▉         | 81/830 [03:05<28:44,  2.30s/it]"
     ]
    },
    {
     "name": "stdout",
     "output_type": "stream",
     "text": [
      "1144124909926387712\n",
      "Tweet fetched:  Wann liest Kochi bei den #tddl? https://t.co/1Vyo1kiN6G\n"
     ]
    },
    {
     "name": "stderr",
     "output_type": "stream",
     "text": [
      "\r",
      " 10%|▉         | 82/830 [03:07<28:36,  2.29s/it]"
     ]
    },
    {
     "name": "stdout",
     "output_type": "stream",
     "text": [
      "1144124909926387712\n",
      "Tweet fetched:  Wann liest Kochi bei den #tddl? https://t.co/1Vyo1kiN6G\n"
     ]
    },
    {
     "name": "stderr",
     "output_type": "stream",
     "text": [
      "\r",
      " 10%|█         | 83/830 [03:09<28:31,  2.29s/it]"
     ]
    },
    {
     "name": "stdout",
     "output_type": "stream",
     "text": [
      "1144157093534060544\n",
      "Tweet fetched:  Muss immer auf die Lippen kucken 🙈🐣 #tddl #Schultens\n"
     ]
    },
    {
     "name": "stderr",
     "output_type": "stream",
     "text": [
      "\r",
      " 10%|█         | 84/830 [03:12<28:19,  2.28s/it]"
     ]
    },
    {
     "name": "stdout",
     "output_type": "stream",
     "text": [
      "1144157139428155395\n",
      "Tweet fetched:  Perspektivschneise #tddl\n"
     ]
    },
    {
     "name": "stderr",
     "output_type": "stream",
     "text": [
      "\r",
      " 10%|█         | 85/830 [03:14<28:14,  2.27s/it]"
     ]
    },
    {
     "name": "stdout",
     "output_type": "stream",
     "text": [
      "1144157162316423173\n",
      "Tweet fetched:  Diese Unart von #TDDL-Texten, Komplexität durch die Einführung von zwölftausend Namen erzielen zu wollen. #tddl19\n"
     ]
    },
    {
     "name": "stderr",
     "output_type": "stream",
     "text": [
      "\r",
      " 10%|█         | 86/830 [03:16<28:05,  2.27s/it]"
     ]
    },
    {
     "name": "stdout",
     "output_type": "stream",
     "text": [
      "1144157162316423173\n",
      "Tweet fetched:  Diese Unart von #TDDL-Texten, Komplexität durch die Einführung von zwölftausend Namen erzielen zu wollen. #tddl19\n"
     ]
    },
    {
     "name": "stderr",
     "output_type": "stream",
     "text": [
      "\r",
      " 10%|█         | 87/830 [03:18<27:59,  2.26s/it]"
     ]
    },
    {
     "name": "stdout",
     "output_type": "stream",
     "text": [
      "1144157185808764928\n",
      "Tweet fetched:  Schade, dass Burkhard Spinnen nicht mehr in der Jury ist. Er würde gleich erklären, dass er auch mal in der Ukraine war. #tddl\n"
     ]
    },
    {
     "name": "stderr",
     "output_type": "stream",
     "text": [
      "\r",
      " 11%|█         | 88/830 [03:21<28:45,  2.33s/it]"
     ]
    },
    {
     "name": "stdout",
     "output_type": "stream",
     "text": [
      "1144157253513220096\n",
      "Tweet fetched:  Höre als werktätiger Literaturredakteur nur mit halbem Ohr, aber geht es jetzt auch bei #tddl um Vielehe?\n"
     ]
    },
    {
     "name": "stderr",
     "output_type": "stream",
     "text": [
      "\r",
      " 11%|█         | 89/830 [03:23<29:20,  2.38s/it]"
     ]
    },
    {
     "name": "stdout",
     "output_type": "stream",
     "text": [
      "1144157258655457280\n",
      "Tweet fetched:  Aber gute Fragen, \"Was ist eine Emilia?\", ein kleiner feiner Trick mit dem \"ein\". #tddl\n"
     ]
    },
    {
     "name": "stderr",
     "output_type": "stream",
     "text": [
      "\r",
      " 11%|█         | 90/830 [03:25<28:51,  2.34s/it]"
     ]
    },
    {
     "name": "stdout",
     "output_type": "stream",
     "text": [
      "1144157280570621952\n",
      "Tweet fetched:  Die Vögel sind besser zu hören als sie und jetzt noch nen Rasenmäher, und jetzt kein Text zum mitlesen 😒 ich verstehe gar nichts #tddl\n"
     ]
    },
    {
     "name": "stderr",
     "output_type": "stream",
     "text": [
      "\r",
      " 11%|█         | 91/830 [03:28<28:31,  2.32s/it]"
     ]
    },
    {
     "name": "stdout",
     "output_type": "stream",
     "text": [
      "1144157280570621952\n",
      "Tweet fetched:  Die Vögel sind besser zu hören als sie und jetzt noch nen Rasenmäher, und jetzt kein Text zum mitlesen 😒 ich verstehe gar nichts #tddl\n"
     ]
    },
    {
     "name": "stderr",
     "output_type": "stream",
     "text": [
      "\r",
      " 11%|█         | 92/830 [03:30<28:26,  2.31s/it]"
     ]
    },
    {
     "name": "stdout",
     "output_type": "stream",
     "text": [
      "1144157289441615872\n",
      "Tweet fetched:  Trend „spekulative Waldprosa“ #tddl\n"
     ]
    },
    {
     "name": "stderr",
     "output_type": "stream",
     "text": [
      "\r",
      " 11%|█         | 93/830 [03:32<28:13,  2.30s/it]"
     ]
    },
    {
     "name": "stdout",
     "output_type": "stream",
     "text": [
      "1144157360669306881\n",
      "Tweet fetched:  ich mag die kameraführung  bei #tddl. nah und doch so fern.\n"
     ]
    },
    {
     "name": "stderr",
     "output_type": "stream",
     "text": [
      "\r",
      " 11%|█▏        | 94/830 [03:35<28:02,  2.29s/it]"
     ]
    },
    {
     "name": "stdout",
     "output_type": "stream",
     "text": [
      "1144157477405171712\n",
      "Tweet fetched:  Pluspunkt für Verwendung des Wortes \"Puschelpelz\" #katharinaschultens #tddl\n"
     ]
    },
    {
     "name": "stderr",
     "output_type": "stream",
     "text": [
      "\r",
      " 11%|█▏        | 95/830 [03:37<27:53,  2.28s/it]"
     ]
    },
    {
     "name": "stdout",
     "output_type": "stream",
     "text": [
      "1144157523576012801\n",
      "Tweet fetched:  Puschelpelz und Hühnerkacke. Das bleibt hängen von der ersten Lesung, glaube ich. #tddl\n"
     ]
    },
    {
     "name": "stderr",
     "output_type": "stream",
     "text": [
      "\r",
      " 12%|█▏        | 96/830 [03:39<27:46,  2.27s/it]"
     ]
    },
    {
     "name": "stdout",
     "output_type": "stream",
     "text": [
      "1144157523576012801\n",
      "Tweet fetched:  Puschelpelz und Hühnerkacke. Das bleibt hängen von der ersten Lesung, glaube ich. #tddl\n"
     ]
    },
    {
     "name": "stderr",
     "output_type": "stream",
     "text": [
      "\r",
      " 12%|█▏        | 97/830 [03:41<27:42,  2.27s/it]"
     ]
    },
    {
     "name": "stdout",
     "output_type": "stream",
     "text": [
      "1144157758138257409\n",
      "Tweet fetched:  warum mAria? #tddl\n"
     ]
    },
    {
     "name": "stderr",
     "output_type": "stream",
     "text": [
      "\r",
      " 12%|█▏        | 98/830 [03:44<27:42,  2.27s/it]"
     ]
    },
    {
     "name": "stdout",
     "output_type": "stream",
     "text": [
      "1144157771891445760\n",
      "Tweet fetched:  Puschelpelz in der Sonne. &lt;3 \n",
      "\n",
      "Mir mangelt es noch stark an Konzentration, aber an Puschel und Hühnerkacke (*skandier*) kommt auch mein Hirn nicht vorbei. \n",
      "\n",
      "#tddl\n"
     ]
    },
    {
     "name": "stderr",
     "output_type": "stream",
     "text": [
      "\r",
      " 12%|█▏        | 99/830 [03:46<27:38,  2.27s/it]"
     ]
    },
    {
     "name": "stdout",
     "output_type": "stream",
     "text": [
      "1144157771891445760\n",
      "Tweet fetched:  Puschelpelz in der Sonne. &lt;3 \n",
      "\n",
      "Mir mangelt es noch stark an Konzentration, aber an Puschel und Hühnerkacke (*skandier*) kommt auch mein Hirn nicht vorbei. \n",
      "\n",
      "#tddl\n"
     ]
    },
    {
     "name": "stderr",
     "output_type": "stream",
     "text": [
      "\r",
      " 12%|█▏        | 100/830 [03:48<27:33,  2.27s/it]"
     ]
    },
    {
     "name": "stdout",
     "output_type": "stream",
     "text": [
      "1144130036380962817\n",
      "Tweet fetched:  irgendwie südländisch hier, die balkone. moijn. #tddl https://t.co/kJKphWOPbP\n"
     ]
    },
    {
     "name": "stderr",
     "output_type": "stream",
     "text": [
      "\r",
      " 12%|█▏        | 101/830 [03:50<27:31,  2.27s/it]"
     ]
    },
    {
     "name": "stdout",
     "output_type": "stream",
     "text": [
      "1144157782985363461\n",
      "Tweet fetched:  Bislang ein Text von der Art »Wir haben noch keinen Preisträger gehört« #tddl\n"
     ]
    },
    {
     "name": "stderr",
     "output_type": "stream",
     "text": [
      "\r",
      " 12%|█▏        | 102/830 [03:53<27:26,  2.26s/it]"
     ]
    },
    {
     "name": "stdout",
     "output_type": "stream",
     "text": [
      "1144157897309532160\n",
      "Tweet fetched:  \"Sie ist eine von fünf Menschen ohne Schwanz im Raum.\" \n",
      "\n",
      "Wurde kurz wach...\n",
      "\n",
      "und gleich nochmal...ist der Text vielleicht witziger als er scheint? #tddl\n"
     ]
    },
    {
     "name": "stderr",
     "output_type": "stream",
     "text": [
      "\r",
      " 12%|█▏        | 103/830 [03:55<27:25,  2.26s/it]"
     ]
    },
    {
     "name": "stdout",
     "output_type": "stream",
     "text": [
      "1144157897309532160\n",
      "Tweet fetched:  \"Sie ist eine von fünf Menschen ohne Schwanz im Raum.\" \n",
      "\n",
      "Wurde kurz wach...\n",
      "\n",
      "und gleich nochmal...ist der Text vielleicht witziger als er scheint? #tddl\n"
     ]
    },
    {
     "name": "stderr",
     "output_type": "stream",
     "text": [
      "\r",
      " 13%|█▎        | 104/830 [03:57<27:23,  2.26s/it]"
     ]
    },
    {
     "name": "stdout",
     "output_type": "stream",
     "text": [
      "1144157966297370624\n",
      "Tweet fetched:  Katharina Schultens ist eine sehr gute Lyrikerin - und eigentlich müsste sich der Stil gut in Prosa übertragen lassen. Aber das hier ist nichts, stilistisch. Der Text wird relativ banal vorwärts geschoben. #tddl\n"
     ]
    },
    {
     "name": "stderr",
     "output_type": "stream",
     "text": [
      "\r",
      " 13%|█▎        | 105/830 [03:59<27:23,  2.27s/it]"
     ]
    },
    {
     "name": "stdout",
     "output_type": "stream",
     "text": [
      "1144157966297370624\n",
      "Tweet fetched:  Katharina Schultens ist eine sehr gute Lyrikerin - und eigentlich müsste sich der Stil gut in Prosa übertragen lassen. Aber das hier ist nichts, stilistisch. Der Text wird relativ banal vorwärts geschoben. #tddl\n"
     ]
    },
    {
     "name": "stderr",
     "output_type": "stream",
     "text": [
      "\r",
      " 13%|█▎        | 106/830 [04:02<27:17,  2.26s/it]"
     ]
    },
    {
     "name": "stdout",
     "output_type": "stream",
     "text": [
      "1144157966297370624\n",
      "Tweet fetched:  Katharina Schultens ist eine sehr gute Lyrikerin - und eigentlich müsste sich der Stil gut in Prosa übertragen lassen. Aber das hier ist nichts, stilistisch. Der Text wird relativ banal vorwärts geschoben. #tddl\n"
     ]
    },
    {
     "name": "stderr",
     "output_type": "stream",
     "text": [
      "\r",
      " 13%|█▎        | 107/830 [04:04<27:21,  2.27s/it]"
     ]
    },
    {
     "name": "stdout",
     "output_type": "stream",
     "text": [
      "1144157966297370624\n",
      "Tweet fetched:  Katharina Schultens ist eine sehr gute Lyrikerin - und eigentlich müsste sich der Stil gut in Prosa übertragen lassen. Aber das hier ist nichts, stilistisch. Der Text wird relativ banal vorwärts geschoben. #tddl\n"
     ]
    },
    {
     "name": "stderr",
     "output_type": "stream",
     "text": [
      "\r",
      " 13%|█▎        | 108/830 [04:06<27:15,  2.27s/it]"
     ]
    },
    {
     "name": "stdout",
     "output_type": "stream",
     "text": [
      "1144157981501792256\n",
      "Tweet fetched:  \"Alle hören sehr genau zu.\" Nein. Ich habe damit schon aufgehört. Schwurbeliger Nervtext. #tddl\n"
     ]
    },
    {
     "name": "stderr",
     "output_type": "stream",
     "text": [
      "\r",
      " 13%|█▎        | 109/830 [04:09<27:12,  2.26s/it]"
     ]
    },
    {
     "name": "stdout",
     "output_type": "stream",
     "text": [
      "1144157981501792256\n",
      "Tweet fetched:  \"Alle hören sehr genau zu.\" Nein. Ich habe damit schon aufgehört. Schwurbeliger Nervtext. #tddl\n"
     ]
    },
    {
     "name": "stderr",
     "output_type": "stream",
     "text": [
      "\r",
      " 13%|█▎        | 110/830 [04:11<27:08,  2.26s/it]"
     ]
    },
    {
     "name": "stdout",
     "output_type": "stream",
     "text": [
      "1144158000573243392\n",
      "Tweet fetched:  @schwarzblond @TillRaether @derwahremawa finde ich auch sehr beeindruckend. aber ich schaue jetzt auch um viertel nach 10 tv...#tddl\n"
     ]
    },
    {
     "name": "stderr",
     "output_type": "stream",
     "text": [
      "\r",
      " 13%|█▎        | 111/830 [04:13<27:04,  2.26s/it]"
     ]
    },
    {
     "name": "stdout",
     "output_type": "stream",
     "text": [
      "1144158056005197824\n",
      "Tweet fetched:  Und bevor das nachher wieder eskaliert, es ist möglich, die #tddl zu sehen und die Autor*innen nicht bloßzustellen, sie nicht lächerlich zu machen. Ich werde meine zynischen Kommentare voll auf die Jury kanalisieren heute. Auch hier gilt - nach unten treten ist eher so mäh.\n"
     ]
    },
    {
     "name": "stderr",
     "output_type": "stream",
     "text": [
      "\r",
      " 13%|█▎        | 112/830 [04:15<27:03,  2.26s/it]"
     ]
    },
    {
     "name": "stdout",
     "output_type": "stream",
     "text": [
      "1144158056005197824\n",
      "Tweet fetched:  Und bevor das nachher wieder eskaliert, es ist möglich, die #tddl zu sehen und die Autor*innen nicht bloßzustellen, sie nicht lächerlich zu machen. Ich werde meine zynischen Kommentare voll auf die Jury kanalisieren heute. Auch hier gilt - nach unten treten ist eher so mäh.\n"
     ]
    },
    {
     "name": "stderr",
     "output_type": "stream",
     "text": [
      "\r",
      " 14%|█▎        | 113/830 [04:18<27:03,  2.26s/it]"
     ]
    },
    {
     "name": "stdout",
     "output_type": "stream",
     "text": [
      "1144158056005197824\n",
      "Tweet fetched:  Und bevor das nachher wieder eskaliert, es ist möglich, die #tddl zu sehen und die Autor*innen nicht bloßzustellen, sie nicht lächerlich zu machen. Ich werde meine zynischen Kommentare voll auf die Jury kanalisieren heute. Auch hier gilt - nach unten treten ist eher so mäh.\n"
     ]
    },
    {
     "name": "stderr",
     "output_type": "stream",
     "text": [
      "\r",
      " 14%|█▎        | 114/830 [04:20<27:00,  2.26s/it]"
     ]
    },
    {
     "name": "stdout",
     "output_type": "stream",
     "text": [
      "1144158056005197824\n",
      "Tweet fetched:  Und bevor das nachher wieder eskaliert, es ist möglich, die #tddl zu sehen und die Autor*innen nicht bloßzustellen, sie nicht lächerlich zu machen. Ich werde meine zynischen Kommentare voll auf die Jury kanalisieren heute. Auch hier gilt - nach unten treten ist eher so mäh.\n"
     ]
    },
    {
     "name": "stderr",
     "output_type": "stream",
     "text": [
      "\r",
      " 14%|█▍        | 115/830 [04:22<27:46,  2.33s/it]"
     ]
    },
    {
     "name": "stdout",
     "output_type": "stream",
     "text": [
      "1144158056005197824\n",
      "Tweet fetched:  Und bevor das nachher wieder eskaliert, es ist möglich, die #tddl zu sehen und die Autor*innen nicht bloßzustellen, sie nicht lächerlich zu machen. Ich werde meine zynischen Kommentare voll auf die Jury kanalisieren heute. Auch hier gilt - nach unten treten ist eher so mäh.\n"
     ]
    },
    {
     "name": "stderr",
     "output_type": "stream",
     "text": [
      "\r",
      " 14%|█▍        | 116/830 [04:25<27:27,  2.31s/it]"
     ]
    },
    {
     "name": "stdout",
     "output_type": "stream",
     "text": [
      "1144158097180692482\n",
      "Tweet fetched:  Einige Besucher nutzen den Text als Fächer. Wahrscheinlich das Beste, was man damit machen kann. #tddl\n"
     ]
    },
    {
     "name": "stderr",
     "output_type": "stream",
     "text": [
      "\r",
      " 14%|█▍        | 117/830 [04:27<27:14,  2.29s/it]"
     ]
    },
    {
     "name": "stdout",
     "output_type": "stream",
     "text": [
      "1144158135252393984\n",
      "Tweet fetched:  Spekulativer Roman mit ganz viel Schwanz. #tddl\n"
     ]
    },
    {
     "name": "stderr",
     "output_type": "stream",
     "text": [
      "\r",
      " 14%|█▍        | 118/830 [04:29<27:10,  2.29s/it]"
     ]
    },
    {
     "name": "stdout",
     "output_type": "stream",
     "text": [
      "1144158192634597376\n",
      "Tweet fetched:  #tddl\n",
      "Interessante Starterin aus Berlin... aber jetzt schhhhhht - zuhören!!!\n"
     ]
    },
    {
     "name": "stderr",
     "output_type": "stream",
     "text": [
      "\r",
      " 14%|█▍        | 119/830 [04:31<27:14,  2.30s/it]"
     ]
    },
    {
     "name": "stdout",
     "output_type": "stream",
     "text": [
      "1144131695072952322\n",
      "Tweet fetched:  Großartiges Photo, großartige Bildunterschrift. #tddl https://t.co/CFjO2OoAvL\n"
     ]
    },
    {
     "name": "stderr",
     "output_type": "stream",
     "text": [
      "\r",
      " 14%|█▍        | 120/830 [04:34<27:01,  2.28s/it]"
     ]
    },
    {
     "name": "stdout",
     "output_type": "stream",
     "text": [
      "1144131695072952322\n",
      "Tweet fetched:  Großartiges Photo, großartige Bildunterschrift. #tddl https://t.co/CFjO2OoAvL\n"
     ]
    }
   ],
   "source": [
    "annotations_aspect = 'data/aspect.csv'\n",
    "annotations_polarity = 'data/polarity.csv'\n",
    "\n",
    "aspectResultFile = \"data/aspect_with_tweets.csv\"\n",
    "polarityResultFile = \"data/polarity_with_tweets.csv\"\n",
    "\n",
    "# createDataset(annotations_aspect, aspectResultFile)\n",
    "createDataset(annotations_polarity, polarityResultFile)"
   ]
  },
  {
   "cell_type": "code",
   "execution_count": 17,
   "id": "immune-challenge",
   "metadata": {},
   "outputs": [],
   "source": [
    "def preprocess(input_csv, output_csv):\n",
    "    \n",
    "    dataset_df = pd.read_csv(\"data/aspect_with_tweets.csv\", names = [\"tweet_id\",\"text\",\"label\",\"aspect\"])\n",
    "\n",
    "    texts = list(dataset_df['text'])\n",
    "    aspects = list(dataset_df['aspect'])\n",
    "    labels = list(dataset_df['label'])\n",
    "    final_data = []\n",
    "    \n",
    "    print(len(texts))\n",
    "    for i, text in enumerate(texts):\n",
    "        try:\n",
    "            pos_aspect = text.replace(',','').replace('!','').replace('\"','').replace('#','').replace('?','').replace('.','').replace('\\n',' ').split().index(aspects[i].split()[0])\n",
    "        except:\n",
    "            try:\n",
    "                pos_aspect = text.replace('\\n',' ').split().index(aspects[i].split()[0])\n",
    "            except:\n",
    "                print(\"SKIPPED BECAUSE ASPECT NOT IN SENTENCE\")\n",
    "                continue\n",
    "        aspect_len = len(aspects[i].split())\n",
    "        final_pos_aspect = [k for k in range(pos_aspect, pos_aspect+aspect_len)]\n",
    "        final_data.append([text, final_pos_aspect, labels[i].split('_')[0]])\n",
    "\n",
    "    train, test = train_test_split(final_data, test_size=.2, shuffle=True, random_state=32)\n",
    "\n",
    "    with open(output_csv.split('.csv')[0] + '_train.csv', \"w\") as f:\n",
    "        writer = csv.writer(f)\n",
    "        writer.writerows(train)\n",
    "        \n",
    "    with open(output_csv.split('.csv')[0] + '_test.csv', \"w\") as f:\n",
    "        writer = csv.writer(f)\n",
    "        writer.writerows(test)"
   ]
  },
  {
   "cell_type": "code",
   "execution_count": 18,
   "id": "outdoor-riverside",
   "metadata": {},
   "outputs": [
    {
     "name": "stdout",
     "output_type": "stream",
     "text": [
      "776\n",
      "SKIPPED BECAUSE ASPECT NOT IN SENTENCE\n",
      "SKIPPED BECAUSE ASPECT NOT IN SENTENCE\n",
      "SKIPPED BECAUSE ASPECT NOT IN SENTENCE\n",
      "SKIPPED BECAUSE ASPECT NOT IN SENTENCE\n",
      "SKIPPED BECAUSE ASPECT NOT IN SENTENCE\n",
      "SKIPPED BECAUSE ASPECT NOT IN SENTENCE\n",
      "SKIPPED BECAUSE ASPECT NOT IN SENTENCE\n",
      "SKIPPED BECAUSE ASPECT NOT IN SENTENCE\n",
      "SKIPPED BECAUSE ASPECT NOT IN SENTENCE\n",
      "SKIPPED BECAUSE ASPECT NOT IN SENTENCE\n",
      "SKIPPED BECAUSE ASPECT NOT IN SENTENCE\n",
      "SKIPPED BECAUSE ASPECT NOT IN SENTENCE\n",
      "SKIPPED BECAUSE ASPECT NOT IN SENTENCE\n",
      "SKIPPED BECAUSE ASPECT NOT IN SENTENCE\n",
      "SKIPPED BECAUSE ASPECT NOT IN SENTENCE\n",
      "SKIPPED BECAUSE ASPECT NOT IN SENTENCE\n",
      "SKIPPED BECAUSE ASPECT NOT IN SENTENCE\n",
      "SKIPPED BECAUSE ASPECT NOT IN SENTENCE\n",
      "SKIPPED BECAUSE ASPECT NOT IN SENTENCE\n",
      "SKIPPED BECAUSE ASPECT NOT IN SENTENCE\n",
      "SKIPPED BECAUSE ASPECT NOT IN SENTENCE\n",
      "SKIPPED BECAUSE ASPECT NOT IN SENTENCE\n",
      "SKIPPED BECAUSE ASPECT NOT IN SENTENCE\n",
      "SKIPPED BECAUSE ASPECT NOT IN SENTENCE\n",
      "SKIPPED BECAUSE ASPECT NOT IN SENTENCE\n",
      "SKIPPED BECAUSE ASPECT NOT IN SENTENCE\n",
      "SKIPPED BECAUSE ASPECT NOT IN SENTENCE\n",
      "SKIPPED BECAUSE ASPECT NOT IN SENTENCE\n",
      "SKIPPED BECAUSE ASPECT NOT IN SENTENCE\n",
      "SKIPPED BECAUSE ASPECT NOT IN SENTENCE\n",
      "SKIPPED BECAUSE ASPECT NOT IN SENTENCE\n",
      "SKIPPED BECAUSE ASPECT NOT IN SENTENCE\n",
      "SKIPPED BECAUSE ASPECT NOT IN SENTENCE\n",
      "SKIPPED BECAUSE ASPECT NOT IN SENTENCE\n",
      "SKIPPED BECAUSE ASPECT NOT IN SENTENCE\n",
      "SKIPPED BECAUSE ASPECT NOT IN SENTENCE\n",
      "SKIPPED BECAUSE ASPECT NOT IN SENTENCE\n",
      "SKIPPED BECAUSE ASPECT NOT IN SENTENCE\n",
      "SKIPPED BECAUSE ASPECT NOT IN SENTENCE\n",
      "SKIPPED BECAUSE ASPECT NOT IN SENTENCE\n",
      "SKIPPED BECAUSE ASPECT NOT IN SENTENCE\n",
      "SKIPPED BECAUSE ASPECT NOT IN SENTENCE\n",
      "SKIPPED BECAUSE ASPECT NOT IN SENTENCE\n",
      "SKIPPED BECAUSE ASPECT NOT IN SENTENCE\n",
      "SKIPPED BECAUSE ASPECT NOT IN SENTENCE\n",
      "SKIPPED BECAUSE ASPECT NOT IN SENTENCE\n",
      "SKIPPED BECAUSE ASPECT NOT IN SENTENCE\n",
      "SKIPPED BECAUSE ASPECT NOT IN SENTENCE\n",
      "SKIPPED BECAUSE ASPECT NOT IN SENTENCE\n",
      "SKIPPED BECAUSE ASPECT NOT IN SENTENCE\n",
      "SKIPPED BECAUSE ASPECT NOT IN SENTENCE\n",
      "SKIPPED BECAUSE ASPECT NOT IN SENTENCE\n",
      "SKIPPED BECAUSE ASPECT NOT IN SENTENCE\n",
      "SKIPPED BECAUSE ASPECT NOT IN SENTENCE\n",
      "SKIPPED BECAUSE ASPECT NOT IN SENTENCE\n",
      "SKIPPED BECAUSE ASPECT NOT IN SENTENCE\n",
      "SKIPPED BECAUSE ASPECT NOT IN SENTENCE\n",
      "SKIPPED BECAUSE ASPECT NOT IN SENTENCE\n",
      "SKIPPED BECAUSE ASPECT NOT IN SENTENCE\n"
     ]
    }
   ],
   "source": [
    "aspectFinalFile = 'data/aspect_final.csv'\n",
    "# polarityFinalFile = 'polarity_final.csv'\n",
    "\n",
    "preprocess(aspectResultFile, aspectFinalFile)\n",
    "# preprocess(polarityResultFile, polarityFinalFile)"
   ]
  },
  {
   "cell_type": "code",
   "execution_count": null,
   "id": "banner-gospel",
   "metadata": {},
   "outputs": [],
   "source": []
  }
 ],
 "metadata": {
  "kernelspec": {
   "display_name": "Python 3",
   "language": "python",
   "name": "python3"
  },
  "language_info": {
   "codemirror_mode": {
    "name": "ipython",
    "version": 3
   },
   "file_extension": ".py",
   "mimetype": "text/x-python",
   "name": "python",
   "nbconvert_exporter": "python",
   "pygments_lexer": "ipython3",
   "version": "3.9.2"
  }
 },
 "nbformat": 4,
 "nbformat_minor": 5
}
