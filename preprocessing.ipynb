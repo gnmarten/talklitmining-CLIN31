{
 "cells": [
  {
   "cell_type": "code",
   "execution_count": 27,
   "id": "positive-party",
   "metadata": {},
   "outputs": [],
   "source": [
    "# Twitter Developer keys here\n",
    "consumer_key = '3SHdoKRk9q9fq5t6RlnJDax7v'\n",
    "consumer_key_secret = 'AcKxqm029dtNl2MzznJku9OLoa8DJNhstGXkICjiuZquBlscp0'\n",
    "access_token = '915011546081841152-7fbciAlQNOHNEo5vwoLvFIEgQSilRWG'\n",
    "access_token_secret = 'CvGUeajpK6G2bRSlTT2UOUTItfpGV3xjcXCxogWRaC92c'"
   ]
  },
  {
   "cell_type": "code",
   "execution_count": 28,
   "id": "legitimate-nicaragua",
   "metadata": {},
   "outputs": [],
   "source": [
    "import csv\n",
    "import tweepy\n",
    "import pandas as pd\n",
    "from sklearn.model_selection import train_test_split\n",
    "import tqdm"
   ]
  },
  {
   "cell_type": "code",
   "execution_count": 29,
   "id": "requested-discovery",
   "metadata": {},
   "outputs": [],
   "source": [
    "auth = tweepy.OAuthHandler(consumer_key, consumer_key_secret)\n",
    "auth.set_access_token(access_token, access_token_secret)\n",
    "api = tweepy.API(auth)"
   ]
  },
  {
   "cell_type": "code",
   "execution_count": 30,
   "id": "raised-slope",
   "metadata": {},
   "outputs": [],
   "source": [
    "def createDataset(corpusFile, targetResultFile):\n",
    "    import csv\n",
    "    import time\n",
    "\n",
    "    counter = 0\n",
    "    corpus = []\n",
    "\n",
    "    with open(corpusFile, 'r') as csvfile:\n",
    "        lineReader = csv.reader(csvfile, delimiter=',', quotechar=\"\\\"\")\n",
    "        for row in lineReader:\n",
    "            corpus.append({\"tweet_id\": row[3], \"label\": row[2], \"aspect\": row[1]})\n",
    "    corpus = corpus[1:]\n",
    "    sleepTime = 2\n",
    "    trainingDataSet = []\n",
    "\n",
    "    for tweet in tqdm.tqdm(corpus):\n",
    "        try:\n",
    "            print(tweet[\"tweet_id\"])\n",
    "            tweetFetched = api.get_status(tweet[\"tweet_id\"], tweet_mode='extended')\n",
    "            print(\"Tweet fetched:  \" + tweetFetched.full_text)\n",
    "            tweet[\"text\"] = tweetFetched.full_text\n",
    "            trainingDataSet.append(tweet)\n",
    "            time.sleep(sleepTime)\n",
    "\n",
    "        except Exception as e:\n",
    "            print(e)\n",
    "            print(\"Inside the exception - no:2\")\n",
    "            time.sleep(sleepTime)\n",
    "            continue\n",
    "\n",
    "    with open(targetResultFile, 'w') as csvfile:\n",
    "        linewriter = csv.writer(csvfile, delimiter=',', quotechar=\"\\\"\")\n",
    "        for tweet in trainingDataSet:\n",
    "            try:\n",
    "                linewriter.writerow([tweet[\"tweet_id\"], tweet[\"text\"], tweet[\"label\"], tweet[\"aspect\"]])\n",
    "            except Exception as e:\n",
    "                print(e)"
   ]
  },
  {
   "cell_type": "code",
   "execution_count": 31,
   "id": "korean-acrobat",
   "metadata": {},
   "outputs": [
    {
     "name": "stderr",
     "output_type": "stream",
     "text": [
      "\r",
      "  0%|          | 0/830 [00:00<?, ?it/s]"
     ]
    },
    {
     "name": "stdout",
     "output_type": "stream",
     "text": [
      "1014812423205916672\n",
      "Tweet fetched:  Wettlesen am Wörthersee. Das Setting erinnert ein bisschen an @hartaberfair. Nur das Publikum läuft herrlich anarchisch durch das Livebild: https://t.co/xzZ7ARVfqW via @3sat. #tddl #tddl18 #Bachmannpreis\n"
     ]
    },
    {
     "name": "stderr",
     "output_type": "stream",
     "text": [
      "\r",
      "  0%|          | 1/830 [00:02<31:51,  2.31s/it]"
     ]
    },
    {
     "name": "stdout",
     "output_type": "stream",
     "text": [
      "1014812423205916672\n",
      "Tweet fetched:  Wettlesen am Wörthersee. Das Setting erinnert ein bisschen an @hartaberfair. Nur das Publikum läuft herrlich anarchisch durch das Livebild: https://t.co/xzZ7ARVfqW via @3sat. #tddl #tddl18 #Bachmannpreis\n"
     ]
    },
    {
     "name": "stderr",
     "output_type": "stream",
     "text": [
      "\r",
      "  0%|          | 2/830 [00:04<31:32,  2.29s/it]"
     ]
    },
    {
     "name": "stdout",
     "output_type": "stream",
     "text": [
      "1014814182280171521\n",
      "Tweet fetched:  Figuren im Text schlafen miteinander, peinlich berührtes Husten im Publikum #tddl #Lohse\n"
     ]
    },
    {
     "name": "stderr",
     "output_type": "stream",
     "text": [
      "\r",
      "  0%|          | 3/830 [00:06<31:17,  2.27s/it]"
     ]
    },
    {
     "name": "stdout",
     "output_type": "stream",
     "text": [
      "1014814182280171521\n",
      "Tweet fetched:  Figuren im Text schlafen miteinander, peinlich berührtes Husten im Publikum #tddl #Lohse\n"
     ]
    },
    {
     "name": "stderr",
     "output_type": "stream",
     "text": [
      "\r",
      "  0%|          | 4/830 [00:09<31:13,  2.27s/it]"
     ]
    },
    {
     "name": "stdout",
     "output_type": "stream",
     "text": [
      "1014814182280171521\n",
      "Tweet fetched:  Figuren im Text schlafen miteinander, peinlich berührtes Husten im Publikum #tddl #Lohse\n"
     ]
    },
    {
     "name": "stderr",
     "output_type": "stream",
     "text": [
      "\r",
      "  1%|          | 5/830 [00:11<31:08,  2.26s/it]"
     ]
    },
    {
     "name": "stdout",
     "output_type": "stream",
     "text": [
      "1014825100921720832\n",
      "Tweet fetched:  „Bitte sitzen bleiben! Wir sind noch nicht fertig!“ Sehr gut gefällt uns bislang auch das lustig flottierende Publikum im Klagenfurter @3sat-Studio. 😉 #tddl #tddl18 #Bachmannwettbewerb\n"
     ]
    },
    {
     "name": "stderr",
     "output_type": "stream",
     "text": [
      "\r",
      "  1%|          | 6/830 [00:13<31:02,  2.26s/it]"
     ]
    },
    {
     "name": "stdout",
     "output_type": "stream",
     "text": [
      "1014845016794193920\n",
      "Tweet fetched:  Publikum gefällt: Sonnenbrille, Sommerhut, viel Fächern mit 3sat-Fächern #tddl\n"
     ]
    },
    {
     "name": "stderr",
     "output_type": "stream",
     "text": [
      "\r",
      "  1%|          | 7/830 [00:15<30:58,  2.26s/it]"
     ]
    },
    {
     "name": "stdout",
     "output_type": "stream",
     "text": [
      "1014845016794193920\n",
      "Tweet fetched:  Publikum gefällt: Sonnenbrille, Sommerhut, viel Fächern mit 3sat-Fächern #tddl\n"
     ]
    },
    {
     "name": "stderr",
     "output_type": "stream",
     "text": [
      "\r",
      "  1%|          | 8/830 [00:18<30:53,  2.25s/it]"
     ]
    },
    {
     "name": "stdout",
     "output_type": "stream",
     "text": [
      "1014857863615991808\n",
      "Tweet fetched:  90% der Zuhörer im Studio haben sicher Ähnliches erlebt, wie im Text beschrieben. #tddl\n"
     ]
    },
    {
     "name": "stderr",
     "output_type": "stream",
     "text": [
      "\r",
      "  1%|          | 9/830 [00:20<30:52,  2.26s/it]"
     ]
    },
    {
     "name": "stdout",
     "output_type": "stream",
     "text": [
      "1015145143278718976\n",
      "Tweet fetched:  Das Studiopublikum lacht beim Zusammenschnitt des Vortrags. #tddl\n"
     ]
    },
    {
     "name": "stderr",
     "output_type": "stream",
     "text": [
      "\r",
      "  1%|          | 10/830 [00:22<30:49,  2.26s/it]"
     ]
    },
    {
     "name": "stdout",
     "output_type": "stream",
     "text": [
      "1015150130134179841\n",
      "Tweet fetched:  Entgeistertes Husten im Publikum #tddl #Sievers\n"
     ]
    },
    {
     "name": "stderr",
     "output_type": "stream",
     "text": [
      "\r",
      "  1%|▏         | 11/830 [00:24<30:47,  2.26s/it]"
     ]
    },
    {
     "name": "stdout",
     "output_type": "stream",
     "text": [
      "1015160116243521536\n",
      "Tweet fetched:  @LaVieVagabonde Ich weiß. Eigentlich hätte eine ganze Reihe Publikum aufspringen und rufen müssen. #tddl\n"
     ]
    },
    {
     "name": "stderr",
     "output_type": "stream",
     "text": [
      "\r",
      "  1%|▏         | 12/830 [00:27<30:45,  2.26s/it]"
     ]
    },
    {
     "name": "stdout",
     "output_type": "stream",
     "text": [
      "1015164880033320960\n",
      "Tweet fetched:  Szenenapplaus. #klopfjazz #tddl\n"
     ]
    },
    {
     "name": "stderr",
     "output_type": "stream",
     "text": [
      "\r",
      "  2%|▏         | 13/830 [00:29<31:21,  2.30s/it]"
     ]
    },
    {
     "name": "stdout",
     "output_type": "stream",
     "text": [
      "1014600924126425088\n",
      "Tweet fetched:  Langer Applaus nach der Rede Zaimoglus #tddl\n"
     ]
    },
    {
     "name": "stderr",
     "output_type": "stream",
     "text": [
      "\r",
      "  2%|▏         | 14/830 [00:31<31:11,  2.29s/it]"
     ]
    },
    {
     "name": "stdout",
     "output_type": "stream",
     "text": [
      "1015181254889787392\n",
      "Tweet fetched:  Nett. Nicht mehr. Publikum ist aber dankbar, weil man verstanden hat worum es geht. #Maljartschuk #tddl #tddl18\n"
     ]
    },
    {
     "name": "stderr",
     "output_type": "stream",
     "text": [
      "\r",
      "  2%|▏         | 15/830 [00:34<31:01,  2.28s/it]"
     ]
    },
    {
     "name": "stdout",
     "output_type": "stream",
     "text": [
      "1015181254889787392\n",
      "Tweet fetched:  Nett. Nicht mehr. Publikum ist aber dankbar, weil man verstanden hat worum es geht. #Maljartschuk #tddl #tddl18\n"
     ]
    },
    {
     "name": "stderr",
     "output_type": "stream",
     "text": [
      "\r",
      "  2%|▏         | 16/830 [00:36<30:50,  2.27s/it]"
     ]
    },
    {
     "name": "stdout",
     "output_type": "stream",
     "text": [
      "1015181371101401088\n",
      "Tweet fetched:  Ein ungewohnt gegenständlicher und „einfach“ zu erfassender Text von Tanja Maljartschuk, schöne Geschichte. Größter und längster Applaus am Schluss. #tddl #tddl18 https://t.co/vxz8AQQ2kN\n"
     ]
    },
    {
     "name": "stderr",
     "output_type": "stream",
     "text": [
      "\r",
      "  2%|▏         | 17/830 [00:38<30:46,  2.27s/it]"
     ]
    },
    {
     "name": "stdout",
     "output_type": "stream",
     "text": [
      "1015181371101401088\n",
      "Tweet fetched:  Ein ungewohnt gegenständlicher und „einfach“ zu erfassender Text von Tanja Maljartschuk, schöne Geschichte. Größter und längster Applaus am Schluss. #tddl #tddl18 https://t.co/vxz8AQQ2kN\n"
     ]
    },
    {
     "name": "stderr",
     "output_type": "stream",
     "text": [
      "\r",
      "  2%|▏         | 18/830 [00:40<30:40,  2.27s/it]"
     ]
    },
    {
     "name": "stdout",
     "output_type": "stream",
     "text": [
      "1015181371101401088\n",
      "Tweet fetched:  Ein ungewohnt gegenständlicher und „einfach“ zu erfassender Text von Tanja Maljartschuk, schöne Geschichte. Größter und längster Applaus am Schluss. #tddl #tddl18 https://t.co/vxz8AQQ2kN\n"
     ]
    },
    {
     "name": "stderr",
     "output_type": "stream",
     "text": [
      "\r",
      "  2%|▏         | 19/830 [00:43<31:32,  2.33s/it]"
     ]
    },
    {
     "name": "stdout",
     "output_type": "stream",
     "text": [
      "1015181371101401088\n",
      "Tweet fetched:  Ein ungewohnt gegenständlicher und „einfach“ zu erfassender Text von Tanja Maljartschuk, schöne Geschichte. Größter und längster Applaus am Schluss. #tddl #tddl18 https://t.co/vxz8AQQ2kN\n"
     ]
    },
    {
     "name": "stderr",
     "output_type": "stream",
     "text": [
      "\r",
      "  2%|▏         | 20/830 [00:45<31:11,  2.31s/it]"
     ]
    },
    {
     "name": "stdout",
     "output_type": "stream",
     "text": [
      "1015181371101401088\n",
      "Tweet fetched:  Ein ungewohnt gegenständlicher und „einfach“ zu erfassender Text von Tanja Maljartschuk, schöne Geschichte. Größter und längster Applaus am Schluss. #tddl #tddl18 https://t.co/vxz8AQQ2kN\n"
     ]
    },
    {
     "name": "stderr",
     "output_type": "stream",
     "text": [
      "\r",
      "  3%|▎         | 21/830 [00:47<30:52,  2.29s/it]"
     ]
    },
    {
     "name": "stdout",
     "output_type": "stream",
     "text": [
      "1015181409290514433\n",
      "Tweet fetched:  Oh, mein Gott. So viel Applaus.\n",
      "#Maljartschuk #tddl\n"
     ]
    },
    {
     "name": "stderr",
     "output_type": "stream",
     "text": [
      "\r",
      "  3%|▎         | 22/830 [00:50<31:17,  2.32s/it]"
     ]
    },
    {
     "name": "stdout",
     "output_type": "stream",
     "text": [
      "1015181409290514433\n",
      "Tweet fetched:  Oh, mein Gott. So viel Applaus.\n",
      "#Maljartschuk #tddl\n"
     ]
    },
    {
     "name": "stderr",
     "output_type": "stream",
     "text": [
      "\r",
      "  3%|▎         | 23/830 [00:52<30:57,  2.30s/it]"
     ]
    },
    {
     "name": "stdout",
     "output_type": "stream",
     "text": [
      "1015181467759136768\n",
      "Tweet fetched:  Langer Applaus! Endlich Literatur, sagt Nora Gomringer. #tddl\n"
     ]
    },
    {
     "name": "stderr",
     "output_type": "stream",
     "text": [
      "\r",
      "  3%|▎         | 24/830 [00:54<31:10,  2.32s/it]"
     ]
    },
    {
     "name": "stdout",
     "output_type": "stream",
     "text": [
      "1015181731803095041\n",
      "Tweet fetched:  Kollektives Aufatmen: Endlich mal eine klassisch erzählte Geschichte. #tddl\n"
     ]
    },
    {
     "name": "stderr",
     "output_type": "stream",
     "text": [
      "\r",
      "  3%|▎         | 25/830 [00:57<30:51,  2.30s/it]"
     ]
    },
    {
     "name": "stdout",
     "output_type": "stream",
     "text": [
      "1015213981869445121\n",
      "Tweet fetched:  Scheiße, manche im Publikum sehen aus wie ich. #tddl\n"
     ]
    },
    {
     "name": "stderr",
     "output_type": "stream",
     "text": [
      "\r",
      "  3%|▎         | 26/830 [00:59<31:45,  2.37s/it]"
     ]
    },
    {
     "name": "stdout",
     "output_type": "stream",
     "text": [
      "1015217572126580736\n",
      "Tweet fetched:  Dem Applaus nach zu schließen, kriegt Herr Neft den Publikumspreis. #tddl\n"
     ]
    },
    {
     "name": "stderr",
     "output_type": "stream",
     "text": [
      "\r",
      "  3%|▎         | 27/830 [01:01<31:14,  2.33s/it]"
     ]
    },
    {
     "name": "stdout",
     "output_type": "stream",
     "text": [
      "1015218264371326976\n",
      "Tweet fetched:  Drittes Mal tosender Applaus, gebührend, bei diesen #tddl18 — jetzt für Anselm Neft. Eine sehr dichte Show, toll gelesen! Die vielen Flashbacks sind etwas kompliziert. #tddl\n"
     ]
    },
    {
     "name": "stderr",
     "output_type": "stream",
     "text": [
      "\r",
      "  3%|▎         | 28/830 [01:04<30:55,  2.31s/it]"
     ]
    },
    {
     "name": "stdout",
     "output_type": "stream",
     "text": [
      "1015218264371326976\n",
      "Tweet fetched:  Drittes Mal tosender Applaus, gebührend, bei diesen #tddl18 — jetzt für Anselm Neft. Eine sehr dichte Show, toll gelesen! Die vielen Flashbacks sind etwas kompliziert. #tddl\n"
     ]
    },
    {
     "name": "stderr",
     "output_type": "stream",
     "text": [
      "\r",
      "  3%|▎         | 29/830 [01:06<30:44,  2.30s/it]"
     ]
    },
    {
     "name": "stdout",
     "output_type": "stream",
     "text": [
      "1015218264371326976\n",
      "Tweet fetched:  Drittes Mal tosender Applaus, gebührend, bei diesen #tddl18 — jetzt für Anselm Neft. Eine sehr dichte Show, toll gelesen! Die vielen Flashbacks sind etwas kompliziert. #tddl\n"
     ]
    },
    {
     "name": "stderr",
     "output_type": "stream",
     "text": [
      "\r",
      "  4%|▎         | 30/830 [01:08<30:39,  2.30s/it]"
     ]
    },
    {
     "name": "stdout",
     "output_type": "stream",
     "text": [
      "1015218264371326976\n",
      "Tweet fetched:  Drittes Mal tosender Applaus, gebührend, bei diesen #tddl18 — jetzt für Anselm Neft. Eine sehr dichte Show, toll gelesen! Die vielen Flashbacks sind etwas kompliziert. #tddl\n"
     ]
    },
    {
     "name": "stderr",
     "output_type": "stream",
     "text": [
      "\r",
      "  4%|▎         | 31/830 [01:10<30:29,  2.29s/it]"
     ]
    },
    {
     "name": "stdout",
     "output_type": "stream",
     "text": [
      "1015511946228043776\n",
      "Tweet fetched:  Süßer Lacher im Studio. Wer von euch Flauschis war das? #tddl\n"
     ]
    },
    {
     "name": "stderr",
     "output_type": "stream",
     "text": [
      "\r",
      "  4%|▍         | 32/830 [01:13<30:25,  2.29s/it]"
     ]
    },
    {
     "name": "stdout",
     "output_type": "stream",
     "text": [
      "1014782342118944768\n",
      "Tweet fetched:  #tddl18 jetzt geht es los.... @3sat … das Publikum ist extrem fokussiert...\n"
     ]
    },
    {
     "name": "stderr",
     "output_type": "stream",
     "text": [
      "\r",
      "  4%|▍         | 33/830 [01:15<30:19,  2.28s/it]"
     ]
    },
    {
     "name": "stdout",
     "output_type": "stream",
     "text": [
      "1015512616515571712\n",
      "Tweet fetched:  wenn jemand umkippt bitte immer mit lustigem jazz ablenken #tddl\n"
     ]
    },
    {
     "name": "stderr",
     "output_type": "stream",
     "text": [
      "\r",
      "  4%|▍         | 34/830 [01:17<30:53,  2.33s/it]"
     ]
    },
    {
     "name": "stdout",
     "output_type": "stream",
     "text": [
      "1015512616515571712\n",
      "Tweet fetched:  wenn jemand umkippt bitte immer mit lustigem jazz ablenken #tddl\n"
     ]
    },
    {
     "name": "stderr",
     "output_type": "stream",
     "text": [
      "\r",
      "  4%|▍         | 35/830 [01:20<30:41,  2.32s/it]"
     ]
    },
    {
     "name": "stdout",
     "output_type": "stream",
     "text": [
      "1015512614447800320\n",
      "Tweet fetched:  #tddl Musik super angemessen...\n"
     ]
    },
    {
     "name": "stderr",
     "output_type": "stream",
     "text": [
      "\r",
      "  4%|▍         | 36/830 [01:22<30:22,  2.30s/it]"
     ]
    },
    {
     "name": "stdout",
     "output_type": "stream",
     "text": [
      "1015512750020276224\n",
      "Tweet fetched:  kranke performance, erinnert an goetz #tddl\n"
     ]
    },
    {
     "name": "stderr",
     "output_type": "stream",
     "text": [
      "\r",
      "  4%|▍         | 37/830 [01:24<30:11,  2.28s/it]"
     ]
    },
    {
     "name": "stdout",
     "output_type": "stream",
     "text": [
      "1015512880584822784\n",
      "[{'code': 34, 'message': 'Sorry, that page does not exist.'}]\n",
      "Inside the exception - no:2\n"
     ]
    },
    {
     "name": "stderr",
     "output_type": "stream",
     "text": [
      "\r",
      "  5%|▍         | 38/830 [01:27<29:57,  2.27s/it]"
     ]
    },
    {
     "name": "stdout",
     "output_type": "stream",
     "text": [
      "1015513222030548992\n",
      "Tweet fetched:  Schnelle Besserung an die Dame natürlich #tddl\n"
     ]
    },
    {
     "name": "stderr",
     "output_type": "stream",
     "text": [
      "\r",
      "  5%|▍         | 39/830 [01:29<29:51,  2.26s/it]"
     ]
    },
    {
     "name": "stdout",
     "output_type": "stream",
     "text": [
      "1015513255270371329\n",
      "Tweet fetched:  Kleines Kreislaufproblem im Publikum, aber alles gut!#tddl\n"
     ]
    },
    {
     "name": "stderr",
     "output_type": "stream",
     "text": [
      "\r",
      "  5%|▍         | 40/830 [01:31<29:48,  2.26s/it]"
     ]
    },
    {
     "name": "stdout",
     "output_type": "stream",
     "text": [
      "1015513255270371329\n",
      "Tweet fetched:  Kleines Kreislaufproblem im Publikum, aber alles gut!#tddl\n"
     ]
    },
    {
     "name": "stderr",
     "output_type": "stream",
     "text": [
      "\r",
      "  5%|▍         | 41/830 [01:33<29:44,  2.26s/it]"
     ]
    },
    {
     "name": "stdout",
     "output_type": "stream",
     "text": [
      "1015513755898261504\n",
      "Tweet fetched:  Hoffentlich geht es der Dame bald besser... #tddl\n"
     ]
    },
    {
     "name": "stderr",
     "output_type": "stream",
     "text": [
      "\r",
      "  5%|▌         | 42/830 [01:36<29:43,  2.26s/it]"
     ]
    },
    {
     "name": "stdout",
     "output_type": "stream",
     "text": [
      "1015515551811166208\n",
      "Tweet fetched:  #BachmannPreis \n",
      "1te Lesung des Tages und ich kann mir schon die unterschiedlichen Kritiken vorstellen, die Jakob Nolte gleich erhält. - Hoffe aber, dass es der Person aus dem Publikum gut geht, die da vorhin umgefallen ist.\n"
     ]
    },
    {
     "name": "stderr",
     "output_type": "stream",
     "text": [
      "\r",
      "  5%|▌         | 43/830 [01:38<29:38,  2.26s/it]"
     ]
    },
    {
     "name": "stdout",
     "output_type": "stream",
     "text": [
      "1015515551811166208\n",
      "Tweet fetched:  #BachmannPreis \n",
      "1te Lesung des Tages und ich kann mir schon die unterschiedlichen Kritiken vorstellen, die Jakob Nolte gleich erhält. - Hoffe aber, dass es der Person aus dem Publikum gut geht, die da vorhin umgefallen ist.\n"
     ]
    },
    {
     "name": "stderr",
     "output_type": "stream",
     "text": [
      "\r",
      "  5%|▌         | 44/830 [01:40<29:38,  2.26s/it]"
     ]
    },
    {
     "name": "stdout",
     "output_type": "stream",
     "text": [
      "1015515551811166208\n",
      "Tweet fetched:  #BachmannPreis \n",
      "1te Lesung des Tages und ich kann mir schon die unterschiedlichen Kritiken vorstellen, die Jakob Nolte gleich erhält. - Hoffe aber, dass es der Person aus dem Publikum gut geht, die da vorhin umgefallen ist.\n"
     ]
    },
    {
     "name": "stderr",
     "output_type": "stream",
     "text": [
      "\r",
      "  5%|▌         | 45/830 [01:42<29:33,  2.26s/it]"
     ]
    },
    {
     "name": "stdout",
     "output_type": "stream",
     "text": [
      "1015522141415067649\n",
      "Tweet fetched:  .@KlausKastberger: “Ich möchte noch was zum Kokain sagen.” Publikum lacht. #tddl\n"
     ]
    },
    {
     "name": "stderr",
     "output_type": "stream",
     "text": [
      "\r",
      "  6%|▌         | 46/830 [01:45<29:45,  2.28s/it]"
     ]
    },
    {
     "name": "stdout",
     "output_type": "stream",
     "text": [
      "1015522141415067649\n",
      "Tweet fetched:  .@KlausKastberger: “Ich möchte noch was zum Kokain sagen.” Publikum lacht. #tddl\n"
     ]
    },
    {
     "name": "stderr",
     "output_type": "stream",
     "text": [
      "\r",
      "  6%|▌         | 47/830 [01:47<29:40,  2.27s/it]"
     ]
    },
    {
     "name": "stdout",
     "output_type": "stream",
     "text": [
      "1015523549120008192\n",
      "Tweet fetched:  #tddl bahahaha meine 11 Monate alte Tochter hat jetzt mit dem Publikum mitgeklatscht 😄\n"
     ]
    },
    {
     "name": "stderr",
     "output_type": "stream",
     "text": [
      "\r",
      "  6%|▌         | 48/830 [01:49<29:34,  2.27s/it]"
     ]
    },
    {
     "name": "stdout",
     "output_type": "stream",
     "text": [
      "1014787138163036160\n",
      "Tweet fetched:  Notiz an mich: Man sollte nicht mit rosa Rundumbrillenbügel im Publikum sitzen. #tddl\n"
     ]
    },
    {
     "name": "stderr",
     "output_type": "stream",
     "text": [
      "\r",
      "  6%|▌         | 49/830 [01:51<29:31,  2.27s/it]"
     ]
    },
    {
     "name": "stdout",
     "output_type": "stream",
     "text": [
      "1015529764118032386\n",
      "Tweet fetched:  Das klatshende publikum harrt der geäusserten weisheiten #tddl\n"
     ]
    },
    {
     "name": "stderr",
     "output_type": "stream",
     "text": [
      "\r",
      "  6%|▌         | 50/830 [01:54<29:27,  2.27s/it]"
     ]
    },
    {
     "name": "stdout",
     "output_type": "stream",
     "text": [
      "1015532195157553153\n",
      "Tweet fetched:  Hat Hildegard Keller einen anderen Vortrag als das TV-Publikum gehört? Ein trauriger Clown, der auf unsere Welt schaut?  #tddl\n"
     ]
    },
    {
     "name": "stderr",
     "output_type": "stream",
     "text": [
      "\r",
      "  6%|▌         | 51/830 [01:56<29:23,  2.26s/it]"
     ]
    },
    {
     "name": "stdout",
     "output_type": "stream",
     "text": [
      "1015532195157553153\n",
      "Tweet fetched:  Hat Hildegard Keller einen anderen Vortrag als das TV-Publikum gehört? Ein trauriger Clown, der auf unsere Welt schaut?  #tddl\n"
     ]
    },
    {
     "name": "stderr",
     "output_type": "stream",
     "text": [
      "\r",
      "  6%|▋         | 52/830 [01:59<30:35,  2.36s/it]"
     ]
    },
    {
     "name": "stdout",
     "output_type": "stream",
     "text": [
      "1016260498470391808\n",
      "Tweet fetched:  Das war der Bachmannpreis im Lendhafen 2018. Schön war es! Danke an alle Mitwirkenden, die Ermöglicher*innen und das Publikum und herzliche Gratulation an die Preisträger*innen. Wir freuen uns jetzt schon wieder... https://t.co/nuJCFaIw2q\n"
     ]
    },
    {
     "name": "stderr",
     "output_type": "stream",
     "text": [
      "\r",
      "  6%|▋         | 53/830 [02:01<31:01,  2.40s/it]"
     ]
    },
    {
     "name": "stdout",
     "output_type": "stream",
     "text": [
      "1016260498470391808\n",
      "Tweet fetched:  Das war der Bachmannpreis im Lendhafen 2018. Schön war es! Danke an alle Mitwirkenden, die Ermöglicher*innen und das Publikum und herzliche Gratulation an die Preisträger*innen. Wir freuen uns jetzt schon wieder... https://t.co/nuJCFaIw2q\n"
     ]
    },
    {
     "name": "stderr",
     "output_type": "stream",
     "text": [
      "\r",
      "  7%|▋         | 54/830 [02:03<30:28,  2.36s/it]"
     ]
    },
    {
     "name": "stdout",
     "output_type": "stream",
     "text": [
      "1016260498470391808\n",
      "Tweet fetched:  Das war der Bachmannpreis im Lendhafen 2018. Schön war es! Danke an alle Mitwirkenden, die Ermöglicher*innen und das Publikum und herzliche Gratulation an die Preisträger*innen. Wir freuen uns jetzt schon wieder... https://t.co/nuJCFaIw2q\n"
     ]
    },
    {
     "name": "stderr",
     "output_type": "stream",
     "text": [
      "\r",
      "  7%|▋         | 55/830 [02:06<30:08,  2.33s/it]"
     ]
    },
    {
     "name": "stdout",
     "output_type": "stream",
     "text": [
      "1016260498470391808\n",
      "Tweet fetched:  Das war der Bachmannpreis im Lendhafen 2018. Schön war es! Danke an alle Mitwirkenden, die Ermöglicher*innen und das Publikum und herzliche Gratulation an die Preisträger*innen. Wir freuen uns jetzt schon wieder... https://t.co/nuJCFaIw2q\n"
     ]
    },
    {
     "name": "stderr",
     "output_type": "stream",
     "text": [
      "\r",
      "  7%|▋         | 56/830 [02:08<29:48,  2.31s/it]"
     ]
    },
    {
     "name": "stdout",
     "output_type": "stream",
     "text": [
      "1016260498470391808\n",
      "Tweet fetched:  Das war der Bachmannpreis im Lendhafen 2018. Schön war es! Danke an alle Mitwirkenden, die Ermöglicher*innen und das Publikum und herzliche Gratulation an die Preisträger*innen. Wir freuen uns jetzt schon wieder... https://t.co/nuJCFaIw2q\n"
     ]
    },
    {
     "name": "stderr",
     "output_type": "stream",
     "text": [
      "\r",
      "  7%|▋         | 57/830 [02:10<29:32,  2.29s/it]"
     ]
    },
    {
     "name": "stdout",
     "output_type": "stream",
     "text": [
      "1023618645526753280\n",
      "Tweet fetched:  @raphiedel @tddlit Spannend. Wenn man als Publikum so seine Gedanken über #tddl18 hat und eine der AutorInen ihre dazuwirbelt. Danke @raphiedel und Gratulation fürs teilen &lt;3\n"
     ]
    },
    {
     "name": "stderr",
     "output_type": "stream",
     "text": [
      "\r",
      "  7%|▋         | 58/830 [02:12<29:26,  2.29s/it]"
     ]
    },
    {
     "name": "stdout",
     "output_type": "stream",
     "text": [
      "1023618645526753280\n",
      "Tweet fetched:  @raphiedel @tddlit Spannend. Wenn man als Publikum so seine Gedanken über #tddl18 hat und eine der AutorInen ihre dazuwirbelt. Danke @raphiedel und Gratulation fürs teilen &lt;3\n"
     ]
    },
    {
     "name": "stderr",
     "output_type": "stream",
     "text": [
      "\r",
      "  7%|▋         | 59/830 [02:15<29:21,  2.28s/it]"
     ]
    },
    {
     "name": "stdout",
     "output_type": "stream",
     "text": [
      "1023618645526753280\n",
      "Tweet fetched:  @raphiedel @tddlit Spannend. Wenn man als Publikum so seine Gedanken über #tddl18 hat und eine der AutorInen ihre dazuwirbelt. Danke @raphiedel und Gratulation fürs teilen &lt;3\n"
     ]
    },
    {
     "name": "stderr",
     "output_type": "stream",
     "text": [
      "\r",
      "  7%|▋         | 60/830 [02:17<29:35,  2.31s/it]"
     ]
    },
    {
     "name": "stdout",
     "output_type": "stream",
     "text": [
      "1023618645526753280\n",
      "Tweet fetched:  @raphiedel @tddlit Spannend. Wenn man als Publikum so seine Gedanken über #tddl18 hat und eine der AutorInen ihre dazuwirbelt. Danke @raphiedel und Gratulation fürs teilen &lt;3\n"
     ]
    },
    {
     "name": "stderr",
     "output_type": "stream",
     "text": [
      "\r",
      "  7%|▋         | 61/830 [02:19<29:20,  2.29s/it]"
     ]
    },
    {
     "name": "stdout",
     "output_type": "stream",
     "text": [
      "1014794624081256450\n",
      "Tweet fetched:  Applaus, nachdem @KlausKastberger den Text hochgelobt hat. #tddl\n"
     ]
    },
    {
     "name": "stderr",
     "output_type": "stream",
     "text": [
      "\r",
      "  7%|▋         | 62/830 [02:21<29:13,  2.28s/it]"
     ]
    },
    {
     "name": "stdout",
     "output_type": "stream",
     "text": [
      "1014794624081256450\n",
      "Tweet fetched:  Applaus, nachdem @KlausKastberger den Text hochgelobt hat. #tddl\n"
     ]
    },
    {
     "name": "stderr",
     "output_type": "stream",
     "text": [
      "\r",
      "  8%|▊         | 63/830 [02:24<29:06,  2.28s/it]"
     ]
    },
    {
     "name": "stdout",
     "output_type": "stream",
     "text": [
      "1014795320385994753\n",
      "Tweet fetched:  \"Eigentlich sind ja alle Männer Ausfüllungstechniker\" (Nora Gomringer) - das Publikum scheint nicht ganz sicher, ob es darüber lachen darf (darf es). #tddl18\n"
     ]
    },
    {
     "name": "stderr",
     "output_type": "stream",
     "text": [
      "\r",
      "  8%|▊         | 64/830 [02:26<29:03,  2.28s/it]"
     ]
    },
    {
     "name": "stdout",
     "output_type": "stream",
     "text": [
      "1014795320385994753\n",
      "Tweet fetched:  \"Eigentlich sind ja alle Männer Ausfüllungstechniker\" (Nora Gomringer) - das Publikum scheint nicht ganz sicher, ob es darüber lachen darf (darf es). #tddl18\n"
     ]
    },
    {
     "name": "stderr",
     "output_type": "stream",
     "text": [
      "\r",
      "  8%|▊         | 65/830 [02:28<28:56,  2.27s/it]"
     ]
    },
    {
     "name": "stdout",
     "output_type": "stream",
     "text": [
      "1014795448509452289\n",
      "Tweet fetched:  der satz \"alle männer sind auffüllungstechniker\" lässt das publikum hier kollektiv in liebe zu nora gomringer fallen #tddl\n"
     ]
    },
    {
     "name": "stderr",
     "output_type": "stream",
     "text": [
      "\r",
      "  8%|▊         | 66/830 [02:31<28:50,  2.27s/it]"
     ]
    },
    {
     "name": "stdout",
     "output_type": "stream",
     "text": [
      "1014795448509452289\n",
      "Tweet fetched:  der satz \"alle männer sind auffüllungstechniker\" lässt das publikum hier kollektiv in liebe zu nora gomringer fallen #tddl\n"
     ]
    },
    {
     "name": "stderr",
     "output_type": "stream",
     "text": [
      "\r",
      "  8%|▊         | 67/830 [02:33<28:46,  2.26s/it]"
     ]
    },
    {
     "name": "stdout",
     "output_type": "stream",
     "text": [
      "1014797444838821888\n",
      "Tweet fetched:  Das Publikum klatscht wieder. Ob es auch daran liegt, dass es die einzige Autorin aus Österreich ist? #tddl\n"
     ]
    },
    {
     "name": "stderr",
     "output_type": "stream",
     "text": [
      "\r",
      "  8%|▊         | 68/830 [02:35<28:42,  2.26s/it]"
     ]
    },
    {
     "name": "stdout",
     "output_type": "stream",
     "text": [
      "1014805157845102592\n",
      "Tweet fetched:  Das ist auch so ein Text, der dem Publikum sicher gut gefällt. #tddl\n"
     ]
    },
    {
     "name": "stderr",
     "output_type": "stream",
     "text": [
      "\r",
      "  8%|▊         | 69/830 [02:37<28:44,  2.27s/it]"
     ]
    },
    {
     "name": "stdout",
     "output_type": "stream",
     "text": [
      "1144156517219950592\n",
      "Tweet fetched:  Mein Livestream hängt. Meint ihr, Pointen werden vorweggenommen dadurch, dass man von draußen von der Straße schon ein paar Sekunden vorher lautes Jubeln hört? #tddl\n"
     ]
    },
    {
     "name": "stderr",
     "output_type": "stream",
     "text": [
      "\r",
      "  8%|▊         | 70/830 [02:40<28:37,  2.26s/it]"
     ]
    },
    {
     "name": "stdout",
     "output_type": "stream",
     "text": [
      "1144156517219950592\n",
      "Tweet fetched:  Mein Livestream hängt. Meint ihr, Pointen werden vorweggenommen dadurch, dass man von draußen von der Straße schon ein paar Sekunden vorher lautes Jubeln hört? #tddl\n"
     ]
    },
    {
     "name": "stderr",
     "output_type": "stream",
     "text": [
      "\r",
      "  9%|▊         | 71/830 [02:42<28:37,  2.26s/it]"
     ]
    },
    {
     "name": "stdout",
     "output_type": "stream",
     "text": [
      "1144156593958924288\n",
      "Tweet fetched:  Von wegen auf den Text konzentrieren. Jetzt überlege ich krampfhaft, was wohl mit \"spekulativem Roman\" gemeint ist. #tddl\n"
     ]
    },
    {
     "name": "stderr",
     "output_type": "stream",
     "text": [
      "\r",
      "  9%|▊         | 72/830 [02:44<28:59,  2.30s/it]"
     ]
    },
    {
     "name": "stdout",
     "output_type": "stream",
     "text": [
      "1144156593958924288\n",
      "Tweet fetched:  Von wegen auf den Text konzentrieren. Jetzt überlege ich krampfhaft, was wohl mit \"spekulativem Roman\" gemeint ist. #tddl\n"
     ]
    },
    {
     "name": "stderr",
     "output_type": "stream",
     "text": [
      "\r",
      "  9%|▉         | 73/830 [02:46<28:50,  2.29s/it]"
     ]
    },
    {
     "name": "stdout",
     "output_type": "stream",
     "text": [
      "1144156647549526017\n",
      "Tweet fetched:  #tddl\n",
      "\n",
      "Publikum, zuhören, nicht aufs Blatt starren.\n"
     ]
    },
    {
     "name": "stderr",
     "output_type": "stream",
     "text": [
      "\r",
      "  9%|▉         | 74/830 [02:49<28:41,  2.28s/it]"
     ]
    },
    {
     "name": "stdout",
     "output_type": "stream",
     "text": [
      "1144156691577155584\n",
      "Tweet fetched:  Achja, auch schon wieder vergessen: Die. Lesen. Ja. Immer. Als. Sei. Zwischen. Jedem. Wort. Ein. Punkt. #tddl\n"
     ]
    },
    {
     "name": "stderr",
     "output_type": "stream",
     "text": [
      "\r",
      "  9%|▉         | 75/830 [02:51<28:33,  2.27s/it]"
     ]
    },
    {
     "name": "stdout",
     "output_type": "stream",
     "text": [
      "1144156776591437825\n",
      "Tweet fetched:  Die erste Person im Publikum sieht aus, als ob sie schläft. Fühl ich.  Fühl ich sehr. #tddl\n"
     ]
    },
    {
     "name": "stderr",
     "output_type": "stream",
     "text": [
      "\r",
      "  9%|▉         | 76/830 [02:53<29:09,  2.32s/it]"
     ]
    },
    {
     "name": "stdout",
     "output_type": "stream",
     "text": [
      "1144156780131422208\n",
      "Tweet fetched:  \"Emilia\" hieß der Text, mit dem ich mich beworben habe für diese #tddl\"\n",
      "Hah!\n",
      "Wusste ja nicht, dass es schon einen gab.\n"
     ]
    },
    {
     "name": "stderr",
     "output_type": "stream",
     "text": [
      "\r",
      "  9%|▉         | 77/830 [02:56<28:53,  2.30s/it]"
     ]
    },
    {
     "name": "stdout",
     "output_type": "stream",
     "text": [
      "1144156780081111040\n",
      "Tweet fetched:  Aua. Liest wie befürchtet, mit unötigen kleinen verzögernden Pausen, die aber die Wörter nicht wichtiger machen. #tddl\n"
     ]
    },
    {
     "name": "stderr",
     "output_type": "stream",
     "text": [
      "\r",
      "  9%|▉         | 78/830 [02:58<28:39,  2.29s/it]"
     ]
    },
    {
     "name": "stdout",
     "output_type": "stream",
     "text": [
      "1144156780081111040\n",
      "Tweet fetched:  Aua. Liest wie befürchtet, mit unötigen kleinen verzögernden Pausen, die aber die Wörter nicht wichtiger machen. #tddl\n"
     ]
    },
    {
     "name": "stderr",
     "output_type": "stream",
     "text": [
      "\r",
      " 10%|▉         | 79/830 [03:01<30:01,  2.40s/it]"
     ]
    },
    {
     "name": "stdout",
     "output_type": "stream",
     "text": [
      "1144156780081111040\n",
      "Tweet fetched:  Aua. Liest wie befürchtet, mit unötigen kleinen verzögernden Pausen, die aber die Wörter nicht wichtiger machen. #tddl\n"
     ]
    },
    {
     "name": "stderr",
     "output_type": "stream",
     "text": [
      "\r",
      " 10%|▉         | 80/830 [03:03<29:26,  2.36s/it]"
     ]
    },
    {
     "name": "stdout",
     "output_type": "stream",
     "text": [
      "1144156969063845890\n",
      "Tweet fetched:  Perspektivschneise im Text #tddl\n"
     ]
    },
    {
     "name": "stderr",
     "output_type": "stream",
     "text": [
      "\r",
      " 10%|▉         | 81/830 [03:05<30:10,  2.42s/it]"
     ]
    },
    {
     "name": "stdout",
     "output_type": "stream",
     "text": [
      "1144124909926387712\n",
      "Tweet fetched:  Wann liest Kochi bei den #tddl? https://t.co/1Vyo1kiN6G\n"
     ]
    },
    {
     "name": "stderr",
     "output_type": "stream",
     "text": [
      "\r",
      " 10%|▉         | 82/830 [03:08<30:15,  2.43s/it]"
     ]
    },
    {
     "name": "stdout",
     "output_type": "stream",
     "text": [
      "1144124909926387712\n",
      "Tweet fetched:  Wann liest Kochi bei den #tddl? https://t.co/1Vyo1kiN6G\n"
     ]
    },
    {
     "name": "stderr",
     "output_type": "stream",
     "text": [
      "\r",
      " 10%|█         | 83/830 [03:10<29:36,  2.38s/it]"
     ]
    },
    {
     "name": "stdout",
     "output_type": "stream",
     "text": [
      "1144157093534060544\n",
      "Tweet fetched:  Muss immer auf die Lippen kucken 🙈🐣 #tddl #Schultens\n"
     ]
    },
    {
     "name": "stderr",
     "output_type": "stream",
     "text": [
      "\r",
      " 10%|█         | 84/830 [03:13<29:50,  2.40s/it]"
     ]
    },
    {
     "name": "stdout",
     "output_type": "stream",
     "text": [
      "1144157139428155395\n",
      "Tweet fetched:  Perspektivschneise #tddl\n"
     ]
    },
    {
     "name": "stderr",
     "output_type": "stream",
     "text": [
      "\r",
      " 10%|█         | 85/830 [03:15<29:16,  2.36s/it]"
     ]
    },
    {
     "name": "stdout",
     "output_type": "stream",
     "text": [
      "1144157162316423173\n",
      "Tweet fetched:  Diese Unart von #TDDL-Texten, Komplexität durch die Einführung von zwölftausend Namen erzielen zu wollen. #tddl19\n"
     ]
    },
    {
     "name": "stderr",
     "output_type": "stream",
     "text": [
      "\r",
      " 10%|█         | 86/830 [03:17<28:49,  2.32s/it]"
     ]
    },
    {
     "name": "stdout",
     "output_type": "stream",
     "text": [
      "1144157162316423173\n",
      "Tweet fetched:  Diese Unart von #TDDL-Texten, Komplexität durch die Einführung von zwölftausend Namen erzielen zu wollen. #tddl19\n"
     ]
    },
    {
     "name": "stderr",
     "output_type": "stream",
     "text": [
      "\r",
      " 10%|█         | 87/830 [03:19<28:32,  2.30s/it]"
     ]
    },
    {
     "name": "stdout",
     "output_type": "stream",
     "text": [
      "1144157185808764928\n",
      "Tweet fetched:  Schade, dass Burkhard Spinnen nicht mehr in der Jury ist. Er würde gleich erklären, dass er auch mal in der Ukraine war. #tddl\n"
     ]
    },
    {
     "name": "stderr",
     "output_type": "stream",
     "text": [
      "\r",
      " 11%|█         | 88/830 [03:22<28:18,  2.29s/it]"
     ]
    },
    {
     "name": "stdout",
     "output_type": "stream",
     "text": [
      "1144157253513220096\n",
      "Tweet fetched:  Höre als werktätiger Literaturredakteur nur mit halbem Ohr, aber geht es jetzt auch bei #tddl um Vielehe?\n"
     ]
    },
    {
     "name": "stderr",
     "output_type": "stream",
     "text": [
      "\r",
      " 11%|█         | 89/830 [03:24<28:11,  2.28s/it]"
     ]
    },
    {
     "name": "stdout",
     "output_type": "stream",
     "text": [
      "1144157258655457280\n",
      "Tweet fetched:  Aber gute Fragen, \"Was ist eine Emilia?\", ein kleiner feiner Trick mit dem \"ein\". #tddl\n"
     ]
    },
    {
     "name": "stderr",
     "output_type": "stream",
     "text": [
      "\r",
      " 11%|█         | 90/830 [03:26<28:03,  2.28s/it]"
     ]
    },
    {
     "name": "stdout",
     "output_type": "stream",
     "text": [
      "1144157280570621952\n",
      "Tweet fetched:  Die Vögel sind besser zu hören als sie und jetzt noch nen Rasenmäher, und jetzt kein Text zum mitlesen 😒 ich verstehe gar nichts #tddl\n"
     ]
    },
    {
     "name": "stderr",
     "output_type": "stream",
     "text": [
      "\r",
      " 11%|█         | 91/830 [03:28<27:56,  2.27s/it]"
     ]
    },
    {
     "name": "stdout",
     "output_type": "stream",
     "text": [
      "1144157280570621952\n",
      "Tweet fetched:  Die Vögel sind besser zu hören als sie und jetzt noch nen Rasenmäher, und jetzt kein Text zum mitlesen 😒 ich verstehe gar nichts #tddl\n"
     ]
    },
    {
     "name": "stderr",
     "output_type": "stream",
     "text": [
      "\r",
      " 11%|█         | 92/830 [03:31<27:51,  2.26s/it]"
     ]
    },
    {
     "name": "stdout",
     "output_type": "stream",
     "text": [
      "1144157289441615872\n",
      "Tweet fetched:  Trend „spekulative Waldprosa“ #tddl\n"
     ]
    },
    {
     "name": "stderr",
     "output_type": "stream",
     "text": [
      "\r",
      " 11%|█         | 93/830 [03:33<27:43,  2.26s/it]"
     ]
    },
    {
     "name": "stdout",
     "output_type": "stream",
     "text": [
      "1144157360669306881\n",
      "Tweet fetched:  ich mag die kameraführung  bei #tddl. nah und doch so fern.\n"
     ]
    },
    {
     "name": "stderr",
     "output_type": "stream",
     "text": [
      "\r",
      " 11%|█▏        | 94/830 [03:35<27:38,  2.25s/it]"
     ]
    },
    {
     "name": "stdout",
     "output_type": "stream",
     "text": [
      "1144157477405171712\n",
      "Tweet fetched:  Pluspunkt für Verwendung des Wortes \"Puschelpelz\" #katharinaschultens #tddl\n"
     ]
    },
    {
     "name": "stderr",
     "output_type": "stream",
     "text": [
      "\r",
      " 11%|█▏        | 95/830 [03:37<27:36,  2.25s/it]"
     ]
    },
    {
     "name": "stdout",
     "output_type": "stream",
     "text": [
      "1144157523576012801\n",
      "Tweet fetched:  Puschelpelz und Hühnerkacke. Das bleibt hängen von der ersten Lesung, glaube ich. #tddl\n"
     ]
    },
    {
     "name": "stderr",
     "output_type": "stream",
     "text": [
      "\r",
      " 12%|█▏        | 96/830 [03:40<27:34,  2.25s/it]"
     ]
    },
    {
     "name": "stdout",
     "output_type": "stream",
     "text": [
      "1144157523576012801\n",
      "Tweet fetched:  Puschelpelz und Hühnerkacke. Das bleibt hängen von der ersten Lesung, glaube ich. #tddl\n"
     ]
    },
    {
     "name": "stderr",
     "output_type": "stream",
     "text": [
      "\r",
      " 12%|█▏        | 97/830 [03:42<27:32,  2.25s/it]"
     ]
    },
    {
     "name": "stdout",
     "output_type": "stream",
     "text": [
      "1144157758138257409\n",
      "Tweet fetched:  warum mAria? #tddl\n"
     ]
    },
    {
     "name": "stderr",
     "output_type": "stream",
     "text": [
      "\r",
      " 12%|█▏        | 98/830 [03:44<28:12,  2.31s/it]"
     ]
    },
    {
     "name": "stdout",
     "output_type": "stream",
     "text": [
      "1144157771891445760\n",
      "Tweet fetched:  Puschelpelz in der Sonne. &lt;3 \n",
      "\n",
      "Mir mangelt es noch stark an Konzentration, aber an Puschel und Hühnerkacke (*skandier*) kommt auch mein Hirn nicht vorbei. \n",
      "\n",
      "#tddl\n"
     ]
    },
    {
     "name": "stderr",
     "output_type": "stream",
     "text": [
      "\r",
      " 12%|█▏        | 99/830 [03:47<27:55,  2.29s/it]"
     ]
    },
    {
     "name": "stdout",
     "output_type": "stream",
     "text": [
      "1144157771891445760\n",
      "Tweet fetched:  Puschelpelz in der Sonne. &lt;3 \n",
      "\n",
      "Mir mangelt es noch stark an Konzentration, aber an Puschel und Hühnerkacke (*skandier*) kommt auch mein Hirn nicht vorbei. \n",
      "\n",
      "#tddl\n"
     ]
    },
    {
     "name": "stderr",
     "output_type": "stream",
     "text": [
      "\r",
      " 12%|█▏        | 100/830 [03:49<27:48,  2.29s/it]"
     ]
    },
    {
     "name": "stdout",
     "output_type": "stream",
     "text": [
      "1144130036380962817\n",
      "Tweet fetched:  irgendwie südländisch hier, die balkone. moijn. #tddl https://t.co/kJKphWOPbP\n"
     ]
    },
    {
     "name": "stderr",
     "output_type": "stream",
     "text": [
      "\r",
      " 12%|█▏        | 101/830 [03:51<27:39,  2.28s/it]"
     ]
    },
    {
     "name": "stdout",
     "output_type": "stream",
     "text": [
      "1144157782985363461\n",
      "Tweet fetched:  Bislang ein Text von der Art »Wir haben noch keinen Preisträger gehört« #tddl\n"
     ]
    },
    {
     "name": "stderr",
     "output_type": "stream",
     "text": [
      "\r",
      " 12%|█▏        | 102/830 [03:53<27:33,  2.27s/it]"
     ]
    },
    {
     "name": "stdout",
     "output_type": "stream",
     "text": [
      "1144157897309532160\n",
      "Tweet fetched:  \"Sie ist eine von fünf Menschen ohne Schwanz im Raum.\" \n",
      "\n",
      "Wurde kurz wach...\n",
      "\n",
      "und gleich nochmal...ist der Text vielleicht witziger als er scheint? #tddl\n"
     ]
    },
    {
     "name": "stderr",
     "output_type": "stream",
     "text": [
      "\r",
      " 12%|█▏        | 103/830 [03:56<27:36,  2.28s/it]"
     ]
    },
    {
     "name": "stdout",
     "output_type": "stream",
     "text": [
      "1144157897309532160\n",
      "Tweet fetched:  \"Sie ist eine von fünf Menschen ohne Schwanz im Raum.\" \n",
      "\n",
      "Wurde kurz wach...\n",
      "\n",
      "und gleich nochmal...ist der Text vielleicht witziger als er scheint? #tddl\n"
     ]
    },
    {
     "name": "stderr",
     "output_type": "stream",
     "text": [
      "\r",
      " 13%|█▎        | 104/830 [03:58<27:29,  2.27s/it]"
     ]
    },
    {
     "name": "stdout",
     "output_type": "stream",
     "text": [
      "1144157966297370624\n",
      "Tweet fetched:  Katharina Schultens ist eine sehr gute Lyrikerin - und eigentlich müsste sich der Stil gut in Prosa übertragen lassen. Aber das hier ist nichts, stilistisch. Der Text wird relativ banal vorwärts geschoben. #tddl\n"
     ]
    },
    {
     "name": "stderr",
     "output_type": "stream",
     "text": [
      "\r",
      " 13%|█▎        | 105/830 [04:00<27:55,  2.31s/it]"
     ]
    },
    {
     "name": "stdout",
     "output_type": "stream",
     "text": [
      "1144157966297370624\n",
      "Tweet fetched:  Katharina Schultens ist eine sehr gute Lyrikerin - und eigentlich müsste sich der Stil gut in Prosa übertragen lassen. Aber das hier ist nichts, stilistisch. Der Text wird relativ banal vorwärts geschoben. #tddl\n"
     ]
    },
    {
     "name": "stderr",
     "output_type": "stream",
     "text": [
      "\r",
      " 13%|█▎        | 106/830 [04:03<27:44,  2.30s/it]"
     ]
    },
    {
     "name": "stdout",
     "output_type": "stream",
     "text": [
      "1144157966297370624\n",
      "Tweet fetched:  Katharina Schultens ist eine sehr gute Lyrikerin - und eigentlich müsste sich der Stil gut in Prosa übertragen lassen. Aber das hier ist nichts, stilistisch. Der Text wird relativ banal vorwärts geschoben. #tddl\n"
     ]
    },
    {
     "name": "stderr",
     "output_type": "stream",
     "text": [
      "\r",
      " 13%|█▎        | 107/830 [04:05<27:31,  2.28s/it]"
     ]
    },
    {
     "name": "stdout",
     "output_type": "stream",
     "text": [
      "1144157966297370624\n",
      "Tweet fetched:  Katharina Schultens ist eine sehr gute Lyrikerin - und eigentlich müsste sich der Stil gut in Prosa übertragen lassen. Aber das hier ist nichts, stilistisch. Der Text wird relativ banal vorwärts geschoben. #tddl\n"
     ]
    },
    {
     "name": "stderr",
     "output_type": "stream",
     "text": [
      "\r",
      " 13%|█▎        | 108/830 [04:07<27:24,  2.28s/it]"
     ]
    },
    {
     "name": "stdout",
     "output_type": "stream",
     "text": [
      "1144157981501792256\n",
      "Tweet fetched:  \"Alle hören sehr genau zu.\" Nein. Ich habe damit schon aufgehört. Schwurbeliger Nervtext. #tddl\n"
     ]
    },
    {
     "name": "stderr",
     "output_type": "stream",
     "text": [
      "\r",
      " 13%|█▎        | 109/830 [04:09<27:17,  2.27s/it]"
     ]
    },
    {
     "name": "stdout",
     "output_type": "stream",
     "text": [
      "1144157981501792256\n",
      "Tweet fetched:  \"Alle hören sehr genau zu.\" Nein. Ich habe damit schon aufgehört. Schwurbeliger Nervtext. #tddl\n"
     ]
    },
    {
     "name": "stderr",
     "output_type": "stream",
     "text": [
      "\r",
      " 13%|█▎        | 110/830 [04:12<27:14,  2.27s/it]"
     ]
    },
    {
     "name": "stdout",
     "output_type": "stream",
     "text": [
      "1144158000573243392\n",
      "Tweet fetched:  @schwarzblond @TillRaether @derwahremawa finde ich auch sehr beeindruckend. aber ich schaue jetzt auch um viertel nach 10 tv...#tddl\n"
     ]
    },
    {
     "name": "stderr",
     "output_type": "stream",
     "text": [
      "\r",
      " 13%|█▎        | 111/830 [04:14<27:21,  2.28s/it]"
     ]
    },
    {
     "name": "stdout",
     "output_type": "stream",
     "text": [
      "1144158056005197824\n",
      "Tweet fetched:  Und bevor das nachher wieder eskaliert, es ist möglich, die #tddl zu sehen und die Autor*innen nicht bloßzustellen, sie nicht lächerlich zu machen. Ich werde meine zynischen Kommentare voll auf die Jury kanalisieren heute. Auch hier gilt - nach unten treten ist eher so mäh.\n"
     ]
    },
    {
     "name": "stderr",
     "output_type": "stream",
     "text": [
      "\r",
      " 13%|█▎        | 112/830 [04:16<27:10,  2.27s/it]"
     ]
    },
    {
     "name": "stdout",
     "output_type": "stream",
     "text": [
      "1144158056005197824\n",
      "Tweet fetched:  Und bevor das nachher wieder eskaliert, es ist möglich, die #tddl zu sehen und die Autor*innen nicht bloßzustellen, sie nicht lächerlich zu machen. Ich werde meine zynischen Kommentare voll auf die Jury kanalisieren heute. Auch hier gilt - nach unten treten ist eher so mäh.\n"
     ]
    },
    {
     "name": "stderr",
     "output_type": "stream",
     "text": [
      "\r",
      " 14%|█▎        | 113/830 [04:18<27:05,  2.27s/it]"
     ]
    },
    {
     "name": "stdout",
     "output_type": "stream",
     "text": [
      "1144158056005197824\n",
      "Tweet fetched:  Und bevor das nachher wieder eskaliert, es ist möglich, die #tddl zu sehen und die Autor*innen nicht bloßzustellen, sie nicht lächerlich zu machen. Ich werde meine zynischen Kommentare voll auf die Jury kanalisieren heute. Auch hier gilt - nach unten treten ist eher so mäh.\n"
     ]
    },
    {
     "name": "stderr",
     "output_type": "stream",
     "text": [
      "\r",
      " 14%|█▎        | 114/830 [04:21<26:59,  2.26s/it]"
     ]
    },
    {
     "name": "stdout",
     "output_type": "stream",
     "text": [
      "1144158056005197824\n",
      "Tweet fetched:  Und bevor das nachher wieder eskaliert, es ist möglich, die #tddl zu sehen und die Autor*innen nicht bloßzustellen, sie nicht lächerlich zu machen. Ich werde meine zynischen Kommentare voll auf die Jury kanalisieren heute. Auch hier gilt - nach unten treten ist eher so mäh.\n"
     ]
    },
    {
     "name": "stderr",
     "output_type": "stream",
     "text": [
      "\r",
      " 14%|█▍        | 115/830 [04:23<27:37,  2.32s/it]"
     ]
    },
    {
     "name": "stdout",
     "output_type": "stream",
     "text": [
      "1144158056005197824\n",
      "Tweet fetched:  Und bevor das nachher wieder eskaliert, es ist möglich, die #tddl zu sehen und die Autor*innen nicht bloßzustellen, sie nicht lächerlich zu machen. Ich werde meine zynischen Kommentare voll auf die Jury kanalisieren heute. Auch hier gilt - nach unten treten ist eher so mäh.\n"
     ]
    },
    {
     "name": "stderr",
     "output_type": "stream",
     "text": [
      "\r",
      " 14%|█▍        | 116/830 [04:25<27:33,  2.32s/it]"
     ]
    },
    {
     "name": "stdout",
     "output_type": "stream",
     "text": [
      "1144158097180692482\n",
      "Tweet fetched:  Einige Besucher nutzen den Text als Fächer. Wahrscheinlich das Beste, was man damit machen kann. #tddl\n"
     ]
    },
    {
     "name": "stderr",
     "output_type": "stream",
     "text": [
      "\r",
      " 14%|█▍        | 117/830 [04:28<27:17,  2.30s/it]"
     ]
    },
    {
     "name": "stdout",
     "output_type": "stream",
     "text": [
      "1144158135252393984\n",
      "Tweet fetched:  Spekulativer Roman mit ganz viel Schwanz. #tddl\n"
     ]
    },
    {
     "name": "stderr",
     "output_type": "stream",
     "text": [
      "\r",
      " 14%|█▍        | 118/830 [04:30<27:08,  2.29s/it]"
     ]
    },
    {
     "name": "stdout",
     "output_type": "stream",
     "text": [
      "1144158192634597376\n",
      "Tweet fetched:  #tddl\n",
      "Interessante Starterin aus Berlin... aber jetzt schhhhhht - zuhören!!!\n"
     ]
    },
    {
     "name": "stderr",
     "output_type": "stream",
     "text": [
      "\r",
      " 14%|█▍        | 119/830 [04:32<26:58,  2.28s/it]"
     ]
    },
    {
     "name": "stdout",
     "output_type": "stream",
     "text": [
      "1144131695072952322\n",
      "Tweet fetched:  Großartiges Photo, großartige Bildunterschrift. #tddl https://t.co/CFjO2OoAvL\n"
     ]
    },
    {
     "name": "stderr",
     "output_type": "stream",
     "text": [
      "\r",
      " 14%|█▍        | 120/830 [04:34<26:52,  2.27s/it]"
     ]
    },
    {
     "name": "stdout",
     "output_type": "stream",
     "text": [
      "1144131695072952322\n",
      "Tweet fetched:  Großartiges Photo, großartige Bildunterschrift. #tddl https://t.co/CFjO2OoAvL\n"
     ]
    },
    {
     "name": "stderr",
     "output_type": "stream",
     "text": [
      "\r",
      " 15%|█▍        | 121/830 [04:37<26:52,  2.27s/it]"
     ]
    },
    {
     "name": "stdout",
     "output_type": "stream",
     "text": [
      "1144158227506114562\n",
      "Tweet fetched:  Gute Sätze, wenn mans liest und nicht in diesem Valium-Lesetempo hört. Aber irgendwie erschließt sich mir nicht, wie die guten Sätze zusammengehören. #tddl\n"
     ]
    },
    {
     "name": "stderr",
     "output_type": "stream",
     "text": [
      "\r",
      " 15%|█▍        | 122/830 [04:39<26:47,  2.27s/it]"
     ]
    },
    {
     "name": "stdout",
     "output_type": "stream",
     "text": [
      "1144158227506114562\n",
      "Tweet fetched:  Gute Sätze, wenn mans liest und nicht in diesem Valium-Lesetempo hört. Aber irgendwie erschließt sich mir nicht, wie die guten Sätze zusammengehören. #tddl\n"
     ]
    },
    {
     "name": "stderr",
     "output_type": "stream",
     "text": [
      "\r",
      " 15%|█▍        | 123/830 [04:41<27:01,  2.29s/it]"
     ]
    },
    {
     "name": "stdout",
     "output_type": "stream",
     "text": [
      "1144158227506114562\n",
      "Tweet fetched:  Gute Sätze, wenn mans liest und nicht in diesem Valium-Lesetempo hört. Aber irgendwie erschließt sich mir nicht, wie die guten Sätze zusammengehören. #tddl\n"
     ]
    },
    {
     "name": "stderr",
     "output_type": "stream",
     "text": [
      "\r",
      " 15%|█▍        | 124/830 [04:44<26:51,  2.28s/it]"
     ]
    },
    {
     "name": "stdout",
     "output_type": "stream",
     "text": [
      "1144158227506114562\n",
      "Tweet fetched:  Gute Sätze, wenn mans liest und nicht in diesem Valium-Lesetempo hört. Aber irgendwie erschließt sich mir nicht, wie die guten Sätze zusammengehören. #tddl\n"
     ]
    },
    {
     "name": "stderr",
     "output_type": "stream",
     "text": [
      "\r",
      " 15%|█▌        | 125/830 [04:46<26:43,  2.27s/it]"
     ]
    },
    {
     "name": "stdout",
     "output_type": "stream",
     "text": [
      "1144158227506114562\n",
      "Tweet fetched:  Gute Sätze, wenn mans liest und nicht in diesem Valium-Lesetempo hört. Aber irgendwie erschließt sich mir nicht, wie die guten Sätze zusammengehören. #tddl\n"
     ]
    },
    {
     "name": "stderr",
     "output_type": "stream",
     "text": [
      "\r",
      " 15%|█▌        | 126/830 [04:48<26:34,  2.27s/it]"
     ]
    },
    {
     "name": "stdout",
     "output_type": "stream",
     "text": [
      "1144158553822892032\n",
      "Tweet fetched:  Der Schultens-Text klingt ein bisschen so, als hätte sie versucht, ein Aichinger-Gedicht in einen Roman zu übersetzen und dann sehr viele Namen eingebaut, weil in Romane ja viele Leute vorkommen  #tddl\n"
     ]
    },
    {
     "name": "stderr",
     "output_type": "stream",
     "text": [
      "\r",
      " 15%|█▌        | 127/830 [04:50<26:34,  2.27s/it]"
     ]
    },
    {
     "name": "stdout",
     "output_type": "stream",
     "text": [
      "1144158553822892032\n",
      "Tweet fetched:  Der Schultens-Text klingt ein bisschen so, als hätte sie versucht, ein Aichinger-Gedicht in einen Roman zu übersetzen und dann sehr viele Namen eingebaut, weil in Romane ja viele Leute vorkommen  #tddl\n"
     ]
    },
    {
     "name": "stderr",
     "output_type": "stream",
     "text": [
      "\r",
      " 15%|█▌        | 128/830 [04:53<26:30,  2.27s/it]"
     ]
    },
    {
     "name": "stdout",
     "output_type": "stream",
     "text": [
      "1144158553822892032\n",
      "Tweet fetched:  Der Schultens-Text klingt ein bisschen so, als hätte sie versucht, ein Aichinger-Gedicht in einen Roman zu übersetzen und dann sehr viele Namen eingebaut, weil in Romane ja viele Leute vorkommen  #tddl\n"
     ]
    },
    {
     "name": "stderr",
     "output_type": "stream",
     "text": [
      "\r",
      " 16%|█▌        | 129/830 [04:55<26:25,  2.26s/it]"
     ]
    },
    {
     "name": "stdout",
     "output_type": "stream",
     "text": [
      "1144158630167678977\n",
      "Tweet fetched:  Der Text wird von der Autorin leider etwas ins Lethargische gelesen. #tddl\n"
     ]
    },
    {
     "name": "stderr",
     "output_type": "stream",
     "text": [
      "\r",
      " 16%|█▌        | 130/830 [04:57<26:20,  2.26s/it]"
     ]
    },
    {
     "name": "stdout",
     "output_type": "stream",
     "text": [
      "1144158696978731009\n",
      "Tweet fetched:  endlich wieder buchmannpreis #tddl\n"
     ]
    },
    {
     "name": "stderr",
     "output_type": "stream",
     "text": [
      "\r",
      " 16%|█▌        | 131/830 [05:00<27:10,  2.33s/it]"
     ]
    },
    {
     "name": "stdout",
     "output_type": "stream",
     "text": [
      "1144158716067033088\n",
      "Tweet fetched:  Feministisches Kyrie eleison? #tddl\n"
     ]
    },
    {
     "name": "stderr",
     "output_type": "stream",
     "text": [
      "\r",
      " 16%|█▌        | 132/830 [05:02<27:43,  2.38s/it]"
     ]
    },
    {
     "name": "stdout",
     "output_type": "stream",
     "text": [
      "1144158754994307072\n",
      "Tweet fetched:  Kaum fangen die #tddl an, wollen plötzlich alle was von mir. So wird das nix mit dem Literaturlaub. :(\n"
     ]
    },
    {
     "name": "stderr",
     "output_type": "stream",
     "text": [
      "\r",
      " 16%|█▌        | 133/830 [05:04<27:14,  2.34s/it]"
     ]
    },
    {
     "name": "stdout",
     "output_type": "stream",
     "text": [
      "1144158861177364480\n",
      "Tweet fetched:  Ich mag ihre Wörter, ihre Sätze. Vielleicht möchte ich ihre Lyrik nochmal sehen. #katharinaschultens #tddl\n"
     ]
    },
    {
     "name": "stderr",
     "output_type": "stream",
     "text": [
      "\r",
      " 16%|█▌        | 134/830 [05:07<26:55,  2.32s/it]"
     ]
    },
    {
     "name": "stdout",
     "output_type": "stream",
     "text": [
      "1144158912175845376\n",
      "Tweet fetched:  Unverkennbar #Bachmannpreis: das kollektive Publikum-blättert-um-Geräusch.  #tddl #tddl19 https://t.co/Bx1Vfvx1mz\n"
     ]
    },
    {
     "name": "stderr",
     "output_type": "stream",
     "text": [
      "\r",
      " 16%|█▋        | 135/830 [05:09<26:41,  2.30s/it]"
     ]
    },
    {
     "name": "stdout",
     "output_type": "stream",
     "text": [
      "1144158912175845376\n",
      "Tweet fetched:  Unverkennbar #Bachmannpreis: das kollektive Publikum-blättert-um-Geräusch.  #tddl #tddl19 https://t.co/Bx1Vfvx1mz\n"
     ]
    },
    {
     "name": "stderr",
     "output_type": "stream",
     "text": [
      "\r",
      " 16%|█▋        | 136/830 [05:11<26:27,  2.29s/it]"
     ]
    },
    {
     "name": "stdout",
     "output_type": "stream",
     "text": [
      "1144158939308789761\n",
      "Tweet fetched:  Das Video war furchtbar und der Text nervt beim Zuhören. Erstaunlich: wenn man ihn liest, wird er besser. #tddl\n"
     ]
    },
    {
     "name": "stderr",
     "output_type": "stream",
     "text": [
      "\r",
      " 17%|█▋        | 137/830 [05:14<26:53,  2.33s/it]"
     ]
    },
    {
     "name": "stdout",
     "output_type": "stream",
     "text": [
      "1144158939308789761\n",
      "Tweet fetched:  Das Video war furchtbar und der Text nervt beim Zuhören. Erstaunlich: wenn man ihn liest, wird er besser. #tddl\n"
     ]
    },
    {
     "name": "stderr",
     "output_type": "stream",
     "text": [
      "\r",
      " 17%|█▋        | 138/830 [05:16<26:34,  2.30s/it]"
     ]
    },
    {
     "name": "stdout",
     "output_type": "stream",
     "text": [
      "1144158939308789761\n",
      "Tweet fetched:  Das Video war furchtbar und der Text nervt beim Zuhören. Erstaunlich: wenn man ihn liest, wird er besser. #tddl\n"
     ]
    },
    {
     "name": "stderr",
     "output_type": "stream",
     "text": [
      "\r",
      " 17%|█▋        | 139/830 [05:18<26:18,  2.29s/it]"
     ]
    },
    {
     "name": "stdout",
     "output_type": "stream",
     "text": [
      "1144158939308789761\n",
      "Tweet fetched:  Das Video war furchtbar und der Text nervt beim Zuhören. Erstaunlich: wenn man ihn liest, wird er besser. #tddl\n"
     ]
    },
    {
     "name": "stderr",
     "output_type": "stream",
     "text": [
      "\r",
      " 17%|█▋        | 140/830 [05:20<26:10,  2.28s/it]"
     ]
    },
    {
     "name": "stdout",
     "output_type": "stream",
     "text": [
      "1144159041972842496\n",
      "Tweet fetched:  Ich wünsche mir eine Bildergalerie der zuhörender Klagenfurter Schüler, die hier zuhören müssen. #tddl\n"
     ]
    },
    {
     "name": "stderr",
     "output_type": "stream",
     "text": [
      "\r",
      " 17%|█▋        | 141/830 [05:23<26:28,  2.31s/it]"
     ]
    },
    {
     "name": "stdout",
     "output_type": "stream",
     "text": [
      "1144159040181854208\n",
      "Tweet fetched:  also - da ist doch mal ein einstieg von katharina schultens - erinnert mich an den report der magd - okay marginal #schultens #bachmannpreis #tddl\n"
     ]
    },
    {
     "name": "stderr",
     "output_type": "stream",
     "text": [
      "\r",
      " 17%|█▋        | 142/830 [05:25<26:56,  2.35s/it]"
     ]
    },
    {
     "name": "stdout",
     "output_type": "stream",
     "text": [
      "1144159040181854208\n",
      "Tweet fetched:  also - da ist doch mal ein einstieg von katharina schultens - erinnert mich an den report der magd - okay marginal #schultens #bachmannpreis #tddl\n"
     ]
    },
    {
     "name": "stderr",
     "output_type": "stream",
     "text": [
      "\r",
      " 17%|█▋        | 143/830 [05:28<26:55,  2.35s/it]"
     ]
    },
    {
     "name": "stdout",
     "output_type": "stream",
     "text": [
      "1144159040181854208\n",
      "Tweet fetched:  also - da ist doch mal ein einstieg von katharina schultens - erinnert mich an den report der magd - okay marginal #schultens #bachmannpreis #tddl\n"
     ]
    },
    {
     "name": "stderr",
     "output_type": "stream",
     "text": [
      "\r",
      " 17%|█▋        | 144/830 [05:30<26:33,  2.32s/it]"
     ]
    },
    {
     "name": "stdout",
     "output_type": "stream",
     "text": [
      "1144159040181854208\n",
      "Tweet fetched:  also - da ist doch mal ein einstieg von katharina schultens - erinnert mich an den report der magd - okay marginal #schultens #bachmannpreis #tddl\n"
     ]
    },
    {
     "name": "stderr",
     "output_type": "stream",
     "text": [
      "\r",
      " 17%|█▋        | 145/830 [05:32<26:14,  2.30s/it]"
     ]
    },
    {
     "name": "stdout",
     "output_type": "stream",
     "text": [
      "1144159040181854208\n",
      "Tweet fetched:  also - da ist doch mal ein einstieg von katharina schultens - erinnert mich an den report der magd - okay marginal #schultens #bachmannpreis #tddl\n"
     ]
    },
    {
     "name": "stderr",
     "output_type": "stream",
     "text": [
      "\r",
      " 18%|█▊        | 146/830 [05:34<26:02,  2.28s/it]"
     ]
    },
    {
     "name": "stdout",
     "output_type": "stream",
     "text": [
      "1144159114647527425\n",
      "Tweet fetched:  #tddl\n",
      "\n",
      "Krampfhaft, sachlich, nüchtern, melodramatisch ...\n",
      "\n",
      "So irgendwie.\n"
     ]
    },
    {
     "name": "stderr",
     "output_type": "stream",
     "text": [
      "\r",
      " 18%|█▊        | 147/830 [05:37<25:51,  2.27s/it]"
     ]
    },
    {
     "name": "stdout",
     "output_type": "stream",
     "text": [
      "1144159114647527425\n",
      "Tweet fetched:  #tddl\n",
      "\n",
      "Krampfhaft, sachlich, nüchtern, melodramatisch ...\n",
      "\n",
      "So irgendwie.\n"
     ]
    },
    {
     "name": "stderr",
     "output_type": "stream",
     "text": [
      "\r",
      " 18%|█▊        | 148/830 [05:39<25:44,  2.26s/it]"
     ]
    },
    {
     "name": "stdout",
     "output_type": "stream",
     "text": [
      "1144159216426455040\n",
      "Tweet fetched:  Ich sehe durchaus, was sie mit dem Text versucht, aber leider ist das sprachlich nicht konsequent umgesetzt #tddl\n"
     ]
    },
    {
     "name": "stderr",
     "output_type": "stream",
     "text": [
      "\r",
      " 18%|█▊        | 149/830 [05:41<25:39,  2.26s/it]"
     ]
    },
    {
     "name": "stdout",
     "output_type": "stream",
     "text": [
      "1144159216426455040\n",
      "Tweet fetched:  Ich sehe durchaus, was sie mit dem Text versucht, aber leider ist das sprachlich nicht konsequent umgesetzt #tddl\n"
     ]
    },
    {
     "name": "stderr",
     "output_type": "stream",
     "text": [
      "\r",
      " 18%|█▊        | 150/830 [05:43<25:35,  2.26s/it]"
     ]
    },
    {
     "name": "stdout",
     "output_type": "stream",
     "text": [
      "1144159328909385729\n",
      "Tweet fetched:  geil wie viele #tddl-Twitterer auf einmal bekannten, bei den Worten Schwanz und Hühnerkacke aufgemerkt zu haben, bitte vergesst nie euer inneres Kind Leude\n"
     ]
    },
    {
     "name": "stderr",
     "output_type": "stream",
     "text": [
      "\r",
      " 18%|█▊        | 151/830 [05:46<25:33,  2.26s/it]"
     ]
    },
    {
     "name": "stdout",
     "output_type": "stream",
     "text": [
      "1144159328909385729\n",
      "Tweet fetched:  geil wie viele #tddl-Twitterer auf einmal bekannten, bei den Worten Schwanz und Hühnerkacke aufgemerkt zu haben, bitte vergesst nie euer inneres Kind Leude\n"
     ]
    },
    {
     "name": "stderr",
     "output_type": "stream",
     "text": [
      "\r",
      " 18%|█▊        | 152/830 [05:48<25:32,  2.26s/it]"
     ]
    },
    {
     "name": "stdout",
     "output_type": "stream",
     "text": [
      "1144159541745131521\n",
      "Tweet fetched:  Da sind grandios verhauende Sätze im Text. Hat das denn vorher keiner lektoriert? #tddl\n"
     ]
    },
    {
     "name": "stderr",
     "output_type": "stream",
     "text": [
      "\r",
      " 18%|█▊        | 153/830 [05:50<25:52,  2.29s/it]"
     ]
    },
    {
     "name": "stdout",
     "output_type": "stream",
     "text": [
      "1144132915099516929\n",
      "Tweet fetched:  Zeilenauf und -ab ein großes \"Hey!\" Er hat noch nichts veröffentlicht, keine Stipendien oder Preise erhalten.\" Dagegen das Teilnahmeparagräphchen: \"Für die Bewerbung ist es notwendig, von einem Verlag oder einer Literaturzeitschrift schriftlich empfohlen zu werden.\"#gehtdas #tddl\n"
     ]
    },
    {
     "name": "stderr",
     "output_type": "stream",
     "text": [
      "\r",
      " 19%|█▊        | 154/830 [05:52<25:40,  2.28s/it]"
     ]
    },
    {
     "name": "stdout",
     "output_type": "stream",
     "text": [
      "1144132915099516929\n",
      "Tweet fetched:  Zeilenauf und -ab ein großes \"Hey!\" Er hat noch nichts veröffentlicht, keine Stipendien oder Preise erhalten.\" Dagegen das Teilnahmeparagräphchen: \"Für die Bewerbung ist es notwendig, von einem Verlag oder einer Literaturzeitschrift schriftlich empfohlen zu werden.\"#gehtdas #tddl\n"
     ]
    },
    {
     "name": "stderr",
     "output_type": "stream",
     "text": [
      "\r",
      " 19%|█▊        | 155/830 [05:55<25:55,  2.30s/it]"
     ]
    },
    {
     "name": "stdout",
     "output_type": "stream",
     "text": [
      "1144159570954248192\n",
      "Tweet fetched:  Chip Delany hat mal geschrieben dass das Schreiben von spec fic die Möglichkeiten der Sprache erweitert. Das passiert bei Schultens nicht - ihr Text ist sprachlich ärmer als ihre Lyrik. Überhaupt - #tddl #tddl19\n"
     ]
    },
    {
     "name": "stderr",
     "output_type": "stream",
     "text": [
      "\r",
      " 19%|█▉        | 156/830 [05:57<25:42,  2.29s/it]"
     ]
    },
    {
     "name": "stdout",
     "output_type": "stream",
     "text": [
      "1144159659227516928\n",
      "Tweet fetched:  Jetzt nach Std endlich den Text auf dem Tablet, aber ich finde keinen Anschluss und bin jetzt schon massiv genervt 😡 #tddl\n"
     ]
    },
    {
     "name": "stderr",
     "output_type": "stream",
     "text": [
      "\r",
      " 19%|█▉        | 157/830 [05:59<25:36,  2.28s/it]"
     ]
    },
    {
     "name": "stdout",
     "output_type": "stream",
     "text": [
      "1144159675333713920\n",
      "Tweet fetched:  Hoffentlich wird in der Jurydiskussion nicht die Schwangerschaft der Autorin thematisiert. #Schultens #tddl\n"
     ]
    },
    {
     "name": "stderr",
     "output_type": "stream",
     "text": [
      "\r",
      " 19%|█▉        | 158/830 [06:02<26:34,  2.37s/it]"
     ]
    },
    {
     "name": "stdout",
     "output_type": "stream",
     "text": [
      "1144159745311424514\n",
      "Tweet fetched:  Wer wartet mit Besonnenheit,\n",
      "der wird belohnt zur rechten Zeit.\n",
      "\n",
      "#tddl\n"
     ]
    },
    {
     "name": "stderr",
     "output_type": "stream",
     "text": [
      "\r",
      " 19%|█▉        | 159/830 [06:04<26:08,  2.34s/it]"
     ]
    },
    {
     "name": "stdout",
     "output_type": "stream",
     "text": [
      "1144159754362728448\n",
      "Tweet fetched:  Das Gute an Klagenfurt ist unter anderem, dass ich nach einem Text wie von #Schultens lobende Rezensionen von #Wilke zukünftig getrost ignorieren kann. #tddl #tddl19\n"
     ]
    },
    {
     "name": "stderr",
     "output_type": "stream",
     "text": [
      "\r",
      " 19%|█▉        | 160/830 [06:06<25:48,  2.31s/it]"
     ]
    },
    {
     "name": "stdout",
     "output_type": "stream",
     "text": [
      "1144159754362728448\n",
      "Tweet fetched:  Das Gute an Klagenfurt ist unter anderem, dass ich nach einem Text wie von #Schultens lobende Rezensionen von #Wilke zukünftig getrost ignorieren kann. #tddl #tddl19\n"
     ]
    },
    {
     "name": "stderr",
     "output_type": "stream",
     "text": [
      "\r",
      " 19%|█▉        | 161/830 [06:09<25:36,  2.30s/it]"
     ]
    },
    {
     "name": "stdout",
     "output_type": "stream",
     "text": [
      "1144159754362728448\n",
      "Tweet fetched:  Das Gute an Klagenfurt ist unter anderem, dass ich nach einem Text wie von #Schultens lobende Rezensionen von #Wilke zukünftig getrost ignorieren kann. #tddl #tddl19\n"
     ]
    },
    {
     "name": "stderr",
     "output_type": "stream",
     "text": [
      "\r",
      " 20%|█▉        | 162/830 [06:11<25:22,  2.28s/it]"
     ]
    },
    {
     "name": "stdout",
     "output_type": "stream",
     "text": [
      "1144159767914586112\n",
      "Tweet fetched:  Ich liege krank im Bett und es ist #tddl. Bin aber gar nicht drin. Habt ihr Favs?\n"
     ]
    },
    {
     "name": "stderr",
     "output_type": "stream",
     "text": [
      "\r",
      " 20%|█▉        | 163/830 [06:13<25:13,  2.27s/it]"
     ]
    },
    {
     "name": "stdout",
     "output_type": "stream",
     "text": [
      "1144159767914586112\n",
      "Tweet fetched:  Ich liege krank im Bett und es ist #tddl. Bin aber gar nicht drin. Habt ihr Favs?\n"
     ]
    },
    {
     "name": "stderr",
     "output_type": "stream",
     "text": [
      "\r",
      " 20%|█▉        | 164/830 [06:15<25:09,  2.27s/it]"
     ]
    },
    {
     "name": "stdout",
     "output_type": "stream",
     "text": [
      "1144159773895606272\n",
      "Tweet fetched:  Schade, dass ich so eine schlechte Schriftstellerin bin, ich hätte großen Spaß, bei dem Theater mitzumachen. #tddl\n"
     ]
    },
    {
     "name": "stderr",
     "output_type": "stream",
     "text": [
      "\r",
      " 20%|█▉        | 165/830 [06:18<25:07,  2.27s/it]"
     ]
    },
    {
     "name": "stdout",
     "output_type": "stream",
     "text": [
      "1144159773895606272\n",
      "Tweet fetched:  Schade, dass ich so eine schlechte Schriftstellerin bin, ich hätte großen Spaß, bei dem Theater mitzumachen. #tddl\n"
     ]
    },
    {
     "name": "stderr",
     "output_type": "stream",
     "text": [
      "\r",
      " 20%|██        | 166/830 [06:20<25:33,  2.31s/it]"
     ]
    },
    {
     "name": "stdout",
     "output_type": "stream",
     "text": [
      "1144159773895606272\n",
      "Tweet fetched:  Schade, dass ich so eine schlechte Schriftstellerin bin, ich hätte großen Spaß, bei dem Theater mitzumachen. #tddl\n"
     ]
    },
    {
     "name": "stderr",
     "output_type": "stream",
     "text": [
      "\r",
      " 20%|██        | 167/830 [06:22<25:18,  2.29s/it]"
     ]
    },
    {
     "name": "stdout",
     "output_type": "stream",
     "text": [
      "1144159850810753024\n",
      "Tweet fetched:  Habe metadicke Pflanzen verstanden und mich kurz ein wenig gefreut #tddl\n"
     ]
    },
    {
     "name": "stderr",
     "output_type": "stream",
     "text": [
      "\r",
      " 20%|██        | 168/830 [06:25<25:08,  2.28s/it]"
     ]
    },
    {
     "name": "stdout",
     "output_type": "stream",
     "text": [
      "1144133127620763648\n",
      "Tweet fetched:  Ist Tom Kummer eigentlich ein Kayfabe-Experte? #tddl\n"
     ]
    },
    {
     "name": "stderr",
     "output_type": "stream",
     "text": [
      "\r",
      " 20%|██        | 169/830 [06:27<24:59,  2.27s/it]"
     ]
    },
    {
     "name": "stdout",
     "output_type": "stream",
     "text": [
      "1144160001545711616\n",
      "Tweet fetched:  Ich verstehe den Zusammenhang nicht. #tddl https://t.co/OOCnoGRhE2\n"
     ]
    },
    {
     "name": "stderr",
     "output_type": "stream",
     "text": [
      "\r",
      " 20%|██        | 170/830 [06:29<25:04,  2.28s/it]"
     ]
    },
    {
     "name": "stdout",
     "output_type": "stream",
     "text": [
      "1144160001545711616\n",
      "Tweet fetched:  Ich verstehe den Zusammenhang nicht. #tddl https://t.co/OOCnoGRhE2\n"
     ]
    },
    {
     "name": "stderr",
     "output_type": "stream",
     "text": [
      "\r",
      " 21%|██        | 171/830 [06:31<25:05,  2.28s/it]"
     ]
    },
    {
     "name": "stdout",
     "output_type": "stream",
     "text": [
      "1144160066414796800\n",
      "Tweet fetched:  @Wolfseule jedes jahr denke ich mir \"ach, es ist wieder #tddl und niemand hat mich eingeladen!\" und eigentlich sollte mich beides nicht wundern\n"
     ]
    },
    {
     "name": "stderr",
     "output_type": "stream",
     "text": [
      "\r",
      " 21%|██        | 172/830 [06:34<24:57,  2.28s/it]"
     ]
    },
    {
     "name": "stdout",
     "output_type": "stream",
     "text": [
      "1144160083389140993\n",
      "Tweet fetched:  Menschen, die sich in Pflanzen verwandeln, hab ich anderswo schon deutlicher beschrieben gelesen. Da ist mir zuviel Raunen und zuwenig Zusammenhang, einzelne Bilder schön, aber es ergibt kein Gesamtbild. #tddl\n"
     ]
    },
    {
     "name": "stderr",
     "output_type": "stream",
     "text": [
      "\r",
      " 21%|██        | 173/830 [06:36<24:50,  2.27s/it]"
     ]
    },
    {
     "name": "stdout",
     "output_type": "stream",
     "text": [
      "1144160083389140993\n",
      "Tweet fetched:  Menschen, die sich in Pflanzen verwandeln, hab ich anderswo schon deutlicher beschrieben gelesen. Da ist mir zuviel Raunen und zuwenig Zusammenhang, einzelne Bilder schön, aber es ergibt kein Gesamtbild. #tddl\n"
     ]
    },
    {
     "name": "stderr",
     "output_type": "stream",
     "text": [
      "\r",
      " 21%|██        | 174/830 [06:38<24:45,  2.26s/it]"
     ]
    },
    {
     "name": "stdout",
     "output_type": "stream",
     "text": [
      "1144160083389140993\n",
      "Tweet fetched:  Menschen, die sich in Pflanzen verwandeln, hab ich anderswo schon deutlicher beschrieben gelesen. Da ist mir zuviel Raunen und zuwenig Zusammenhang, einzelne Bilder schön, aber es ergibt kein Gesamtbild. #tddl\n"
     ]
    },
    {
     "name": "stderr",
     "output_type": "stream",
     "text": [
      "\r",
      " 21%|██        | 175/830 [06:40<24:42,  2.26s/it]"
     ]
    },
    {
     "name": "stdout",
     "output_type": "stream",
     "text": [
      "1144160083389140993\n",
      "Tweet fetched:  Menschen, die sich in Pflanzen verwandeln, hab ich anderswo schon deutlicher beschrieben gelesen. Da ist mir zuviel Raunen und zuwenig Zusammenhang, einzelne Bilder schön, aber es ergibt kein Gesamtbild. #tddl\n"
     ]
    },
    {
     "name": "stderr",
     "output_type": "stream",
     "text": [
      "\r",
      " 21%|██        | 176/830 [06:43<24:42,  2.27s/it]"
     ]
    },
    {
     "name": "stdout",
     "output_type": "stream",
     "text": [
      "1144160083389140993\n",
      "Tweet fetched:  Menschen, die sich in Pflanzen verwandeln, hab ich anderswo schon deutlicher beschrieben gelesen. Da ist mir zuviel Raunen und zuwenig Zusammenhang, einzelne Bilder schön, aber es ergibt kein Gesamtbild. #tddl\n"
     ]
    },
    {
     "name": "stderr",
     "output_type": "stream",
     "text": [
      "\r",
      " 21%|██▏       | 177/830 [06:45<24:39,  2.27s/it]"
     ]
    },
    {
     "name": "stdout",
     "output_type": "stream",
     "text": [
      "1144160125973925888\n",
      "Tweet fetched:  Heute ab 10 Uhr bis etwa halb elf habe ich zum letzten Mal in meinem Leben das #tddl-Hashtag verfolgt. https://t.co/OzMiX0SyRX\n"
     ]
    },
    {
     "name": "stderr",
     "output_type": "stream",
     "text": [
      "\r",
      " 21%|██▏       | 178/830 [06:47<24:38,  2.27s/it]"
     ]
    },
    {
     "name": "stdout",
     "output_type": "stream",
     "text": [
      "1144160125973925888\n",
      "Tweet fetched:  Heute ab 10 Uhr bis etwa halb elf habe ich zum letzten Mal in meinem Leben das #tddl-Hashtag verfolgt. https://t.co/OzMiX0SyRX\n"
     ]
    },
    {
     "name": "stderr",
     "output_type": "stream",
     "text": [
      "\r",
      " 22%|██▏       | 179/830 [06:50<24:32,  2.26s/it]"
     ]
    },
    {
     "name": "stdout",
     "output_type": "stream",
     "text": [
      "1144160133309784064\n",
      "Tweet fetched:  Diese Neigung, eine komplizierte Handlung am sprachlichen Gerippe einer müde aufgesetzten inneren Stimme einfach so dahinplätschern zu lassen, ist nervig. #tddl\n"
     ]
    },
    {
     "name": "stderr",
     "output_type": "stream",
     "text": [
      "\r",
      " 22%|██▏       | 180/830 [06:52<24:30,  2.26s/it]"
     ]
    },
    {
     "name": "stdout",
     "output_type": "stream",
     "text": [
      "1144160133309784064\n",
      "Tweet fetched:  Diese Neigung, eine komplizierte Handlung am sprachlichen Gerippe einer müde aufgesetzten inneren Stimme einfach so dahinplätschern zu lassen, ist nervig. #tddl\n"
     ]
    },
    {
     "name": "stderr",
     "output_type": "stream",
     "text": [
      "\r",
      " 22%|██▏       | 181/830 [06:54<24:26,  2.26s/it]"
     ]
    },
    {
     "name": "stdout",
     "output_type": "stream",
     "text": [
      "1144160133309784064\n",
      "Tweet fetched:  Diese Neigung, eine komplizierte Handlung am sprachlichen Gerippe einer müde aufgesetzten inneren Stimme einfach so dahinplätschern zu lassen, ist nervig. #tddl\n"
     ]
    },
    {
     "name": "stderr",
     "output_type": "stream",
     "text": [
      "\r",
      " 22%|██▏       | 182/830 [06:56<24:21,  2.26s/it]"
     ]
    },
    {
     "name": "stdout",
     "output_type": "stream",
     "text": [
      "1144160218609328128\n",
      "Tweet fetched:  Leider wirkt der Text als ob er gern mal Lyrik geworden wäre. #tddl\n"
     ]
    },
    {
     "name": "stderr",
     "output_type": "stream",
     "text": [
      "\r",
      " 22%|██▏       | 183/830 [06:59<24:20,  2.26s/it]"
     ]
    },
    {
     "name": "stdout",
     "output_type": "stream",
     "text": [
      "1144160247025754112\n",
      "Tweet fetched:  Die Gefangenschaft in der (fiktiven) Vorstellung, also Fucking Kayfabe und dessen Verführungs-Kraft! Tolle Rede von Clemens J. Setz zur tddl-Eröffnung. (Nun aber weiter mit der Online-Abstinenz)!\n",
      "https://t.co/k5TpasDLqA\n"
     ]
    },
    {
     "name": "stderr",
     "output_type": "stream",
     "text": [
      "\r",
      " 22%|██▏       | 184/830 [07:01<25:58,  2.41s/it]"
     ]
    },
    {
     "name": "stdout",
     "output_type": "stream",
     "text": [
      "1144160260170665984\n",
      "Tweet fetched:  @pinguinverleih Winters Garten hatte aber nichts mit dem Bachmann Preis zu tun. Damals hat sie den Text „Das Bein“ gelesen, glaube ich. Keine Endzeit, Vater-Sohn Sterbegeschichte, die großartig war #tddl\n"
     ]
    },
    {
     "name": "stderr",
     "output_type": "stream",
     "text": [
      "\r",
      " 22%|██▏       | 185/830 [07:04<25:26,  2.37s/it]"
     ]
    },
    {
     "name": "stdout",
     "output_type": "stream",
     "text": [
      "1144160260170665984\n",
      "Tweet fetched:  @pinguinverleih Winters Garten hatte aber nichts mit dem Bachmann Preis zu tun. Damals hat sie den Text „Das Bein“ gelesen, glaube ich. Keine Endzeit, Vater-Sohn Sterbegeschichte, die großartig war #tddl\n"
     ]
    },
    {
     "name": "stderr",
     "output_type": "stream",
     "text": [
      "\r",
      " 22%|██▏       | 186/830 [07:06<25:02,  2.33s/it]"
     ]
    },
    {
     "name": "stdout",
     "output_type": "stream",
     "text": [
      "1144160274943029248\n",
      "Tweet fetched:  \"Emile erinnerte ein dunkles Gluckern\" Nein. Kein Erinnern ohne An. #tddl\n"
     ]
    },
    {
     "name": "stderr",
     "output_type": "stream",
     "text": [
      "\r",
      " 23%|██▎       | 187/830 [07:08<24:46,  2.31s/it]"
     ]
    },
    {
     "name": "stdout",
     "output_type": "stream",
     "text": [
      "1144133352334774273\n",
      "Tweet fetched:  Heute um 10 Uhr gucke ich das erste Mal in meinem Leben bei den #TDDL rein. Katharina Schultens liest einen Text, dessen Genese ich beiwohnen durfte und ich freue mich, dass ihn nun die ganze Welt hören wird. https://t.co/kpSziaWwGb\n"
     ]
    },
    {
     "name": "stderr",
     "output_type": "stream",
     "text": [
      "\r",
      " 23%|██▎       | 188/830 [07:10<24:36,  2.30s/it]"
     ]
    },
    {
     "name": "stdout",
     "output_type": "stream",
     "text": [
      "1144133352334774273\n",
      "Tweet fetched:  Heute um 10 Uhr gucke ich das erste Mal in meinem Leben bei den #TDDL rein. Katharina Schultens liest einen Text, dessen Genese ich beiwohnen durfte und ich freue mich, dass ihn nun die ganze Welt hören wird. https://t.co/kpSziaWwGb\n"
     ]
    },
    {
     "name": "stderr",
     "output_type": "stream",
     "text": [
      "\r",
      " 23%|██▎       | 189/830 [07:13<24:28,  2.29s/it]"
     ]
    },
    {
     "name": "stdout",
     "output_type": "stream",
     "text": [
      "1144160314553982977\n",
      "Tweet fetched:  Soll die Lösung gegen Überalterung im Publikum diese 15-jährigen sein, die offensichtlich unter androhung von red dead redemption 2 verbot da sind #tddl\n"
     ]
    },
    {
     "name": "stderr",
     "output_type": "stream",
     "text": [
      "\r",
      " 23%|██▎       | 190/830 [07:15<24:24,  2.29s/it]"
     ]
    },
    {
     "name": "stdout",
     "output_type": "stream",
     "text": [
      "1144160314553982977\n",
      "Tweet fetched:  Soll die Lösung gegen Überalterung im Publikum diese 15-jährigen sein, die offensichtlich unter androhung von red dead redemption 2 verbot da sind #tddl\n"
     ]
    },
    {
     "name": "stderr",
     "output_type": "stream",
     "text": [
      "\r",
      " 23%|██▎       | 191/830 [07:17<24:17,  2.28s/it]"
     ]
    },
    {
     "name": "stdout",
     "output_type": "stream",
     "text": [
      "1144160396099706880\n",
      "Tweet fetched:  Es gibt Texte, die sich besser vorlesen/hören lassen als andere. Ob das für die Autor*innen bei der Auswahl eine Rolle spielt? Ally Kleins Text letztes Jahr war zum Vorlesen/Zuhören hervorragend und gut gelesen. Andere sind viel zu dicht, um sie beim Zuhören gut zu erfassen #tddl\n"
     ]
    },
    {
     "name": "stderr",
     "output_type": "stream",
     "text": [
      "\r",
      " 23%|██▎       | 192/830 [07:19<24:10,  2.27s/it]"
     ]
    },
    {
     "name": "stdout",
     "output_type": "stream",
     "text": [
      "1144160396099706880\n",
      "Tweet fetched:  Es gibt Texte, die sich besser vorlesen/hören lassen als andere. Ob das für die Autor*innen bei der Auswahl eine Rolle spielt? Ally Kleins Text letztes Jahr war zum Vorlesen/Zuhören hervorragend und gut gelesen. Andere sind viel zu dicht, um sie beim Zuhören gut zu erfassen #tddl\n"
     ]
    },
    {
     "name": "stderr",
     "output_type": "stream",
     "text": [
      "\r",
      " 23%|██▎       | 193/830 [07:22<24:14,  2.28s/it]"
     ]
    },
    {
     "name": "stdout",
     "output_type": "stream",
     "text": [
      "1144160396099706880\n",
      "Tweet fetched:  Es gibt Texte, die sich besser vorlesen/hören lassen als andere. Ob das für die Autor*innen bei der Auswahl eine Rolle spielt? Ally Kleins Text letztes Jahr war zum Vorlesen/Zuhören hervorragend und gut gelesen. Andere sind viel zu dicht, um sie beim Zuhören gut zu erfassen #tddl\n"
     ]
    },
    {
     "name": "stderr",
     "output_type": "stream",
     "text": [
      "\r",
      " 23%|██▎       | 194/830 [07:24<24:03,  2.27s/it]"
     ]
    },
    {
     "name": "stdout",
     "output_type": "stream",
     "text": [
      "1144160396099706880\n",
      "Tweet fetched:  Es gibt Texte, die sich besser vorlesen/hören lassen als andere. Ob das für die Autor*innen bei der Auswahl eine Rolle spielt? Ally Kleins Text letztes Jahr war zum Vorlesen/Zuhören hervorragend und gut gelesen. Andere sind viel zu dicht, um sie beim Zuhören gut zu erfassen #tddl\n"
     ]
    },
    {
     "name": "stderr",
     "output_type": "stream",
     "text": [
      "\r",
      " 23%|██▎       | 195/830 [07:26<23:57,  2.26s/it]"
     ]
    },
    {
     "name": "stdout",
     "output_type": "stream",
     "text": [
      "1144160396099706880\n",
      "Tweet fetched:  Es gibt Texte, die sich besser vorlesen/hören lassen als andere. Ob das für die Autor*innen bei der Auswahl eine Rolle spielt? Ally Kleins Text letztes Jahr war zum Vorlesen/Zuhören hervorragend und gut gelesen. Andere sind viel zu dicht, um sie beim Zuhören gut zu erfassen #tddl\n"
     ]
    },
    {
     "name": "stderr",
     "output_type": "stream",
     "text": [
      "\r",
      " 24%|██▎       | 196/830 [07:28<23:55,  2.26s/it]"
     ]
    },
    {
     "name": "stdout",
     "output_type": "stream",
     "text": [
      "1144160396099706880\n",
      "Tweet fetched:  Es gibt Texte, die sich besser vorlesen/hören lassen als andere. Ob das für die Autor*innen bei der Auswahl eine Rolle spielt? Ally Kleins Text letztes Jahr war zum Vorlesen/Zuhören hervorragend und gut gelesen. Andere sind viel zu dicht, um sie beim Zuhören gut zu erfassen #tddl\n"
     ]
    },
    {
     "name": "stderr",
     "output_type": "stream",
     "text": [
      "\r",
      " 24%|██▎       | 197/830 [07:31<23:50,  2.26s/it]"
     ]
    },
    {
     "name": "stdout",
     "output_type": "stream",
     "text": [
      "1144160422364352512\n",
      "Tweet fetched:  Ich fang erst mal mit Essen an, das ist mir gerade echt zu nervig nach 2 Std Schlaf #tddl\n"
     ]
    },
    {
     "name": "stderr",
     "output_type": "stream",
     "text": [
      "\r",
      " 24%|██▍       | 198/830 [07:33<23:46,  2.26s/it]"
     ]
    },
    {
     "name": "stdout",
     "output_type": "stream",
     "text": [
      "1144160425388494848\n",
      "Tweet fetched:  Recht haben aus taktischen Gründen gefällt mir. #tddl\n"
     ]
    },
    {
     "name": "stderr",
     "output_type": "stream",
     "text": [
      "\r",
      " 24%|██▍       | 199/830 [07:35<23:45,  2.26s/it]"
     ]
    },
    {
     "name": "stdout",
     "output_type": "stream",
     "text": [
      "1144160468786982912\n",
      "Tweet fetched:  #tddl\n",
      "Erste Lesung.\n",
      "Künftige Welt - radikal gedacht.\n",
      "Brutal und poetisch zugleich. https://t.co/f3BFdmWgyE\n"
     ]
    },
    {
     "name": "stderr",
     "output_type": "stream",
     "text": [
      "\r",
      " 24%|██▍       | 200/830 [07:38<23:42,  2.26s/it]"
     ]
    },
    {
     "name": "stdout",
     "output_type": "stream",
     "text": [
      "1144160468786982912\n",
      "Tweet fetched:  #tddl\n",
      "Erste Lesung.\n",
      "Künftige Welt - radikal gedacht.\n",
      "Brutal und poetisch zugleich. https://t.co/f3BFdmWgyE\n"
     ]
    },
    {
     "name": "stderr",
     "output_type": "stream",
     "text": [
      "\r",
      " 24%|██▍       | 201/830 [07:40<23:40,  2.26s/it]"
     ]
    },
    {
     "name": "stdout",
     "output_type": "stream",
     "text": [
      "1144160496486113280\n",
      "Tweet fetched:  Der Text packt mich nicht, zumindest beim bloßen Zuhören. \n",
      "\n",
      "Der Lippenstift ist jedoch perfekt auf die Farbe des Logos abgestimmt. #tddl\n"
     ]
    },
    {
     "name": "stderr",
     "output_type": "stream",
     "text": [
      "\r",
      " 24%|██▍       | 202/830 [07:42<23:37,  2.26s/it]"
     ]
    },
    {
     "name": "stdout",
     "output_type": "stream",
     "text": [
      "1144160496486113280\n",
      "Tweet fetched:  Der Text packt mich nicht, zumindest beim bloßen Zuhören. \n",
      "\n",
      "Der Lippenstift ist jedoch perfekt auf die Farbe des Logos abgestimmt. #tddl\n"
     ]
    },
    {
     "name": "stderr",
     "output_type": "stream",
     "text": [
      "\r",
      " 24%|██▍       | 203/830 [07:44<23:32,  2.25s/it]"
     ]
    },
    {
     "name": "stdout",
     "output_type": "stream",
     "text": [
      "1144160625020559360\n",
      "Tweet fetched:  also während dem arbeiten #tddl zu schauen, funktioniert nur so halb (also nicht). höre so jeden 2. satz und die grenzen zwischen dem text und der inventur verschwimmen, naja\n"
     ]
    },
    {
     "name": "stderr",
     "output_type": "stream",
     "text": [
      "\r",
      " 25%|██▍       | 204/830 [07:47<23:29,  2.25s/it]"
     ]
    },
    {
     "name": "stdout",
     "output_type": "stream",
     "text": [
      "1144160657178341377\n",
      "Tweet fetched:  schönste choreografie wie alle beim buchmannpreis synchron umblättern detlef d soost ist stolz und die literatur wieder sexy gemaked #tddl\n"
     ]
    },
    {
     "name": "stderr",
     "output_type": "stream",
     "text": [
      "\r",
      " 25%|██▍       | 205/830 [07:49<23:31,  2.26s/it]"
     ]
    },
    {
     "name": "stdout",
     "output_type": "stream",
     "text": [
      "1144160657178341377\n",
      "Tweet fetched:  schönste choreografie wie alle beim buchmannpreis synchron umblättern detlef d soost ist stolz und die literatur wieder sexy gemaked #tddl\n"
     ]
    },
    {
     "name": "stderr",
     "output_type": "stream",
     "text": [
      "\r",
      " 25%|██▍       | 206/830 [07:51<23:29,  2.26s/it]"
     ]
    },
    {
     "name": "stdout",
     "output_type": "stream",
     "text": [
      "1144160755664805888\n",
      "Tweet fetched:  ahh jetzt am Lesen merkt man wo man sich beim Text wieder konzentrieren soll #tddl\n"
     ]
    },
    {
     "name": "stderr",
     "output_type": "stream",
     "text": [
      "\r",
      " 25%|██▍       | 207/830 [07:53<23:25,  2.26s/it]"
     ]
    },
    {
     "name": "stdout",
     "output_type": "stream",
     "text": [
      "1144133399663271937\n",
      "Tweet fetched:  Radlos in Klagenfurt. Mir bleibt das Furchetwitterrad (bsh)\n",
      "#tddl https://t.co/y4bPpHpNJs\n"
     ]
    },
    {
     "name": "stderr",
     "output_type": "stream",
     "text": [
      "\r",
      " 25%|██▌       | 208/830 [07:56<23:25,  2.26s/it]"
     ]
    },
    {
     "name": "stdout",
     "output_type": "stream",
     "text": [
      "1144160767119417344\n",
      "Tweet fetched:  Was ich nicht verstehe - als gute Lyrikerin hätte Schultens sich nie einen Satz wie \"hatte das Kind endlich angefangen zu singen, mit einer hellen, zitternden Stimme\" durchgehen lassen ohne dass es vom Text irgendwie aufgefangen wird. Und hier - alles voller Sätze wie der. #tddl\n"
     ]
    },
    {
     "name": "stderr",
     "output_type": "stream",
     "text": [
      "\r",
      " 25%|██▌       | 209/830 [07:58<23:28,  2.27s/it]"
     ]
    },
    {
     "name": "stdout",
     "output_type": "stream",
     "text": [
      "1144160767119417344\n",
      "Tweet fetched:  Was ich nicht verstehe - als gute Lyrikerin hätte Schultens sich nie einen Satz wie \"hatte das Kind endlich angefangen zu singen, mit einer hellen, zitternden Stimme\" durchgehen lassen ohne dass es vom Text irgendwie aufgefangen wird. Und hier - alles voller Sätze wie der. #tddl\n"
     ]
    },
    {
     "name": "stderr",
     "output_type": "stream",
     "text": [
      "\r",
      " 25%|██▌       | 210/830 [08:00<23:24,  2.27s/it]"
     ]
    },
    {
     "name": "stdout",
     "output_type": "stream",
     "text": [
      "1144160949718462469\n",
      "Tweet fetched:  Frauenpower am ersten Lesetag, Start mit Katharina Schultens #tddl https://t.co/G5q7T6pRfE\n"
     ]
    },
    {
     "name": "stderr",
     "output_type": "stream",
     "text": [
      "\r",
      " 25%|██▌       | 211/830 [08:03<24:04,  2.33s/it]"
     ]
    },
    {
     "name": "stdout",
     "output_type": "stream",
     "text": [
      "1144161013023072256\n",
      "Tweet fetched:  @liaghtsout Ich sitz im Zug ohne Kopfhörer - auch bitter - und aufdrehen will ich den anderen Gästen ersparen. Also lieber auf #tddl Tweets geiern.\n"
     ]
    },
    {
     "name": "stderr",
     "output_type": "stream",
     "text": [
      "\r",
      " 26%|██▌       | 212/830 [08:05<23:47,  2.31s/it]"
     ]
    },
    {
     "name": "stdout",
     "output_type": "stream",
     "text": [
      "1144161013023072256\n",
      "Tweet fetched:  @liaghtsout Ich sitz im Zug ohne Kopfhörer - auch bitter - und aufdrehen will ich den anderen Gästen ersparen. Also lieber auf #tddl Tweets geiern.\n"
     ]
    },
    {
     "name": "stderr",
     "output_type": "stream",
     "text": [
      "\r",
      " 26%|██▌       | 213/830 [08:07<23:37,  2.30s/it]"
     ]
    },
    {
     "name": "stdout",
     "output_type": "stream",
     "text": [
      "1144161049953951744\n",
      "Tweet fetched:  »Das Summen hatte keinen Anfang, es war einfach da.« #tddl #tinitus\n"
     ]
    },
    {
     "name": "stderr",
     "output_type": "stream",
     "text": [
      "\r",
      " 26%|██▌       | 214/830 [08:09<23:27,  2.28s/it]"
     ]
    },
    {
     "name": "stdout",
     "output_type": "stream",
     "text": [
      "1144161058145361920\n",
      "Tweet fetched:  buchmannpreis ist wie poetry slam nur in langweilig und dafür bissi schöner #tddl\n"
     ]
    },
    {
     "name": "stderr",
     "output_type": "stream",
     "text": [
      "\r",
      " 26%|██▌       | 215/830 [08:12<23:18,  2.27s/it]"
     ]
    },
    {
     "name": "stdout",
     "output_type": "stream",
     "text": [
      "1144161058145361920\n",
      "Tweet fetched:  buchmannpreis ist wie poetry slam nur in langweilig und dafür bissi schöner #tddl\n"
     ]
    },
    {
     "name": "stderr",
     "output_type": "stream",
     "text": [
      "\r",
      " 26%|██▌       | 216/830 [08:14<23:10,  2.26s/it]"
     ]
    },
    {
     "name": "stdout",
     "output_type": "stream",
     "text": [
      "1144161168635944965\n",
      "Tweet fetched:  Wer wünscht sich nach dem Schultens-Text keine eigene Chimäre?\n",
      "#tddl #schultens\n"
     ]
    },
    {
     "name": "stderr",
     "output_type": "stream",
     "text": [
      "\r",
      " 26%|██▌       | 217/830 [08:16<23:05,  2.26s/it]"
     ]
    },
    {
     "name": "stdout",
     "output_type": "stream",
     "text": [
      "1144161276786040832\n",
      "Tweet fetched:  Seitdem die in Klagenfurt nicht mehr jedes Jahr eine neue und noch hässlichere Bühnendeko haben geht es irgendwie bergab #tddl\n"
     ]
    },
    {
     "name": "stderr",
     "output_type": "stream",
     "text": [
      "\r",
      " 26%|██▋       | 218/830 [08:18<22:59,  2.25s/it]"
     ]
    },
    {
     "name": "stdout",
     "output_type": "stream",
     "text": [
      "1144161276786040832\n",
      "Tweet fetched:  Seitdem die in Klagenfurt nicht mehr jedes Jahr eine neue und noch hässlichere Bühnendeko haben geht es irgendwie bergab #tddl\n"
     ]
    },
    {
     "name": "stderr",
     "output_type": "stream",
     "text": [
      "\r",
      " 26%|██▋       | 219/830 [08:21<22:56,  2.25s/it]"
     ]
    },
    {
     "name": "stdout",
     "output_type": "stream",
     "text": [
      "1144161286386835456\n",
      "Tweet fetched:  zwischenhuster sind die adlips der literatur #tddl\n"
     ]
    },
    {
     "name": "stderr",
     "output_type": "stream",
     "text": [
      "\r",
      " 27%|██▋       | 220/830 [08:23<22:54,  2.25s/it]"
     ]
    },
    {
     "name": "stdout",
     "output_type": "stream",
     "text": [
      "1144038490637778944\n",
      "Tweet fetched:  ihr habt es vermutlich alle schon gesehen: @clemensetz findet wahre sätze in der eröffnungsrede zu den #tddl https://t.co/JtjPiE7MM0\n"
     ]
    },
    {
     "name": "stderr",
     "output_type": "stream",
     "text": [
      "\r",
      " 27%|██▋       | 221/830 [08:25<23:28,  2.31s/it]"
     ]
    },
    {
     "name": "stdout",
     "output_type": "stream",
     "text": [
      "1144136020373454848\n",
      "Tweet fetched:  Stell dir vor, es gäbe sowas wie einen Bachmannbewerb für PolitikerInnen: sie hätten jeweils 1/2 Stunde um ihr Konzept, Visionen, Menschenbild etc zu erzählen &amp; Jury würde 1/2 Stunde lang analysieren: Sprache, Widersprüche, Glaubwürdigkeit, Auswirkungen etc. #tddl (bsh)\n"
     ]
    },
    {
     "name": "stderr",
     "output_type": "stream",
     "text": [
      "\r",
      " 27%|██▋       | 222/830 [08:28<23:13,  2.29s/it]"
     ]
    },
    {
     "name": "stdout",
     "output_type": "stream",
     "text": [
      "1144137583405993986\n",
      "Tweet fetched:  Weil grad #tddl sind, erneuere ich gerne meinen Vorschlag: LiteraturexpertInnen in die politischen Diskussionsrunden zwecks Narrations-, Sprach-, Form-, Motiv- etc. Analyse (bsh) https://t.co/nOJOBVyTC5\n"
     ]
    },
    {
     "name": "stderr",
     "output_type": "stream",
     "text": [
      "\r",
      " 27%|██▋       | 223/830 [08:30<23:07,  2.29s/it]"
     ]
    },
    {
     "name": "stdout",
     "output_type": "stream",
     "text": [
      "1144137583405993986\n",
      "Tweet fetched:  Weil grad #tddl sind, erneuere ich gerne meinen Vorschlag: LiteraturexpertInnen in die politischen Diskussionsrunden zwecks Narrations-, Sprach-, Form-, Motiv- etc. Analyse (bsh) https://t.co/nOJOBVyTC5\n"
     ]
    },
    {
     "name": "stderr",
     "output_type": "stream",
     "text": [
      "\r",
      " 27%|██▋       | 224/830 [08:32<23:35,  2.34s/it]"
     ]
    },
    {
     "name": "stdout",
     "output_type": "stream",
     "text": [
      "1144138476125859840\n",
      "Tweet fetched:  Tom Kummer sagt er macht Gonzo, in Wirklichkeit ist das alles nur #kayfabe #tddl\n"
     ]
    },
    {
     "name": "stderr",
     "output_type": "stream",
     "text": [
      "\r",
      " 27%|██▋       | 225/830 [08:35<23:20,  2.31s/it]"
     ]
    },
    {
     "name": "stdout",
     "output_type": "stream",
     "text": [
      "1144138890657374208\n",
      "Tweet fetched:  literatur aus der steiermark wenn sie sich im büro darauf vorbereitet, heimlich #tddl zu streamen https://t.co/WYd6TqTJLI\n"
     ]
    },
    {
     "name": "stderr",
     "output_type": "stream",
     "text": [
      "\r",
      " 27%|██▋       | 226/830 [08:37<23:12,  2.30s/it]"
     ]
    },
    {
     "name": "stdout",
     "output_type": "stream",
     "text": [
      "1144139701823168512\n",
      "Tweet fetched:  Heute nicht Schlachtenbummeln #tddl, aber immerhin nächste Woche nach Rennes\n"
     ]
    },
    {
     "name": "stderr",
     "output_type": "stream",
     "text": [
      "\r",
      " 27%|██▋       | 227/830 [08:39<23:00,  2.29s/it]"
     ]
    },
    {
     "name": "stdout",
     "output_type": "stream",
     "text": [
      "1144142415391002624\n",
      "Tweet fetched:  Heiß wird’s heute: Kritik der Kritik – das Gespräch danach (bsh) \n",
      "Heute 17 Uhr #tddl  https://t.co/6QgzTeNkCs\n"
     ]
    },
    {
     "name": "stderr",
     "output_type": "stream",
     "text": [
      "\r",
      " 27%|██▋       | 228/830 [08:41<22:51,  2.28s/it]"
     ]
    },
    {
     "name": "stdout",
     "output_type": "stream",
     "text": [
      "1144145304096256001\n",
      "Tweet fetched:  Es geht wieder los! 📚📺 #Bachmann-Livestream bis Sonntag hier: #tddl @tddlit https://t.co/pLOkoEl9rk\n"
     ]
    },
    {
     "name": "stderr",
     "output_type": "stream",
     "text": [
      "\r",
      " 28%|██▊       | 229/830 [08:44<22:44,  2.27s/it]"
     ]
    },
    {
     "name": "stdout",
     "output_type": "stream",
     "text": [
      "1144145537375100928\n",
      "Tweet fetched:  Heute alle #tddl schauen und @standseilbahn die Daumen drücken ! https://t.co/Lbe1g2TdR5\n"
     ]
    },
    {
     "name": "stderr",
     "output_type": "stream",
     "text": [
      "\r",
      " 28%|██▊       | 230/830 [08:46<22:43,  2.27s/it]"
     ]
    },
    {
     "name": "stdout",
     "output_type": "stream",
     "text": [
      "1144145537375100928\n",
      "Tweet fetched:  Heute alle #tddl schauen und @standseilbahn die Daumen drücken ! https://t.co/Lbe1g2TdR5\n"
     ]
    },
    {
     "name": "stderr",
     "output_type": "stream",
     "text": [
      "\r",
      " 28%|██▊       | 231/830 [08:48<22:39,  2.27s/it]"
     ]
    },
    {
     "name": "stdout",
     "output_type": "stream",
     "text": [
      "1144145605654130688\n",
      "Tweet fetched:  \"Die lächerliche Kayfabe der Dichteridentität habe ich selbst besonders hündisch befolgt in meinen jungen Jahren.\" Interessant wäre es gewesen nach dem \"warum\" zu fragen. Und nach dem \"immer noch\". #tddl https://t.co/F0UPUOX1mB\n"
     ]
    },
    {
     "name": "stderr",
     "output_type": "stream",
     "text": [
      "\r",
      " 28%|██▊       | 232/830 [08:50<22:40,  2.28s/it]"
     ]
    },
    {
     "name": "stdout",
     "output_type": "stream",
     "text": [
      "1144146362600214529\n",
      "Tweet fetched:  Heute! #tddl https://t.co/E5iQGpAa4B\n"
     ]
    },
    {
     "name": "stderr",
     "output_type": "stream",
     "text": [
      "\r",
      " 28%|██▊       | 233/830 [08:53<22:34,  2.27s/it]"
     ]
    },
    {
     "name": "stdout",
     "output_type": "stream",
     "text": [
      "1144148025348100096\n",
      "Tweet fetched:  Das Vertrauen der Veranstalter, dass man von allein draufkommen könnte, worum es gehen soll, scheint nicht besonders groß zu sein. #tddl https://t.co/Dkzjt8fSmO\n"
     ]
    },
    {
     "name": "stderr",
     "output_type": "stream",
     "text": [
      "\r",
      " 28%|██▊       | 234/830 [08:55<22:35,  2.28s/it]"
     ]
    },
    {
     "name": "stdout",
     "output_type": "stream",
     "text": [
      "1144148183473426433\n",
      "Tweet fetched:  #tddl minus 22 Minuten. Müßte mich noch warmlästern.\n"
     ]
    },
    {
     "name": "stderr",
     "output_type": "stream",
     "text": [
      "\r",
      " 28%|██▊       | 235/830 [08:57<22:30,  2.27s/it]"
     ]
    },
    {
     "name": "stdout",
     "output_type": "stream",
     "text": [
      "1144148483726807040\n",
      "Tweet fetched:  Bin im Studio (wg Fankurve für @standseilbahn) und es kann losgehen. #tddl https://t.co/gMqcnJRqFw\n"
     ]
    },
    {
     "name": "stderr",
     "output_type": "stream",
     "text": [
      "\r",
      " 28%|██▊       | 236/830 [09:00<22:53,  2.31s/it]"
     ]
    },
    {
     "name": "stdout",
     "output_type": "stream",
     "text": [
      "1144148483726807040\n",
      "Tweet fetched:  Bin im Studio (wg Fankurve für @standseilbahn) und es kann losgehen. #tddl https://t.co/gMqcnJRqFw\n"
     ]
    },
    {
     "name": "stderr",
     "output_type": "stream",
     "text": [
      "\r",
      " 29%|██▊       | 237/830 [09:02<23:22,  2.37s/it]"
     ]
    },
    {
     "name": "stdout",
     "output_type": "stream",
     "text": [
      "1144148654569205760\n",
      "Tweet fetched:  Für die, die immer fragen: #tddl meint https://t.co/t8VteJh4Ug - und wens nicht interessiert, der schaut halt weg, ich kommentier ja auch nicht euren Fußballscheiß.\n"
     ]
    },
    {
     "name": "stderr",
     "output_type": "stream",
     "text": [
      "\r",
      " 29%|██▊       | 238/830 [09:04<23:01,  2.33s/it]"
     ]
    },
    {
     "name": "stdout",
     "output_type": "stream",
     "text": [
      "1144047126403588096\n",
      "Tweet fetched:  Macht mal weniger bedruckte Liegesessel und klimatisiert die Hotelzimmer weil kühler wirds nie wieder zu den tddl\n"
     ]
    },
    {
     "name": "stderr",
     "output_type": "stream",
     "text": [
      "\r",
      " 29%|██▉       | 239/830 [09:07<22:47,  2.31s/it]"
     ]
    },
    {
     "name": "stdout",
     "output_type": "stream",
     "text": [
      "1144047126403588096\n",
      "Tweet fetched:  Macht mal weniger bedruckte Liegesessel und klimatisiert die Hotelzimmer weil kühler wirds nie wieder zu den tddl\n"
     ]
    },
    {
     "name": "stderr",
     "output_type": "stream",
     "text": [
      "\r",
      " 29%|██▉       | 240/830 [09:09<22:33,  2.29s/it]"
     ]
    },
    {
     "name": "stdout",
     "output_type": "stream",
     "text": [
      "1144150327521939457\n",
      "Tweet fetched:  Übrigens find ich Clemens Setz' https://t.co/CNlz0NoQld grandios, selten so viel mir neues aus einem Text gezogen. #tddl\n"
     ]
    },
    {
     "name": "stderr",
     "output_type": "stream",
     "text": [
      "\r",
      " 29%|██▉       | 241/830 [09:11<22:22,  2.28s/it]"
     ]
    },
    {
     "name": "stdout",
     "output_type": "stream",
     "text": [
      "1144150547152478212\n",
      "Tweet fetched:  Schon allen Hallo gesagt, nur @ankowitsch noch nicht, weil ich mich nie trau, Leute bei der Arbeit zu stören. Ich hoff, man sieht sich dann später noch auf eine Schaumrolle bei der Bürgermeisterin. #tddl\n"
     ]
    },
    {
     "name": "stderr",
     "output_type": "stream",
     "text": [
      "\r",
      " 29%|██▉       | 242/830 [09:13<22:13,  2.27s/it]"
     ]
    },
    {
     "name": "stdout",
     "output_type": "stream",
     "text": [
      "1144150832138637313\n",
      "Tweet fetched:  #tddl Noch viel schlimmer als die bierernsten Ich-Bin-Autor-Videos der Vergangenheit sind die Versuche, das Format Vorstellungsvideo zu ironisieren.\n"
     ]
    },
    {
     "name": "stderr",
     "output_type": "stream",
     "text": [
      "\r",
      " 29%|██▉       | 243/830 [09:16<22:18,  2.28s/it]"
     ]
    },
    {
     "name": "stdout",
     "output_type": "stream",
     "text": [
      "1144150832138637313\n",
      "Tweet fetched:  #tddl Noch viel schlimmer als die bierernsten Ich-Bin-Autor-Videos der Vergangenheit sind die Versuche, das Format Vorstellungsvideo zu ironisieren.\n"
     ]
    },
    {
     "name": "stderr",
     "output_type": "stream",
     "text": [
      "\r",
      " 29%|██▉       | 244/830 [09:18<22:10,  2.27s/it]"
     ]
    },
    {
     "name": "stdout",
     "output_type": "stream",
     "text": [
      "1144150832138637313\n",
      "Tweet fetched:  #tddl Noch viel schlimmer als die bierernsten Ich-Bin-Autor-Videos der Vergangenheit sind die Versuche, das Format Vorstellungsvideo zu ironisieren.\n"
     ]
    },
    {
     "name": "stderr",
     "output_type": "stream",
     "text": [
      "\r",
      " 30%|██▉       | 245/830 [09:20<22:05,  2.27s/it]"
     ]
    },
    {
     "name": "stdout",
     "output_type": "stream",
     "text": [
      "1144151736115978240\n",
      "Tweet fetched:  Nun auch offiziell angekommen. Es kann losgehen #tddl  (bsh) https://t.co/gOnAnnNFQ6\n"
     ]
    },
    {
     "name": "stderr",
     "output_type": "stream",
     "text": [
      "\r",
      " 30%|██▉       | 246/830 [09:22<22:04,  2.27s/it]"
     ]
    },
    {
     "name": "stdout",
     "output_type": "stream",
     "text": [
      "1144151858874855424\n",
      "Tweet fetched:  Es ist wieder Bachmannwettbewerb! In Klagenfurt wird ab heute um die Wette gelesen. Ab 10 Uhr live auf 3sat oder über https://t.co/R9duxtxzos. Hashtag ist #tddl. \n",
      "\n",
      "#servicetweet https://t.co/leNhJdRzPK\n"
     ]
    },
    {
     "name": "stderr",
     "output_type": "stream",
     "text": [
      "\r",
      " 30%|██▉       | 247/830 [09:25<22:01,  2.27s/it]"
     ]
    },
    {
     "name": "stdout",
     "output_type": "stream",
     "text": [
      "1144152403928920064\n",
      "Tweet fetched:  @dlindner79 #Setz kommt mir mittlerweile ein bisschen wie ein Maskottchen der zeitgenössischen österreichischen Literatur vor.  Man kann seiner Dichterrollenprosa nur schwer entgehen. #tddl\n"
     ]
    },
    {
     "name": "stderr",
     "output_type": "stream",
     "text": [
      "\r",
      " 30%|██▉       | 248/830 [09:27<21:54,  2.26s/it]"
     ]
    },
    {
     "name": "stdout",
     "output_type": "stream",
     "text": [
      "1144152438087323649\n",
      "Tweet fetched:  Guten Morgen! Und ein herzliches Willkommen, hier aus der Kommentatorenbühne der #tddl. Es beginnt in 5 Minuten der erste Lesetag. Ich grüße die Menschen draußen an den Empfangsgeräten.\n"
     ]
    },
    {
     "name": "stderr",
     "output_type": "stream",
     "text": [
      "\r",
      " 30%|███       | 249/830 [09:29<21:49,  2.25s/it]"
     ]
    },
    {
     "name": "stdout",
     "output_type": "stream",
     "text": [
      "1144152773946171392\n",
      "Tweet fetched:  Ich sitze - ungewöhnlich - gleich am ersten Lesetag im Studio. Das WLAN hält. #tddl\n"
     ]
    },
    {
     "name": "stderr",
     "output_type": "stream",
     "text": [
      "\r",
      " 30%|███       | 250/830 [09:32<22:06,  2.29s/it]"
     ]
    },
    {
     "name": "stdout",
     "output_type": "stream",
     "text": [
      "1144048611292045313\n",
      "Tweet fetched:  #tddl finde ich ja stressig. Einerseits will ich alles verfolgen, andererseits habe ich natürlich auch anderes zu tun – und will noch ins Schwimmbad. Stress pur.\n"
     ]
    },
    {
     "name": "stderr",
     "output_type": "stream",
     "text": [
      "\r",
      " 30%|███       | 251/830 [09:34<21:58,  2.28s/it]"
     ]
    },
    {
     "name": "stdout",
     "output_type": "stream",
     "text": [
      "1144048611292045313\n",
      "Tweet fetched:  #tddl finde ich ja stressig. Einerseits will ich alles verfolgen, andererseits habe ich natürlich auch anderes zu tun – und will noch ins Schwimmbad. Stress pur.\n"
     ]
    },
    {
     "name": "stderr",
     "output_type": "stream",
     "text": [
      "\r",
      " 30%|███       | 252/830 [09:36<21:51,  2.27s/it]"
     ]
    },
    {
     "name": "stdout",
     "output_type": "stream",
     "text": [
      "1144152946088775680\n",
      "Tweet fetched:  Heute werde ich zeitweise nach Klagenfurt schalten müssen: It's Bachmannwettbewerb again! Yeah, mein Pendant zu Eurem Fußballdingsi. #tddl https://t.co/P4CxVkJaHZ\n"
     ]
    },
    {
     "name": "stderr",
     "output_type": "stream",
     "text": [
      "\r",
      " 30%|███       | 253/830 [09:38<21:48,  2.27s/it]"
     ]
    },
    {
     "name": "stdout",
     "output_type": "stream",
     "text": [
      "1144153084563742720\n",
      "Tweet fetched:  Die erste Lesende, Katharina Schultens, hat also auch in St. Louis studiert. Ist ja schon eine richtige Mafia. #tddl (Derweil warten alle im Studio, daß es anfängt. Leise läuft The Cure.)\n"
     ]
    },
    {
     "name": "stderr",
     "output_type": "stream",
     "text": [
      "\r",
      " 31%|███       | 254/830 [09:41<21:44,  2.27s/it]"
     ]
    },
    {
     "name": "stdout",
     "output_type": "stream",
     "text": [
      "1144153162628108289\n",
      "Tweet fetched:  kein fächer übrigens, diesmal, in der klagenfurter badetasche!!! wie konnte das??? #tddl\n"
     ]
    },
    {
     "name": "stderr",
     "output_type": "stream",
     "text": [
      "\r",
      " 31%|███       | 255/830 [09:43<21:51,  2.28s/it]"
     ]
    },
    {
     "name": "stdout",
     "output_type": "stream",
     "text": [
      "1144153774216351744\n",
      "Tweet fetched:  Frau Keller hat die alle weggefächert. #tddl https://t.co/lFq22aJkcW\n"
     ]
    },
    {
     "name": "stderr",
     "output_type": "stream",
     "text": [
      "\r",
      " 31%|███       | 256/830 [09:45<21:47,  2.28s/it]"
     ]
    },
    {
     "name": "stdout",
     "output_type": "stream",
     "text": [
      "1144153851626446848\n",
      "Tweet fetched:  Kann die @DB_Bahn bitte dafür sorgen, dass morgen im ICE das WLAN so gut ist, dass ich #tddl schauen kann? \n",
      "Ja? \n",
      "Cool, danke! :)\n"
     ]
    },
    {
     "name": "stderr",
     "output_type": "stream",
     "text": [
      "\r",
      " 31%|███       | 257/830 [09:47<21:42,  2.27s/it]"
     ]
    },
    {
     "name": "stdout",
     "output_type": "stream",
     "text": [
      "1144153851626446848\n",
      "Tweet fetched:  Kann die @DB_Bahn bitte dafür sorgen, dass morgen im ICE das WLAN so gut ist, dass ich #tddl schauen kann? \n",
      "Ja? \n",
      "Cool, danke! :)\n"
     ]
    },
    {
     "name": "stderr",
     "output_type": "stream",
     "text": [
      "\r",
      " 31%|███       | 258/830 [09:50<21:35,  2.26s/it]"
     ]
    },
    {
     "name": "stdout",
     "output_type": "stream",
     "text": [
      "1144153851626446848\n",
      "Tweet fetched:  Kann die @DB_Bahn bitte dafür sorgen, dass morgen im ICE das WLAN so gut ist, dass ich #tddl schauen kann? \n",
      "Ja? \n",
      "Cool, danke! :)\n"
     ]
    },
    {
     "name": "stderr",
     "output_type": "stream",
     "text": [
      "\r",
      " 31%|███       | 259/830 [09:52<21:29,  2.26s/it]"
     ]
    },
    {
     "name": "stdout",
     "output_type": "stream",
     "text": [
      "1144153943272054784\n",
      "Tweet fetched:  Um Gottes willen, war das Intro schon immer mit so, äh, frecher Musik unterlegt? #tddl\n"
     ]
    },
    {
     "name": "stderr",
     "output_type": "stream",
     "text": [
      "\r",
      " 31%|███▏      | 260/830 [09:54<21:26,  2.26s/it]"
     ]
    },
    {
     "name": "stdout",
     "output_type": "stream",
     "text": [
      "1144153943272054784\n",
      "Tweet fetched:  Um Gottes willen, war das Intro schon immer mit so, äh, frecher Musik unterlegt? #tddl\n"
     ]
    },
    {
     "name": "stderr",
     "output_type": "stream",
     "text": [
      "\r",
      " 31%|███▏      | 261/830 [09:57<21:42,  2.29s/it]"
     ]
    },
    {
     "name": "stdout",
     "output_type": "stream",
     "text": [
      "1144153943272054784\n",
      "Tweet fetched:  Um Gottes willen, war das Intro schon immer mit so, äh, frecher Musik unterlegt? #tddl\n"
     ]
    },
    {
     "name": "stderr",
     "output_type": "stream",
     "text": [
      "\r",
      " 32%|███▏      | 262/830 [09:59<21:34,  2.28s/it]"
     ]
    },
    {
     "name": "stdout",
     "output_type": "stream",
     "text": [
      "1144048775541002246\n",
      "Tweet fetched:  Was ist eure Strategie; interessanteste Lesungen raussuchen? #tddl\n"
     ]
    },
    {
     "name": "stderr",
     "output_type": "stream",
     "text": [
      "\r",
      " 32%|███▏      | 263/830 [10:01<22:28,  2.38s/it]"
     ]
    },
    {
     "name": "stdout",
     "output_type": "stream",
     "text": [
      "1144154077548466176\n",
      "Tweet fetched:  Die Polizeit hat an Bord von Bolsonaros Flugzeug 20 kg Kokain entdeckt. \n",
      "Die Realität übertrifft inzwischen jede Kolportage. #tddl \n",
      "Um realistisch zu schreiben, muss du zu Absurdität bereit sein.\n"
     ]
    },
    {
     "name": "stderr",
     "output_type": "stream",
     "text": [
      "\r",
      " 32%|███▏      | 264/830 [10:04<22:27,  2.38s/it]"
     ]
    },
    {
     "name": "stdout",
     "output_type": "stream",
     "text": [
      "1144154254107656194\n",
      "Tweet fetched:  Bei den meisten Videoporträts dieses Jahrgangs habe ich den Eindruck von \"Alles schon mal dagewesen\". #tddl\n"
     ]
    },
    {
     "name": "stderr",
     "output_type": "stream",
     "text": [
      "\r",
      " 32%|███▏      | 265/830 [10:06<22:05,  2.35s/it]"
     ]
    },
    {
     "name": "stdout",
     "output_type": "stream",
     "text": [
      "1144154271711191040\n",
      "[{'code': 144, 'message': 'No status found with that ID.'}]\n",
      "Inside the exception - no:2\n"
     ]
    },
    {
     "name": "stderr",
     "output_type": "stream",
     "text": [
      "\r",
      " 32%|███▏      | 266/830 [10:08<21:47,  2.32s/it]"
     ]
    },
    {
     "name": "stdout",
     "output_type": "stream",
     "text": [
      "1144154452758269952\n",
      "Tweet fetched:  Es geht loooooos #tddl #tddl19 https://t.co/l5yNVgFrB8\n"
     ]
    },
    {
     "name": "stderr",
     "output_type": "stream",
     "text": [
      "\r",
      " 32%|███▏      | 267/830 [10:11<21:44,  2.32s/it]"
     ]
    },
    {
     "name": "stdout",
     "output_type": "stream",
     "text": [
      "1144154475931799553\n",
      "Tweet fetched:  Sobald ich Ankowitsch höre, habe ich imaginäre Gummibänder im Mund und kann österreichisch. #tddl\n"
     ]
    },
    {
     "name": "stderr",
     "output_type": "stream",
     "text": [
      "\r",
      " 32%|███▏      | 268/830 [10:13<21:32,  2.30s/it]"
     ]
    },
    {
     "name": "stdout",
     "output_type": "stream",
     "text": [
      "1144154475931799553\n",
      "Tweet fetched:  Sobald ich Ankowitsch höre, habe ich imaginäre Gummibänder im Mund und kann österreichisch. #tddl\n"
     ]
    },
    {
     "name": "stderr",
     "output_type": "stream",
     "text": [
      "\r",
      " 32%|███▏      | 269/830 [10:15<21:22,  2.29s/it]"
     ]
    },
    {
     "name": "stdout",
     "output_type": "stream",
     "text": [
      "1144154627249717248\n",
      "[{'code': 144, 'message': 'No status found with that ID.'}]\n",
      "Inside the exception - no:2\n"
     ]
    },
    {
     "name": "stderr",
     "output_type": "stream",
     "text": [
      "\r",
      " 33%|███▎      | 270/830 [10:17<21:13,  2.27s/it]"
     ]
    },
    {
     "name": "stdout",
     "output_type": "stream",
     "text": [
      "1144154627249717248\n",
      "[{'code': 144, 'message': 'No status found with that ID.'}]\n",
      "Inside the exception - no:2\n"
     ]
    },
    {
     "name": "stderr",
     "output_type": "stream",
     "text": [
      "\r",
      " 33%|███▎      | 271/830 [10:20<21:05,  2.26s/it]"
     ]
    },
    {
     "name": "stdout",
     "output_type": "stream",
     "text": [
      "1144154664268697601\n",
      "Tweet fetched:  Lesen! Lesen! Lesen! Lesen! #tddl https://t.co/1CBvKrbtrm\n"
     ]
    },
    {
     "name": "stderr",
     "output_type": "stream",
     "text": [
      "\r",
      " 33%|███▎      | 272/830 [10:22<21:00,  2.26s/it]"
     ]
    },
    {
     "name": "stdout",
     "output_type": "stream",
     "text": [
      "1144154664268697601\n",
      "Tweet fetched:  Lesen! Lesen! Lesen! Lesen! #tddl https://t.co/1CBvKrbtrm\n"
     ]
    },
    {
     "name": "stderr",
     "output_type": "stream",
     "text": [
      "\r",
      " 33%|███▎      | 273/830 [10:24<20:57,  2.26s/it]"
     ]
    },
    {
     "name": "stdout",
     "output_type": "stream",
     "text": [
      "1144154664268697601\n",
      "Tweet fetched:  Lesen! Lesen! Lesen! Lesen! #tddl https://t.co/1CBvKrbtrm\n"
     ]
    },
    {
     "name": "stderr",
     "output_type": "stream",
     "text": [
      "\r",
      " 33%|███▎      | 274/830 [10:27<21:22,  2.31s/it]"
     ]
    },
    {
     "name": "stdout",
     "output_type": "stream",
     "text": [
      "1144064077196607488\n",
      "Tweet fetched:  Top story: acmetheater on Twitter: \"die #tddl sind dope!… \" https://t.co/JPLniKDFBT, see more https://t.co/R2bvQ0czwn\n"
     ]
    },
    {
     "name": "stderr",
     "output_type": "stream",
     "text": [
      "\r",
      " 33%|███▎      | 275/830 [10:29<21:21,  2.31s/it]"
     ]
    },
    {
     "name": "stdout",
     "output_type": "stream",
     "text": [
      "1144064077196607488\n",
      "Tweet fetched:  Top story: acmetheater on Twitter: \"die #tddl sind dope!… \" https://t.co/JPLniKDFBT, see more https://t.co/R2bvQ0czwn\n"
     ]
    },
    {
     "name": "stderr",
     "output_type": "stream",
     "text": [
      "\r",
      " 33%|███▎      | 276/830 [10:31<21:13,  2.30s/it]"
     ]
    },
    {
     "name": "stdout",
     "output_type": "stream",
     "text": [
      "1144064077196607488\n",
      "Tweet fetched:  Top story: acmetheater on Twitter: \"die #tddl sind dope!… \" https://t.co/JPLniKDFBT, see more https://t.co/R2bvQ0czwn\n"
     ]
    },
    {
     "name": "stderr",
     "output_type": "stream",
     "text": [
      "\r",
      " 33%|███▎      | 277/830 [10:33<21:06,  2.29s/it]"
     ]
    },
    {
     "name": "stdout",
     "output_type": "stream",
     "text": [
      "1144064077196607488\n",
      "Tweet fetched:  Top story: acmetheater on Twitter: \"die #tddl sind dope!… \" https://t.co/JPLniKDFBT, see more https://t.co/R2bvQ0czwn\n"
     ]
    },
    {
     "name": "stderr",
     "output_type": "stream",
     "text": [
      "\r",
      " 33%|███▎      | 278/830 [10:36<21:04,  2.29s/it]"
     ]
    },
    {
     "name": "stdout",
     "output_type": "stream",
     "text": [
      "1144154661940867072\n",
      "Tweet fetched:  Kann losgehen...ich wäre dann soweit #tddl https://t.co/zw21qTJoU9\n"
     ]
    },
    {
     "name": "stderr",
     "output_type": "stream",
     "text": [
      "\r",
      " 34%|███▎      | 279/830 [10:38<20:55,  2.28s/it]"
     ]
    },
    {
     "name": "stdout",
     "output_type": "stream",
     "text": [
      "1144154789430910976\n",
      "Tweet fetched:  Wenn das Outfit nicht \"Antifa\" schreit, dann weiß ich auch nicht. #tddl https://t.co/9eSMp7l0Am\n"
     ]
    },
    {
     "name": "stderr",
     "output_type": "stream",
     "text": [
      "\r",
      " 34%|███▎      | 280/830 [10:40<20:51,  2.28s/it]"
     ]
    },
    {
     "name": "stdout",
     "output_type": "stream",
     "text": [
      "1144154801556590592\n",
      "Tweet fetched:  alle jahre wieder! I  ❤️ #tddl. seid ihr schon alle da?\n"
     ]
    },
    {
     "name": "stderr",
     "output_type": "stream",
     "text": [
      "\r",
      " 34%|███▍      | 281/830 [10:43<21:10,  2.31s/it]"
     ]
    },
    {
     "name": "stdout",
     "output_type": "stream",
     "text": [
      "1144154826873495554\n",
      "Tweet fetched:  Der Wecker hat geklingelt, Zeit für #tddl\n"
     ]
    },
    {
     "name": "stderr",
     "output_type": "stream",
     "text": [
      "\r",
      " 34%|███▍      | 282/830 [10:45<20:58,  2.30s/it]"
     ]
    },
    {
     "name": "stdout",
     "output_type": "stream",
     "text": [
      "1144154860021063681\n",
      "Tweet fetched:  Getting ready for #tddl \n",
      "Danke, liebe Kunden, dass Ihr mir keine Eilaufträge geschickt habt!\n"
     ]
    },
    {
     "name": "stderr",
     "output_type": "stream",
     "text": [
      "\r",
      " 34%|███▍      | 283/830 [10:47<20:51,  2.29s/it]"
     ]
    },
    {
     "name": "stdout",
     "output_type": "stream",
     "text": [
      "1144116881596571648\n",
      "Tweet fetched:  Mein Favorit ist ja wieder Bob Dylan. #tddl #tddl19\n"
     ]
    },
    {
     "name": "stderr",
     "output_type": "stream",
     "text": [
      "\r",
      " 34%|███▍      | 284/830 [10:49<20:45,  2.28s/it]"
     ]
    },
    {
     "name": "stdout",
     "output_type": "stream",
     "text": [
      "1144155329317560320\n",
      "Tweet fetched:  Und jetzt bitte: einen fulminanten Internet-Applaus für die Teilnehmerinnen und Teilnehmer des ersten Wettlesetages um den Bachmannpreis 2019! Hier geht es zum Livestream: https://t.co/YJkBVxLPa3 #tddl\n"
     ]
    },
    {
     "name": "stderr",
     "output_type": "stream",
     "text": [
      "\r",
      " 34%|███▍      | 285/830 [10:52<20:37,  2.27s/it]"
     ]
    },
    {
     "name": "stdout",
     "output_type": "stream",
     "text": [
      "1144155329317560320\n",
      "Tweet fetched:  Und jetzt bitte: einen fulminanten Internet-Applaus für die Teilnehmerinnen und Teilnehmer des ersten Wettlesetages um den Bachmannpreis 2019! Hier geht es zum Livestream: https://t.co/YJkBVxLPa3 #tddl\n"
     ]
    },
    {
     "name": "stderr",
     "output_type": "stream",
     "text": [
      "\r",
      " 34%|███▍      | 286/830 [10:54<20:32,  2.27s/it]"
     ]
    },
    {
     "name": "stdout",
     "output_type": "stream",
     "text": [
      "1144155528412745729\n",
      "Tweet fetched:  uups - die neue sitzordnung bringt meine orientierung durcheinander. #tddl\n"
     ]
    },
    {
     "name": "stderr",
     "output_type": "stream",
     "text": [
      "\r",
      " 35%|███▍      | 287/830 [10:56<21:00,  2.32s/it]"
     ]
    },
    {
     "name": "stdout",
     "output_type": "stream",
     "text": [
      "1144155544397254657\n",
      "Tweet fetched:  Das grösste Problem von Christian Ankowitsch ist, dass er nicht Ernst A. Grandits ist. Er hat nichtmal ein Mittelinitial wie z.B. Ijoma A. Mangold. #tddl\n"
     ]
    },
    {
     "name": "stderr",
     "output_type": "stream",
     "text": [
      "\r",
      " 35%|███▍      | 288/830 [10:59<20:46,  2.30s/it]"
     ]
    },
    {
     "name": "stdout",
     "output_type": "stream",
     "text": [
      "1144155569667923968\n",
      "Tweet fetched:  Preßluftgehämmer aus dem Nachbarhaus, ich hoffe sehr, daß die Literatur das überdröhnen kann! #tddl\n"
     ]
    },
    {
     "name": "stderr",
     "output_type": "stream",
     "text": [
      "\r",
      " 35%|███▍      | 289/830 [11:01<20:36,  2.29s/it]"
     ]
    },
    {
     "name": "stdout",
     "output_type": "stream",
     "text": [
      "1144155587011383296\n",
      "Tweet fetched:  #tddl und ich hab frei \\o/\n"
     ]
    },
    {
     "name": "stderr",
     "output_type": "stream",
     "text": [
      "\r",
      " 35%|███▍      | 290/830 [11:04<21:31,  2.39s/it]"
     ]
    },
    {
     "name": "stdout",
     "output_type": "stream",
     "text": [
      "1144155591218253824\n",
      "Tweet fetched:  Gleich geht's los beim #bachmannpreis in Klagenfurt, ich bin schon sehr gespannt auf die Lesungen! #tddl 🤓🙃🦋🌺👽🖖💫\n"
     ]
    },
    {
     "name": "stderr",
     "output_type": "stream",
     "text": [
      "\r",
      " 35%|███▌      | 291/830 [11:06<21:10,  2.36s/it]"
     ]
    },
    {
     "name": "stdout",
     "output_type": "stream",
     "text": [
      "1144155936552103939\n",
      "Tweet fetched:  Hoffentlich liest die Autorin nicht mit derselben Intonation wie sie beim Videoporträt spricht. #tddl\n",
      "#wohineinsgeht\n"
     ]
    },
    {
     "name": "stderr",
     "output_type": "stream",
     "text": [
      "\r",
      " 35%|███▌      | 292/830 [11:08<20:52,  2.33s/it]"
     ]
    },
    {
     "name": "stdout",
     "output_type": "stream",
     "text": [
      "1144155997457584133\n",
      "Tweet fetched:  Erinnere mich noch gut, wie mich @gomringernora 2015 umgehauen hat mit ihrem Text für #tddl. Mit dem sie dann auch den Bachmannpreis gewann. Diesmal ist sie in der Jury und ich schwenke Pompoms.\n"
     ]
    },
    {
     "name": "stderr",
     "output_type": "stream",
     "text": [
      "\r",
      " 35%|███▌      | 293/830 [11:10<20:39,  2.31s/it]"
     ]
    },
    {
     "name": "stdout",
     "output_type": "stream",
     "text": [
      "1144155997457584133\n",
      "Tweet fetched:  Erinnere mich noch gut, wie mich @gomringernora 2015 umgehauen hat mit ihrem Text für #tddl. Mit dem sie dann auch den Bachmannpreis gewann. Diesmal ist sie in der Jury und ich schwenke Pompoms.\n"
     ]
    },
    {
     "name": "stderr",
     "output_type": "stream",
     "text": [
      "\r",
      " 35%|███▌      | 294/830 [11:13<20:27,  2.29s/it]"
     ]
    },
    {
     "name": "stdout",
     "output_type": "stream",
     "text": [
      "1144155997457584133\n",
      "Tweet fetched:  Erinnere mich noch gut, wie mich @gomringernora 2015 umgehauen hat mit ihrem Text für #tddl. Mit dem sie dann auch den Bachmannpreis gewann. Diesmal ist sie in der Jury und ich schwenke Pompoms.\n"
     ]
    },
    {
     "name": "stderr",
     "output_type": "stream",
     "text": [
      "\r",
      " 36%|███▌      | 295/830 [11:15<20:21,  2.28s/it]"
     ]
    },
    {
     "name": "stdout",
     "output_type": "stream",
     "text": [
      "1144156017229475840\n",
      "Tweet fetched:  Autorenproträt aus der Reihe »Auch egal.« #tddl\n"
     ]
    },
    {
     "name": "stderr",
     "output_type": "stream",
     "text": [
      "\r",
      " 36%|███▌      | 296/830 [11:17<20:16,  2.28s/it]"
     ]
    },
    {
     "name": "stdout",
     "output_type": "stream",
     "text": [
      "1144156081305915393\n",
      "Tweet fetched:  Und wieder kein Gott, der einem vor diesen überflüssigen Video\"portraits\" beschützt. #tddl #tddl19\n"
     ]
    },
    {
     "name": "stderr",
     "output_type": "stream",
     "text": [
      "\r",
      " 36%|███▌      | 297/830 [11:19<20:10,  2.27s/it]"
     ]
    },
    {
     "name": "stdout",
     "output_type": "stream",
     "text": [
      "1144156081305915393\n",
      "Tweet fetched:  Und wieder kein Gott, der einem vor diesen überflüssigen Video\"portraits\" beschützt. #tddl #tddl19\n"
     ]
    },
    {
     "name": "stderr",
     "output_type": "stream",
     "text": [
      "\r",
      " 36%|███▌      | 298/830 [11:22<20:06,  2.27s/it]"
     ]
    },
    {
     "name": "stdout",
     "output_type": "stream",
     "text": [
      "1144156148532219905\n",
      "Tweet fetched:  Es ist tatsächlich sehr erleichternd, dass ich mir diese Videoportraits inzwischen alle schon mal angeguckt habe. Dann ist der Schock nicht mehr so groß und ich kann mich vielleicht mal auf die Texte konzentrieren #tddl\n"
     ]
    },
    {
     "name": "stderr",
     "output_type": "stream",
     "text": [
      "\r",
      " 36%|███▌      | 299/830 [11:24<20:05,  2.27s/it]"
     ]
    },
    {
     "name": "stdout",
     "output_type": "stream",
     "text": [
      "1144156178697637888\n",
      "Tweet fetched:  Erstes Videoportrait des Tages und ich verdrehe schon sehr stark die Augen. Guter Start! #tddl\n"
     ]
    },
    {
     "name": "stderr",
     "output_type": "stream",
     "text": [
      "\r",
      " 36%|███▌      | 300/830 [11:26<20:05,  2.27s/it]"
     ]
    },
    {
     "name": "stdout",
     "output_type": "stream",
     "text": [
      "1144156178697637888\n",
      "Tweet fetched:  Erstes Videoportrait des Tages und ich verdrehe schon sehr stark die Augen. Guter Start! #tddl\n"
     ]
    },
    {
     "name": "stderr",
     "output_type": "stream",
     "text": [
      "\r",
      " 36%|███▋      | 301/830 [11:28<20:00,  2.27s/it]"
     ]
    },
    {
     "name": "stdout",
     "output_type": "stream",
     "text": [
      "1144156287095267328\n",
      "Tweet fetched:  Video-Portrait leider ein vollumfänglicher Abtörner. #tddl\n"
     ]
    },
    {
     "name": "stderr",
     "output_type": "stream",
     "text": [
      "\r",
      " 36%|███▋      | 302/830 [11:31<19:59,  2.27s/it]"
     ]
    },
    {
     "name": "stdout",
     "output_type": "stream",
     "text": [
      "1144156318737031168\n",
      "Tweet fetched:  Videoportär läuft und schon hasse ich den Text, obwohl noch kein Wort gelesen wurde.  #tddl\n"
     ]
    },
    {
     "name": "stderr",
     "output_type": "stream",
     "text": [
      "\r",
      " 37%|███▋      | 303/830 [11:33<19:56,  2.27s/it]"
     ]
    },
    {
     "name": "stdout",
     "output_type": "stream",
     "text": [
      "1144156318737031168\n",
      "Tweet fetched:  Videoportär läuft und schon hasse ich den Text, obwohl noch kein Wort gelesen wurde.  #tddl\n"
     ]
    },
    {
     "name": "stderr",
     "output_type": "stream",
     "text": [
      "\r",
      " 37%|███▋      | 304/830 [11:35<20:00,  2.28s/it]"
     ]
    },
    {
     "name": "stdout",
     "output_type": "stream",
     "text": [
      "1144156364341731328\n",
      "Tweet fetched:  Autorenvideo wie aus Beelitz Heilstätten (ist es nicht), den Spiegel natürlich mitgebracht, sowas bleibt in Ruinen nie heil. Unerträglich affektierte Stimme. #tddl\n"
     ]
    },
    {
     "name": "stderr",
     "output_type": "stream",
     "text": [
      "\r",
      " 37%|███▋      | 305/830 [11:38<19:54,  2.28s/it]"
     ]
    },
    {
     "name": "stdout",
     "output_type": "stream",
     "text": [
      "1144123477542285312\n",
      "Tweet fetched:  Me: should read papers urgently\n",
      "Me later: #tddl, bishhhhhhhhhh\n"
     ]
    },
    {
     "name": "stderr",
     "output_type": "stream",
     "text": [
      "\r",
      " 37%|███▋      | 306/830 [11:40<19:51,  2.27s/it]"
     ]
    },
    {
     "name": "stdout",
     "output_type": "stream",
     "text": [
      "1144955595281317888\n",
      "Tweet fetched:  Danke an alle, die beim Sammeln für #tddlKanon #tddl mitgesammelt haben! Und an die Jury, die ihre Referenzen nannte und offenlegte.\n"
     ]
    },
    {
     "name": "stderr",
     "output_type": "stream",
     "text": [
      "\r",
      " 37%|███▋      | 307/830 [11:42<20:01,  2.30s/it]"
     ]
    },
    {
     "name": "stdout",
     "output_type": "stream",
     "text": [
      "1144955595281317888\n",
      "Tweet fetched:  Danke an alle, die beim Sammeln für #tddlKanon #tddl mitgesammelt haben! Und an die Jury, die ihre Referenzen nannte und offenlegte.\n"
     ]
    },
    {
     "name": "stderr",
     "output_type": "stream",
     "text": [
      "\r",
      " 37%|███▋      | 308/830 [11:44<19:52,  2.28s/it]"
     ]
    },
    {
     "name": "stdout",
     "output_type": "stream",
     "text": [
      "1144956659921543168\n",
      "Tweet fetched:  Übrigens heißt meine Favoritin Othmann. Weil. #tddl\n"
     ]
    },
    {
     "name": "stderr",
     "output_type": "stream",
     "text": [
      "\r",
      " 37%|███▋      | 309/830 [11:47<19:46,  2.28s/it]"
     ]
    },
    {
     "name": "stdout",
     "output_type": "stream",
     "text": [
      "1144956954604912640\n",
      "Tweet fetched:  Weil Literatur Axt und Eismeer. Und so. Der Text hat mich umgehackt. #othmann Dir #Bachmannpreis #tddl @OthmannRonya\n"
     ]
    },
    {
     "name": "stderr",
     "output_type": "stream",
     "text": [
      "\r",
      " 37%|███▋      | 310/830 [11:49<20:05,  2.32s/it]"
     ]
    },
    {
     "name": "stdout",
     "output_type": "stream",
     "text": [
      "1144956954604912640\n",
      "Tweet fetched:  Weil Literatur Axt und Eismeer. Und so. Der Text hat mich umgehackt. #othmann Dir #Bachmannpreis #tddl @OthmannRonya\n"
     ]
    },
    {
     "name": "stderr",
     "output_type": "stream",
     "text": [
      "\r",
      " 37%|███▋      | 311/830 [11:51<19:53,  2.30s/it]"
     ]
    },
    {
     "name": "stdout",
     "output_type": "stream",
     "text": [
      "1144961305167769600\n",
      "Tweet fetched:  Noch mehr letzte Sätze vom Bachmann-Wettbewerb in Klagenfurt! Und eine Autorin, die staunend versichert, dass die Jury mit ihrer Deutung auf dem falschen Dampfer sei. Mehr auf https://t.co/moroYoxBxp oder gleich hier: https://t.co/3y5BsROwn2\n",
      "#tddl\n",
      "#bachmannpreis\n",
      "#Klagenfurt https://t.co/2D5xfjof4U\n"
     ]
    },
    {
     "name": "stderr",
     "output_type": "stream",
     "text": [
      "\r",
      " 38%|███▊      | 312/830 [11:54<19:42,  2.28s/it]"
     ]
    },
    {
     "name": "stdout",
     "output_type": "stream",
     "text": [
      "1144961637495033857\n",
      "Tweet fetched:  Bin sehr für Birnbacher und Schultens. #tddl\n"
     ]
    },
    {
     "name": "stderr",
     "output_type": "stream",
     "text": [
      "\r",
      " 38%|███▊      | 313/830 [11:56<19:36,  2.28s/it]"
     ]
    },
    {
     "name": "stdout",
     "output_type": "stream",
     "text": [
      "1144961637495033857\n",
      "Tweet fetched:  Bin sehr für Birnbacher und Schultens. #tddl\n"
     ]
    },
    {
     "name": "stderr",
     "output_type": "stream",
     "text": [
      "\r",
      " 38%|███▊      | 314/830 [11:58<19:30,  2.27s/it]"
     ]
    },
    {
     "name": "stdout",
     "output_type": "stream",
     "text": [
      "1144940710547906560\n",
      "Tweet fetched:  Klar darf man das literarisch bearbeiten, man muss es aber besonders gut machen.  #tddl\n"
     ]
    },
    {
     "name": "stderr",
     "output_type": "stream",
     "text": [
      "\r",
      " 38%|███▊      | 315/830 [12:00<19:26,  2.26s/it]"
     ]
    },
    {
     "name": "stdout",
     "output_type": "stream",
     "text": [
      "1144962349482352640\n",
      "Tweet fetched:  Schlecht: wenn man am #tddl -Samstag draufkommt dass die Bremsen am Leihfahrrad plötzlich komplett kaputt sind \n",
      "\n",
      "Gut: 10 Minuten später in der Tourismusinfo einfach ein anderes funktionsfähiges Rad bekommen 💚\n"
     ]
    },
    {
     "name": "stderr",
     "output_type": "stream",
     "text": [
      "\r",
      " 38%|███▊      | 316/830 [12:03<20:09,  2.35s/it]"
     ]
    },
    {
     "name": "stdout",
     "output_type": "stream",
     "text": [
      "1144962349482352640\n",
      "Tweet fetched:  Schlecht: wenn man am #tddl -Samstag draufkommt dass die Bremsen am Leihfahrrad plötzlich komplett kaputt sind \n",
      "\n",
      "Gut: 10 Minuten später in der Tourismusinfo einfach ein anderes funktionsfähiges Rad bekommen 💚\n"
     ]
    },
    {
     "name": "stderr",
     "output_type": "stream",
     "text": [
      "\r",
      " 38%|███▊      | 317/830 [12:05<20:35,  2.41s/it]"
     ]
    },
    {
     "name": "stdout",
     "output_type": "stream",
     "text": [
      "1144963940105035776\n",
      "Tweet fetched:  @holiode Ende der #tddl: Hubert steht an der Drau und sucht die Furt, um ohne Klagen das Weite zu suchen.\n"
     ]
    },
    {
     "name": "stderr",
     "output_type": "stream",
     "text": [
      "\r",
      " 38%|███▊      | 318/830 [12:08<20:08,  2.36s/it]"
     ]
    },
    {
     "name": "stdout",
     "output_type": "stream",
     "text": [
      "1144964729158492160\n",
      "Tweet fetched:  Jetzt mit der Frau @consertum im Heiligen See baden und bis tief in die Nacht über #tddl sprechen.\n",
      "Das wär schön.\n"
     ]
    },
    {
     "name": "stderr",
     "output_type": "stream",
     "text": [
      "\r",
      " 38%|███▊      | 319/830 [12:10<19:49,  2.33s/it]"
     ]
    },
    {
     "name": "stdout",
     "output_type": "stream",
     "text": [
      "1144965891886596101\n",
      "Tweet fetched:  @BernadetNemeth @Emons_Verlag Auch keine Bilder auf Instagram, die sich mit dem Literaturwettbewerb befassen. Ansonsten werden die #tddl-Tweets schon gelesen, von einer Handvoll Menschen, die die Texte und Jurydiskussionen verfolgen.\n"
     ]
    },
    {
     "name": "stderr",
     "output_type": "stream",
     "text": [
      "\r",
      " 39%|███▊      | 320/830 [12:12<19:34,  2.30s/it]"
     ]
    },
    {
     "name": "stdout",
     "output_type": "stream",
     "text": [
      "1144965891886596101\n",
      "Tweet fetched:  @BernadetNemeth @Emons_Verlag Auch keine Bilder auf Instagram, die sich mit dem Literaturwettbewerb befassen. Ansonsten werden die #tddl-Tweets schon gelesen, von einer Handvoll Menschen, die die Texte und Jurydiskussionen verfolgen.\n"
     ]
    },
    {
     "name": "stderr",
     "output_type": "stream",
     "text": [
      "\r",
      " 39%|███▊      | 321/830 [12:14<19:25,  2.29s/it]"
     ]
    },
    {
     "name": "stdout",
     "output_type": "stream",
     "text": [
      "1144966327901335553\n",
      "Tweet fetched:  Ach, wie gut, mir ist so heiß,\n",
      "dass ich nicht in Kärnten schweiß.\n",
      "#tddl\n"
     ]
    },
    {
     "name": "stderr",
     "output_type": "stream",
     "text": [
      "\r",
      " 39%|███▉      | 322/830 [12:17<19:18,  2.28s/it]"
     ]
    },
    {
     "name": "stdout",
     "output_type": "stream",
     "text": [
      "1144967118527578112\n",
      "Tweet fetched:  This is a one-stop shop for anyone interested in the phenomenon that is the annual Bachmann Prize in German-language literary culture #tddl https://t.co/rBw9N0TONm\n"
     ]
    },
    {
     "name": "stderr",
     "output_type": "stream",
     "text": [
      "\r",
      " 39%|███▉      | 323/830 [12:19<19:23,  2.30s/it]"
     ]
    },
    {
     "name": "stdout",
     "output_type": "stream",
     "text": [
      "1144967118527578112\n",
      "Tweet fetched:  This is a one-stop shop for anyone interested in the phenomenon that is the annual Bachmann Prize in German-language literary culture #tddl https://t.co/rBw9N0TONm\n"
     ]
    },
    {
     "name": "stderr",
     "output_type": "stream",
     "text": [
      "\r",
      " 39%|███▉      | 324/830 [12:21<19:19,  2.29s/it]"
     ]
    },
    {
     "name": "stdout",
     "output_type": "stream",
     "text": [
      "1144940783906230272\n",
      "Tweet fetched:  Gomringer mag den Text - aber Gomringer hat auch den sehr dubiosen Text von Silvia Tschui eingeladen. #tddl #tddl19\n"
     ]
    },
    {
     "name": "stderr",
     "output_type": "stream",
     "text": [
      "\r",
      " 39%|███▉      | 325/830 [12:24<19:15,  2.29s/it]"
     ]
    },
    {
     "name": "stdout",
     "output_type": "stream",
     "text": [
      "1144940783906230272\n",
      "Tweet fetched:  Gomringer mag den Text - aber Gomringer hat auch den sehr dubiosen Text von Silvia Tschui eingeladen. #tddl #tddl19\n"
     ]
    },
    {
     "name": "stderr",
     "output_type": "stream",
     "text": [
      "\r",
      " 39%|███▉      | 326/830 [12:26<19:06,  2.28s/it]"
     ]
    },
    {
     "name": "stdout",
     "output_type": "stream",
     "text": [
      "1144940783906230272\n",
      "Tweet fetched:  Gomringer mag den Text - aber Gomringer hat auch den sehr dubiosen Text von Silvia Tschui eingeladen. #tddl #tddl19\n"
     ]
    },
    {
     "name": "stderr",
     "output_type": "stream",
     "text": [
      "\r",
      " 39%|███▉      | 327/830 [12:28<18:59,  2.27s/it]"
     ]
    },
    {
     "name": "stdout",
     "output_type": "stream",
     "text": [
      "1144969945819885569\n",
      "Tweet fetched:  @tddlit Wooo? Hier ist kein weiterführender Link zu finden. Bin blind oder da fehlt was. #tddl #publikumspreis\n"
     ]
    },
    {
     "name": "stderr",
     "output_type": "stream",
     "text": [
      "\r",
      " 40%|███▉      | 328/830 [12:30<18:56,  2.26s/it]"
     ]
    },
    {
     "name": "stdout",
     "output_type": "stream",
     "text": [
      "1144973332783214592\n",
      "Tweet fetched:  @didi_drobna @tddlit Ich glaube, im letzten Jahr gab es ebenfalls technische Probleme, und dann wurde die Abstimmzeit verlängert. #tddl\n"
     ]
    },
    {
     "name": "stderr",
     "output_type": "stream",
     "text": [
      "\r",
      " 40%|███▉      | 329/830 [12:33<18:54,  2.26s/it]"
     ]
    },
    {
     "name": "stdout",
     "output_type": "stream",
     "text": [
      "1144974942259351552\n",
      "Tweet fetched:  Die 4 besten Texte, meiner Meinung nach, nach Preisen sortiert, sind, Sarah Wipauer, Ronya Othmann, Brigit Birnbacher, Julia Jost. Publikumspreis Ines Birkhan (bittebitte!) #tddl #tddl19\n"
     ]
    },
    {
     "name": "stderr",
     "output_type": "stream",
     "text": [
      "\r",
      " 40%|███▉      | 330/830 [12:35<18:51,  2.26s/it]"
     ]
    },
    {
     "name": "stdout",
     "output_type": "stream",
     "text": [
      "1144974942259351552\n",
      "Tweet fetched:  Die 4 besten Texte, meiner Meinung nach, nach Preisen sortiert, sind, Sarah Wipauer, Ronya Othmann, Brigit Birnbacher, Julia Jost. Publikumspreis Ines Birkhan (bittebitte!) #tddl #tddl19\n"
     ]
    },
    {
     "name": "stderr",
     "output_type": "stream",
     "text": [
      "\r",
      " 40%|███▉      | 331/830 [12:37<18:48,  2.26s/it]"
     ]
    },
    {
     "name": "stdout",
     "output_type": "stream",
     "text": [
      "1144978547355934721\n",
      "Tweet fetched:  @DietrichMau @holiode er kann sie finden, wenn er mitm Ford nach nach #Frankfurt fahrt, aber dann will ich hier keine Klagen mehr hören, please? #hach . #ilike #tddl\n"
     ]
    },
    {
     "name": "stderr",
     "output_type": "stream",
     "text": [
      "\r",
      " 40%|████      | 332/830 [12:39<18:44,  2.26s/it]"
     ]
    },
    {
     "name": "stdout",
     "output_type": "stream",
     "text": [
      "1144978547355934721\n",
      "Tweet fetched:  @DietrichMau @holiode er kann sie finden, wenn er mitm Ford nach nach #Frankfurt fahrt, aber dann will ich hier keine Klagen mehr hören, please? #hach . #ilike #tddl\n"
     ]
    },
    {
     "name": "stderr",
     "output_type": "stream",
     "text": [
      "\r",
      " 40%|████      | 333/830 [12:42<18:39,  2.25s/it]"
     ]
    },
    {
     "name": "stdout",
     "output_type": "stream",
     "text": [
      "1144979281849790464\n",
      "Tweet fetched:  @DorisBrockmann Mein Handy ist alt, aber Google hilft immer! 😉 Na gut, für dich tipp ich die Adresse ein: https://t.co/xiM7e9Xk3T, dann erstem Beitrag folgen und unter Preise abstimmen. #teamjost #tddl\n"
     ]
    },
    {
     "name": "stderr",
     "output_type": "stream",
     "text": [
      "\r",
      " 40%|████      | 334/830 [12:44<18:35,  2.25s/it]"
     ]
    },
    {
     "name": "stdout",
     "output_type": "stream",
     "text": [
      "1144979281849790464\n",
      "Tweet fetched:  @DorisBrockmann Mein Handy ist alt, aber Google hilft immer! 😉 Na gut, für dich tipp ich die Adresse ein: https://t.co/xiM7e9Xk3T, dann erstem Beitrag folgen und unter Preise abstimmen. #teamjost #tddl\n"
     ]
    },
    {
     "name": "stderr",
     "output_type": "stream",
     "text": [
      "\r",
      " 40%|████      | 335/830 [12:46<19:04,  2.31s/it]"
     ]
    },
    {
     "name": "stdout",
     "output_type": "stream",
     "text": [
      "1144979281849790464\n",
      "Tweet fetched:  @DorisBrockmann Mein Handy ist alt, aber Google hilft immer! 😉 Na gut, für dich tipp ich die Adresse ein: https://t.co/xiM7e9Xk3T, dann erstem Beitrag folgen und unter Preise abstimmen. #teamjost #tddl\n"
     ]
    },
    {
     "name": "stderr",
     "output_type": "stream",
     "text": [
      "\r",
      " 40%|████      | 336/830 [12:49<19:25,  2.36s/it]"
     ]
    },
    {
     "name": "stdout",
     "output_type": "stream",
     "text": [
      "1144979281849790464\n",
      "Tweet fetched:  @DorisBrockmann Mein Handy ist alt, aber Google hilft immer! 😉 Na gut, für dich tipp ich die Adresse ein: https://t.co/xiM7e9Xk3T, dann erstem Beitrag folgen und unter Preise abstimmen. #teamjost #tddl\n"
     ]
    },
    {
     "name": "stderr",
     "output_type": "stream",
     "text": [
      "\r",
      " 41%|████      | 337/830 [12:51<19:36,  2.39s/it]"
     ]
    },
    {
     "name": "stdout",
     "output_type": "stream",
     "text": [
      "1144979827302313985\n",
      "Tweet fetched:  @praxsozi @DietrichMau Besser als Kummer. Definitiv. #tddl\n"
     ]
    },
    {
     "name": "stderr",
     "output_type": "stream",
     "text": [
      "\r",
      " 41%|████      | 338/830 [12:54<19:13,  2.35s/it]"
     ]
    },
    {
     "name": "stdout",
     "output_type": "stream",
     "text": [
      "1144980325531049984\n",
      "Tweet fetched:  Meine Favoritinnen bleiben Birgit Birnbacher, Sarah Wipauer und Ines Birkhan.\n",
      "Werde entsprechend abstimmen.\n",
      "#tddl\n"
     ]
    },
    {
     "name": "stderr",
     "output_type": "stream",
     "text": [
      "\r",
      " 41%|████      | 339/830 [12:56<18:57,  2.32s/it]"
     ]
    },
    {
     "name": "stdout",
     "output_type": "stream",
     "text": [
      "1144940801241374720\n",
      "Tweet fetched:  Die Banalität des Erzählten hatte Hannah Arendt aber so nicht im Sinn. #tddl\n"
     ]
    },
    {
     "name": "stderr",
     "output_type": "stream",
     "text": [
      "\r",
      " 41%|████      | 340/830 [12:58<19:16,  2.36s/it]"
     ]
    },
    {
     "name": "stdout",
     "output_type": "stream",
     "text": [
      "1144984702853533697\n",
      "Tweet fetched:  @DorisBrockmann Kannst du uns schreiben, welches Gerät und welchen Browser du verwendest? Es wurde mit vielen Geräten getestet - Momentan kommen auch viele Votings rein. Vielleicht staut es sich zur Zeit. #tddl #publikumspreis\n"
     ]
    },
    {
     "name": "stderr",
     "output_type": "stream",
     "text": [
      "\r",
      " 41%|████      | 341/830 [13:01<19:03,  2.34s/it]"
     ]
    },
    {
     "name": "stdout",
     "output_type": "stream",
     "text": [
      "1144984702853533697\n",
      "Tweet fetched:  @DorisBrockmann Kannst du uns schreiben, welches Gerät und welchen Browser du verwendest? Es wurde mit vielen Geräten getestet - Momentan kommen auch viele Votings rein. Vielleicht staut es sich zur Zeit. #tddl #publikumspreis\n"
     ]
    },
    {
     "name": "stderr",
     "output_type": "stream",
     "text": [
      "\r",
      " 41%|████      | 342/830 [13:03<19:48,  2.44s/it]"
     ]
    },
    {
     "name": "stdout",
     "output_type": "stream",
     "text": [
      "1144985079694991361\n",
      "Tweet fetched:  Wer hat den Link für den Publikumspreis? Bitte danke. #tddl\n"
     ]
    },
    {
     "name": "stderr",
     "output_type": "stream",
     "text": [
      "\r",
      " 41%|████▏     | 343/830 [13:06<19:39,  2.42s/it]"
     ]
    },
    {
     "name": "stdout",
     "output_type": "stream",
     "text": [
      "1144985429151834113\n",
      "Tweet fetched:  nur Nora Gomringer weiß, dass es auch nach 1984 viele gute Dystopien gab ...#tddl halt! Insa Wilke kennt Ursula K. LeGuin! 😱\n"
     ]
    },
    {
     "name": "stderr",
     "output_type": "stream",
     "text": [
      "\r",
      " 41%|████▏     | 344/830 [13:08<19:13,  2.37s/it]"
     ]
    },
    {
     "name": "stdout",
     "output_type": "stream",
     "text": [
      "1144985429151834113\n",
      "Tweet fetched:  nur Nora Gomringer weiß, dass es auch nach 1984 viele gute Dystopien gab ...#tddl halt! Insa Wilke kennt Ursula K. LeGuin! 😱\n"
     ]
    },
    {
     "name": "stderr",
     "output_type": "stream",
     "text": [
      "\r",
      " 42%|████▏     | 345/830 [13:10<19:11,  2.37s/it]"
     ]
    },
    {
     "name": "stdout",
     "output_type": "stream",
     "text": [
      "1144985429151834113\n",
      "Tweet fetched:  nur Nora Gomringer weiß, dass es auch nach 1984 viele gute Dystopien gab ...#tddl halt! Insa Wilke kennt Ursula K. LeGuin! 😱\n"
     ]
    },
    {
     "name": "stderr",
     "output_type": "stream",
     "text": [
      "\r",
      " 42%|████▏     | 346/830 [13:12<18:52,  2.34s/it]"
     ]
    },
    {
     "name": "stdout",
     "output_type": "stream",
     "text": [
      "1144985429151834113\n",
      "Tweet fetched:  nur Nora Gomringer weiß, dass es auch nach 1984 viele gute Dystopien gab ...#tddl halt! Insa Wilke kennt Ursula K. LeGuin! 😱\n"
     ]
    },
    {
     "name": "stderr",
     "output_type": "stream",
     "text": [
      "\r",
      " 42%|████▏     | 347/830 [13:15<18:38,  2.32s/it]"
     ]
    },
    {
     "name": "stdout",
     "output_type": "stream",
     "text": [
      "1144985429151834113\n",
      "Tweet fetched:  nur Nora Gomringer weiß, dass es auch nach 1984 viele gute Dystopien gab ...#tddl halt! Insa Wilke kennt Ursula K. LeGuin! 😱\n"
     ]
    },
    {
     "name": "stderr",
     "output_type": "stream",
     "text": [
      "\r",
      " 42%|████▏     | 348/830 [13:17<18:28,  2.30s/it]"
     ]
    },
    {
     "name": "stdout",
     "output_type": "stream",
     "text": [
      "1144985429151834113\n",
      "Tweet fetched:  nur Nora Gomringer weiß, dass es auch nach 1984 viele gute Dystopien gab ...#tddl halt! Insa Wilke kennt Ursula K. LeGuin! 😱\n"
     ]
    },
    {
     "name": "stderr",
     "output_type": "stream",
     "text": [
      "\r",
      " 42%|████▏     | 349/830 [13:19<18:46,  2.34s/it]"
     ]
    },
    {
     "name": "stdout",
     "output_type": "stream",
     "text": [
      "1144985604612116481\n",
      "Tweet fetched:  JETZT live im Deutschlandfunk: Literaturredakteur @gerritbartels3 (@Tagesspiegel) und Fotograf Michael J. Stephan streiten über die Frage \"Braucht Literatur Wettbewerbe?\"\n",
      "\n",
      "Mit dabei: ein Wutausbruch von Bewerbs-Teilnehmerin Katharina Schultens. #tddl #tddl2019\n"
     ]
    },
    {
     "name": "stderr",
     "output_type": "stream",
     "text": [
      "\r",
      " 42%|████▏     | 350/830 [13:22<18:32,  2.32s/it]"
     ]
    },
    {
     "name": "stdout",
     "output_type": "stream",
     "text": [
      "1144985615043313664\n",
      "Tweet fetched:  nur Nora Gomringer weiß, dass es auch nach 1984 viele gute Dystopien gab ...#tddl halt! Insa Wilke kennt Ursula K. LeGuin! 😱\n"
     ]
    },
    {
     "name": "stderr",
     "output_type": "stream",
     "text": [
      "\r",
      " 42%|████▏     | 351/830 [13:24<18:23,  2.30s/it]"
     ]
    },
    {
     "name": "stdout",
     "output_type": "stream",
     "text": [
      "1144985615043313664\n",
      "Tweet fetched:  nur Nora Gomringer weiß, dass es auch nach 1984 viele gute Dystopien gab ...#tddl halt! Insa Wilke kennt Ursula K. LeGuin! 😱\n"
     ]
    },
    {
     "name": "stderr",
     "output_type": "stream",
     "text": [
      "\r",
      " 42%|████▏     | 352/830 [13:26<18:15,  2.29s/it]"
     ]
    },
    {
     "name": "stdout",
     "output_type": "stream",
     "text": [
      "1144985615043313664\n",
      "Tweet fetched:  nur Nora Gomringer weiß, dass es auch nach 1984 viele gute Dystopien gab ...#tddl halt! Insa Wilke kennt Ursula K. LeGuin! 😱\n"
     ]
    },
    {
     "name": "stderr",
     "output_type": "stream",
     "text": [
      "\r",
      " 43%|████▎     | 353/830 [13:29<18:31,  2.33s/it]"
     ]
    },
    {
     "name": "stdout",
     "output_type": "stream",
     "text": [
      "1144985615043313664\n",
      "Tweet fetched:  nur Nora Gomringer weiß, dass es auch nach 1984 viele gute Dystopien gab ...#tddl halt! Insa Wilke kennt Ursula K. LeGuin! 😱\n"
     ]
    },
    {
     "name": "stderr",
     "output_type": "stream",
     "text": [
      "\r",
      " 43%|████▎     | 354/830 [13:31<18:19,  2.31s/it]"
     ]
    },
    {
     "name": "stdout",
     "output_type": "stream",
     "text": [
      "1144985615043313664\n",
      "Tweet fetched:  nur Nora Gomringer weiß, dass es auch nach 1984 viele gute Dystopien gab ...#tddl halt! Insa Wilke kennt Ursula K. LeGuin! 😱\n"
     ]
    },
    {
     "name": "stderr",
     "output_type": "stream",
     "text": [
      "\r",
      " 43%|████▎     | 355/830 [13:33<18:37,  2.35s/it]"
     ]
    },
    {
     "name": "stdout",
     "output_type": "stream",
     "text": [
      "1144985615043313664\n",
      "Tweet fetched:  nur Nora Gomringer weiß, dass es auch nach 1984 viele gute Dystopien gab ...#tddl halt! Insa Wilke kennt Ursula K. LeGuin! 😱\n"
     ]
    },
    {
     "name": "stderr",
     "output_type": "stream",
     "text": [
      "\r",
      " 43%|████▎     | 356/830 [13:36<18:20,  2.32s/it]"
     ]
    },
    {
     "name": "stdout",
     "output_type": "stream",
     "text": [
      "1144987110488838145\n",
      "Tweet fetched:  Bachmann-Wettbewerb 2019 (#tddl): Dass Kriege die Menschen verändern, ist nichts Neues. Und doch zeigt Silvia Tschui, das noch längst nicht alles darüber gesagt wurde.\n",
      "\n",
      "https://t.co/bx6iZome3b https://t.co/tMr3uIsK4Z\n"
     ]
    },
    {
     "name": "stderr",
     "output_type": "stream",
     "text": [
      "\r",
      " 43%|████▎     | 357/830 [13:38<18:08,  2.30s/it]"
     ]
    },
    {
     "name": "stdout",
     "output_type": "stream",
     "text": [
      "1144987110488838145\n",
      "Tweet fetched:  Bachmann-Wettbewerb 2019 (#tddl): Dass Kriege die Menschen verändern, ist nichts Neues. Und doch zeigt Silvia Tschui, das noch längst nicht alles darüber gesagt wurde.\n",
      "\n",
      "https://t.co/bx6iZome3b https://t.co/tMr3uIsK4Z\n"
     ]
    },
    {
     "name": "stderr",
     "output_type": "stream",
     "text": [
      "\r",
      " 43%|████▎     | 358/830 [13:40<18:00,  2.29s/it]"
     ]
    },
    {
     "name": "stdout",
     "output_type": "stream",
     "text": [
      "1144987110488838145\n",
      "Tweet fetched:  Bachmann-Wettbewerb 2019 (#tddl): Dass Kriege die Menschen verändern, ist nichts Neues. Und doch zeigt Silvia Tschui, das noch längst nicht alles darüber gesagt wurde.\n",
      "\n",
      "https://t.co/bx6iZome3b https://t.co/tMr3uIsK4Z\n"
     ]
    },
    {
     "name": "stderr",
     "output_type": "stream",
     "text": [
      "\r",
      " 43%|████▎     | 359/830 [13:42<17:52,  2.28s/it]"
     ]
    },
    {
     "name": "stdout",
     "output_type": "stream",
     "text": [
      "1144987414005465093\n",
      "Tweet fetched:  doch noch am see, aber zu spät zum wettschwimmen diesmal. musste halt wer anders letzte sein. #tddl https://t.co/T099z4PRhS\n"
     ]
    },
    {
     "name": "stderr",
     "output_type": "stream",
     "text": [
      "\r",
      " 43%|████▎     | 360/830 [13:45<17:47,  2.27s/it]"
     ]
    },
    {
     "name": "stdout",
     "output_type": "stream",
     "text": [
      "1144987632985935873\n",
      "Tweet fetched:  #tddl - Das #dsds für Schreiber. ;)\n"
     ]
    },
    {
     "name": "stderr",
     "output_type": "stream",
     "text": [
      "\r",
      " 43%|████▎     | 361/830 [13:47<18:10,  2.33s/it]"
     ]
    },
    {
     "name": "stdout",
     "output_type": "stream",
     "text": [
      "1144988781826756609\n",
      "[{'code': 144, 'message': 'No status found with that ID.'}]\n",
      "Inside the exception - no:2\n"
     ]
    },
    {
     "name": "stderr",
     "output_type": "stream",
     "text": [
      "\r",
      " 44%|████▎     | 362/830 [13:49<17:56,  2.30s/it]"
     ]
    },
    {
     "name": "stdout",
     "output_type": "stream",
     "text": [
      "1144988781826756609\n",
      "[{'code': 144, 'message': 'No status found with that ID.'}]\n",
      "Inside the exception - no:2\n"
     ]
    },
    {
     "name": "stderr",
     "output_type": "stream",
     "text": [
      "\r",
      " 44%|████▎     | 363/830 [13:52<17:44,  2.28s/it]"
     ]
    },
    {
     "name": "stdout",
     "output_type": "stream",
     "text": [
      "1144988781826756609\n",
      "[{'code': 144, 'message': 'No status found with that ID.'}]\n",
      "Inside the exception - no:2\n"
     ]
    },
    {
     "name": "stderr",
     "output_type": "stream",
     "text": [
      "\r",
      " 44%|████▍     | 364/830 [13:54<17:57,  2.31s/it]"
     ]
    },
    {
     "name": "stdout",
     "output_type": "stream",
     "text": [
      "1144988781826756609\n",
      "[{'code': 144, 'message': 'No status found with that ID.'}]\n",
      "Inside the exception - no:2\n"
     ]
    },
    {
     "name": "stderr",
     "output_type": "stream",
     "text": [
      "\r",
      " 44%|████▍     | 365/830 [13:56<17:43,  2.29s/it]"
     ]
    },
    {
     "name": "stdout",
     "output_type": "stream",
     "text": [
      "1144988781826756609\n",
      "[{'code': 144, 'message': 'No status found with that ID.'}]\n",
      "Inside the exception - no:2\n"
     ]
    },
    {
     "name": "stderr",
     "output_type": "stream",
     "text": [
      "\r",
      " 44%|████▍     | 366/830 [13:58<17:35,  2.27s/it]"
     ]
    },
    {
     "name": "stdout",
     "output_type": "stream",
     "text": [
      "1144988781826756609\n",
      "[{'code': 144, 'message': 'No status found with that ID.'}]\n",
      "Inside the exception - no:2\n"
     ]
    },
    {
     "name": "stderr",
     "output_type": "stream",
     "text": [
      "\r",
      " 44%|████▍     | 367/830 [14:01<17:25,  2.26s/it]"
     ]
    },
    {
     "name": "stdout",
     "output_type": "stream",
     "text": [
      "1144989372313415681\n",
      "Tweet fetched:  Vorstusslorbeeren\n",
      "#tddl\n"
     ]
    },
    {
     "name": "stderr",
     "output_type": "stream",
     "text": [
      "\r",
      " 44%|████▍     | 368/830 [14:03<17:51,  2.32s/it]"
     ]
    },
    {
     "name": "stdout",
     "output_type": "stream",
     "text": [
      "1144940812972810240\n",
      "Tweet fetched:  Zum Schluss nochmal richtig Jury-Knatsch #tddl\n"
     ]
    },
    {
     "name": "stderr",
     "output_type": "stream",
     "text": [
      "\r",
      " 44%|████▍     | 369/830 [14:05<17:54,  2.33s/it]"
     ]
    },
    {
     "name": "stdout",
     "output_type": "stream",
     "text": [
      "1144990748342980608\n",
      "Tweet fetched:  Was bringen mir als Leser solche Wettbewerbe wie der #tddl ? Longlists, Shortlists, Fastgewinner, Sieger in der Kategorie die schönsten Seitenzahlen... Mittlerweile ist es fast besser, nur Bücher zu lesen, die keine Preise gewonnen haben.\n"
     ]
    },
    {
     "name": "stderr",
     "output_type": "stream",
     "text": [
      "\r",
      " 45%|████▍     | 370/830 [14:08<17:40,  2.31s/it]"
     ]
    },
    {
     "name": "stdout",
     "output_type": "stream",
     "text": [
      "1144990748342980608\n",
      "Tweet fetched:  Was bringen mir als Leser solche Wettbewerbe wie der #tddl ? Longlists, Shortlists, Fastgewinner, Sieger in der Kategorie die schönsten Seitenzahlen... Mittlerweile ist es fast besser, nur Bücher zu lesen, die keine Preise gewonnen haben.\n"
     ]
    },
    {
     "name": "stderr",
     "output_type": "stream",
     "text": [
      "\r",
      " 45%|████▍     | 371/830 [14:10<17:30,  2.29s/it]"
     ]
    },
    {
     "name": "stdout",
     "output_type": "stream",
     "text": [
      "1144990748342980608\n",
      "Tweet fetched:  Was bringen mir als Leser solche Wettbewerbe wie der #tddl ? Longlists, Shortlists, Fastgewinner, Sieger in der Kategorie die schönsten Seitenzahlen... Mittlerweile ist es fast besser, nur Bücher zu lesen, die keine Preise gewonnen haben.\n"
     ]
    },
    {
     "name": "stderr",
     "output_type": "stream",
     "text": [
      "\r",
      " 45%|████▍     | 372/830 [14:12<17:22,  2.28s/it]"
     ]
    },
    {
     "name": "stdout",
     "output_type": "stream",
     "text": [
      "1144990748342980608\n",
      "Tweet fetched:  Was bringen mir als Leser solche Wettbewerbe wie der #tddl ? Longlists, Shortlists, Fastgewinner, Sieger in der Kategorie die schönsten Seitenzahlen... Mittlerweile ist es fast besser, nur Bücher zu lesen, die keine Preise gewonnen haben.\n"
     ]
    },
    {
     "name": "stderr",
     "output_type": "stream",
     "text": [
      "\r",
      " 45%|████▍     | 373/830 [14:14<17:15,  2.27s/it]"
     ]
    },
    {
     "name": "stdout",
     "output_type": "stream",
     "text": [
      "1144990748342980608\n",
      "Tweet fetched:  Was bringen mir als Leser solche Wettbewerbe wie der #tddl ? Longlists, Shortlists, Fastgewinner, Sieger in der Kategorie die schönsten Seitenzahlen... Mittlerweile ist es fast besser, nur Bücher zu lesen, die keine Preise gewonnen haben.\n"
     ]
    },
    {
     "name": "stderr",
     "output_type": "stream",
     "text": [
      "\r",
      " 45%|████▌     | 374/830 [14:17<17:12,  2.27s/it]"
     ]
    },
    {
     "name": "stdout",
     "output_type": "stream",
     "text": [
      "1144990748342980608\n",
      "Tweet fetched:  Was bringen mir als Leser solche Wettbewerbe wie der #tddl ? Longlists, Shortlists, Fastgewinner, Sieger in der Kategorie die schönsten Seitenzahlen... Mittlerweile ist es fast besser, nur Bücher zu lesen, die keine Preise gewonnen haben.\n"
     ]
    },
    {
     "name": "stderr",
     "output_type": "stream",
     "text": [
      "\r",
      " 45%|████▌     | 375/830 [14:19<17:12,  2.27s/it]"
     ]
    },
    {
     "name": "stdout",
     "output_type": "stream",
     "text": [
      "1144990748342980608\n",
      "Tweet fetched:  Was bringen mir als Leser solche Wettbewerbe wie der #tddl ? Longlists, Shortlists, Fastgewinner, Sieger in der Kategorie die schönsten Seitenzahlen... Mittlerweile ist es fast besser, nur Bücher zu lesen, die keine Preise gewonnen haben.\n"
     ]
    },
    {
     "name": "stderr",
     "output_type": "stream",
     "text": [
      "\r",
      " 45%|████▌     | 376/830 [14:21<17:10,  2.27s/it]"
     ]
    },
    {
     "name": "stdout",
     "output_type": "stream",
     "text": [
      "1144991002815582208\n",
      "Tweet fetched:  Ich bin für eine Greta Thunberg der Literatur. #tddl\n"
     ]
    },
    {
     "name": "stderr",
     "output_type": "stream",
     "text": [
      "\r",
      " 45%|████▌     | 377/830 [14:24<17:09,  2.27s/it]"
     ]
    },
    {
     "name": "stdout",
     "output_type": "stream",
     "text": [
      "1144993991261327361\n",
      "Tweet fetched:  Dieses Publikumsabstimmungs-Ding hat der ORF leider ziemlich verkackt. #tddl\n"
     ]
    },
    {
     "name": "stderr",
     "output_type": "stream",
     "text": [
      "\r",
      " 46%|████▌     | 378/830 [14:26<17:31,  2.33s/it]"
     ]
    },
    {
     "name": "stdout",
     "output_type": "stream",
     "text": [
      "1144993991261327361\n",
      "Tweet fetched:  Dieses Publikumsabstimmungs-Ding hat der ORF leider ziemlich verkackt. #tddl\n"
     ]
    },
    {
     "name": "stderr",
     "output_type": "stream",
     "text": [
      "\r",
      " 46%|████▌     | 379/830 [14:28<17:20,  2.31s/it]"
     ]
    },
    {
     "name": "stdout",
     "output_type": "stream",
     "text": [
      "1144994141031620608\n",
      "Tweet fetched:  @PeterHellinger Sind wohl alle literaturfans und du hast für den falschen kandiaten bei #tddl gevoted??\n"
     ]
    },
    {
     "name": "stderr",
     "output_type": "stream",
     "text": [
      "\r",
      " 46%|████▌     | 380/830 [14:30<17:11,  2.29s/it]"
     ]
    },
    {
     "name": "stdout",
     "output_type": "stream",
     "text": [
      "1144994573053235200\n",
      "Tweet fetched:  Publikumsabstimmung bei #tddl nur noch mit Handy möglich. Na schönen Dank auch.\n"
     ]
    },
    {
     "name": "stderr",
     "output_type": "stream",
     "text": [
      "\r",
      " 46%|████▌     | 381/830 [14:33<17:07,  2.29s/it]"
     ]
    },
    {
     "name": "stdout",
     "output_type": "stream",
     "text": [
      "1144994573053235200\n",
      "Tweet fetched:  Publikumsabstimmung bei #tddl nur noch mit Handy möglich. Na schönen Dank auch.\n"
     ]
    },
    {
     "name": "stderr",
     "output_type": "stream",
     "text": [
      "\r",
      " 46%|████▌     | 382/830 [14:35<17:23,  2.33s/it]"
     ]
    },
    {
     "name": "stdout",
     "output_type": "stream",
     "text": [
      "1144994573053235200\n",
      "Tweet fetched:  Publikumsabstimmung bei #tddl nur noch mit Handy möglich. Na schönen Dank auch.\n"
     ]
    },
    {
     "name": "stderr",
     "output_type": "stream",
     "text": [
      "\r",
      " 46%|████▌     | 383/830 [14:37<17:11,  2.31s/it]"
     ]
    },
    {
     "name": "stdout",
     "output_type": "stream",
     "text": [
      "1144994573053235200\n",
      "Tweet fetched:  Publikumsabstimmung bei #tddl nur noch mit Handy möglich. Na schönen Dank auch.\n"
     ]
    },
    {
     "name": "stderr",
     "output_type": "stream",
     "text": [
      "\r",
      " 46%|████▋     | 384/830 [14:40<17:00,  2.29s/it]"
     ]
    },
    {
     "name": "stdout",
     "output_type": "stream",
     "text": [
      "1144995440313667584\n",
      "Tweet fetched:  @ahoi_polloi Bei mir hat es geklappt. #tddl\n"
     ]
    },
    {
     "name": "stderr",
     "output_type": "stream",
     "text": [
      "\r",
      " 46%|████▋     | 385/830 [14:42<16:54,  2.28s/it]"
     ]
    },
    {
     "name": "stdout",
     "output_type": "stream",
     "text": [
      "1144995528096342016\n",
      "Tweet fetched:  Jede Webseite, die für Handy optimiert ist, ist damit kwasi Einhandliteratur. #tddl\n"
     ]
    },
    {
     "name": "stderr",
     "output_type": "stream",
     "text": [
      "\r",
      " 47%|████▋     | 386/830 [14:44<16:48,  2.27s/it]"
     ]
    },
    {
     "name": "stdout",
     "output_type": "stream",
     "text": [
      "1144998073120284672\n",
      "Tweet fetched:  Erst murkelte man in der Ursuppe, dann ging es ans Eingemachte. Am letzten Tag des #tddl -Wettbewerbs gab es einen sehr guten Text, aber auch eine „Stella“-Klondebatte über die literarische Darstellung des Nationalsozialismus, berichtet Jan Wiele: https://t.co/QEvFCmBesi\n"
     ]
    },
    {
     "name": "stderr",
     "output_type": "stream",
     "text": [
      "\r",
      " 47%|████▋     | 387/830 [14:46<16:43,  2.27s/it]"
     ]
    },
    {
     "name": "stdout",
     "output_type": "stream",
     "text": [
      "1144998072168189952\n",
      "Tweet fetched:  Erst murkelte man in der Ursuppe, dann ging es ans Eingemachte. Am letzten Tag des #tddl -Wettbewerbs gab es einen sehr guten Text, aber auch eine „Stella“-Klondebatte über die literarische Darstellung des Nationalsozialismus, berichtet Jan Wiele: https://t.co/OehH06Co35\n"
     ]
    },
    {
     "name": "stderr",
     "output_type": "stream",
     "text": [
      "\r",
      " 47%|████▋     | 388/830 [14:49<16:52,  2.29s/it]"
     ]
    },
    {
     "name": "stdout",
     "output_type": "stream",
     "text": [
      "1144999174888394754\n",
      "Tweet fetched:  Der Preis für das bekloppteste Portraitvideo ist auf jeden Fall schon vergeben: https://t.co/lL71f8wEaF #tddl\n"
     ]
    },
    {
     "name": "stderr",
     "output_type": "stream",
     "text": [
      "\r",
      " 47%|████▋     | 389/830 [14:51<16:46,  2.28s/it]"
     ]
    },
    {
     "name": "stdout",
     "output_type": "stream",
     "text": [
      "1145001610780774400\n",
      "Tweet fetched:  Auch in diesem Jahr fand das traditionelle Bachmann-Wettschwimmen statt. Der glückliche Gewinner: David Hoffmann! #vermutlichimbild #tddl #wettschwimmen https://t.co/nQycWZOvQw\n"
     ]
    },
    {
     "name": "stderr",
     "output_type": "stream",
     "text": [
      "\r",
      " 47%|████▋     | 390/830 [14:53<16:40,  2.27s/it]"
     ]
    },
    {
     "name": "stdout",
     "output_type": "stream",
     "text": [
      "1145002713152937984\n",
      "Tweet fetched:  Habe ich in den letzten zwanzig Jahren  das Wort „Männertag“ gelesen? Ich glaube, nein. Wie wär‘s mal mit Nachdenken. 🚮 @ORF @3sat @tddlit . #tddl https://t.co/j6utPeSRck\n"
     ]
    },
    {
     "name": "stderr",
     "output_type": "stream",
     "text": [
      "\r",
      " 47%|████▋     | 391/830 [14:56<16:42,  2.28s/it]"
     ]
    },
    {
     "name": "stdout",
     "output_type": "stream",
     "text": [
      "1145010738026680320\n",
      "Tweet fetched:  Und wer zum Teufel designed eine Bühne für einen Literaturpreis als White Room? #tddl\n"
     ]
    },
    {
     "name": "stderr",
     "output_type": "stream",
     "text": [
      "\r",
      " 47%|████▋     | 392/830 [14:58<16:54,  2.32s/it]"
     ]
    },
    {
     "name": "stdout",
     "output_type": "stream",
     "text": [
      "1145011751232135168\n",
      "Tweet fetched:  Meine Vermutung für die Shortlist 2019: Birnbacher, Fischer, Jost, Schultens, Wipauer, Othmann, Federer. #TDDL\n"
     ]
    },
    {
     "name": "stderr",
     "output_type": "stream",
     "text": [
      "\r",
      " 47%|████▋     | 393/830 [15:00<16:44,  2.30s/it]"
     ]
    },
    {
     "name": "stdout",
     "output_type": "stream",
     "text": [
      "1145011751232135168\n",
      "Tweet fetched:  Meine Vermutung für die Shortlist 2019: Birnbacher, Fischer, Jost, Schultens, Wipauer, Othmann, Federer. #TDDL\n"
     ]
    },
    {
     "name": "stderr",
     "output_type": "stream",
     "text": [
      "\r",
      " 47%|████▋     | 394/830 [15:03<16:37,  2.29s/it]"
     ]
    },
    {
     "name": "stdout",
     "output_type": "stream",
     "text": [
      "1145011751232135168\n",
      "Tweet fetched:  Meine Vermutung für die Shortlist 2019: Birnbacher, Fischer, Jost, Schultens, Wipauer, Othmann, Federer. #TDDL\n"
     ]
    },
    {
     "name": "stderr",
     "output_type": "stream",
     "text": [
      "\r",
      " 48%|████▊     | 395/830 [15:05<16:55,  2.33s/it]"
     ]
    },
    {
     "name": "stdout",
     "output_type": "stream",
     "text": [
      "1145011751232135168\n",
      "Tweet fetched:  Meine Vermutung für die Shortlist 2019: Birnbacher, Fischer, Jost, Schultens, Wipauer, Othmann, Federer. #TDDL\n"
     ]
    },
    {
     "name": "stderr",
     "output_type": "stream",
     "text": [
      "\r",
      " 48%|████▊     | 396/830 [15:07<16:56,  2.34s/it]"
     ]
    },
    {
     "name": "stdout",
     "output_type": "stream",
     "text": [
      "1145011751232135168\n",
      "Tweet fetched:  Meine Vermutung für die Shortlist 2019: Birnbacher, Fischer, Jost, Schultens, Wipauer, Othmann, Federer. #TDDL\n"
     ]
    },
    {
     "name": "stderr",
     "output_type": "stream",
     "text": [
      "\r",
      " 48%|████▊     | 397/830 [15:10<16:43,  2.32s/it]"
     ]
    },
    {
     "name": "stdout",
     "output_type": "stream",
     "text": [
      "1145011751232135168\n",
      "Tweet fetched:  Meine Vermutung für die Shortlist 2019: Birnbacher, Fischer, Jost, Schultens, Wipauer, Othmann, Federer. #TDDL\n"
     ]
    },
    {
     "name": "stderr",
     "output_type": "stream",
     "text": [
      "\r",
      " 48%|████▊     | 398/830 [15:12<16:31,  2.30s/it]"
     ]
    },
    {
     "name": "stdout",
     "output_type": "stream",
     "text": [
      "1145011751232135168\n",
      "Tweet fetched:  Meine Vermutung für die Shortlist 2019: Birnbacher, Fischer, Jost, Schultens, Wipauer, Othmann, Federer. #TDDL\n"
     ]
    },
    {
     "name": "stderr",
     "output_type": "stream",
     "text": [
      "\r",
      " 48%|████▊     | 399/830 [15:14<16:23,  2.28s/it]"
     ]
    },
    {
     "name": "stdout",
     "output_type": "stream",
     "text": [
      "1145012013313212416\n",
      "Tweet fetched:  Ich bin schon auf morgen gespannt, wer welchen Preis erhält - auch, wer zum besten Juror gewählt wird.\n",
      "\n",
      "#tddl #Bachmannpreis\n"
     ]
    },
    {
     "name": "stderr",
     "output_type": "stream",
     "text": [
      "\r",
      " 48%|████▊     | 400/830 [15:16<16:17,  2.27s/it]"
     ]
    },
    {
     "name": "stdout",
     "output_type": "stream",
     "text": [
      "1145012013313212416\n",
      "Tweet fetched:  Ich bin schon auf morgen gespannt, wer welchen Preis erhält - auch, wer zum besten Juror gewählt wird.\n",
      "\n",
      "#tddl #Bachmannpreis\n"
     ]
    },
    {
     "name": "stderr",
     "output_type": "stream",
     "text": [
      "\r",
      " 48%|████▊     | 401/830 [15:19<16:14,  2.27s/it]"
     ]
    },
    {
     "name": "stdout",
     "output_type": "stream",
     "text": [
      "1145012013313212416\n",
      "Tweet fetched:  Ich bin schon auf morgen gespannt, wer welchen Preis erhält - auch, wer zum besten Juror gewählt wird.\n",
      "\n",
      "#tddl #Bachmannpreis\n"
     ]
    },
    {
     "name": "stderr",
     "output_type": "stream",
     "text": [
      "\r",
      " 48%|████▊     | 402/830 [15:21<16:10,  2.27s/it]"
     ]
    },
    {
     "name": "stdout",
     "output_type": "stream",
     "text": [
      "1144940872812892162\n",
      "Tweet fetched:  ich wage zu behaupten , der #wiederstein gewinnt den jurorpreis N I C H T  #tddl\n"
     ]
    },
    {
     "name": "stderr",
     "output_type": "stream",
     "text": [
      "\r",
      " 49%|████▊     | 403/830 [15:23<16:08,  2.27s/it]"
     ]
    },
    {
     "name": "stdout",
     "output_type": "stream",
     "text": [
      "1144940872812892162\n",
      "Tweet fetched:  ich wage zu behaupten , der #wiederstein gewinnt den jurorpreis N I C H T  #tddl\n"
     ]
    },
    {
     "name": "stderr",
     "output_type": "stream",
     "text": [
      "\r",
      " 49%|████▊     | 404/830 [15:25<16:05,  2.27s/it]"
     ]
    },
    {
     "name": "stdout",
     "output_type": "stream",
     "text": [
      "1145012023266336773\n",
      "Tweet fetched:  Bachmann-Wettbewerb 2019 (#tddl): Lesen könnte so schön sein, wenn, ja wenn man beim Schreiben die Logik beachten würde. Julia Jost scheint ihre ganz eigene Logik zu haben.\n",
      "\n",
      "https://t.co/6VX7U6vzcF https://t.co/gL93uKbpF7\n"
     ]
    },
    {
     "name": "stderr",
     "output_type": "stream",
     "text": [
      "\r",
      " 49%|████▉     | 405/830 [15:28<16:00,  2.26s/it]"
     ]
    },
    {
     "name": "stdout",
     "output_type": "stream",
     "text": [
      "1145012023266336773\n",
      "Tweet fetched:  Bachmann-Wettbewerb 2019 (#tddl): Lesen könnte so schön sein, wenn, ja wenn man beim Schreiben die Logik beachten würde. Julia Jost scheint ihre ganz eigene Logik zu haben.\n",
      "\n",
      "https://t.co/6VX7U6vzcF https://t.co/gL93uKbpF7\n"
     ]
    },
    {
     "name": "stderr",
     "output_type": "stream",
     "text": [
      "\r",
      " 49%|████▉     | 406/830 [15:30<15:57,  2.26s/it]"
     ]
    },
    {
     "name": "stdout",
     "output_type": "stream",
     "text": [
      "1145013528413298689\n",
      "Tweet fetched:  In der Hitze einer Dachmansarde sitzend, lasse ich die verschiedenen Eindrücke der Lesungen des #Bachmannpreis|es auf mich wirken und belebe den ein oder anderen wieder.\n",
      "\n",
      "Oder doch noch mal einige Lesungen im Netz anhören - und die Jurysitzungen?\n",
      "\n",
      "Und was macht Ihr jetzt so?#tddl\n"
     ]
    },
    {
     "name": "stderr",
     "output_type": "stream",
     "text": [
      "\r",
      " 49%|████▉     | 407/830 [15:32<15:55,  2.26s/it]"
     ]
    },
    {
     "name": "stdout",
     "output_type": "stream",
     "text": [
      "1145013908459143168\n",
      "Tweet fetched:  Und alles, was am Ende vom Bachmannpreis bleibt, sind Literaturbetriebler, die abends im Strandbad den Handtuchhüfttanz aufführen, um völlig eleganzbefreit nasse Badehose gegen Unterbuxe zu tauschen. #tddl\n"
     ]
    },
    {
     "name": "stderr",
     "output_type": "stream",
     "text": [
      "\r",
      " 49%|████▉     | 408/830 [15:34<15:53,  2.26s/it]"
     ]
    },
    {
     "name": "stdout",
     "output_type": "stream",
     "text": [
      "1145013908459143168\n",
      "Tweet fetched:  Und alles, was am Ende vom Bachmannpreis bleibt, sind Literaturbetriebler, die abends im Strandbad den Handtuchhüfttanz aufführen, um völlig eleganzbefreit nasse Badehose gegen Unterbuxe zu tauschen. #tddl\n"
     ]
    },
    {
     "name": "stderr",
     "output_type": "stream",
     "text": [
      "\r",
      " 49%|████▉     | 409/830 [15:37<15:54,  2.27s/it]"
     ]
    },
    {
     "name": "stdout",
     "output_type": "stream",
     "text": [
      "1145014633067139079\n",
      "Tweet fetched:  So, nun endlich noch den Text von Leander Fischer lesen (Diskussion dann im Anschluss anhören). Neues Wissen: Köder zum Fliegenfischen können ja echt schön sein! #tddl\n",
      "https://t.co/3dDLiJcK1J\n"
     ]
    },
    {
     "name": "stderr",
     "output_type": "stream",
     "text": [
      "\r",
      " 49%|████▉     | 410/830 [15:39<15:49,  2.26s/it]"
     ]
    },
    {
     "name": "stdout",
     "output_type": "stream",
     "text": [
      "1145014933408628738\n",
      "Tweet fetched:  Der Countdown läuft. Noch etwa eine Stunde bis zum Ende der Publikumsabstimmung: https://t.co/PvQNAIk2cN #tddl #publikumspreis\n"
     ]
    },
    {
     "name": "stderr",
     "output_type": "stream",
     "text": [
      "\r",
      " 50%|████▉     | 411/830 [15:41<15:52,  2.27s/it]"
     ]
    },
    {
     "name": "stdout",
     "output_type": "stream",
     "text": [
      "1145014933408628738\n",
      "Tweet fetched:  Der Countdown läuft. Noch etwa eine Stunde bis zum Ende der Publikumsabstimmung: https://t.co/PvQNAIk2cN #tddl #publikumspreis\n"
     ]
    },
    {
     "name": "stderr",
     "output_type": "stream",
     "text": [
      "\r",
      " 50%|████▉     | 412/830 [15:44<15:46,  2.26s/it]"
     ]
    },
    {
     "name": "stdout",
     "output_type": "stream",
     "text": [
      "1145021276534321152\n",
      "Tweet fetched:  @BeckCath @minorgravitas Wie kommt man den von tddl auf Bachmannpreis?\n"
     ]
    },
    {
     "name": "stderr",
     "output_type": "stream",
     "text": [
      "\r",
      " 50%|████▉     | 413/830 [15:46<15:42,  2.26s/it]"
     ]
    },
    {
     "name": "stdout",
     "output_type": "stream",
     "text": [
      "1145021276534321152\n",
      "Tweet fetched:  @BeckCath @minorgravitas Wie kommt man den von tddl auf Bachmannpreis?\n"
     ]
    },
    {
     "name": "stderr",
     "output_type": "stream",
     "text": [
      "\r",
      " 50%|████▉     | 414/830 [15:48<15:38,  2.26s/it]"
     ]
    },
    {
     "name": "stdout",
     "output_type": "stream",
     "text": [
      "1145022059250159616\n",
      "Tweet fetched:  Bachmannpreis-Podcast 2019: Hitzekollaps der Literaturkritik? - https://t.co/cntTBD5CbU https://t.co/x5S9yn8Zbj #tddl\n"
     ]
    },
    {
     "name": "stderr",
     "output_type": "stream",
     "text": [
      "\r",
      " 50%|█████     | 415/830 [15:50<15:37,  2.26s/it]"
     ]
    },
    {
     "name": "stdout",
     "output_type": "stream",
     "text": [
      "1145022059250159616\n",
      "Tweet fetched:  Bachmannpreis-Podcast 2019: Hitzekollaps der Literaturkritik? - https://t.co/cntTBD5CbU https://t.co/x5S9yn8Zbj #tddl\n"
     ]
    },
    {
     "name": "stderr",
     "output_type": "stream",
     "text": [
      "\r",
      " 50%|█████     | 416/830 [15:53<15:36,  2.26s/it]"
     ]
    },
    {
     "name": "stdout",
     "output_type": "stream",
     "text": [
      "1145022059250159616\n",
      "Tweet fetched:  Bachmannpreis-Podcast 2019: Hitzekollaps der Literaturkritik? - https://t.co/cntTBD5CbU https://t.co/x5S9yn8Zbj #tddl\n"
     ]
    },
    {
     "name": "stderr",
     "output_type": "stream",
     "text": [
      "\r",
      " 50%|█████     | 417/830 [15:55<15:35,  2.26s/it]"
     ]
    },
    {
     "name": "stdout",
     "output_type": "stream",
     "text": [
      "1145022495247994889\n",
      "Tweet fetched:  Denkt daran: Noch bis 20 Uhr kann für den BKS-Publikumspeis abgestimmt werden. Hinweis: Mit Firefox konnte ich die Abstimmung nicht sehen, wechselt also bei Bedarf den Browser. Mit Chrome war die Abstimmung möglich. https://t.co/7KFmpPSgsc #tddl\n"
     ]
    },
    {
     "name": "stderr",
     "output_type": "stream",
     "text": [
      "\r",
      " 50%|█████     | 418/830 [15:57<15:32,  2.26s/it]"
     ]
    },
    {
     "name": "stdout",
     "output_type": "stream",
     "text": [
      "1145022495247994889\n",
      "Tweet fetched:  Denkt daran: Noch bis 20 Uhr kann für den BKS-Publikumspeis abgestimmt werden. Hinweis: Mit Firefox konnte ich die Abstimmung nicht sehen, wechselt also bei Bedarf den Browser. Mit Chrome war die Abstimmung möglich. https://t.co/7KFmpPSgsc #tddl\n"
     ]
    },
    {
     "name": "stderr",
     "output_type": "stream",
     "text": [
      "\r",
      " 50%|█████     | 419/830 [15:59<15:28,  2.26s/it]"
     ]
    },
    {
     "name": "stdout",
     "output_type": "stream",
     "text": [
      "1145023061542002688\n",
      "Tweet fetched:  Ich finde, Literaturpreise sollten wie Preise im Supermarkt auch so 2,99 oder so sein, also man meint eigentlich 3 aber weil man ja ein bisschen kritisch unentschlossen ist auf ,99 entrundet am Ende. #tddl\n"
     ]
    },
    {
     "name": "stderr",
     "output_type": "stream",
     "text": [
      "\r",
      " 51%|█████     | 420/830 [16:02<15:25,  2.26s/it]"
     ]
    },
    {
     "name": "stdout",
     "output_type": "stream",
     "text": [
      "1145023157318955010\n",
      "Tweet fetched:  bestes!!! werd ich vermissen. #tddl https://t.co/vFKfu2Qpwk\n"
     ]
    },
    {
     "name": "stderr",
     "output_type": "stream",
     "text": [
      "\r",
      " 51%|█████     | 421/830 [16:04<16:13,  2.38s/it]"
     ]
    },
    {
     "name": "stdout",
     "output_type": "stream",
     "text": [
      "1145023260742103040\n",
      "Tweet fetched:  Insa Wilke: \"Auch auf dem Kunstmarkt, dem Literaturmarkt sind die Goldkopfnymphen am fängigsten\" - die Metapher erschließt sich mir nun nicht. Vielleicht muss man da mehr übers Fliegenfischen wissen. Kann da jemand helfen? #notiz #tddl\n"
     ]
    },
    {
     "name": "stderr",
     "output_type": "stream",
     "text": [
      "\r",
      " 51%|█████     | 422/830 [16:07<16:23,  2.41s/it]"
     ]
    },
    {
     "name": "stdout",
     "output_type": "stream",
     "text": [
      "1145023260742103040\n",
      "Tweet fetched:  Insa Wilke: \"Auch auf dem Kunstmarkt, dem Literaturmarkt sind die Goldkopfnymphen am fängigsten\" - die Metapher erschließt sich mir nun nicht. Vielleicht muss man da mehr übers Fliegenfischen wissen. Kann da jemand helfen? #notiz #tddl\n"
     ]
    },
    {
     "name": "stderr",
     "output_type": "stream",
     "text": [
      "\r",
      " 51%|█████     | 423/830 [16:09<16:03,  2.37s/it]"
     ]
    },
    {
     "name": "stdout",
     "output_type": "stream",
     "text": [
      "1145034684835012609\n",
      "Tweet fetched:  Bachmannpreis-Podcast 2019/Tag 3 - diesmal mit Bozena Badura, @FrauDiener und Horst Ebner vom ORF: Shortlist neu und Jury vehement https://t.co/xdkVyLOVfv #tddl #podcast https://t.co/1IooCSfdLW\n"
     ]
    },
    {
     "name": "stderr",
     "output_type": "stream",
     "text": [
      "\r",
      " 51%|█████     | 424/830 [16:11<15:59,  2.36s/it]"
     ]
    },
    {
     "name": "stdout",
     "output_type": "stream",
     "text": [
      "1145034684835012609\n",
      "Tweet fetched:  Bachmannpreis-Podcast 2019/Tag 3 - diesmal mit Bozena Badura, @FrauDiener und Horst Ebner vom ORF: Shortlist neu und Jury vehement https://t.co/xdkVyLOVfv #tddl #podcast https://t.co/1IooCSfdLW\n"
     ]
    },
    {
     "name": "stderr",
     "output_type": "stream",
     "text": [
      "\r",
      " 51%|█████     | 425/830 [16:14<15:45,  2.33s/it]"
     ]
    },
    {
     "name": "stdout",
     "output_type": "stream",
     "text": [
      "1145034708884971521\n",
      "Tweet fetched:  sonne im kopf, deshalb gefasel -&gt; https://t.co/FiPd1qy57V #tddl\n"
     ]
    },
    {
     "name": "stderr",
     "output_type": "stream",
     "text": [
      "\r",
      " 51%|█████▏    | 426/830 [16:16<15:34,  2.31s/it]"
     ]
    },
    {
     "name": "stdout",
     "output_type": "stream",
     "text": [
      "1145049697809326081\n",
      "Tweet fetched:  #tddl #bachmannpreis Satz des Tages: Sie schlagen es aus, einen Bestseller zu schreiben...\n"
     ]
    },
    {
     "name": "stderr",
     "output_type": "stream",
     "text": [
      "\r",
      " 51%|█████▏    | 427/830 [16:18<15:26,  2.30s/it]"
     ]
    },
    {
     "name": "stdout",
     "output_type": "stream",
     "text": [
      "1145049697809326081\n",
      "Tweet fetched:  #tddl #bachmannpreis Satz des Tages: Sie schlagen es aus, einen Bestseller zu schreiben...\n"
     ]
    },
    {
     "name": "stderr",
     "output_type": "stream",
     "text": [
      "\r",
      " 52%|█████▏    | 428/830 [16:20<15:20,  2.29s/it]"
     ]
    },
    {
     "name": "stdout",
     "output_type": "stream",
     "text": [
      "1144940951305117696\n",
      "Tweet fetched:  Deprimierend ist doch: Ein kompletter Verzicht auf die männlichen Teilnehmer hätte in diesem Jahr keine Lücke gerissen. #tddl\n"
     ]
    },
    {
     "name": "stderr",
     "output_type": "stream",
     "text": [
      "\r",
      " 52%|█████▏    | 429/830 [16:23<15:14,  2.28s/it]"
     ]
    },
    {
     "name": "stdout",
     "output_type": "stream",
     "text": [
      "1145050617725050882\n",
      "Tweet fetched:  \"Text macht mir zu oft den Erklärbär\"... So kann man auch show don't tell umschreiben. 😂 #tddl19 #tddl #bachmannpreis\n"
     ]
    },
    {
     "name": "stderr",
     "output_type": "stream",
     "text": [
      "\r",
      " 52%|█████▏    | 430/830 [16:25<15:14,  2.29s/it]"
     ]
    },
    {
     "name": "stdout",
     "output_type": "stream",
     "text": [
      "1145050617725050882\n",
      "Tweet fetched:  \"Text macht mir zu oft den Erklärbär\"... So kann man auch show don't tell umschreiben. 😂 #tddl19 #tddl #bachmannpreis\n"
     ]
    },
    {
     "name": "stderr",
     "output_type": "stream",
     "text": [
      "\r",
      " 52%|█████▏    | 431/830 [16:27<15:08,  2.28s/it]"
     ]
    },
    {
     "name": "stdout",
     "output_type": "stream",
     "text": [
      "1145057829222518785\n",
      "Tweet fetched:  @Hella_Kopf @tddlit Same me. \n",
      "Schade. #tddl\n"
     ]
    },
    {
     "name": "stderr",
     "output_type": "stream",
     "text": [
      "\r",
      " 52%|█████▏    | 432/830 [16:29<15:03,  2.27s/it]"
     ]
    },
    {
     "name": "stdout",
     "output_type": "stream",
     "text": [
      "1145063554648805376\n",
      "Tweet fetched:  Yannic Han Biao Federer: Chatsprache. Reise durch Deutschland. Überblende. Man erfährt nicht, wie es weitergeht, es geht nix weiter. So klebt die Mövenkacke im Schuh. Aufgeweckte Jurydiskussion. Frau Wilke und Herr Kasperger werden nach Cuxhaven reisen. #tddl\n"
     ]
    },
    {
     "name": "stderr",
     "output_type": "stream",
     "text": [
      "\r",
      " 52%|█████▏    | 433/830 [16:32<14:59,  2.27s/it]"
     ]
    },
    {
     "name": "stdout",
     "output_type": "stream",
     "text": [
      "1145064341668028416\n",
      "Tweet fetched:  Dies Jahr ist es schwierig, weil nur ein Text mich thematisch gepackt hat. Der Text von #Orthmann In der Regel gibt es aber auch Texte, die mich thematisch nicht interessieren, aber deren Sprache mich anmacht. Da war diesmal keiner dabei. #tddl19 #tddl\n"
     ]
    },
    {
     "name": "stderr",
     "output_type": "stream",
     "text": [
      "\r",
      " 52%|█████▏    | 434/830 [16:34<14:55,  2.26s/it]"
     ]
    },
    {
     "name": "stdout",
     "output_type": "stream",
     "text": [
      "1145064341668028416\n",
      "Tweet fetched:  Dies Jahr ist es schwierig, weil nur ein Text mich thematisch gepackt hat. Der Text von #Orthmann In der Regel gibt es aber auch Texte, die mich thematisch nicht interessieren, aber deren Sprache mich anmacht. Da war diesmal keiner dabei. #tddl19 #tddl\n"
     ]
    },
    {
     "name": "stderr",
     "output_type": "stream",
     "text": [
      "\r",
      " 52%|█████▏    | 435/830 [16:36<14:53,  2.26s/it]"
     ]
    },
    {
     "name": "stdout",
     "output_type": "stream",
     "text": [
      "1145064341668028416\n",
      "Tweet fetched:  Dies Jahr ist es schwierig, weil nur ein Text mich thematisch gepackt hat. Der Text von #Orthmann In der Regel gibt es aber auch Texte, die mich thematisch nicht interessieren, aber deren Sprache mich anmacht. Da war diesmal keiner dabei. #tddl19 #tddl\n"
     ]
    },
    {
     "name": "stderr",
     "output_type": "stream",
     "text": [
      "\r",
      " 53%|█████▎    | 436/830 [16:39<14:48,  2.25s/it]"
     ]
    },
    {
     "name": "stdout",
     "output_type": "stream",
     "text": [
      "1145064341668028416\n",
      "Tweet fetched:  Dies Jahr ist es schwierig, weil nur ein Text mich thematisch gepackt hat. Der Text von #Orthmann In der Regel gibt es aber auch Texte, die mich thematisch nicht interessieren, aber deren Sprache mich anmacht. Da war diesmal keiner dabei. #tddl19 #tddl\n"
     ]
    },
    {
     "name": "stderr",
     "output_type": "stream",
     "text": [
      "\r",
      " 53%|█████▎    | 437/830 [16:41<14:47,  2.26s/it]"
     ]
    },
    {
     "name": "stdout",
     "output_type": "stream",
     "text": [
      "1145064341668028416\n",
      "Tweet fetched:  Dies Jahr ist es schwierig, weil nur ein Text mich thematisch gepackt hat. Der Text von #Orthmann In der Regel gibt es aber auch Texte, die mich thematisch nicht interessieren, aber deren Sprache mich anmacht. Da war diesmal keiner dabei. #tddl19 #tddl\n"
     ]
    },
    {
     "name": "stderr",
     "output_type": "stream",
     "text": [
      "\r",
      " 53%|█████▎    | 438/830 [16:43<14:44,  2.26s/it]"
     ]
    },
    {
     "name": "stdout",
     "output_type": "stream",
     "text": [
      "1145064341668028416\n",
      "Tweet fetched:  Dies Jahr ist es schwierig, weil nur ein Text mich thematisch gepackt hat. Der Text von #Orthmann In der Regel gibt es aber auch Texte, die mich thematisch nicht interessieren, aber deren Sprache mich anmacht. Da war diesmal keiner dabei. #tddl19 #tddl\n"
     ]
    },
    {
     "name": "stderr",
     "output_type": "stream",
     "text": [
      "\r",
      " 53%|█████▎    | 439/830 [16:45<15:02,  2.31s/it]"
     ]
    },
    {
     "name": "stdout",
     "output_type": "stream",
     "text": [
      "1145064341668028416\n",
      "Tweet fetched:  Dies Jahr ist es schwierig, weil nur ein Text mich thematisch gepackt hat. Der Text von #Orthmann In der Regel gibt es aber auch Texte, die mich thematisch nicht interessieren, aber deren Sprache mich anmacht. Da war diesmal keiner dabei. #tddl19 #tddl\n"
     ]
    },
    {
     "name": "stderr",
     "output_type": "stream",
     "text": [
      "\r",
      " 53%|█████▎    | 440/830 [16:48<14:57,  2.30s/it]"
     ]
    },
    {
     "name": "stdout",
     "output_type": "stream",
     "text": [
      "1145064341668028416\n",
      "Tweet fetched:  Dies Jahr ist es schwierig, weil nur ein Text mich thematisch gepackt hat. Der Text von #Orthmann In der Regel gibt es aber auch Texte, die mich thematisch nicht interessieren, aber deren Sprache mich anmacht. Da war diesmal keiner dabei. #tddl19 #tddl\n"
     ]
    },
    {
     "name": "stderr",
     "output_type": "stream",
     "text": [
      "\r",
      " 53%|█████▎    | 441/830 [16:50<14:50,  2.29s/it]"
     ]
    },
    {
     "name": "stdout",
     "output_type": "stream",
     "text": [
      "1145064341668028416\n",
      "Tweet fetched:  Dies Jahr ist es schwierig, weil nur ein Text mich thematisch gepackt hat. Der Text von #Orthmann In der Regel gibt es aber auch Texte, die mich thematisch nicht interessieren, aber deren Sprache mich anmacht. Da war diesmal keiner dabei. #tddl19 #tddl\n"
     ]
    },
    {
     "name": "stderr",
     "output_type": "stream",
     "text": [
      "\r",
      " 53%|█████▎    | 442/830 [16:52<14:48,  2.29s/it]"
     ]
    },
    {
     "name": "stdout",
     "output_type": "stream",
     "text": [
      "1145064818677886976\n",
      "Tweet fetched:  Dieses Jahr waren meiner Meinung viele mittelmäßige Texte dabei. Keine innovativen Texte. Keine Sprachkünstler, mehr Handwerk. #tddl #tddl19\n"
     ]
    },
    {
     "name": "stderr",
     "output_type": "stream",
     "text": [
      "\r",
      " 53%|█████▎    | 443/830 [16:55<15:08,  2.35s/it]"
     ]
    },
    {
     "name": "stdout",
     "output_type": "stream",
     "text": [
      "1145064818677886976\n",
      "Tweet fetched:  Dieses Jahr waren meiner Meinung viele mittelmäßige Texte dabei. Keine innovativen Texte. Keine Sprachkünstler, mehr Handwerk. #tddl #tddl19\n"
     ]
    },
    {
     "name": "stderr",
     "output_type": "stream",
     "text": [
      "\r",
      " 53%|█████▎    | 444/830 [16:57<15:19,  2.38s/it]"
     ]
    },
    {
     "name": "stdout",
     "output_type": "stream",
     "text": [
      "1145064818677886976\n",
      "Tweet fetched:  Dieses Jahr waren meiner Meinung viele mittelmäßige Texte dabei. Keine innovativen Texte. Keine Sprachkünstler, mehr Handwerk. #tddl #tddl19\n"
     ]
    },
    {
     "name": "stderr",
     "output_type": "stream",
     "text": [
      "\r",
      " 54%|█████▎    | 445/830 [16:59<15:02,  2.34s/it]"
     ]
    },
    {
     "name": "stdout",
     "output_type": "stream",
     "text": [
      "1145064818677886976\n",
      "Tweet fetched:  Dieses Jahr waren meiner Meinung viele mittelmäßige Texte dabei. Keine innovativen Texte. Keine Sprachkünstler, mehr Handwerk. #tddl #tddl19\n"
     ]
    },
    {
     "name": "stderr",
     "output_type": "stream",
     "text": [
      "\r",
      " 54%|█████▎    | 446/830 [17:02<14:51,  2.32s/it]"
     ]
    },
    {
     "name": "stdout",
     "output_type": "stream",
     "text": [
      "1145064818677886976\n",
      "Tweet fetched:  Dieses Jahr waren meiner Meinung viele mittelmäßige Texte dabei. Keine innovativen Texte. Keine Sprachkünstler, mehr Handwerk. #tddl #tddl19\n"
     ]
    },
    {
     "name": "stderr",
     "output_type": "stream",
     "text": [
      "\r",
      " 54%|█████▍    | 447/830 [17:04<14:54,  2.34s/it]"
     ]
    },
    {
     "name": "stdout",
     "output_type": "stream",
     "text": [
      "1145065199998832641\n",
      "Tweet fetched:  Böse + komisch. Ein Musiklehrer, der lieber Fliegenfischer ist. Der Text von Leander Fischer kommt sehr gut an bei der Jury des Bachmann-Wettbewerbs. Sonntag Mittag wird entschieden, wer den Preis gewinnt. #tddl @LitInstitut_Hi https://t.co/kwgKQ8X6qS\n"
     ]
    },
    {
     "name": "stderr",
     "output_type": "stream",
     "text": [
      "\r",
      " 54%|█████▍    | 448/830 [17:07<15:19,  2.41s/it]"
     ]
    },
    {
     "name": "stdout",
     "output_type": "stream",
     "text": [
      "1145065199998832641\n",
      "Tweet fetched:  Böse + komisch. Ein Musiklehrer, der lieber Fliegenfischer ist. Der Text von Leander Fischer kommt sehr gut an bei der Jury des Bachmann-Wettbewerbs. Sonntag Mittag wird entschieden, wer den Preis gewinnt. #tddl @LitInstitut_Hi https://t.co/kwgKQ8X6qS\n"
     ]
    },
    {
     "name": "stderr",
     "output_type": "stream",
     "text": [
      "\r",
      " 54%|█████▍    | 449/830 [17:09<15:00,  2.36s/it]"
     ]
    },
    {
     "name": "stdout",
     "output_type": "stream",
     "text": [
      "1145065199998832641\n",
      "Tweet fetched:  Böse + komisch. Ein Musiklehrer, der lieber Fliegenfischer ist. Der Text von Leander Fischer kommt sehr gut an bei der Jury des Bachmann-Wettbewerbs. Sonntag Mittag wird entschieden, wer den Preis gewinnt. #tddl @LitInstitut_Hi https://t.co/kwgKQ8X6qS\n"
     ]
    },
    {
     "name": "stderr",
     "output_type": "stream",
     "text": [
      "\r",
      " 54%|█████▍    | 450/830 [17:11<14:47,  2.33s/it]"
     ]
    },
    {
     "name": "stdout",
     "output_type": "stream",
     "text": [
      "1145066143230648321\n",
      "Tweet fetched:  Die Videolinks im Bachmannpreisarchiv, funktionieren die generell nicht oder liegt's an meinem System? zB hier 2013 https://t.co/K4KynTIu7s #tddl\n"
     ]
    },
    {
     "name": "stderr",
     "output_type": "stream",
     "text": [
      "\r",
      " 54%|█████▍    | 451/830 [17:13<14:35,  2.31s/it]"
     ]
    },
    {
     "name": "stdout",
     "output_type": "stream",
     "text": [
      "1145066143230648321\n",
      "Tweet fetched:  Die Videolinks im Bachmannpreisarchiv, funktionieren die generell nicht oder liegt's an meinem System? zB hier 2013 https://t.co/K4KynTIu7s #tddl\n"
     ]
    },
    {
     "name": "stderr",
     "output_type": "stream",
     "text": [
      "\r",
      " 54%|█████▍    | 452/830 [17:16<14:27,  2.29s/it]"
     ]
    },
    {
     "name": "stdout",
     "output_type": "stream",
     "text": [
      "1144940955491061760\n",
      "Tweet fetched:  @jonfridman Wäre ein schöner Text, wenn das denn gelungen wäre - hier jedenfall nicht. Könnte man wunderbar schreiben, Propaganda und Stiegenhausplatitüden, selektive Beobachtungen, und aus allen Ritzen blitzt das Grauen, das die Hauptfigur zu sehen sich weigert. Gibts m.W. aber nicht. #tddl\n"
     ]
    },
    {
     "name": "stderr",
     "output_type": "stream",
     "text": [
      "\r",
      " 55%|█████▍    | 453/830 [17:18<14:21,  2.28s/it]"
     ]
    },
    {
     "name": "stdout",
     "output_type": "stream",
     "text": [
      "1144940955491061760\n",
      "Tweet fetched:  @jonfridman Wäre ein schöner Text, wenn das denn gelungen wäre - hier jedenfall nicht. Könnte man wunderbar schreiben, Propaganda und Stiegenhausplatitüden, selektive Beobachtungen, und aus allen Ritzen blitzt das Grauen, das die Hauptfigur zu sehen sich weigert. Gibts m.W. aber nicht. #tddl\n"
     ]
    },
    {
     "name": "stderr",
     "output_type": "stream",
     "text": [
      "\r",
      " 55%|█████▍    | 454/830 [17:20<14:16,  2.28s/it]"
     ]
    },
    {
     "name": "stdout",
     "output_type": "stream",
     "text": [
      "1145067369762643969\n",
      "Tweet fetched:  Ich hab meine Wahl getroffen.\n",
      "Mal sehen, was Jury und Publikum favorisieren.\n",
      "#tddl\n"
     ]
    },
    {
     "name": "stderr",
     "output_type": "stream",
     "text": [
      "\r",
      " 55%|█████▍    | 455/830 [17:23<14:11,  2.27s/it]"
     ]
    },
    {
     "name": "stdout",
     "output_type": "stream",
     "text": [
      "1145067369762643969\n",
      "Tweet fetched:  Ich hab meine Wahl getroffen.\n",
      "Mal sehen, was Jury und Publikum favorisieren.\n",
      "#tddl\n"
     ]
    },
    {
     "name": "stderr",
     "output_type": "stream",
     "text": [
      "\r",
      " 55%|█████▍    | 456/830 [17:25<14:19,  2.30s/it]"
     ]
    },
    {
     "name": "stdout",
     "output_type": "stream",
     "text": [
      "1145067369762643969\n",
      "Tweet fetched:  Ich hab meine Wahl getroffen.\n",
      "Mal sehen, was Jury und Publikum favorisieren.\n",
      "#tddl\n"
     ]
    },
    {
     "name": "stderr",
     "output_type": "stream",
     "text": [
      "\r",
      " 55%|█████▌    | 457/830 [17:27<14:12,  2.28s/it]"
     ]
    },
    {
     "name": "stdout",
     "output_type": "stream",
     "text": [
      "1145082101190074374\n",
      "Tweet fetched:  3 Tage #tddl und ich halte Hegels \"Ende der Kunst\" für ne ziemlich stabile These.\n"
     ]
    },
    {
     "name": "stderr",
     "output_type": "stream",
     "text": [
      "\r",
      " 55%|█████▌    | 458/830 [17:29<14:06,  2.28s/it]"
     ]
    },
    {
     "name": "stdout",
     "output_type": "stream",
     "text": [
      "1145083002508206081\n",
      "Tweet fetched:  Oh, oh, oh - nun kommen die Kulturpessimisten aus ihren Löchern @BenschMoritz 😉 #tddl https://t.co/lLRwl3a1gS\n"
     ]
    },
    {
     "name": "stderr",
     "output_type": "stream",
     "text": [
      "\r",
      " 55%|█████▌    | 459/830 [17:32<14:07,  2.28s/it]"
     ]
    },
    {
     "name": "stdout",
     "output_type": "stream",
     "text": [
      "1145085797168820225\n",
      "Tweet fetched:  Im Gegenteil! Ich bleibe bei meinem Lob dieses #Bachmannpreis|es.\n",
      "\n",
      "#tddl #bachmannwettbewerb\n"
     ]
    },
    {
     "name": "stderr",
     "output_type": "stream",
     "text": [
      "\r",
      " 55%|█████▌    | 460/830 [17:34<14:02,  2.28s/it]"
     ]
    },
    {
     "name": "stdout",
     "output_type": "stream",
     "text": [
      "1145087548869554176\n",
      "Tweet fetched:  @BenschMoritz Ich vermute aber,du willst auf die Eule als antikes Symbol der Weisheit hinaus.Wobei ich jetzt auch assoziiere,dass du den Autoren der diesjährigen #tddl unterstellst,dass sie Eulen nach Athen getragen hätten.😉\n",
      "\n",
      "Wobei Eulen in der Nacht auch ein Roman ist,der bei Knaur erschien.\n"
     ]
    },
    {
     "name": "stderr",
     "output_type": "stream",
     "text": [
      "\r",
      " 56%|█████▌    | 461/830 [17:36<13:57,  2.27s/it]"
     ]
    },
    {
     "name": "stdout",
     "output_type": "stream",
     "text": [
      "1145088772410920960\n",
      "Tweet fetched:  @BenschMoritz Ja, mach das.\n",
      "\n",
      "Aber pass auf deine Triolen auf! 😉 #tddl\n"
     ]
    },
    {
     "name": "stderr",
     "output_type": "stream",
     "text": [
      "\r",
      " 56%|█████▌    | 462/830 [17:38<13:54,  2.27s/it]"
     ]
    },
    {
     "name": "stdout",
     "output_type": "stream",
     "text": [
      "1145092560886665216\n",
      "Tweet fetched:  @BenschMoritz Was ich aber nicht gemacht habe, war den Text simultan mitlesen. Obwohl das bestimmt lustig ist, Teil dieser konzertanten Performance des Umblätterns zu sein. Da begegnen sich TV-Publikum im Studio u an den Geräten in ihrer Simultanität des Papierraschelns mit den Onlinern. #tddl\n"
     ]
    },
    {
     "name": "stderr",
     "output_type": "stream",
     "text": [
      "\r",
      " 56%|█████▌    | 463/830 [17:41<13:50,  2.26s/it]"
     ]
    },
    {
     "name": "stdout",
     "output_type": "stream",
     "text": [
      "1145094839886929922\n",
      "Tweet fetched:  @BenschMoritz Ich konzentrierte mich auf die sehr unterschiedlichen Qualitäten der Vorträge - manche Autoren sind geborene Vorleser, andere nicht. Wenn ich einen Text richtig beurteilen möchte, würde ich ihn eher hinterher nochmal nachlesen. #tddl\n"
     ]
    },
    {
     "name": "stderr",
     "output_type": "stream",
     "text": [
      "\r",
      " 56%|█████▌    | 464/830 [17:43<13:49,  2.27s/it]"
     ]
    },
    {
     "name": "stdout",
     "output_type": "stream",
     "text": [
      "1145094839886929922\n",
      "Tweet fetched:  @BenschMoritz Ich konzentrierte mich auf die sehr unterschiedlichen Qualitäten der Vorträge - manche Autoren sind geborene Vorleser, andere nicht. Wenn ich einen Text richtig beurteilen möchte, würde ich ihn eher hinterher nochmal nachlesen. #tddl\n"
     ]
    },
    {
     "name": "stderr",
     "output_type": "stream",
     "text": [
      "\r",
      " 56%|█████▌    | 465/830 [17:45<13:45,  2.26s/it]"
     ]
    },
    {
     "name": "stdout",
     "output_type": "stream",
     "text": [
      "1145094839886929922\n",
      "Tweet fetched:  @BenschMoritz Ich konzentrierte mich auf die sehr unterschiedlichen Qualitäten der Vorträge - manche Autoren sind geborene Vorleser, andere nicht. Wenn ich einen Text richtig beurteilen möchte, würde ich ihn eher hinterher nochmal nachlesen. #tddl\n"
     ]
    },
    {
     "name": "stderr",
     "output_type": "stream",
     "text": [
      "\r",
      " 56%|█████▌    | 466/830 [17:47<13:42,  2.26s/it]"
     ]
    },
    {
     "name": "stdout",
     "output_type": "stream",
     "text": [
      "1145100196654829569\n",
      "Tweet fetched:  If you can't stand the heat, get out of the Bachmannpreisstudio.\n",
      "#tddl #tddl19 #Bachmannpreis https://t.co/DK8zTybkWZ\n"
     ]
    },
    {
     "name": "stderr",
     "output_type": "stream",
     "text": [
      "\r",
      " 56%|█████▋    | 467/830 [17:50<13:43,  2.27s/it]"
     ]
    },
    {
     "name": "stdout",
     "output_type": "stream",
     "text": [
      "1144940970619920384\n",
      "Tweet fetched:  Obszön? Ich mag die Argumentation von Hubert Winkels ansonsten, hier irrt er.\n",
      "#tddl\n"
     ]
    },
    {
     "name": "stderr",
     "output_type": "stream",
     "text": [
      "\r",
      " 56%|█████▋    | 468/830 [17:52<13:40,  2.27s/it]"
     ]
    },
    {
     "name": "stdout",
     "output_type": "stream",
     "text": [
      "1144940970619920384\n",
      "Tweet fetched:  Obszön? Ich mag die Argumentation von Hubert Winkels ansonsten, hier irrt er.\n",
      "#tddl\n"
     ]
    },
    {
     "name": "stderr",
     "output_type": "stream",
     "text": [
      "\r",
      " 57%|█████▋    | 469/830 [17:54<13:38,  2.27s/it]"
     ]
    },
    {
     "name": "stdout",
     "output_type": "stream",
     "text": [
      "1144940970619920384\n",
      "Tweet fetched:  Obszön? Ich mag die Argumentation von Hubert Winkels ansonsten, hier irrt er.\n",
      "#tddl\n"
     ]
    },
    {
     "name": "stderr",
     "output_type": "stream",
     "text": [
      "\r",
      " 57%|█████▋    | 470/830 [17:57<13:40,  2.28s/it]"
     ]
    },
    {
     "name": "stdout",
     "output_type": "stream",
     "text": [
      "1145112131509075979\n",
      "Tweet fetched:  @sturmwarnung Das kann simpel daran liegen, daß sie in früheren Jahren immer mal wieder die Technik und damit das Dateiformat gewechselt haben und dein Browser das nicht mehr mag. #tddl\n"
     ]
    },
    {
     "name": "stderr",
     "output_type": "stream",
     "text": [
      "\r",
      " 57%|█████▋    | 471/830 [17:59<13:35,  2.27s/it]"
     ]
    },
    {
     "name": "stdout",
     "output_type": "stream",
     "text": [
      "1145112131509075979\n",
      "Tweet fetched:  @sturmwarnung Das kann simpel daran liegen, daß sie in früheren Jahren immer mal wieder die Technik und damit das Dateiformat gewechselt haben und dein Browser das nicht mehr mag. #tddl\n"
     ]
    },
    {
     "name": "stderr",
     "output_type": "stream",
     "text": [
      "\r",
      " 57%|█████▋    | 472/830 [18:01<13:34,  2.27s/it]"
     ]
    },
    {
     "name": "stdout",
     "output_type": "stream",
     "text": [
      "1144940981881659392\n",
      "Tweet fetched:  Danke, @KlausKastberger »Der Text steht in Verdacht, von den Opfern zu profitieren … in unerträglicher Art und Weise« #tddl\n"
     ]
    },
    {
     "name": "stderr",
     "output_type": "stream",
     "text": [
      "\r",
      " 57%|█████▋    | 473/830 [18:03<13:37,  2.29s/it]"
     ]
    },
    {
     "name": "stdout",
     "output_type": "stream",
     "text": [
      "1144940981881659392\n",
      "Tweet fetched:  Danke, @KlausKastberger »Der Text steht in Verdacht, von den Opfern zu profitieren … in unerträglicher Art und Weise« #tddl\n"
     ]
    },
    {
     "name": "stderr",
     "output_type": "stream",
     "text": [
      "\r",
      " 57%|█████▋    | 474/830 [18:06<14:02,  2.37s/it]"
     ]
    },
    {
     "name": "stdout",
     "output_type": "stream",
     "text": [
      "1144940981881659392\n",
      "Tweet fetched:  Danke, @KlausKastberger »Der Text steht in Verdacht, von den Opfern zu profitieren … in unerträglicher Art und Weise« #tddl\n"
     ]
    },
    {
     "name": "stderr",
     "output_type": "stream",
     "text": [
      "\r",
      " 57%|█████▋    | 475/830 [18:08<13:49,  2.34s/it]"
     ]
    },
    {
     "name": "stdout",
     "output_type": "stream",
     "text": [
      "1144941002328805381\n",
      "Tweet fetched:  \"Hannah Arendt in a nutshell\" ... als ob das möglich wäre #tddl\n"
     ]
    },
    {
     "name": "stderr",
     "output_type": "stream",
     "text": [
      "\r",
      " 57%|█████▋    | 476/830 [18:11<13:59,  2.37s/it]"
     ]
    },
    {
     "name": "stdout",
     "output_type": "stream",
     "text": [
      "1144941002328805381\n",
      "Tweet fetched:  \"Hannah Arendt in a nutshell\" ... als ob das möglich wäre #tddl\n"
     ]
    },
    {
     "name": "stderr",
     "output_type": "stream",
     "text": [
      "\r",
      " 57%|█████▋    | 477/830 [18:13<13:47,  2.35s/it]"
     ]
    },
    {
     "name": "stdout",
     "output_type": "stream",
     "text": [
      "1144941006820904960\n",
      "Tweet fetched:  @SamsonsHirne Ich bin sehr erleichtert dass Kastberger, Winkels und Wilke da klar sind in der Haltung #tddl\n"
     ]
    },
    {
     "name": "stderr",
     "output_type": "stream",
     "text": [
      "\r",
      " 58%|█████▊    | 478/830 [18:15<13:35,  2.32s/it]"
     ]
    },
    {
     "name": "stdout",
     "output_type": "stream",
     "text": [
      "1144941115906449408\n",
      "Tweet fetched:  Gut, dass @KlausKastberger so deutlich ist. #tddl\n"
     ]
    },
    {
     "name": "stderr",
     "output_type": "stream",
     "text": [
      "\r",
      " 58%|█████▊    | 479/830 [18:18<13:26,  2.30s/it]"
     ]
    },
    {
     "name": "stdout",
     "output_type": "stream",
     "text": [
      "1144941118297137152\n",
      "Tweet fetched:  Kastberger: stilistisch gelungen, moralisch verwerflich. Der Plauderton des Textes mache ihn unerträglich. #tddl\n"
     ]
    },
    {
     "name": "stderr",
     "output_type": "stream",
     "text": [
      "\r",
      " 58%|█████▊    | 480/830 [18:20<13:31,  2.32s/it]"
     ]
    },
    {
     "name": "stdout",
     "output_type": "stream",
     "text": [
      "1144941118297137152\n",
      "Tweet fetched:  Kastberger: stilistisch gelungen, moralisch verwerflich. Der Plauderton des Textes mache ihn unerträglich. #tddl\n"
     ]
    },
    {
     "name": "stderr",
     "output_type": "stream",
     "text": [
      "\r",
      " 58%|█████▊    | 481/830 [18:22<13:22,  2.30s/it]"
     ]
    },
    {
     "name": "stdout",
     "output_type": "stream",
     "text": [
      "1144941118297137152\n",
      "Tweet fetched:  Kastberger: stilistisch gelungen, moralisch verwerflich. Der Plauderton des Textes mache ihn unerträglich. #tddl\n"
     ]
    },
    {
     "name": "stderr",
     "output_type": "stream",
     "text": [
      "\r",
      " 58%|█████▊    | 482/830 [18:24<13:15,  2.29s/it]"
     ]
    },
    {
     "name": "stdout",
     "output_type": "stream",
     "text": [
      "1144941117764505600\n",
      "Tweet fetched:  Beyer lehrt Storytelling, und Gerster lehrt auch Schreiben. Na dann... #tddl #tddl19\n"
     ]
    },
    {
     "name": "stderr",
     "output_type": "stream",
     "text": [
      "\r",
      " 58%|█████▊    | 483/830 [18:27<13:10,  2.28s/it]"
     ]
    },
    {
     "name": "stdout",
     "output_type": "stream",
     "text": [
      "1144941117764505600\n",
      "Tweet fetched:  Beyer lehrt Storytelling, und Gerster lehrt auch Schreiben. Na dann... #tddl #tddl19\n"
     ]
    },
    {
     "name": "stderr",
     "output_type": "stream",
     "text": [
      "\r",
      " 58%|█████▊    | 484/830 [18:29<13:12,  2.29s/it]"
     ]
    },
    {
     "name": "stdout",
     "output_type": "stream",
     "text": [
      "1144941164010885120\n",
      "Tweet fetched:  Boooh, wasss... man darf nicht? #Kastberger #tddl\n"
     ]
    },
    {
     "name": "stderr",
     "output_type": "stream",
     "text": [
      "\r",
      " 58%|█████▊    | 485/830 [18:31<13:05,  2.28s/it]"
     ]
    },
    {
     "name": "stdout",
     "output_type": "stream",
     "text": [
      "1144941236274585600\n",
      "Tweet fetched:  Herr Kastberger, säße ich oben im Publikum, würde ich jetzt applaudieren. #tddl\n"
     ]
    },
    {
     "name": "stderr",
     "output_type": "stream",
     "text": [
      "\r",
      " 59%|█████▊    | 486/830 [18:34<13:02,  2.28s/it]"
     ]
    },
    {
     "name": "stdout",
     "output_type": "stream",
     "text": [
      "1144941271896723456\n",
      "Tweet fetched:  Mal Arbeit für einen längeren Essay: Warum die Verfahren in Kolportage-\"Stella\" ganz andere sind als bei Beyer.\n",
      "#tddl\n"
     ]
    },
    {
     "name": "stderr",
     "output_type": "stream",
     "text": [
      "\r",
      " 59%|█████▊    | 487/830 [18:36<13:16,  2.32s/it]"
     ]
    },
    {
     "name": "stdout",
     "output_type": "stream",
     "text": [
      "1144941271896723456\n",
      "Tweet fetched:  Mal Arbeit für einen längeren Essay: Warum die Verfahren in Kolportage-\"Stella\" ganz andere sind als bei Beyer.\n",
      "#tddl\n"
     ]
    },
    {
     "name": "stderr",
     "output_type": "stream",
     "text": [
      "\r",
      " 59%|█████▉    | 488/830 [18:38<13:06,  2.30s/it]"
     ]
    },
    {
     "name": "stdout",
     "output_type": "stream",
     "text": [
      "1144940352287203329\n",
      "Tweet fetched:  Waaaas? Darf so nicht geschrieben werden? #Winkels #tddl\n"
     ]
    },
    {
     "name": "stderr",
     "output_type": "stream",
     "text": [
      "\r",
      " 59%|█████▉    | 489/830 [18:41<13:10,  2.32s/it]"
     ]
    },
    {
     "name": "stdout",
     "output_type": "stream",
     "text": [
      "1144941434618994690\n",
      "Tweet fetched:  Mit Dialekt sprechend über Dialekt im Text schimpfen ist auch etwas schräg. #tddl\n"
     ]
    },
    {
     "name": "stderr",
     "output_type": "stream",
     "text": [
      "\r",
      " 59%|█████▉    | 490/830 [18:43<13:22,  2.36s/it]"
     ]
    },
    {
     "name": "stdout",
     "output_type": "stream",
     "text": [
      "1144941434618994690\n",
      "Tweet fetched:  Mit Dialekt sprechend über Dialekt im Text schimpfen ist auch etwas schräg. #tddl\n"
     ]
    },
    {
     "name": "stderr",
     "output_type": "stream",
     "text": [
      "\r",
      " 59%|█████▉    | 491/830 [18:45<13:10,  2.33s/it]"
     ]
    },
    {
     "name": "stdout",
     "output_type": "stream",
     "text": [
      "1144941434618994690\n",
      "Tweet fetched:  Mit Dialekt sprechend über Dialekt im Text schimpfen ist auch etwas schräg. #tddl\n"
     ]
    },
    {
     "name": "stderr",
     "output_type": "stream",
     "text": [
      "\r",
      " 59%|█████▉    | 492/830 [18:48<13:00,  2.31s/it]"
     ]
    },
    {
     "name": "stdout",
     "output_type": "stream",
     "text": [
      "1144941456307699712\n",
      "Tweet fetched:  Story-telling in a nutshell: Formal gelungener Kitsch. Geht scheißen, Ihr Dozenten. #tddl #tddl19 #Beyer\n"
     ]
    },
    {
     "name": "stderr",
     "output_type": "stream",
     "text": [
      "\r",
      " 59%|█████▉    | 493/830 [18:50<12:51,  2.29s/it]"
     ]
    },
    {
     "name": "stdout",
     "output_type": "stream",
     "text": [
      "1144941456307699712\n",
      "Tweet fetched:  Story-telling in a nutshell: Formal gelungener Kitsch. Geht scheißen, Ihr Dozenten. #tddl #tddl19 #Beyer\n"
     ]
    },
    {
     "name": "stderr",
     "output_type": "stream",
     "text": [
      "\r",
      " 60%|█████▉    | 494/830 [18:52<12:45,  2.28s/it]"
     ]
    },
    {
     "name": "stdout",
     "output_type": "stream",
     "text": [
      "1144941522451914752\n",
      "Tweet fetched:  &lt;3 @KlausKastberger #tddl\n"
     ]
    },
    {
     "name": "stderr",
     "output_type": "stream",
     "text": [
      "\r",
      " 60%|█████▉    | 495/830 [18:54<12:42,  2.28s/it]"
     ]
    },
    {
     "name": "stdout",
     "output_type": "stream",
     "text": [
      "1144941747094663168\n",
      "Tweet fetched:  Was ein quark....man darf nicht und unmoralisch...  Jetzt auch noch Schreiben nach Vorschrift 🙈 #tddl\n"
     ]
    },
    {
     "name": "stderr",
     "output_type": "stream",
     "text": [
      "\r",
      " 60%|█████▉    | 496/830 [18:57<12:48,  2.30s/it]"
     ]
    },
    {
     "name": "stdout",
     "output_type": "stream",
     "text": [
      "1144941747094663168\n",
      "Tweet fetched:  Was ein quark....man darf nicht und unmoralisch...  Jetzt auch noch Schreiben nach Vorschrift 🙈 #tddl\n"
     ]
    },
    {
     "name": "stderr",
     "output_type": "stream",
     "text": [
      "\r",
      " 60%|█████▉    | 497/830 [18:59<12:41,  2.29s/it]"
     ]
    },
    {
     "name": "stdout",
     "output_type": "stream",
     "text": [
      "1144941759006412801\n",
      "Tweet fetched:  @gomringernora hat Recht. 🤓\n",
      "#tddl\n"
     ]
    },
    {
     "name": "stderr",
     "output_type": "stream",
     "text": [
      "\r",
      " 60%|██████    | 498/830 [19:01<12:35,  2.27s/it]"
     ]
    },
    {
     "name": "stdout",
     "output_type": "stream",
     "text": [
      "1144941757907554305\n",
      "Tweet fetched:  @jonfridman Möglicherweise beabsichtigt, soviel will ich ihm zugestehen. Aber gnadenlos versiebt. #tddl\n"
     ]
    },
    {
     "name": "stderr",
     "output_type": "stream",
     "text": [
      "\r",
      " 60%|██████    | 499/830 [19:03<12:31,  2.27s/it]"
     ]
    },
    {
     "name": "stdout",
     "output_type": "stream",
     "text": [
      "1144941786940526594\n",
      "Tweet fetched:  Wir sind alle August.\n",
      "#Gomringer #tddl #Beyer\n"
     ]
    },
    {
     "name": "stderr",
     "output_type": "stream",
     "text": [
      "\r",
      " 60%|██████    | 500/830 [19:06<12:51,  2.34s/it]"
     ]
    },
    {
     "name": "stdout",
     "output_type": "stream",
     "text": [
      "1144941786940526594\n",
      "Tweet fetched:  Wir sind alle August.\n",
      "#Gomringer #tddl #Beyer\n"
     ]
    },
    {
     "name": "stderr",
     "output_type": "stream",
     "text": [
      "\r",
      " 60%|██████    | 501/830 [19:08<13:03,  2.38s/it]"
     ]
    },
    {
     "name": "stdout",
     "output_type": "stream",
     "text": [
      "1144940364987604993\n",
      "Tweet fetched:  Wiederstein: Der Text habe mit der Stella-Debatte nichts zu tun. Die Figuren seien keine Abziehbildchen. #stella #tddl\n"
     ]
    },
    {
     "name": "stderr",
     "output_type": "stream",
     "text": [
      "\r",
      " 60%|██████    | 502/830 [19:11<12:52,  2.35s/it]"
     ]
    },
    {
     "name": "stdout",
     "output_type": "stream",
     "text": [
      "1144940364987604993\n",
      "Tweet fetched:  Wiederstein: Der Text habe mit der Stella-Debatte nichts zu tun. Die Figuren seien keine Abziehbildchen. #stella #tddl\n"
     ]
    },
    {
     "name": "stderr",
     "output_type": "stream",
     "text": [
      "\r",
      " 61%|██████    | 503/830 [19:13<12:57,  2.38s/it]"
     ]
    },
    {
     "name": "stdout",
     "output_type": "stream",
     "text": [
      "1144941683831988224\n",
      "[{'code': 144, 'message': 'No status found with that ID.'}]\n",
      "Inside the exception - no:2\n"
     ]
    },
    {
     "name": "stderr",
     "output_type": "stream",
     "text": [
      "\r",
      " 61%|██████    | 504/830 [19:15<12:41,  2.34s/it]"
     ]
    },
    {
     "name": "stdout",
     "output_type": "stream",
     "text": [
      "1144941869903859712\n",
      "Tweet fetched:  \"Mutter Courage\" Bertolt Brecht. Zum zweiten Mal schon Brecht! #tddlkanon #tddl\n"
     ]
    },
    {
     "name": "stderr",
     "output_type": "stream",
     "text": [
      "\r",
      " 61%|██████    | 505/830 [19:18<12:31,  2.31s/it]"
     ]
    },
    {
     "name": "stdout",
     "output_type": "stream",
     "text": [
      "1144941977852698625\n",
      "Tweet fetched:  An Martin Beyers Text über die Hinrichtung dreier Mitglieder der Weißen Rose entbrennt ein Streit in der Jury. \"Ein Text, der so nicht geschrieben werden darf\", so Winkels. Eine Grenze überschritten sieht @KlausKastberger. Wiederstein &amp; @gomringernora halten dagegen #tddl (mz)\n"
     ]
    },
    {
     "name": "stderr",
     "output_type": "stream",
     "text": [
      "\r",
      " 61%|██████    | 506/830 [19:20<12:24,  2.30s/it]"
     ]
    },
    {
     "name": "stdout",
     "output_type": "stream",
     "text": [
      "1144941977852698625\n",
      "Tweet fetched:  An Martin Beyers Text über die Hinrichtung dreier Mitglieder der Weißen Rose entbrennt ein Streit in der Jury. \"Ein Text, der so nicht geschrieben werden darf\", so Winkels. Eine Grenze überschritten sieht @KlausKastberger. Wiederstein &amp; @gomringernora halten dagegen #tddl (mz)\n"
     ]
    },
    {
     "name": "stderr",
     "output_type": "stream",
     "text": [
      "\r",
      " 61%|██████    | 507/830 [19:22<12:18,  2.29s/it]"
     ]
    },
    {
     "name": "stdout",
     "output_type": "stream",
     "text": [
      "1144941977852698625\n",
      "Tweet fetched:  An Martin Beyers Text über die Hinrichtung dreier Mitglieder der Weißen Rose entbrennt ein Streit in der Jury. \"Ein Text, der so nicht geschrieben werden darf\", so Winkels. Eine Grenze überschritten sieht @KlausKastberger. Wiederstein &amp; @gomringernora halten dagegen #tddl (mz)\n"
     ]
    },
    {
     "name": "stderr",
     "output_type": "stream",
     "text": [
      "\r",
      " 61%|██████    | 508/830 [19:24<12:13,  2.28s/it]"
     ]
    },
    {
     "name": "stdout",
     "output_type": "stream",
     "text": [
      "1144941977852698625\n",
      "Tweet fetched:  An Martin Beyers Text über die Hinrichtung dreier Mitglieder der Weißen Rose entbrennt ein Streit in der Jury. \"Ein Text, der so nicht geschrieben werden darf\", so Winkels. Eine Grenze überschritten sieht @KlausKastberger. Wiederstein &amp; @gomringernora halten dagegen #tddl (mz)\n"
     ]
    },
    {
     "name": "stderr",
     "output_type": "stream",
     "text": [
      "\r",
      " 61%|██████▏   | 509/830 [19:27<12:09,  2.27s/it]"
     ]
    },
    {
     "name": "stdout",
     "output_type": "stream",
     "text": [
      "1144941977852698625\n",
      "Tweet fetched:  An Martin Beyers Text über die Hinrichtung dreier Mitglieder der Weißen Rose entbrennt ein Streit in der Jury. \"Ein Text, der so nicht geschrieben werden darf\", so Winkels. Eine Grenze überschritten sieht @KlausKastberger. Wiederstein &amp; @gomringernora halten dagegen #tddl (mz)\n"
     ]
    },
    {
     "name": "stderr",
     "output_type": "stream",
     "text": [
      "\r",
      " 61%|██████▏   | 510/830 [19:29<12:05,  2.27s/it]"
     ]
    },
    {
     "name": "stdout",
     "output_type": "stream",
     "text": [
      "1144941977852698625\n",
      "Tweet fetched:  An Martin Beyers Text über die Hinrichtung dreier Mitglieder der Weißen Rose entbrennt ein Streit in der Jury. \"Ein Text, der so nicht geschrieben werden darf\", so Winkels. Eine Grenze überschritten sieht @KlausKastberger. Wiederstein &amp; @gomringernora halten dagegen #tddl (mz)\n"
     ]
    },
    {
     "name": "stderr",
     "output_type": "stream",
     "text": [
      "\r",
      " 62%|██████▏   | 511/830 [19:31<12:09,  2.29s/it]"
     ]
    },
    {
     "name": "stdout",
     "output_type": "stream",
     "text": [
      "1144941989743513601\n",
      "Tweet fetched:  I wonder if the Anglo lit community would ever be able to handle an event like the #tddl , which is currently on . The infamous German directness (be it from the jury or the twittersphere) might be too much... https://t.co/3AoIQ4hY0q\n"
     ]
    },
    {
     "name": "stderr",
     "output_type": "stream",
     "text": [
      "\r",
      " 62%|██████▏   | 512/830 [19:34<12:08,  2.29s/it]"
     ]
    },
    {
     "name": "stdout",
     "output_type": "stream",
     "text": [
      "1144941989743513601\n",
      "Tweet fetched:  I wonder if the Anglo lit community would ever be able to handle an event like the #tddl , which is currently on . The infamous German directness (be it from the jury or the twittersphere) might be too much... https://t.co/3AoIQ4hY0q\n"
     ]
    },
    {
     "name": "stderr",
     "output_type": "stream",
     "text": [
      "\r",
      " 62%|██████▏   | 513/830 [19:36<12:03,  2.28s/it]"
     ]
    },
    {
     "name": "stdout",
     "output_type": "stream",
     "text": [
      "1144942044495958018\n",
      "Tweet fetched:  #Gmünder gefällt mir dieses Jahr sehr gut. #tddl #tddl19\n"
     ]
    },
    {
     "name": "stderr",
     "output_type": "stream",
     "text": [
      "\r",
      " 62%|██████▏   | 514/830 [19:38<11:59,  2.28s/it]"
     ]
    },
    {
     "name": "stdout",
     "output_type": "stream",
     "text": [
      "1144942102272454658\n",
      "Tweet fetched:  Wiederstein-Autoren heuer nicht auf der Shortlist. #tddl\n"
     ]
    },
    {
     "name": "stderr",
     "output_type": "stream",
     "text": [
      "\r",
      " 62%|██████▏   | 515/830 [19:40<11:54,  2.27s/it]"
     ]
    },
    {
     "name": "stdout",
     "output_type": "stream",
     "text": [
      "1144942102272454658\n",
      "Tweet fetched:  Wiederstein-Autoren heuer nicht auf der Shortlist. #tddl\n"
     ]
    },
    {
     "name": "stderr",
     "output_type": "stream",
     "text": [
      "\r",
      " 62%|██████▏   | 516/830 [19:43<11:51,  2.27s/it]"
     ]
    },
    {
     "name": "stdout",
     "output_type": "stream",
     "text": [
      "1144942228135170050\n",
      "Tweet fetched:  Gute Was-darf-Literatur-und-was-nicht-Diskussion, jedoch bisschen mehr mit dem Text argumentieren.\n",
      "Bitte.\n",
      "#tddl\n"
     ]
    },
    {
     "name": "stderr",
     "output_type": "stream",
     "text": [
      "\r",
      " 62%|██████▏   | 517/830 [19:45<11:50,  2.27s/it]"
     ]
    },
    {
     "name": "stdout",
     "output_type": "stream",
     "text": [
      "1144942228135170050\n",
      "Tweet fetched:  Gute Was-darf-Literatur-und-was-nicht-Diskussion, jedoch bisschen mehr mit dem Text argumentieren.\n",
      "Bitte.\n",
      "#tddl\n"
     ]
    },
    {
     "name": "stderr",
     "output_type": "stream",
     "text": [
      "\r",
      " 62%|██████▏   | 518/830 [19:47<11:57,  2.30s/it]"
     ]
    },
    {
     "name": "stdout",
     "output_type": "stream",
     "text": [
      "1144942429851791361\n",
      "[{'code': 144, 'message': 'No status found with that ID.'}]\n",
      "Inside the exception - no:2\n"
     ]
    },
    {
     "name": "stderr",
     "output_type": "stream",
     "text": [
      "\r",
      " 63%|██████▎   | 519/830 [19:49<11:49,  2.28s/it]"
     ]
    },
    {
     "name": "stdout",
     "output_type": "stream",
     "text": [
      "1144942603449831429\n",
      "Tweet fetched:  #Beyer|s Ausbeutung. #tddl #tddl19\n"
     ]
    },
    {
     "name": "stderr",
     "output_type": "stream",
     "text": [
      "\r",
      " 63%|██████▎   | 520/830 [19:52<11:46,  2.28s/it]"
     ]
    },
    {
     "name": "stdout",
     "output_type": "stream",
     "text": [
      "1144942716905803776\n",
      "Tweet fetched:  @jonfridman Warum zB hat er nicht: detailliert Fahrt &amp; Hinrichtung beschrieben, aber ohne Dialoge, ohne Namen, ohne Ostfronterinnerungen, und dann, im allerletzten Absatz, die Liste der Ermordeten, ein Dutzend Nachnamen, dazwischen die Scholls. Das hätte gelingen können. #tddl\n"
     ]
    },
    {
     "name": "stderr",
     "output_type": "stream",
     "text": [
      "\r",
      " 63%|██████▎   | 521/830 [19:54<11:40,  2.27s/it]"
     ]
    },
    {
     "name": "stdout",
     "output_type": "stream",
     "text": [
      "1144942716905803776\n",
      "Tweet fetched:  @jonfridman Warum zB hat er nicht: detailliert Fahrt &amp; Hinrichtung beschrieben, aber ohne Dialoge, ohne Namen, ohne Ostfronterinnerungen, und dann, im allerletzten Absatz, die Liste der Ermordeten, ein Dutzend Nachnamen, dazwischen die Scholls. Das hätte gelingen können. #tddl\n"
     ]
    },
    {
     "name": "stderr",
     "output_type": "stream",
     "text": [
      "\r",
      " 63%|██████▎   | 522/830 [19:56<11:36,  2.26s/it]"
     ]
    },
    {
     "name": "stdout",
     "output_type": "stream",
     "text": [
      "1144940426736087040\n",
      "Tweet fetched:  Gleich verlangt Michael Wiederstein Satisfaktion. Die Waffe seiner Wahl: ein Fächer. #tddl\n"
     ]
    },
    {
     "name": "stderr",
     "output_type": "stream",
     "text": [
      "\r",
      " 63%|██████▎   | 523/830 [19:58<11:33,  2.26s/it]"
     ]
    },
    {
     "name": "stdout",
     "output_type": "stream",
     "text": [
      "1144942770248978432\n",
      "Tweet fetched:  Komme ins Zimmer, höre wie Kastberger Text \"unerträglich\" nennt. Ärgere mich nun deutlich weniger, dass ich Lesung nicht hören konnte #tddl\n"
     ]
    },
    {
     "name": "stderr",
     "output_type": "stream",
     "text": [
      "\r",
      " 63%|██████▎   | 524/830 [20:01<11:31,  2.26s/it]"
     ]
    },
    {
     "name": "stdout",
     "output_type": "stream",
     "text": [
      "1144942770248978432\n",
      "Tweet fetched:  Komme ins Zimmer, höre wie Kastberger Text \"unerträglich\" nennt. Ärgere mich nun deutlich weniger, dass ich Lesung nicht hören konnte #tddl\n"
     ]
    },
    {
     "name": "stderr",
     "output_type": "stream",
     "text": [
      "\r",
      " 63%|██████▎   | 525/830 [20:03<11:28,  2.26s/it]"
     ]
    },
    {
     "name": "stdout",
     "output_type": "stream",
     "text": [
      "1144942863442173953\n",
      "Tweet fetched:  man könnte auch wieder mal @clemensetz zitieren. #tddl\n"
     ]
    },
    {
     "name": "stderr",
     "output_type": "stream",
     "text": [
      "\r",
      " 63%|██████▎   | 526/830 [20:05<11:39,  2.30s/it]"
     ]
    },
    {
     "name": "stdout",
     "output_type": "stream",
     "text": [
      "1144943034238455808\n",
      "Tweet fetched:  Text Beispiel für Fatedropping. #tddl\n"
     ]
    },
    {
     "name": "stderr",
     "output_type": "stream",
     "text": [
      "\r",
      " 63%|██████▎   | 527/830 [20:08<11:55,  2.36s/it]"
     ]
    },
    {
     "name": "stdout",
     "output_type": "stream",
     "text": [
      "1144942900905684993\n",
      "[{'code': 144, 'message': 'No status found with that ID.'}]\n",
      "Inside the exception - no:2\n"
     ]
    },
    {
     "name": "stderr",
     "output_type": "stream",
     "text": [
      "\r",
      " 64%|██████▎   | 528/830 [20:10<11:40,  2.32s/it]"
     ]
    },
    {
     "name": "stdout",
     "output_type": "stream",
     "text": [
      "1144943097001971712\n",
      "Tweet fetched:  Respekt für #Wiederstein der für \"seinen\" #Beyer-Text kämpft. \n",
      "In der Jury der einfältige Reflex, den diese selbst beklagt: Sie wünschen sich ihre alte Klischees zurück. Beyer versucht uns zu zeigen, wie das Monströse immer uns Normale benutzt. Tu Brutus! #tddl\n"
     ]
    },
    {
     "name": "stderr",
     "output_type": "stream",
     "text": [
      "\r",
      " 64%|██████▎   | 529/830 [20:12<11:32,  2.30s/it]"
     ]
    },
    {
     "name": "stdout",
     "output_type": "stream",
     "text": [
      "1144943097001971712\n",
      "Tweet fetched:  Respekt für #Wiederstein der für \"seinen\" #Beyer-Text kämpft. \n",
      "In der Jury der einfältige Reflex, den diese selbst beklagt: Sie wünschen sich ihre alte Klischees zurück. Beyer versucht uns zu zeigen, wie das Monströse immer uns Normale benutzt. Tu Brutus! #tddl\n"
     ]
    },
    {
     "name": "stderr",
     "output_type": "stream",
     "text": [
      "\r",
      " 64%|██████▍   | 530/830 [20:15<11:25,  2.29s/it]"
     ]
    },
    {
     "name": "stdout",
     "output_type": "stream",
     "text": [
      "1144943136944398336\n",
      "Tweet fetched:  Dieser Beyer aus Bamberg?! Vermutlich ein AfD-Anhänger #tddl\n"
     ]
    },
    {
     "name": "stderr",
     "output_type": "stream",
     "text": [
      "\r",
      " 64%|██████▍   | 531/830 [20:17<11:20,  2.28s/it]"
     ]
    },
    {
     "name": "stdout",
     "output_type": "stream",
     "text": [
      "1144943147656654848\n",
      "[{'code': 144, 'message': 'No status found with that ID.'}]\n",
      "Inside the exception - no:2\n"
     ]
    },
    {
     "name": "stderr",
     "output_type": "stream",
     "text": [
      "\r",
      " 64%|██████▍   | 532/830 [20:19<11:13,  2.26s/it]"
     ]
    },
    {
     "name": "stdout",
     "output_type": "stream",
     "text": [
      "1144943147656654848\n",
      "[{'code': 144, 'message': 'No status found with that ID.'}]\n",
      "Inside the exception - no:2\n"
     ]
    },
    {
     "name": "stderr",
     "output_type": "stream",
     "text": [
      "\r",
      " 64%|██████▍   | 533/830 [20:21<11:11,  2.26s/it]"
     ]
    },
    {
     "name": "stdout",
     "output_type": "stream",
     "text": [
      "1144943147656654848\n",
      "[{'code': 144, 'message': 'No status found with that ID.'}]\n",
      "Inside the exception - no:2\n"
     ]
    },
    {
     "name": "stderr",
     "output_type": "stream",
     "text": [
      "\r",
      " 64%|██████▍   | 534/830 [20:24<11:06,  2.25s/it]"
     ]
    },
    {
     "name": "stdout",
     "output_type": "stream",
     "text": [
      "1144943162533863424\n",
      "Tweet fetched:  \"Der ist ja kein halber Nazi\" - stimmt, war vermutlich ein ganzer... #tddl\n"
     ]
    },
    {
     "name": "stderr",
     "output_type": "stream",
     "text": [
      "\r",
      " 64%|██████▍   | 535/830 [20:26<11:05,  2.26s/it]"
     ]
    },
    {
     "name": "stdout",
     "output_type": "stream",
     "text": [
      "1144943162533863424\n",
      "Tweet fetched:  \"Der ist ja kein halber Nazi\" - stimmt, war vermutlich ein ganzer... #tddl\n"
     ]
    },
    {
     "name": "stderr",
     "output_type": "stream",
     "text": [
      "\r",
      " 65%|██████▍   | 536/830 [20:28<11:05,  2.26s/it]"
     ]
    },
    {
     "name": "stdout",
     "output_type": "stream",
     "text": [
      "1144943162533863424\n",
      "Tweet fetched:  \"Der ist ja kein halber Nazi\" - stimmt, war vermutlich ein ganzer... #tddl\n"
     ]
    },
    {
     "name": "stderr",
     "output_type": "stream",
     "text": [
      "\r",
      " 65%|██████▍   | 537/830 [20:30<11:03,  2.26s/it]"
     ]
    },
    {
     "name": "stdout",
     "output_type": "stream",
     "text": [
      "1144943162533863424\n",
      "Tweet fetched:  \"Der ist ja kein halber Nazi\" - stimmt, war vermutlich ein ganzer... #tddl\n"
     ]
    },
    {
     "name": "stderr",
     "output_type": "stream",
     "text": [
      "\r",
      " 65%|██████▍   | 538/830 [20:33<11:00,  2.26s/it]"
     ]
    },
    {
     "name": "stdout",
     "output_type": "stream",
     "text": [
      "1144943335959924736\n",
      "Tweet fetched:  wenn jemand dir Nazikitsch andrehen will, einfach immer wieder \"Nee\" sagen wie Wilke.  #tddl\n"
     ]
    },
    {
     "name": "stderr",
     "output_type": "stream",
     "text": [
      "\r",
      " 65%|██████▍   | 539/830 [20:35<10:58,  2.26s/it]"
     ]
    },
    {
     "name": "stdout",
     "output_type": "stream",
     "text": [
      "1144943335959924736\n",
      "Tweet fetched:  wenn jemand dir Nazikitsch andrehen will, einfach immer wieder \"Nee\" sagen wie Wilke.  #tddl\n"
     ]
    },
    {
     "name": "stderr",
     "output_type": "stream",
     "text": [
      "\r",
      " 65%|██████▌   | 540/830 [20:37<10:56,  2.26s/it]"
     ]
    },
    {
     "name": "stdout",
     "output_type": "stream",
     "text": [
      "1144943487919579136\n",
      "Tweet fetched:  @jonfridman Moment. Verwechslungsgefahr: ich kritisiere den Kitsch des Erzählers Beyer. Der Kitsch seiner Hauptfigur wäre ja OK, weil er Teil der Figur ist. #tddl\n"
     ]
    },
    {
     "name": "stderr",
     "output_type": "stream",
     "text": [
      "\r",
      " 65%|██████▌   | 541/830 [20:39<10:54,  2.26s/it]"
     ]
    },
    {
     "name": "stdout",
     "output_type": "stream",
     "text": [
      "1144943487919579136\n",
      "Tweet fetched:  @jonfridman Moment. Verwechslungsgefahr: ich kritisiere den Kitsch des Erzählers Beyer. Der Kitsch seiner Hauptfigur wäre ja OK, weil er Teil der Figur ist. #tddl\n"
     ]
    },
    {
     "name": "stderr",
     "output_type": "stream",
     "text": [
      "\r",
      " 65%|██████▌   | 542/830 [20:42<10:50,  2.26s/it]"
     ]
    },
    {
     "name": "stdout",
     "output_type": "stream",
     "text": [
      "1144940500358766593\n",
      "Tweet fetched:  \"drei von denen waren halt die Mitglieder der Weißen Rose.\" - ach. \"halt\" #tddl #tddl19\n"
     ]
    },
    {
     "name": "stderr",
     "output_type": "stream",
     "text": [
      "\r",
      " 65%|██████▌   | 543/830 [20:44<10:46,  2.25s/it]"
     ]
    },
    {
     "name": "stdout",
     "output_type": "stream",
     "text": [
      "1144940500358766593\n",
      "Tweet fetched:  \"drei von denen waren halt die Mitglieder der Weißen Rose.\" - ach. \"halt\" #tddl #tddl19\n"
     ]
    },
    {
     "name": "stderr",
     "output_type": "stream",
     "text": [
      "\r",
      " 66%|██████▌   | 544/830 [20:46<10:44,  2.25s/it]"
     ]
    },
    {
     "name": "stdout",
     "output_type": "stream",
     "text": [
      "1144943657482670080\n",
      "Tweet fetched:  dachte nicht, dass dieser text in der jury so polarisieren kann. #tddl\n"
     ]
    },
    {
     "name": "stderr",
     "output_type": "stream",
     "text": [
      "\r",
      " 66%|██████▌   | 545/830 [20:48<10:43,  2.26s/it]"
     ]
    },
    {
     "name": "stdout",
     "output_type": "stream",
     "text": [
      "1144943657482670080\n",
      "Tweet fetched:  dachte nicht, dass dieser text in der jury so polarisieren kann. #tddl\n"
     ]
    },
    {
     "name": "stderr",
     "output_type": "stream",
     "text": [
      "\r",
      " 66%|██████▌   | 546/830 [20:51<10:42,  2.26s/it]"
     ]
    },
    {
     "name": "stdout",
     "output_type": "stream",
     "text": [
      "1144943798906228737\n",
      "Tweet fetched:  @jonfridman Muß es nicht notwendigerweise sein. Aber dazu muß man durchaus besser schreiben können. #tddl\n"
     ]
    },
    {
     "name": "stderr",
     "output_type": "stream",
     "text": [
      "\r",
      " 66%|██████▌   | 547/830 [20:53<10:39,  2.26s/it]"
     ]
    },
    {
     "name": "stdout",
     "output_type": "stream",
     "text": [
      "1144943798906228737\n",
      "Tweet fetched:  @jonfridman Muß es nicht notwendigerweise sein. Aber dazu muß man durchaus besser schreiben können. #tddl\n"
     ]
    },
    {
     "name": "stderr",
     "output_type": "stream",
     "text": [
      "\r",
      " 66%|██████▌   | 548/830 [20:55<10:36,  2.26s/it]"
     ]
    },
    {
     "name": "stdout",
     "output_type": "stream",
     "text": [
      "1144943822679527425\n",
      "Tweet fetched:  Bevor alle den Sommertag genießen: Abstimmen zur Jurorin/zum Juror 2019. Wer war eurer Meinung nach die oder der Beste der Jury? https://t.co/KW7lGIv55a #tddl #jurybewertung\n"
     ]
    },
    {
     "name": "stderr",
     "output_type": "stream",
     "text": [
      "\r",
      " 66%|██████▌   | 549/830 [20:58<10:39,  2.28s/it]"
     ]
    },
    {
     "name": "stdout",
     "output_type": "stream",
     "text": [
      "1144943822679527425\n",
      "Tweet fetched:  Bevor alle den Sommertag genießen: Abstimmen zur Jurorin/zum Juror 2019. Wer war eurer Meinung nach die oder der Beste der Jury? https://t.co/KW7lGIv55a #tddl #jurybewertung\n"
     ]
    },
    {
     "name": "stderr",
     "output_type": "stream",
     "text": [
      "\r",
      " 66%|██████▋   | 550/830 [21:00<10:52,  2.33s/it]"
     ]
    },
    {
     "name": "stdout",
     "output_type": "stream",
     "text": [
      "1144943832322183169\n",
      "Tweet fetched:  das merk ich mir. RT @monaaarg: wenn jemand dir Nazikitsch andrehen will, einfach immer wieder \"Nee\" sagen wie Wilke.  #tddl\n"
     ]
    },
    {
     "name": "stderr",
     "output_type": "stream",
     "text": [
      "\r",
      " 66%|██████▋   | 551/830 [21:02<10:44,  2.31s/it]"
     ]
    },
    {
     "name": "stdout",
     "output_type": "stream",
     "text": [
      "1144943832322183169\n",
      "Tweet fetched:  das merk ich mir. RT @monaaarg: wenn jemand dir Nazikitsch andrehen will, einfach immer wieder \"Nee\" sagen wie Wilke.  #tddl\n"
     ]
    },
    {
     "name": "stderr",
     "output_type": "stream",
     "text": [
      "\r",
      " 67%|██████▋   | 552/830 [21:05<10:37,  2.29s/it]"
     ]
    },
    {
     "name": "stdout",
     "output_type": "stream",
     "text": [
      "1144943832322183169\n",
      "Tweet fetched:  das merk ich mir. RT @monaaarg: wenn jemand dir Nazikitsch andrehen will, einfach immer wieder \"Nee\" sagen wie Wilke.  #tddl\n"
     ]
    },
    {
     "name": "stderr",
     "output_type": "stream",
     "text": [
      "\r",
      " 67%|██████▋   | 553/830 [21:07<10:46,  2.33s/it]"
     ]
    },
    {
     "name": "stdout",
     "output_type": "stream",
     "text": [
      "1144943865306202112\n",
      "Tweet fetched:  Wie arrogant, er würdigt den #Wiederstein keines Blickes. Winkels vergötzt wieder mal sich selbst. #tddl\n",
      "Grauen ist Dauerthema 2019.\n"
     ]
    },
    {
     "name": "stderr",
     "output_type": "stream",
     "text": [
      "\r",
      " 67%|██████▋   | 554/830 [21:09<10:48,  2.35s/it]"
     ]
    },
    {
     "name": "stdout",
     "output_type": "stream",
     "text": [
      "1144943908985745408\n",
      "Tweet fetched:  Lebhaft, aber jetzt leider kastenbergerplakativ.\n",
      "#tddl\n"
     ]
    },
    {
     "name": "stderr",
     "output_type": "stream",
     "text": [
      "\r",
      " 67%|██████▋   | 555/830 [21:12<10:37,  2.32s/it]"
     ]
    },
    {
     "name": "stdout",
     "output_type": "stream",
     "text": [
      "1144943908985745408\n",
      "Tweet fetched:  Lebhaft, aber jetzt leider kastenbergerplakativ.\n",
      "#tddl\n"
     ]
    },
    {
     "name": "stderr",
     "output_type": "stream",
     "text": [
      "\r",
      " 67%|██████▋   | 556/830 [21:14<10:29,  2.30s/it]"
     ]
    },
    {
     "name": "stdout",
     "output_type": "stream",
     "text": [
      "1144943918330630144\n",
      "Tweet fetched:  Erstaunlich hoher Scheißdrecksanteil bei den diesjährigen #tddl\n"
     ]
    },
    {
     "name": "stderr",
     "output_type": "stream",
     "text": [
      "\r",
      " 67%|██████▋   | 557/830 [21:16<10:24,  2.29s/it]"
     ]
    },
    {
     "name": "stdout",
     "output_type": "stream",
     "text": [
      "1144943946369511426\n",
      "Tweet fetched:  wen hört man da atmen, stöhnen u. prusten? #tddl\n"
     ]
    },
    {
     "name": "stderr",
     "output_type": "stream",
     "text": [
      "\r",
      " 67%|██████▋   | 558/830 [21:18<10:21,  2.29s/it]"
     ]
    },
    {
     "name": "stdout",
     "output_type": "stream",
     "text": [
      "1144944034097614849\n",
      "Tweet fetched:  Dieser Kastberger ist unerträglich. #tddl\n"
     ]
    },
    {
     "name": "stderr",
     "output_type": "stream",
     "text": [
      "\r",
      " 67%|██████▋   | 559/830 [21:21<10:30,  2.33s/it]"
     ]
    },
    {
     "name": "stdout",
     "output_type": "stream",
     "text": [
      "1144944080050409477\n",
      "Tweet fetched:  Kastberger trifft es! Und wenn im Text steht \"„Haben Sie Kinder?“, fragte er. Er fragte es immer wieder. „Haben Sie Kinder?“ – „Haben Sie Kinder?“\n",
      "– „Haben Sie Kinder?“ – „Haben Sie Kinder?“ – „Haben Sie Kinder?“\" von Christoph Probst, dann ist das ein Ausschlachten. Punkt #tddl\n"
     ]
    },
    {
     "name": "stderr",
     "output_type": "stream",
     "text": [
      "\r",
      " 67%|██████▋   | 560/830 [21:23<10:22,  2.31s/it]"
     ]
    },
    {
     "name": "stdout",
     "output_type": "stream",
     "text": [
      "1144944080050409477\n",
      "Tweet fetched:  Kastberger trifft es! Und wenn im Text steht \"„Haben Sie Kinder?“, fragte er. Er fragte es immer wieder. „Haben Sie Kinder?“ – „Haben Sie Kinder?“\n",
      "– „Haben Sie Kinder?“ – „Haben Sie Kinder?“ – „Haben Sie Kinder?“\" von Christoph Probst, dann ist das ein Ausschlachten. Punkt #tddl\n"
     ]
    },
    {
     "name": "stderr",
     "output_type": "stream",
     "text": [
      "\r",
      " 68%|██████▊   | 561/830 [21:25<10:16,  2.29s/it]"
     ]
    },
    {
     "name": "stdout",
     "output_type": "stream",
     "text": [
      "1144940617123934208\n",
      "Tweet fetched:  Der Erklärbär zeigt Zähne. #tddl #wiederstein\n"
     ]
    },
    {
     "name": "stderr",
     "output_type": "stream",
     "text": [
      "\r",
      " 68%|██████▊   | 562/830 [21:28<10:12,  2.28s/it]"
     ]
    },
    {
     "name": "stdout",
     "output_type": "stream",
     "text": [
      "1144944099994275845\n",
      "Tweet fetched:  der erste sinnvolle input, der vergleich zu @OthmannRonya wie es besser geht. 🙏#tddl\n"
     ]
    },
    {
     "name": "stderr",
     "output_type": "stream",
     "text": [
      "\r",
      " 68%|██████▊   | 563/830 [21:30<10:07,  2.27s/it]"
     ]
    },
    {
     "name": "stdout",
     "output_type": "stream",
     "text": [
      "1144944112413696000\n",
      "Tweet fetched:  So, das wars. Wenigstens am letzten Tag noch ein paar Kontroversen. #tddl\n"
     ]
    },
    {
     "name": "stderr",
     "output_type": "stream",
     "text": [
      "\r",
      " 68%|██████▊   | 564/830 [21:32<10:03,  2.27s/it]"
     ]
    },
    {
     "name": "stdout",
     "output_type": "stream",
     "text": [
      "1144944128410705921\n",
      "Tweet fetched:  Wer hat denn grad die ganze Zeit dampfablassend ins Mikro geatmet? #tddl\n"
     ]
    },
    {
     "name": "stderr",
     "output_type": "stream",
     "text": [
      "\r",
      " 68%|██████▊   | 565/830 [21:35<10:13,  2.32s/it]"
     ]
    },
    {
     "name": "stdout",
     "output_type": "stream",
     "text": [
      "1144944168390860800\n",
      "Tweet fetched:  Jetzt Backstage bei der Jury Mäusschen spielen!!! #tddl\n"
     ]
    },
    {
     "name": "stderr",
     "output_type": "stream",
     "text": [
      "\r",
      " 68%|██████▊   | 566/830 [21:37<10:07,  2.30s/it]"
     ]
    },
    {
     "name": "stdout",
     "output_type": "stream",
     "text": [
      "1144944206944907264\n",
      "Tweet fetched:  @KlausKastberger applaudiert #Beyer nicht. Recht so. #tddl #tddl19\n"
     ]
    },
    {
     "name": "stderr",
     "output_type": "stream",
     "text": [
      "\r",
      " 68%|██████▊   | 567/830 [21:39<10:02,  2.29s/it]"
     ]
    },
    {
     "name": "stdout",
     "output_type": "stream",
     "text": [
      "1144944496012091392\n",
      "Tweet fetched:  Merkt euch, liebe Schreibenden: Herr Winkels entscheidet ab sofort, was in der Literatur „geht“ und was nicht. #tddl #tddl19\n"
     ]
    },
    {
     "name": "stderr",
     "output_type": "stream",
     "text": [
      "\r",
      " 68%|██████▊   | 568/830 [21:41<09:57,  2.28s/it]"
     ]
    },
    {
     "name": "stdout",
     "output_type": "stream",
     "text": [
      "1144944545005805569\n",
      "Tweet fetched:  Ogottogott. Tz. Tz. Och nöö. Mannomann. Boah. Puuh! #tddl\n"
     ]
    },
    {
     "name": "stderr",
     "output_type": "stream",
     "text": [
      "\r",
      " 69%|██████▊   | 569/830 [21:44<09:54,  2.28s/it]"
     ]
    },
    {
     "name": "stdout",
     "output_type": "stream",
     "text": [
      "1144944667013857282\n",
      "Tweet fetched:  Hihi.  #tddl https://t.co/NW6xjU2gMp\n"
     ]
    },
    {
     "name": "stderr",
     "output_type": "stream",
     "text": [
      "\r",
      " 69%|██████▊   | 570/830 [21:46<09:51,  2.27s/it]"
     ]
    },
    {
     "name": "stdout",
     "output_type": "stream",
     "text": [
      "1144944782277533697\n",
      "Tweet fetched:  @jonfridman Nein, da ist ein Unterschied. Beyer benutzt Kitsch, um eine Figur mit Kitschanteilen zu schreiben, und er benutzt den Kitsch auch für alles andere. #tddl\n"
     ]
    },
    {
     "name": "stderr",
     "output_type": "stream",
     "text": [
      "\r",
      " 69%|██████▉   | 571/830 [21:48<09:58,  2.31s/it]"
     ]
    },
    {
     "name": "stdout",
     "output_type": "stream",
     "text": [
      "1144944782277533697\n",
      "Tweet fetched:  @jonfridman Nein, da ist ein Unterschied. Beyer benutzt Kitsch, um eine Figur mit Kitschanteilen zu schreiben, und er benutzt den Kitsch auch für alles andere. #tddl\n"
     ]
    },
    {
     "name": "stderr",
     "output_type": "stream",
     "text": [
      "\r",
      " 69%|██████▉   | 572/830 [21:51<09:52,  2.30s/it]"
     ]
    },
    {
     "name": "stdout",
     "output_type": "stream",
     "text": [
      "1144944782277533697\n",
      "Tweet fetched:  @jonfridman Nein, da ist ein Unterschied. Beyer benutzt Kitsch, um eine Figur mit Kitschanteilen zu schreiben, und er benutzt den Kitsch auch für alles andere. #tddl\n"
     ]
    },
    {
     "name": "stderr",
     "output_type": "stream",
     "text": [
      "\r",
      " 69%|██████▉   | 573/830 [21:53<09:46,  2.28s/it]"
     ]
    },
    {
     "name": "stdout",
     "output_type": "stream",
     "text": [
      "1144940670433529856\n",
      "Tweet fetched:  Obszön! Ja - so ist es! #tddl\n"
     ]
    },
    {
     "name": "stderr",
     "output_type": "stream",
     "text": [
      "\r",
      " 69%|██████▉   | 574/830 [21:55<09:42,  2.28s/it]"
     ]
    },
    {
     "name": "stdout",
     "output_type": "stream",
     "text": [
      "1144944803299438592\n",
      "[{'code': 144, 'message': 'No status found with that ID.'}]\n",
      "Inside the exception - no:2\n"
     ]
    },
    {
     "name": "stderr",
     "output_type": "stream",
     "text": [
      "\r",
      " 69%|██████▉   | 575/830 [21:57<09:37,  2.26s/it]"
     ]
    },
    {
     "name": "stdout",
     "output_type": "stream",
     "text": [
      "1144944803299438592\n",
      "[{'code': 144, 'message': 'No status found with that ID.'}]\n",
      "Inside the exception - no:2\n"
     ]
    },
    {
     "name": "stderr",
     "output_type": "stream",
     "text": [
      "\r",
      " 69%|██████▉   | 576/830 [22:00<09:33,  2.26s/it]"
     ]
    },
    {
     "name": "stdout",
     "output_type": "stream",
     "text": [
      "1144944803299438592\n",
      "[{'code': 144, 'message': 'No status found with that ID.'}]\n",
      "Inside the exception - no:2\n"
     ]
    },
    {
     "name": "stderr",
     "output_type": "stream",
     "text": [
      "\r",
      " 70%|██████▉   | 577/830 [22:02<09:39,  2.29s/it]"
     ]
    },
    {
     "name": "stdout",
     "output_type": "stream",
     "text": [
      "1144944803299438592\n",
      "[{'code': 144, 'message': 'No status found with that ID.'}]\n",
      "Inside the exception - no:2\n"
     ]
    },
    {
     "name": "stderr",
     "output_type": "stream",
     "text": [
      "\r",
      " 70%|██████▉   | 578/830 [22:04<09:42,  2.31s/it]"
     ]
    },
    {
     "name": "stdout",
     "output_type": "stream",
     "text": [
      "1144944803299438592\n",
      "[{'code': 144, 'message': 'No status found with that ID.'}]\n",
      "Inside the exception - no:2\n"
     ]
    },
    {
     "name": "stderr",
     "output_type": "stream",
     "text": [
      "\r",
      " 70%|██████▉   | 579/830 [22:07<09:57,  2.38s/it]"
     ]
    },
    {
     "name": "stdout",
     "output_type": "stream",
     "text": [
      "1144944803299438592\n",
      "[{'code': 144, 'message': 'No status found with that ID.'}]\n",
      "Inside the exception - no:2\n"
     ]
    },
    {
     "name": "stderr",
     "output_type": "stream",
     "text": [
      "\r",
      " 70%|██████▉   | 580/830 [22:09<10:00,  2.40s/it]"
     ]
    },
    {
     "name": "stdout",
     "output_type": "stream",
     "text": [
      "1144944911000711168\n",
      "Tweet fetched:  Was Maxim Biller sagt. #tddl https://t.co/QcJpbArHxa\n"
     ]
    },
    {
     "name": "stderr",
     "output_type": "stream",
     "text": [
      "\r",
      " 70%|███████   | 581/830 [22:11<09:46,  2.36s/it]"
     ]
    },
    {
     "name": "stdout",
     "output_type": "stream",
     "text": [
      "1144945631422832640\n",
      "Tweet fetched:  @tddlit Preise für: Ronya Othmann, Sarah Wipauer, Birgit Birnbacher und Ines Birkhan. #tddl\n"
     ]
    },
    {
     "name": "stderr",
     "output_type": "stream",
     "text": [
      "\r",
      " 70%|███████   | 582/830 [22:14<09:37,  2.33s/it]"
     ]
    },
    {
     "name": "stdout",
     "output_type": "stream",
     "text": [
      "1144945631422832640\n",
      "Tweet fetched:  @tddlit Preise für: Ronya Othmann, Sarah Wipauer, Birgit Birnbacher und Ines Birkhan. #tddl\n"
     ]
    },
    {
     "name": "stderr",
     "output_type": "stream",
     "text": [
      "\r",
      " 70%|███████   | 583/830 [22:16<09:29,  2.31s/it]"
     ]
    },
    {
     "name": "stdout",
     "output_type": "stream",
     "text": [
      "1144945631422832640\n",
      "Tweet fetched:  @tddlit Preise für: Ronya Othmann, Sarah Wipauer, Birgit Birnbacher und Ines Birkhan. #tddl\n"
     ]
    },
    {
     "name": "stderr",
     "output_type": "stream",
     "text": [
      "\r",
      " 70%|███████   | 584/830 [22:18<09:31,  2.32s/it]"
     ]
    },
    {
     "name": "stdout",
     "output_type": "stream",
     "text": [
      "1144945631422832640\n",
      "Tweet fetched:  @tddlit Preise für: Ronya Othmann, Sarah Wipauer, Birgit Birnbacher und Ines Birkhan. #tddl\n"
     ]
    },
    {
     "name": "stderr",
     "output_type": "stream",
     "text": [
      "\r",
      " 70%|███████   | 585/830 [22:21<09:23,  2.30s/it]"
     ]
    },
    {
     "name": "stdout",
     "output_type": "stream",
     "text": [
      "1144946487681527808\n",
      "Tweet fetched:  @jonfridman äh, alles andere? Keine seiner Wendungen ist originell, oder auch nur gut beobachtet. Er klebt allem nur Etiketten auf, aus dem Wortschatz der Landserheftchen. #tddl\n"
     ]
    },
    {
     "name": "stderr",
     "output_type": "stream",
     "text": [
      "\r",
      " 71%|███████   | 586/830 [22:23<09:18,  2.29s/it]"
     ]
    },
    {
     "name": "stdout",
     "output_type": "stream",
     "text": [
      "1144946487681527808\n",
      "Tweet fetched:  @jonfridman äh, alles andere? Keine seiner Wendungen ist originell, oder auch nur gut beobachtet. Er klebt allem nur Etiketten auf, aus dem Wortschatz der Landserheftchen. #tddl\n"
     ]
    },
    {
     "name": "stderr",
     "output_type": "stream",
     "text": [
      "\r",
      " 71%|███████   | 587/830 [22:25<09:28,  2.34s/it]"
     ]
    },
    {
     "name": "stdout",
     "output_type": "stream",
     "text": [
      "1144946612688609287\n",
      "Tweet fetched:  Selbst in der Nachbesprechung wird Thomas Bernhard genannt. Ach Leute. #tddl\n"
     ]
    },
    {
     "name": "stderr",
     "output_type": "stream",
     "text": [
      "\r",
      " 71%|███████   | 588/830 [22:28<09:20,  2.32s/it]"
     ]
    },
    {
     "name": "stdout",
     "output_type": "stream",
     "text": [
      "1144946612688609287\n",
      "Tweet fetched:  Selbst in der Nachbesprechung wird Thomas Bernhard genannt. Ach Leute. #tddl\n"
     ]
    },
    {
     "name": "stderr",
     "output_type": "stream",
     "text": [
      "\r",
      " 71%|███████   | 589/830 [22:30<09:12,  2.29s/it]"
     ]
    },
    {
     "name": "stdout",
     "output_type": "stream",
     "text": [
      "1144947072573083650\n",
      "Tweet fetched:  @slowtiger Ja, und genau diese grotesken Beobachtungen kann man doch nicht vom Ich-Erzähler trennen. Hier ist es nur noch eine Frage, wie viel „Absicht“ man dem Autor zugesteht #tddl\n"
     ]
    },
    {
     "name": "stderr",
     "output_type": "stream",
     "text": [
      "\r",
      " 71%|███████   | 590/830 [22:32<09:09,  2.29s/it]"
     ]
    },
    {
     "name": "stdout",
     "output_type": "stream",
     "text": [
      "1144947549175988224\n",
      "Tweet fetched:  seriöse voting vorne bis hinten\n",
      "#tddl https://t.co/0S02xyLxf6\n"
     ]
    },
    {
     "name": "stderr",
     "output_type": "stream",
     "text": [
      "\r",
      " 71%|███████   | 591/830 [22:34<09:04,  2.28s/it]"
     ]
    },
    {
     "name": "stdout",
     "output_type": "stream",
     "text": [
      "1144940685877026818\n",
      "Tweet fetched:  Winkels hält den Text für obszön, die Figuren nicht für ambivalent. #tddl\n"
     ]
    },
    {
     "name": "stderr",
     "output_type": "stream",
     "text": [
      "\r",
      " 71%|███████▏  | 592/830 [22:37<09:07,  2.30s/it]"
     ]
    },
    {
     "name": "stdout",
     "output_type": "stream",
     "text": [
      "1144940685877026818\n",
      "Tweet fetched:  Winkels hält den Text für obszön, die Figuren nicht für ambivalent. #tddl\n"
     ]
    },
    {
     "name": "stderr",
     "output_type": "stream",
     "text": [
      "\r",
      " 71%|███████▏  | 593/830 [22:39<09:02,  2.29s/it]"
     ]
    },
    {
     "name": "stdout",
     "output_type": "stream",
     "text": [
      "1144947998822141953\n",
      "Tweet fetched:  Ich wünsche mir Preise für\n",
      "\n",
      "· Katharina Schultens\n",
      "· Birgit Birnbacher\n",
      "· Ines Birkhan\n",
      "\n",
      "(in dieser Reihenfolge).\n",
      "#tddl\n"
     ]
    },
    {
     "name": "stderr",
     "output_type": "stream",
     "text": [
      "\r",
      " 72%|███████▏  | 594/830 [22:41<08:59,  2.29s/it]"
     ]
    },
    {
     "name": "stdout",
     "output_type": "stream",
     "text": [
      "1144947998822141953\n",
      "Tweet fetched:  Ich wünsche mir Preise für\n",
      "\n",
      "· Katharina Schultens\n",
      "· Birgit Birnbacher\n",
      "· Ines Birkhan\n",
      "\n",
      "(in dieser Reihenfolge).\n",
      "#tddl\n"
     ]
    },
    {
     "name": "stderr",
     "output_type": "stream",
     "text": [
      "\r",
      " 72%|███████▏  | 595/830 [22:44<08:55,  2.28s/it]"
     ]
    },
    {
     "name": "stdout",
     "output_type": "stream",
     "text": [
      "1144947998822141953\n",
      "Tweet fetched:  Ich wünsche mir Preise für\n",
      "\n",
      "· Katharina Schultens\n",
      "· Birgit Birnbacher\n",
      "· Ines Birkhan\n",
      "\n",
      "(in dieser Reihenfolge).\n",
      "#tddl\n"
     ]
    },
    {
     "name": "stderr",
     "output_type": "stream",
     "text": [
      "\r",
      " 72%|███████▏  | 596/830 [22:46<09:01,  2.31s/it]"
     ]
    },
    {
     "name": "stdout",
     "output_type": "stream",
     "text": [
      "1144947998822141953\n",
      "Tweet fetched:  Ich wünsche mir Preise für\n",
      "\n",
      "· Katharina Schultens\n",
      "· Birgit Birnbacher\n",
      "· Ines Birkhan\n",
      "\n",
      "(in dieser Reihenfolge).\n",
      "#tddl\n"
     ]
    },
    {
     "name": "stderr",
     "output_type": "stream",
     "text": [
      "\r",
      " 72%|███████▏  | 597/830 [22:48<09:09,  2.36s/it]"
     ]
    },
    {
     "name": "stdout",
     "output_type": "stream",
     "text": [
      "1144948107576320000\n",
      "Tweet fetched:  Seit heute morgen durch #tddl-Grind drei Follower verloren...wo wollt ihr hin??\n"
     ]
    },
    {
     "name": "stderr",
     "output_type": "stream",
     "text": [
      "\r",
      " 72%|███████▏  | 598/830 [22:51<08:58,  2.32s/it]"
     ]
    },
    {
     "name": "stdout",
     "output_type": "stream",
     "text": [
      "1144948107576320000\n",
      "Tweet fetched:  Seit heute morgen durch #tddl-Grind drei Follower verloren...wo wollt ihr hin??\n"
     ]
    },
    {
     "name": "stderr",
     "output_type": "stream",
     "text": [
      "\r",
      " 72%|███████▏  | 599/830 [22:53<08:52,  2.31s/it]"
     ]
    },
    {
     "name": "stdout",
     "output_type": "stream",
     "text": [
      "1144948623932907520\n",
      "Tweet fetched:  ??? #tddl https://t.co/7Sxdsjeiqa\n"
     ]
    },
    {
     "name": "stderr",
     "output_type": "stream",
     "text": [
      "\r",
      " 72%|███████▏  | 600/830 [22:55<08:47,  2.29s/it]"
     ]
    },
    {
     "name": "stdout",
     "output_type": "stream",
     "text": [
      "1144949058227884032\n",
      "Tweet fetched:  So #tddl geschafft. Was sind denn die 5 Texte denen ihr Punkte geben würdet? Bei mir, in keiner besonderen Ordnung, sind das: Wipauer, Othmann, Schultens, Jost, Birnbacher\n"
     ]
    },
    {
     "name": "stderr",
     "output_type": "stream",
     "text": [
      "\r",
      " 72%|███████▏  | 601/830 [22:57<08:42,  2.28s/it]"
     ]
    },
    {
     "name": "stdout",
     "output_type": "stream",
     "text": [
      "1144949058227884032\n",
      "Tweet fetched:  So #tddl geschafft. Was sind denn die 5 Texte denen ihr Punkte geben würdet? Bei mir, in keiner besonderen Ordnung, sind das: Wipauer, Othmann, Schultens, Jost, Birnbacher\n"
     ]
    },
    {
     "name": "stderr",
     "output_type": "stream",
     "text": [
      "\r",
      " 73%|███████▎  | 602/830 [23:00<08:37,  2.27s/it]"
     ]
    },
    {
     "name": "stdout",
     "output_type": "stream",
     "text": [
      "1144949058227884032\n",
      "Tweet fetched:  So #tddl geschafft. Was sind denn die 5 Texte denen ihr Punkte geben würdet? Bei mir, in keiner besonderen Ordnung, sind das: Wipauer, Othmann, Schultens, Jost, Birnbacher\n"
     ]
    },
    {
     "name": "stderr",
     "output_type": "stream",
     "text": [
      "\r",
      " 73%|███████▎  | 603/830 [23:02<08:34,  2.27s/it]"
     ]
    },
    {
     "name": "stdout",
     "output_type": "stream",
     "text": [
      "1144949058227884032\n",
      "Tweet fetched:  So #tddl geschafft. Was sind denn die 5 Texte denen ihr Punkte geben würdet? Bei mir, in keiner besonderen Ordnung, sind das: Wipauer, Othmann, Schultens, Jost, Birnbacher\n"
     ]
    },
    {
     "name": "stderr",
     "output_type": "stream",
     "text": [
      "\r",
      " 73%|███████▎  | 604/830 [23:04<08:30,  2.26s/it]"
     ]
    },
    {
     "name": "stdout",
     "output_type": "stream",
     "text": [
      "1144949058227884032\n",
      "Tweet fetched:  So #tddl geschafft. Was sind denn die 5 Texte denen ihr Punkte geben würdet? Bei mir, in keiner besonderen Ordnung, sind das: Wipauer, Othmann, Schultens, Jost, Birnbacher\n"
     ]
    },
    {
     "name": "stderr",
     "output_type": "stream",
     "text": [
      "\r",
      " 73%|███████▎  | 605/830 [23:07<08:44,  2.33s/it]"
     ]
    },
    {
     "name": "stdout",
     "output_type": "stream",
     "text": [
      "1144949058227884032\n",
      "Tweet fetched:  So #tddl geschafft. Was sind denn die 5 Texte denen ihr Punkte geben würdet? Bei mir, in keiner besonderen Ordnung, sind das: Wipauer, Othmann, Schultens, Jost, Birnbacher\n"
     ]
    },
    {
     "name": "stderr",
     "output_type": "stream",
     "text": [
      "\r",
      " 73%|███████▎  | 606/830 [23:09<08:51,  2.37s/it]"
     ]
    },
    {
     "name": "stdout",
     "output_type": "stream",
     "text": [
      "1144949058227884032\n",
      "Tweet fetched:  So #tddl geschafft. Was sind denn die 5 Texte denen ihr Punkte geben würdet? Bei mir, in keiner besonderen Ordnung, sind das: Wipauer, Othmann, Schultens, Jost, Birnbacher\n"
     ]
    },
    {
     "name": "stderr",
     "output_type": "stream",
     "text": [
      "\r",
      " 73%|███████▎  | 607/830 [23:11<08:42,  2.34s/it]"
     ]
    },
    {
     "name": "stdout",
     "output_type": "stream",
     "text": [
      "1144953822198059009\n",
      "Tweet fetched:  @SamsonsHirne Aus der Hüfte ist nicht immer gut.\n",
      "Als politischer Mensch+Leser sage ich ein #beyer Text über Nazi-Mitläufer ist aktuell im deutschspr Raum leider dringlicher als eine Jesidengeschichte, die vielmehr nach mutiger Politik+Journalismus schreit.\n",
      "#tddl\n"
     ]
    },
    {
     "name": "stderr",
     "output_type": "stream",
     "text": [
      "\r",
      " 73%|███████▎  | 608/830 [23:14<08:42,  2.35s/it]"
     ]
    },
    {
     "name": "stdout",
     "output_type": "stream",
     "text": [
      "1144954727815364610\n",
      "[{'code': 144, 'message': 'No status found with that ID.'}]\n",
      "Inside the exception - no:2\n"
     ]
    },
    {
     "name": "stderr",
     "output_type": "stream",
     "text": [
      "\r",
      " 73%|███████▎  | 609/830 [23:16<08:33,  2.32s/it]"
     ]
    },
    {
     "name": "stdout",
     "output_type": "stream",
     "text": [
      "1144954727815364610\n",
      "[{'code': 144, 'message': 'No status found with that ID.'}]\n",
      "Inside the exception - no:2\n"
     ]
    },
    {
     "name": "stderr",
     "output_type": "stream",
     "text": [
      "\r",
      " 73%|███████▎  | 610/830 [23:18<08:25,  2.30s/it]"
     ]
    },
    {
     "name": "stdout",
     "output_type": "stream",
     "text": [
      "1144955296772546561\n",
      "Tweet fetched:  Bachmann-Wettbewerb 2019 (#tddl): Sarah Wipauer konnte fast alle Juroren überzeugen.\n",
      "\n",
      "https://t.co/AmJSR6MsR8 https://t.co/OazhSEDBTc\n"
     ]
    },
    {
     "name": "stderr",
     "output_type": "stream",
     "text": [
      "\r",
      " 74%|███████▎  | 611/830 [23:21<08:21,  2.29s/it]"
     ]
    },
    {
     "name": "stdout",
     "output_type": "stream",
     "text": [
      "1144940697675554816\n",
      "Tweet fetched:  Der Grundton der Jury klingt so, als gäbe es Darstellungsverbote. Der Text wird dabei nicht mehr präzise angeschaut, bekommt keine Chance - trotz seiner hohen Kunstfertigkeit.\n",
      "#tddl\n"
     ]
    },
    {
     "name": "stderr",
     "output_type": "stream",
     "text": [
      "\r",
      " 74%|███████▎  | 612/830 [23:23<08:16,  2.28s/it]"
     ]
    },
    {
     "name": "stdout",
     "output_type": "stream",
     "text": [
      "1144940697675554816\n",
      "Tweet fetched:  Der Grundton der Jury klingt so, als gäbe es Darstellungsverbote. Der Text wird dabei nicht mehr präzise angeschaut, bekommt keine Chance - trotz seiner hohen Kunstfertigkeit.\n",
      "#tddl\n"
     ]
    },
    {
     "name": "stderr",
     "output_type": "stream",
     "text": [
      "\r",
      " 74%|███████▍  | 613/830 [23:25<08:14,  2.28s/it]"
     ]
    },
    {
     "name": "stdout",
     "output_type": "stream",
     "text": [
      "1015209907572953089\n",
      "Tweet fetched:  Sehr starker Text und Vortrag von @bov @tddlit!\n",
      "Gleich liest unser Geburtstagskind #AnselmNeft!!!\n",
      "#tddl #vomlicht\n",
      "https://t.co/px8XInnT2M\n"
     ]
    },
    {
     "name": "stderr",
     "output_type": "stream",
     "text": [
      "\r",
      " 74%|███████▍  | 614/830 [23:27<08:10,  2.27s/it]"
     ]
    },
    {
     "name": "stdout",
     "output_type": "stream",
     "text": [
      "1015209907572953089\n",
      "Tweet fetched:  Sehr starker Text und Vortrag von @bov @tddlit!\n",
      "Gleich liest unser Geburtstagskind #AnselmNeft!!!\n",
      "#tddl #vomlicht\n",
      "https://t.co/px8XInnT2M\n"
     ]
    },
    {
     "name": "stderr",
     "output_type": "stream",
     "text": [
      "\r",
      " 74%|███████▍  | 615/830 [23:30<08:18,  2.32s/it]"
     ]
    },
    {
     "name": "stdout",
     "output_type": "stream",
     "text": [
      "1015209907572953089\n",
      "Tweet fetched:  Sehr starker Text und Vortrag von @bov @tddlit!\n",
      "Gleich liest unser Geburtstagskind #AnselmNeft!!!\n",
      "#tddl #vomlicht\n",
      "https://t.co/px8XInnT2M\n"
     ]
    },
    {
     "name": "stderr",
     "output_type": "stream",
     "text": [
      "\r",
      " 74%|███████▍  | 616/830 [23:32<08:12,  2.30s/it]"
     ]
    },
    {
     "name": "stdout",
     "output_type": "stream",
     "text": [
      "1015215164231208960\n",
      "Tweet fetched:  Schade, Neft liest nicht schlecht, aber der Text ist jenseitig.\n",
      "#tddl\n"
     ]
    },
    {
     "name": "stderr",
     "output_type": "stream",
     "text": [
      "\r",
      " 74%|███████▍  | 617/830 [23:34<08:07,  2.29s/it]"
     ]
    },
    {
     "name": "stdout",
     "output_type": "stream",
     "text": [
      "1015215164231208960\n",
      "Tweet fetched:  Schade, Neft liest nicht schlecht, aber der Text ist jenseitig.\n",
      "#tddl\n"
     ]
    },
    {
     "name": "stderr",
     "output_type": "stream",
     "text": [
      "\r",
      " 74%|███████▍  | 618/830 [23:37<08:02,  2.28s/it]"
     ]
    },
    {
     "name": "stdout",
     "output_type": "stream",
     "text": [
      "1015215164231208960\n",
      "Tweet fetched:  Schade, Neft liest nicht schlecht, aber der Text ist jenseitig.\n",
      "#tddl\n"
     ]
    },
    {
     "name": "stderr",
     "output_type": "stream",
     "text": [
      "\r",
      " 75%|███████▍  | 619/830 [23:39<07:59,  2.27s/it]"
     ]
    },
    {
     "name": "stdout",
     "output_type": "stream",
     "text": [
      "1015215306229387265\n",
      "Tweet fetched:  Wie ich es hasse wenn Autoren wie Schauspieler lesen u dann auch ihre Stimmen verstellen 😒 uff #Neft #Slam #tddl\n"
     ]
    },
    {
     "name": "stderr",
     "output_type": "stream",
     "text": [
      "\r",
      " 75%|███████▍  | 620/830 [23:41<07:56,  2.27s/it]"
     ]
    },
    {
     "name": "stdout",
     "output_type": "stream",
     "text": [
      "1015215306229387265\n",
      "Tweet fetched:  Wie ich es hasse wenn Autoren wie Schauspieler lesen u dann auch ihre Stimmen verstellen 😒 uff #Neft #Slam #tddl\n"
     ]
    },
    {
     "name": "stderr",
     "output_type": "stream",
     "text": [
      "\r",
      " 75%|███████▍  | 621/830 [23:43<07:52,  2.26s/it]"
     ]
    },
    {
     "name": "stdout",
     "output_type": "stream",
     "text": [
      "1015510822615961600\n",
      "Tweet fetched:  Der liest so komisch, dass ich mehr lesen als hören muss, so macht der Text keinen Spass, weil oben der Sinn nicht richtig ankommt #tddl\n"
     ]
    },
    {
     "name": "stderr",
     "output_type": "stream",
     "text": [
      "\r",
      " 75%|███████▍  | 622/830 [23:46<07:50,  2.26s/it]"
     ]
    },
    {
     "name": "stdout",
     "output_type": "stream",
     "text": [
      "1015510822615961600\n",
      "Tweet fetched:  Der liest so komisch, dass ich mehr lesen als hören muss, so macht der Text keinen Spass, weil oben der Sinn nicht richtig ankommt #tddl\n"
     ]
    },
    {
     "name": "stderr",
     "output_type": "stream",
     "text": [
      "\r",
      " 75%|███████▌  | 623/830 [23:48<07:46,  2.26s/it]"
     ]
    },
    {
     "name": "stdout",
     "output_type": "stream",
     "text": [
      "1015513389634908161\n",
      "Tweet fetched:  1081 Mückenstiche. #Nolte liest jetzt flüssiger. #tddl #tddl18\n"
     ]
    },
    {
     "name": "stderr",
     "output_type": "stream",
     "text": [
      "\r",
      " 75%|███████▌  | 624/830 [23:50<07:45,  2.26s/it]"
     ]
    },
    {
     "name": "stdout",
     "output_type": "stream",
     "text": [
      "1015513435029819392\n",
      "Tweet fetched:  Armer #Nolte liest nach einem Zwischenfall - Kollaps eines Gastes - weiter. Das hat der Autor nicht verdient- egal wie gut der Text ist, der Fluss ist dahin.  #tddl\n"
     ]
    },
    {
     "name": "stderr",
     "output_type": "stream",
     "text": [
      "\r",
      " 75%|███████▌  | 625/830 [23:53<07:59,  2.34s/it]"
     ]
    },
    {
     "name": "stdout",
     "output_type": "stream",
     "text": [
      "1015513435029819392\n",
      "Tweet fetched:  Armer #Nolte liest nach einem Zwischenfall - Kollaps eines Gastes - weiter. Das hat der Autor nicht verdient- egal wie gut der Text ist, der Fluss ist dahin.  #tddl\n"
     ]
    },
    {
     "name": "stderr",
     "output_type": "stream",
     "text": [
      "\r",
      " 75%|███████▌  | 626/830 [23:55<07:52,  2.31s/it]"
     ]
    },
    {
     "name": "stdout",
     "output_type": "stream",
     "text": [
      "1015513435029819392\n",
      "Tweet fetched:  Armer #Nolte liest nach einem Zwischenfall - Kollaps eines Gastes - weiter. Das hat der Autor nicht verdient- egal wie gut der Text ist, der Fluss ist dahin.  #tddl\n"
     ]
    },
    {
     "name": "stderr",
     "output_type": "stream",
     "text": [
      "\r",
      " 76%|███████▌  | 627/830 [23:57<07:45,  2.29s/it]"
     ]
    },
    {
     "name": "stdout",
     "output_type": "stream",
     "text": [
      "1015513435029819392\n",
      "Tweet fetched:  Armer #Nolte liest nach einem Zwischenfall - Kollaps eines Gastes - weiter. Das hat der Autor nicht verdient- egal wie gut der Text ist, der Fluss ist dahin.  #tddl\n"
     ]
    },
    {
     "name": "stderr",
     "output_type": "stream",
     "text": [
      "\r",
      " 76%|███████▌  | 628/830 [23:59<07:40,  2.28s/it]"
     ]
    },
    {
     "name": "stdout",
     "output_type": "stream",
     "text": [
      "1015513435029819392\n",
      "Tweet fetched:  Armer #Nolte liest nach einem Zwischenfall - Kollaps eines Gastes - weiter. Das hat der Autor nicht verdient- egal wie gut der Text ist, der Fluss ist dahin.  #tddl\n"
     ]
    },
    {
     "name": "stderr",
     "output_type": "stream",
     "text": [
      "\r",
      " 76%|███████▌  | 629/830 [24:02<07:37,  2.27s/it]"
     ]
    },
    {
     "name": "stdout",
     "output_type": "stream",
     "text": [
      "1015511387651608577\n",
      "Tweet fetched:  beim zuhören merke ich wie viele schöne sätze @bov gestern hatte #tddl\n"
     ]
    },
    {
     "name": "stderr",
     "output_type": "stream",
     "text": [
      "\r",
      " 76%|███████▌  | 630/830 [24:04<07:33,  2.27s/it]"
     ]
    },
    {
     "name": "stdout",
     "output_type": "stream",
     "text": [
      "1015511387651608577\n",
      "Tweet fetched:  beim zuhören merke ich wie viele schöne sätze @bov gestern hatte #tddl\n"
     ]
    },
    {
     "name": "stderr",
     "output_type": "stream",
     "text": [
      "\r",
      " 76%|███████▌  | 631/830 [24:06<07:32,  2.27s/it]"
     ]
    },
    {
     "name": "stdout",
     "output_type": "stream",
     "text": [
      "1015514291691286528\n",
      "Tweet fetched:  Das einzige, was Nolte noch schlechter liest als Deutsch ist Spanisch.\n",
      "\n",
      "#tddl\n"
     ]
    },
    {
     "name": "stderr",
     "output_type": "stream",
     "text": [
      "\r",
      " 76%|███████▌  | 632/830 [24:09<07:51,  2.38s/it]"
     ]
    },
    {
     "name": "stdout",
     "output_type": "stream",
     "text": [
      "1015514291691286528\n",
      "Tweet fetched:  Das einzige, was Nolte noch schlechter liest als Deutsch ist Spanisch.\n",
      "\n",
      "#tddl\n"
     ]
    },
    {
     "name": "stderr",
     "output_type": "stream",
     "text": [
      "\r",
      " 76%|███████▋  | 633/830 [24:11<07:40,  2.34s/it]"
     ]
    },
    {
     "name": "stdout",
     "output_type": "stream",
     "text": [
      "1015549703457472512\n",
      "Tweet fetched:  Mal ab vom Text (den ich fantastisch finde): #Dündar liest eindringlich und schön. Die kontinuierliche Steigerung von Wort 1 bis jetzt zum Höhepunkt ist beeindruckend. #tddl\n"
     ]
    },
    {
     "name": "stderr",
     "output_type": "stream",
     "text": [
      "\r",
      " 76%|███████▋  | 634/830 [24:13<07:34,  2.32s/it]"
     ]
    },
    {
     "name": "stdout",
     "output_type": "stream",
     "text": [
      "1015549703457472512\n",
      "Tweet fetched:  Mal ab vom Text (den ich fantastisch finde): #Dündar liest eindringlich und schön. Die kontinuierliche Steigerung von Wort 1 bis jetzt zum Höhepunkt ist beeindruckend. #tddl\n"
     ]
    },
    {
     "name": "stderr",
     "output_type": "stream",
     "text": [
      "\r",
      " 77%|███████▋  | 635/830 [24:16<07:27,  2.30s/it]"
     ]
    },
    {
     "name": "stdout",
     "output_type": "stream",
     "text": [
      "1015549703457472512\n",
      "Tweet fetched:  Mal ab vom Text (den ich fantastisch finde): #Dündar liest eindringlich und schön. Die kontinuierliche Steigerung von Wort 1 bis jetzt zum Höhepunkt ist beeindruckend. #tddl\n"
     ]
    },
    {
     "name": "stderr",
     "output_type": "stream",
     "text": [
      "\r",
      " 77%|███████▋  | 636/830 [24:18<07:34,  2.34s/it]"
     ]
    },
    {
     "name": "stdout",
     "output_type": "stream",
     "text": [
      "1015549760609112065\n",
      "Tweet fetched:  Sie liest auch sehr gut. Sehr neutral. Das tut dem Text gut. #tddl\n"
     ]
    },
    {
     "name": "stderr",
     "output_type": "stream",
     "text": [
      "\r",
      " 77%|███████▋  | 637/830 [24:20<07:27,  2.32s/it]"
     ]
    },
    {
     "name": "stdout",
     "output_type": "stream",
     "text": [
      "1015549760609112065\n",
      "Tweet fetched:  Sie liest auch sehr gut. Sehr neutral. Das tut dem Text gut. #tddl\n"
     ]
    },
    {
     "name": "stderr",
     "output_type": "stream",
     "text": [
      "\r",
      " 77%|███████▋  | 638/830 [24:22<07:21,  2.30s/it]"
     ]
    },
    {
     "name": "stdout",
     "output_type": "stream",
     "text": [
      "1015890276961931264\n",
      "Tweet fetched:  Der Gewinner liest wie ein Schnellzug. Die Worte fahren nur so durch! Vater-Sohn-Geschichte von Bov #Bjerg #tddl @bov\n"
     ]
    },
    {
     "name": "stderr",
     "output_type": "stream",
     "text": [
      "\r",
      " 77%|███████▋  | 639/830 [24:25<07:17,  2.29s/it]"
     ]
    },
    {
     "name": "stdout",
     "output_type": "stream",
     "text": [
      "1015149639430037504\n",
      "Tweet fetched:  unterhaltsam bisher, was vllt. auch am gelungenen vortrag liegen mag, und dennoch: is mir ne spur zu klischeeträchtig. ich hoffe noch auf den plottwist. #tddl\n"
     ]
    },
    {
     "name": "stderr",
     "output_type": "stream",
     "text": [
      "\r",
      " 77%|███████▋  | 640/830 [24:27<07:12,  2.28s/it]"
     ]
    },
    {
     "name": "stdout",
     "output_type": "stream",
     "text": [
      "1015149639430037504\n",
      "Tweet fetched:  unterhaltsam bisher, was vllt. auch am gelungenen vortrag liegen mag, und dennoch: is mir ne spur zu klischeeträchtig. ich hoffe noch auf den plottwist. #tddl\n"
     ]
    },
    {
     "name": "stderr",
     "output_type": "stream",
     "text": [
      "\r",
      " 77%|███████▋  | 641/830 [24:29<07:08,  2.27s/it]"
     ]
    },
    {
     "name": "stdout",
     "output_type": "stream",
     "text": [
      "1015149639430037504\n",
      "Tweet fetched:  unterhaltsam bisher, was vllt. auch am gelungenen vortrag liegen mag, und dennoch: is mir ne spur zu klischeeträchtig. ich hoffe noch auf den plottwist. #tddl\n"
     ]
    },
    {
     "name": "stderr",
     "output_type": "stream",
     "text": [
      "\r",
      " 77%|███████▋  | 642/830 [24:31<07:05,  2.26s/it]"
     ]
    },
    {
     "name": "stdout",
     "output_type": "stream",
     "text": [
      "1015149639430037504\n",
      "Tweet fetched:  unterhaltsam bisher, was vllt. auch am gelungenen vortrag liegen mag, und dennoch: is mir ne spur zu klischeeträchtig. ich hoffe noch auf den plottwist. #tddl\n"
     ]
    },
    {
     "name": "stderr",
     "output_type": "stream",
     "text": [
      "\r",
      " 77%|███████▋  | 643/830 [24:34<07:07,  2.29s/it]"
     ]
    },
    {
     "name": "stdout",
     "output_type": "stream",
     "text": [
      "1014789051768037376\n",
      "Tweet fetched:  Und nach über zwölf Jahren Bachmanngucken auf 3sat: Die Lesungen könnten kürzer sein, oder. #tddl\n"
     ]
    },
    {
     "name": "stderr",
     "output_type": "stream",
     "text": [
      "\r",
      " 78%|███████▊  | 644/830 [24:36<07:03,  2.28s/it]"
     ]
    },
    {
     "name": "stdout",
     "output_type": "stream",
     "text": [
      "1014797927020052480\n",
      "Tweet fetched:  Hab mir frei genommen um die #tddl zu gucken und verpenne die erste Lesung trotz Wecker... https://t.co/bzPpHhp200\n"
     ]
    },
    {
     "name": "stderr",
     "output_type": "stream",
     "text": [
      "\r",
      " 78%|███████▊  | 645/830 [24:38<07:00,  2.27s/it]"
     ]
    },
    {
     "name": "stdout",
     "output_type": "stream",
     "text": [
      "1014797927020052480\n",
      "Tweet fetched:  Hab mir frei genommen um die #tddl zu gucken und verpenne die erste Lesung trotz Wecker... https://t.co/bzPpHhp200\n"
     ]
    },
    {
     "name": "stderr",
     "output_type": "stream",
     "text": [
      "\r",
      " 78%|███████▊  | 646/830 [24:41<07:07,  2.32s/it]"
     ]
    },
    {
     "name": "stdout",
     "output_type": "stream",
     "text": [
      "1014798952066109440\n",
      "Tweet fetched:  Jetzt liest die Schweizerin Martina Clavadetscher; der niedliche Dialekt verschafft ihr ein bissel einen unfairen Wettbewerbsvorteil. #tddl18\n"
     ]
    },
    {
     "name": "stderr",
     "output_type": "stream",
     "text": [
      "\r",
      " 78%|███████▊  | 647/830 [24:43<07:12,  2.36s/it]"
     ]
    },
    {
     "name": "stdout",
     "output_type": "stream",
     "text": [
      "1014800522337976321\n",
      "Tweet fetched:  Bange Vermutung: Mit jedem vorgelesenen Text wird die gestrige Eröffnungsrede besser und besser. #tddl\n"
     ]
    },
    {
     "name": "stderr",
     "output_type": "stream",
     "text": [
      "\r",
      " 78%|███████▊  | 648/830 [24:45<07:03,  2.33s/it]"
     ]
    },
    {
     "name": "stdout",
     "output_type": "stream",
     "text": [
      "1014800522337976321\n",
      "Tweet fetched:  Bange Vermutung: Mit jedem vorgelesenen Text wird die gestrige Eröffnungsrede besser und besser. #tddl\n"
     ]
    },
    {
     "name": "stderr",
     "output_type": "stream",
     "text": [
      "\r",
      " 78%|███████▊  | 649/830 [24:48<06:57,  2.31s/it]"
     ]
    },
    {
     "name": "stdout",
     "output_type": "stream",
     "text": [
      "1014800522337976321\n",
      "Tweet fetched:  Bange Vermutung: Mit jedem vorgelesenen Text wird die gestrige Eröffnungsrede besser und besser. #tddl\n"
     ]
    },
    {
     "name": "stderr",
     "output_type": "stream",
     "text": [
      "\r",
      " 78%|███████▊  | 650/830 [24:50<06:52,  2.29s/it]"
     ]
    },
    {
     "name": "stdout",
     "output_type": "stream",
     "text": [
      "1014809158196125698\n",
      "Tweet fetched:  Gleich (12:00) liest #StephanLohse beim #Bachmannpreis. Wir drücken die Daumen! Auf @3sat könnt Ihr live dabei sein: https://t.co/szlwfAohhF #tddl @tddlit\n"
     ]
    },
    {
     "name": "stderr",
     "output_type": "stream",
     "text": [
      "\r",
      " 78%|███████▊  | 651/830 [24:52<06:59,  2.34s/it]"
     ]
    },
    {
     "name": "stdout",
     "output_type": "stream",
     "text": [
      "1014813694008717312\n",
      "Tweet fetched:  Lohse liest im Tonfall eines sehr sanften Sozialarbeiters. Viel Namedropping. #tddl\n"
     ]
    },
    {
     "name": "stderr",
     "output_type": "stream",
     "text": [
      "\r",
      " 79%|███████▊  | 652/830 [24:55<06:52,  2.32s/it]"
     ]
    },
    {
     "name": "stdout",
     "output_type": "stream",
     "text": [
      "1014814374274502656\n",
      "Tweet fetched:  hätte richtig bock auf livegrind zu den bachmannpreis-lesungen aber chefin will mir dafür nicht frei geben\n"
     ]
    },
    {
     "name": "stderr",
     "output_type": "stream",
     "text": [
      "\r",
      " 79%|███████▊  | 653/830 [24:57<06:46,  2.30s/it]"
     ]
    },
    {
     "name": "stdout",
     "output_type": "stream",
     "text": [
      "1014814374274502656\n",
      "Tweet fetched:  hätte richtig bock auf livegrind zu den bachmannpreis-lesungen aber chefin will mir dafür nicht frei geben\n"
     ]
    },
    {
     "name": "stderr",
     "output_type": "stream",
     "text": [
      "\r",
      " 79%|███████▉  | 654/830 [24:59<06:40,  2.28s/it]"
     ]
    },
    {
     "name": "stdout",
     "output_type": "stream",
     "text": [
      "1014814686955687939\n",
      "Tweet fetched:  Ich mag Lohse's Stimme lieber als die der Frauen vorher, zuhören ist angenehmer, aber... ein Weißer der einen Text mit dem Titel \"Lumumbaland\" liest, finde nur ich das etwas unangenehm? #tddl\n"
     ]
    },
    {
     "name": "stderr",
     "output_type": "stream",
     "text": [
      "\r",
      " 79%|███████▉  | 655/830 [25:02<06:43,  2.31s/it]"
     ]
    },
    {
     "name": "stdout",
     "output_type": "stream",
     "text": [
      "1014814686955687939\n",
      "Tweet fetched:  Ich mag Lohse's Stimme lieber als die der Frauen vorher, zuhören ist angenehmer, aber... ein Weißer der einen Text mit dem Titel \"Lumumbaland\" liest, finde nur ich das etwas unangenehm? #tddl\n"
     ]
    },
    {
     "name": "stderr",
     "output_type": "stream",
     "text": [
      "\r",
      " 79%|███████▉  | 656/830 [25:04<06:39,  2.30s/it]"
     ]
    },
    {
     "name": "stdout",
     "output_type": "stream",
     "text": [
      "1014814686955687939\n",
      "Tweet fetched:  Ich mag Lohse's Stimme lieber als die der Frauen vorher, zuhören ist angenehmer, aber... ein Weißer der einen Text mit dem Titel \"Lumumbaland\" liest, finde nur ich das etwas unangenehm? #tddl\n"
     ]
    },
    {
     "name": "stderr",
     "output_type": "stream",
     "text": [
      "\r",
      " 79%|███████▉  | 657/830 [25:06<06:34,  2.28s/it]"
     ]
    },
    {
     "name": "stdout",
     "output_type": "stream",
     "text": [
      "1014814686955687939\n",
      "Tweet fetched:  Ich mag Lohse's Stimme lieber als die der Frauen vorher, zuhören ist angenehmer, aber... ein Weißer der einen Text mit dem Titel \"Lumumbaland\" liest, finde nur ich das etwas unangenehm? #tddl\n"
     ]
    },
    {
     "name": "stderr",
     "output_type": "stream",
     "text": [
      "\r",
      " 79%|███████▉  | 658/830 [25:09<06:44,  2.35s/it]"
     ]
    },
    {
     "name": "stdout",
     "output_type": "stream",
     "text": [
      "1014815517717270529\n",
      "Tweet fetched:  Lohse liest so, als lese er den Text eines anderen prima Vista. #tddl\n"
     ]
    },
    {
     "name": "stderr",
     "output_type": "stream",
     "text": [
      "\r",
      " 79%|███████▉  | 659/830 [25:11<06:52,  2.41s/it]"
     ]
    },
    {
     "name": "stdout",
     "output_type": "stream",
     "text": [
      "1014824096356556800\n",
      "Tweet fetched:  Oft werden Texte im Lauf der Lesung schlechter, dieser hat sich am Ende der Lesung als viel besser als am Anfang erwiesen. Nicht dank Jury, sondern ganz aus sich heraus. #tddl\n"
     ]
    },
    {
     "name": "stderr",
     "output_type": "stream",
     "text": [
      "\r",
      " 80%|███████▉  | 660/830 [25:13<06:41,  2.36s/it]"
     ]
    },
    {
     "name": "stdout",
     "output_type": "stream",
     "text": [
      "1014824096356556800\n",
      "Tweet fetched:  Oft werden Texte im Lauf der Lesung schlechter, dieser hat sich am Ende der Lesung als viel besser als am Anfang erwiesen. Nicht dank Jury, sondern ganz aus sich heraus. #tddl\n"
     ]
    },
    {
     "name": "stderr",
     "output_type": "stream",
     "text": [
      "\r",
      " 80%|███████▉  | 661/830 [25:16<06:33,  2.33s/it]"
     ]
    },
    {
     "name": "stdout",
     "output_type": "stream",
     "text": [
      "1014824096356556800\n",
      "Tweet fetched:  Oft werden Texte im Lauf der Lesung schlechter, dieser hat sich am Ende der Lesung als viel besser als am Anfang erwiesen. Nicht dank Jury, sondern ganz aus sich heraus. #tddl\n"
     ]
    },
    {
     "name": "stderr",
     "output_type": "stream",
     "text": [
      "\r",
      " 80%|███████▉  | 662/830 [25:18<06:34,  2.35s/it]"
     ]
    },
    {
     "name": "stdout",
     "output_type": "stream",
     "text": [
      "1014839878620762113\n",
      "Tweet fetched:  Pausen. Immer. Bedeutungsvoll. #tddl\n"
     ]
    },
    {
     "name": "stderr",
     "output_type": "stream",
     "text": [
      "\r",
      " 80%|███████▉  | 663/830 [25:20<06:34,  2.36s/it]"
     ]
    },
    {
     "name": "stdout",
     "output_type": "stream",
     "text": [
      "1014841326955843585\n",
      "Tweet fetched:  Der @bov ist ja für mich der Christopher Nolan von Klagenfurt. Ich schalte erst wieder ein, wenn er liest. #Tddl\n"
     ]
    },
    {
     "name": "stderr",
     "output_type": "stream",
     "text": [
      "\r",
      " 80%|████████  | 664/830 [25:23<06:27,  2.34s/it]"
     ]
    },
    {
     "name": "stdout",
     "output_type": "stream",
     "text": [
      "1014244953206214656\n",
      "Tweet fetched:  Also bei den Lesungen zum Bachmannpreis gehts aber wesentlich mehr ab als bei diesen Fußballspielen. 🙃\n"
     ]
    },
    {
     "name": "stderr",
     "output_type": "stream",
     "text": [
      "\r",
      " 80%|████████  | 665/830 [25:25<06:24,  2.33s/it]"
     ]
    },
    {
     "name": "stdout",
     "output_type": "stream",
     "text": [
      "1014841414570651649\n",
      "Tweet fetched:  #tddl-Lesungen erkennt man daran, dass man sich nach 15 Minuten fragt, worum es eigentlich geht.\n"
     ]
    },
    {
     "name": "stderr",
     "output_type": "stream",
     "text": [
      "\r",
      " 80%|████████  | 666/830 [25:27<06:19,  2.31s/it]"
     ]
    },
    {
     "name": "stdout",
     "output_type": "stream",
     "text": [
      "1014841782750924800\n",
      "Tweet fetched:  Anna Stern liest mit geschlossenen Augen. Die langen Pausen sind also nicht bedeutungsschwanger, sondern dienen der Erinnerung an den auswendig gelernten Text.\n",
      "...Aber warum dann eigentlich die Brille?\n",
      "#tddl\n"
     ]
    },
    {
     "name": "stderr",
     "output_type": "stream",
     "text": [
      "\r",
      " 80%|████████  | 667/830 [25:30<06:22,  2.34s/it]"
     ]
    },
    {
     "name": "stdout",
     "output_type": "stream",
     "text": [
      "1014841782750924800\n",
      "Tweet fetched:  Anna Stern liest mit geschlossenen Augen. Die langen Pausen sind also nicht bedeutungsschwanger, sondern dienen der Erinnerung an den auswendig gelernten Text.\n",
      "...Aber warum dann eigentlich die Brille?\n",
      "#tddl\n"
     ]
    },
    {
     "name": "stderr",
     "output_type": "stream",
     "text": [
      "\r",
      " 80%|████████  | 668/830 [25:32<06:14,  2.31s/it]"
     ]
    },
    {
     "name": "stdout",
     "output_type": "stream",
     "text": [
      "1014842120761376769\n",
      "Tweet fetched:  Bin ich der einzige der in jeder langen Pause denkt: \"ist der Text vorbei?\" Kein gutes zeichen. #tddl #tddl18\n"
     ]
    },
    {
     "name": "stderr",
     "output_type": "stream",
     "text": [
      "\r",
      " 81%|████████  | 669/830 [25:34<06:15,  2.33s/it]"
     ]
    },
    {
     "name": "stdout",
     "output_type": "stream",
     "text": [
      "1014842120761376769\n",
      "Tweet fetched:  Bin ich der einzige der in jeder langen Pause denkt: \"ist der Text vorbei?\" Kein gutes zeichen. #tddl #tddl18\n"
     ]
    },
    {
     "name": "stderr",
     "output_type": "stream",
     "text": [
      "\r",
      " 81%|████████  | 670/830 [25:37<06:09,  2.31s/it]"
     ]
    },
    {
     "name": "stdout",
     "output_type": "stream",
     "text": [
      "1014842780357681152\n",
      "Tweet fetched:  Ich denk bei den Pausen immer: Jetzt isses vorbei. Dann geht's weiter. Und um was geht es eigentlich? Larmoyanter Kram, Kind, komische Namen, Schottland oder?  #tddl\n"
     ]
    },
    {
     "name": "stderr",
     "output_type": "stream",
     "text": [
      "\r",
      " 81%|████████  | 671/830 [25:39<06:04,  2.29s/it]"
     ]
    },
    {
     "name": "stdout",
     "output_type": "stream",
     "text": [
      "1014842780357681152\n",
      "Tweet fetched:  Ich denk bei den Pausen immer: Jetzt isses vorbei. Dann geht's weiter. Und um was geht es eigentlich? Larmoyanter Kram, Kind, komische Namen, Schottland oder?  #tddl\n"
     ]
    },
    {
     "name": "stderr",
     "output_type": "stream",
     "text": [
      "\r",
      " 81%|████████  | 672/830 [25:41<06:01,  2.29s/it]"
     ]
    },
    {
     "name": "stdout",
     "output_type": "stream",
     "text": [
      "1014857635957493760\n",
      "Tweet fetched:  Gefühlt liest er schon seit über 3 Stunden. #tddl\n"
     ]
    },
    {
     "name": "stderr",
     "output_type": "stream",
     "text": [
      "\r",
      " 81%|████████  | 673/830 [25:43<05:57,  2.28s/it]"
     ]
    },
    {
     "name": "stdout",
     "output_type": "stream",
     "text": [
      "1014857809530380290\n",
      "Tweet fetched:  Wtf jetzt bin ich durch Arlbergtunnel durch und er liest noch immer?? #tddl\n"
     ]
    },
    {
     "name": "stderr",
     "output_type": "stream",
     "text": [
      "\r",
      " 81%|████████  | 674/830 [25:46<05:56,  2.29s/it]"
     ]
    },
    {
     "name": "stdout",
     "output_type": "stream",
     "text": [
      "1014865263215480832\n",
      "Tweet fetched:  ich hör mir ja die lesungen beim bachmannpreis nur wegen den anschließenden jurydiskussionen an - die sind bestes entertainment #tddl\n"
     ]
    },
    {
     "name": "stderr",
     "output_type": "stream",
     "text": [
      "\r",
      " 81%|████████▏ | 675/830 [25:48<05:58,  2.31s/it]"
     ]
    },
    {
     "name": "stdout",
     "output_type": "stream",
     "text": [
      "1014865263215480832\n",
      "Tweet fetched:  ich hör mir ja die lesungen beim bachmannpreis nur wegen den anschließenden jurydiskussionen an - die sind bestes entertainment #tddl\n"
     ]
    },
    {
     "name": "stderr",
     "output_type": "stream",
     "text": [
      "\r",
      " 81%|████████▏ | 676/830 [25:50<05:53,  2.30s/it]"
     ]
    },
    {
     "name": "stdout",
     "output_type": "stream",
     "text": [
      "1014896359089082369\n",
      "Tweet fetched:  Was ich mir von der Jury nach jeder Lesung wünschen würde: als Einstieg Noten zu vergeben wie beim Eislauf und dann ins Gespräch einzusteigen. #tddl\n"
     ]
    },
    {
     "name": "stderr",
     "output_type": "stream",
     "text": [
      "\r",
      " 82%|████████▏ | 677/830 [25:53<05:50,  2.29s/it]"
     ]
    },
    {
     "name": "stdout",
     "output_type": "stream",
     "text": [
      "1014896442111090688\n",
      "Tweet fetched:  Zur Lesung der wortgewaltigen @raphiedel:\n",
      "Bei den bemannten Kreuzen musste ich lauthals schmunzeln. 👍👍👍\n",
      "Die Mischung aus Wissenschaft und Poesie ist wie immer virtuos und packend. Ich finde, die Jury hat viel interpretiert und zu wenig auf die Sprache geachtet.\n",
      "#BachmannPreis\n"
     ]
    },
    {
     "name": "stderr",
     "output_type": "stream",
     "text": [
      "\r",
      " 82%|████████▏ | 678/830 [25:55<05:46,  2.28s/it]"
     ]
    },
    {
     "name": "stdout",
     "output_type": "stream",
     "text": [
      "1014896442111090688\n",
      "Tweet fetched:  Zur Lesung der wortgewaltigen @raphiedel:\n",
      "Bei den bemannten Kreuzen musste ich lauthals schmunzeln. 👍👍👍\n",
      "Die Mischung aus Wissenschaft und Poesie ist wie immer virtuos und packend. Ich finde, die Jury hat viel interpretiert und zu wenig auf die Sprache geachtet.\n",
      "#BachmannPreis\n"
     ]
    },
    {
     "name": "stderr",
     "output_type": "stream",
     "text": [
      "\r",
      " 82%|████████▏ | 679/830 [25:57<05:42,  2.27s/it]"
     ]
    },
    {
     "name": "stdout",
     "output_type": "stream",
     "text": [
      "1014896442111090688\n",
      "Tweet fetched:  Zur Lesung der wortgewaltigen @raphiedel:\n",
      "Bei den bemannten Kreuzen musste ich lauthals schmunzeln. 👍👍👍\n",
      "Die Mischung aus Wissenschaft und Poesie ist wie immer virtuos und packend. Ich finde, die Jury hat viel interpretiert und zu wenig auf die Sprache geachtet.\n",
      "#BachmannPreis\n"
     ]
    },
    {
     "name": "stderr",
     "output_type": "stream",
     "text": [
      "\r",
      " 82%|████████▏ | 680/830 [26:00<05:47,  2.32s/it]"
     ]
    },
    {
     "name": "stdout",
     "output_type": "stream",
     "text": [
      "1014923785340846080\n",
      "Tweet fetched:  Wenn alle Hörbücher mit so einer #tddl-Vortragsstimme eingelesen würden, würde sich der Umsatz von Psychopharmaka im deutschsprachigen Raum schlagartig verdoppeln.\n"
     ]
    },
    {
     "name": "stderr",
     "output_type": "stream",
     "text": [
      "\r",
      " 82%|████████▏ | 681/830 [26:02<05:43,  2.31s/it]"
     ]
    },
    {
     "name": "stdout",
     "output_type": "stream",
     "text": [
      "1014963709691777027\n",
      "Tweet fetched:  #BachmannPreis \n",
      "Lesung von Raphaela Edelbauer\n",
      "\n",
      "Klaus Kastberger - Weniger Pathos ist manchmal mehr. Note: 4+\n",
      "\n",
      "Insa Wilke - Vielen Dank für die Kritik. Schwache Statik des Textes schön heraus gearbeitet. Note: 2\n"
     ]
    },
    {
     "name": "stderr",
     "output_type": "stream",
     "text": [
      "\r",
      " 82%|████████▏ | 682/830 [26:04<05:38,  2.29s/it]"
     ]
    },
    {
     "name": "stdout",
     "output_type": "stream",
     "text": [
      "1014963709691777027\n",
      "Tweet fetched:  #BachmannPreis \n",
      "Lesung von Raphaela Edelbauer\n",
      "\n",
      "Klaus Kastberger - Weniger Pathos ist manchmal mehr. Note: 4+\n",
      "\n",
      "Insa Wilke - Vielen Dank für die Kritik. Schwache Statik des Textes schön heraus gearbeitet. Note: 2\n"
     ]
    },
    {
     "name": "stderr",
     "output_type": "stream",
     "text": [
      "\r",
      " 82%|████████▏ | 683/830 [26:06<05:35,  2.28s/it]"
     ]
    },
    {
     "name": "stdout",
     "output_type": "stream",
     "text": [
      "1014963709691777027\n",
      "Tweet fetched:  #BachmannPreis \n",
      "Lesung von Raphaela Edelbauer\n",
      "\n",
      "Klaus Kastberger - Weniger Pathos ist manchmal mehr. Note: 4+\n",
      "\n",
      "Insa Wilke - Vielen Dank für die Kritik. Schwache Statik des Textes schön heraus gearbeitet. Note: 2\n"
     ]
    },
    {
     "name": "stderr",
     "output_type": "stream",
     "text": [
      "\r",
      " 82%|████████▏ | 684/830 [26:09<05:45,  2.36s/it]"
     ]
    },
    {
     "name": "stdout",
     "output_type": "stream",
     "text": [
      "1014964824890015746\n",
      "Tweet fetched:  #BachmannPreis \n",
      "Lesung von Raphaela Edelbauer\n",
      "\n",
      "Hubert Winkels - Wie hätte der Text sein können, interessiert uns nicht. Note: 3\n",
      "\n",
      "Stefan Gmünder - Beim nächsten Mal nicht so viel um den heißen Brei reden. Note: 3-\n"
     ]
    },
    {
     "name": "stderr",
     "output_type": "stream",
     "text": [
      "\r",
      " 83%|████████▎ | 685/830 [26:11<05:43,  2.37s/it]"
     ]
    },
    {
     "name": "stdout",
     "output_type": "stream",
     "text": [
      "1014964824890015746\n",
      "Tweet fetched:  #BachmannPreis \n",
      "Lesung von Raphaela Edelbauer\n",
      "\n",
      "Hubert Winkels - Wie hätte der Text sein können, interessiert uns nicht. Note: 3\n",
      "\n",
      "Stefan Gmünder - Beim nächsten Mal nicht so viel um den heißen Brei reden. Note: 3-\n"
     ]
    },
    {
     "name": "stderr",
     "output_type": "stream",
     "text": [
      "\r",
      " 83%|████████▎ | 686/830 [26:14<05:36,  2.33s/it]"
     ]
    },
    {
     "name": "stdout",
     "output_type": "stream",
     "text": [
      "1014964824890015746\n",
      "Tweet fetched:  #BachmannPreis \n",
      "Lesung von Raphaela Edelbauer\n",
      "\n",
      "Hubert Winkels - Wie hätte der Text sein können, interessiert uns nicht. Note: 3\n",
      "\n",
      "Stefan Gmünder - Beim nächsten Mal nicht so viel um den heißen Brei reden. Note: 3-\n"
     ]
    },
    {
     "name": "stderr",
     "output_type": "stream",
     "text": [
      "\r",
      " 83%|████████▎ | 687/830 [26:16<05:30,  2.31s/it]"
     ]
    },
    {
     "name": "stdout",
     "output_type": "stream",
     "text": [
      "1014964824890015746\n",
      "Tweet fetched:  #BachmannPreis \n",
      "Lesung von Raphaela Edelbauer\n",
      "\n",
      "Hubert Winkels - Wie hätte der Text sein können, interessiert uns nicht. Note: 3\n",
      "\n",
      "Stefan Gmünder - Beim nächsten Mal nicht so viel um den heißen Brei reden. Note: 3-\n"
     ]
    },
    {
     "name": "stderr",
     "output_type": "stream",
     "text": [
      "\r",
      " 83%|████████▎ | 688/830 [26:18<05:31,  2.34s/it]"
     ]
    },
    {
     "name": "stdout",
     "output_type": "stream",
     "text": [
      "1014968223236808706\n",
      "Tweet fetched:  #BachmannPreis \n",
      "Lesung von Raphaela Edelbauer\n",
      "\n",
      "Hildegard Keller - leider etwas zu verkopft. Note: 3+\n",
      "\n",
      "Michael Wiederstein - Den Text schön mit eigener Meinung zusammen gefasst.  Note: 2-\n",
      "\n",
      "Nora Gomringer - Feminismus als Argumentationsmittel etwas misslungen bei dem Text. Note: 3-\n"
     ]
    },
    {
     "name": "stderr",
     "output_type": "stream",
     "text": [
      "\r",
      " 83%|████████▎ | 689/830 [26:21<05:29,  2.33s/it]"
     ]
    },
    {
     "name": "stdout",
     "output_type": "stream",
     "text": [
      "1014968223236808706\n",
      "Tweet fetched:  #BachmannPreis \n",
      "Lesung von Raphaela Edelbauer\n",
      "\n",
      "Hildegard Keller - leider etwas zu verkopft. Note: 3+\n",
      "\n",
      "Michael Wiederstein - Den Text schön mit eigener Meinung zusammen gefasst.  Note: 2-\n",
      "\n",
      "Nora Gomringer - Feminismus als Argumentationsmittel etwas misslungen bei dem Text. Note: 3-\n"
     ]
    },
    {
     "name": "stderr",
     "output_type": "stream",
     "text": [
      "\r",
      " 83%|████████▎ | 690/830 [26:23<05:25,  2.32s/it]"
     ]
    },
    {
     "name": "stdout",
     "output_type": "stream",
     "text": [
      "1014968223236808706\n",
      "Tweet fetched:  #BachmannPreis \n",
      "Lesung von Raphaela Edelbauer\n",
      "\n",
      "Hildegard Keller - leider etwas zu verkopft. Note: 3+\n",
      "\n",
      "Michael Wiederstein - Den Text schön mit eigener Meinung zusammen gefasst.  Note: 2-\n",
      "\n",
      "Nora Gomringer - Feminismus als Argumentationsmittel etwas misslungen bei dem Text. Note: 3-\n"
     ]
    },
    {
     "name": "stderr",
     "output_type": "stream",
     "text": [
      "\r",
      " 83%|████████▎ | 691/830 [26:25<05:20,  2.31s/it]"
     ]
    },
    {
     "name": "stdout",
     "output_type": "stream",
     "text": [
      "1014968223236808706\n",
      "Tweet fetched:  #BachmannPreis \n",
      "Lesung von Raphaela Edelbauer\n",
      "\n",
      "Hildegard Keller - leider etwas zu verkopft. Note: 3+\n",
      "\n",
      "Michael Wiederstein - Den Text schön mit eigener Meinung zusammen gefasst.  Note: 2-\n",
      "\n",
      "Nora Gomringer - Feminismus als Argumentationsmittel etwas misslungen bei dem Text. Note: 3-\n"
     ]
    },
    {
     "name": "stderr",
     "output_type": "stream",
     "text": [
      "\r",
      " 83%|████████▎ | 692/830 [26:27<05:17,  2.30s/it]"
     ]
    },
    {
     "name": "stdout",
     "output_type": "stream",
     "text": [
      "1014968223236808706\n",
      "Tweet fetched:  #BachmannPreis \n",
      "Lesung von Raphaela Edelbauer\n",
      "\n",
      "Hildegard Keller - leider etwas zu verkopft. Note: 3+\n",
      "\n",
      "Michael Wiederstein - Den Text schön mit eigener Meinung zusammen gefasst.  Note: 2-\n",
      "\n",
      "Nora Gomringer - Feminismus als Argumentationsmittel etwas misslungen bei dem Text. Note: 3-\n"
     ]
    },
    {
     "name": "stderr",
     "output_type": "stream",
     "text": [
      "\r",
      " 83%|████████▎ | 693/830 [26:30<05:15,  2.30s/it]"
     ]
    },
    {
     "name": "stdout",
     "output_type": "stream",
     "text": [
      "1014968223236808706\n",
      "Tweet fetched:  #BachmannPreis \n",
      "Lesung von Raphaela Edelbauer\n",
      "\n",
      "Hildegard Keller - leider etwas zu verkopft. Note: 3+\n",
      "\n",
      "Michael Wiederstein - Den Text schön mit eigener Meinung zusammen gefasst.  Note: 2-\n",
      "\n",
      "Nora Gomringer - Feminismus als Argumentationsmittel etwas misslungen bei dem Text. Note: 3-\n"
     ]
    },
    {
     "name": "stderr",
     "output_type": "stream",
     "text": [
      "\r",
      " 84%|████████▎ | 694/830 [26:32<05:18,  2.35s/it]"
     ]
    },
    {
     "name": "stdout",
     "output_type": "stream",
     "text": [
      "1014968223236808706\n",
      "Tweet fetched:  #BachmannPreis \n",
      "Lesung von Raphaela Edelbauer\n",
      "\n",
      "Hildegard Keller - leider etwas zu verkopft. Note: 3+\n",
      "\n",
      "Michael Wiederstein - Den Text schön mit eigener Meinung zusammen gefasst.  Note: 2-\n",
      "\n",
      "Nora Gomringer - Feminismus als Argumentationsmittel etwas misslungen bei dem Text. Note: 3-\n"
     ]
    },
    {
     "name": "stderr",
     "output_type": "stream",
     "text": [
      "\r",
      " 84%|████████▎ | 695/830 [26:34<05:12,  2.32s/it]"
     ]
    },
    {
     "name": "stdout",
     "output_type": "stream",
     "text": [
      "1014968718563184642\n",
      "Tweet fetched:  #tddl @tddlit Alle Lesungen und Jurygespräche von heute nachgeschaut. Meine Favoritin für diesen Tag ist @raphiedel Raphaela Edelbauer gefolgt von Anna Stern\n"
     ]
    },
    {
     "name": "stderr",
     "output_type": "stream",
     "text": [
      "\r",
      " 84%|████████▍ | 696/830 [26:37<05:08,  2.30s/it]"
     ]
    },
    {
     "name": "stdout",
     "output_type": "stream",
     "text": [
      "1014968718563184642\n",
      "Tweet fetched:  #tddl @tddlit Alle Lesungen und Jurygespräche von heute nachgeschaut. Meine Favoritin für diesen Tag ist @raphiedel Raphaela Edelbauer gefolgt von Anna Stern\n"
     ]
    },
    {
     "name": "stderr",
     "output_type": "stream",
     "text": [
      "\r",
      " 84%|████████▍ | 697/830 [26:39<05:04,  2.29s/it]"
     ]
    },
    {
     "name": "stdout",
     "output_type": "stream",
     "text": [
      "1014968718563184642\n",
      "Tweet fetched:  #tddl @tddlit Alle Lesungen und Jurygespräche von heute nachgeschaut. Meine Favoritin für diesen Tag ist @raphiedel Raphaela Edelbauer gefolgt von Anna Stern\n"
     ]
    },
    {
     "name": "stderr",
     "output_type": "stream",
     "text": [
      "\r",
      " 84%|████████▍ | 698/830 [26:41<05:01,  2.28s/it]"
     ]
    },
    {
     "name": "stdout",
     "output_type": "stream",
     "text": [
      "1014979263915810820\n",
      "Tweet fetched:  #BachmannPreis \n",
      "Lesung von Martina Clavadetscher\n",
      "\n",
      "Stefan Gmünder - gute Meinung mit Text zu langsam, zu voll; trotzdem gewagt. Note: 2\n",
      "\n",
      "Hubert Winkels - Erwartungen und Zitate machen keine gute Kritik, trotzdem am Text geblieben. Note 3 +\n"
     ]
    },
    {
     "name": "stderr",
     "output_type": "stream",
     "text": [
      "\r",
      " 84%|████████▍ | 699/830 [26:43<04:58,  2.28s/it]"
     ]
    },
    {
     "name": "stdout",
     "output_type": "stream",
     "text": [
      "1014979263915810820\n",
      "Tweet fetched:  #BachmannPreis \n",
      "Lesung von Martina Clavadetscher\n",
      "\n",
      "Stefan Gmünder - gute Meinung mit Text zu langsam, zu voll; trotzdem gewagt. Note: 2\n",
      "\n",
      "Hubert Winkels - Erwartungen und Zitate machen keine gute Kritik, trotzdem am Text geblieben. Note 3 +\n"
     ]
    },
    {
     "name": "stderr",
     "output_type": "stream",
     "text": [
      "\r",
      " 84%|████████▍ | 700/830 [26:46<04:55,  2.27s/it]"
     ]
    },
    {
     "name": "stdout",
     "output_type": "stream",
     "text": [
      "1014979263915810820\n",
      "Tweet fetched:  #BachmannPreis \n",
      "Lesung von Martina Clavadetscher\n",
      "\n",
      "Stefan Gmünder - gute Meinung mit Text zu langsam, zu voll; trotzdem gewagt. Note: 2\n",
      "\n",
      "Hubert Winkels - Erwartungen und Zitate machen keine gute Kritik, trotzdem am Text geblieben. Note 3 +\n"
     ]
    },
    {
     "name": "stderr",
     "output_type": "stream",
     "text": [
      "\r",
      " 84%|████████▍ | 701/830 [26:48<04:57,  2.31s/it]"
     ]
    },
    {
     "name": "stdout",
     "output_type": "stream",
     "text": [
      "1014979263915810820\n",
      "Tweet fetched:  #BachmannPreis \n",
      "Lesung von Martina Clavadetscher\n",
      "\n",
      "Stefan Gmünder - gute Meinung mit Text zu langsam, zu voll; trotzdem gewagt. Note: 2\n",
      "\n",
      "Hubert Winkels - Erwartungen und Zitate machen keine gute Kritik, trotzdem am Text geblieben. Note 3 +\n"
     ]
    },
    {
     "name": "stderr",
     "output_type": "stream",
     "text": [
      "\r",
      " 85%|████████▍ | 702/830 [26:50<04:54,  2.30s/it]"
     ]
    },
    {
     "name": "stdout",
     "output_type": "stream",
     "text": [
      "1014979263915810820\n",
      "Tweet fetched:  #BachmannPreis \n",
      "Lesung von Martina Clavadetscher\n",
      "\n",
      "Stefan Gmünder - gute Meinung mit Text zu langsam, zu voll; trotzdem gewagt. Note: 2\n",
      "\n",
      "Hubert Winkels - Erwartungen und Zitate machen keine gute Kritik, trotzdem am Text geblieben. Note 3 +\n"
     ]
    },
    {
     "name": "stderr",
     "output_type": "stream",
     "text": [
      "\r",
      " 85%|████████▍ | 703/830 [26:53<04:50,  2.29s/it]"
     ]
    },
    {
     "name": "stdout",
     "output_type": "stream",
     "text": [
      "1014980562187116544\n",
      "Tweet fetched:  #BachmannPreis \n",
      "Lesung von Martina Clavadetscher\n",
      "\n",
      "Hildegard Keller - selbst ein bisschen gebrabbelt? Aber schön auf den Text eingelassen. Note: 2-\n",
      "\n",
      "Michael Wiederstein - 1/8 der eigenen Kritik hätte gekürzt werden können, aber man merkt Lust am Text &amp; der eigenen Kritik. Note: 3+\n"
     ]
    },
    {
     "name": "stderr",
     "output_type": "stream",
     "text": [
      "\r",
      " 85%|████████▍ | 704/830 [26:55<04:47,  2.28s/it]"
     ]
    },
    {
     "name": "stdout",
     "output_type": "stream",
     "text": [
      "1014980562187116544\n",
      "Tweet fetched:  #BachmannPreis \n",
      "Lesung von Martina Clavadetscher\n",
      "\n",
      "Hildegard Keller - selbst ein bisschen gebrabbelt? Aber schön auf den Text eingelassen. Note: 2-\n",
      "\n",
      "Michael Wiederstein - 1/8 der eigenen Kritik hätte gekürzt werden können, aber man merkt Lust am Text &amp; der eigenen Kritik. Note: 3+\n"
     ]
    },
    {
     "name": "stderr",
     "output_type": "stream",
     "text": [
      "\r",
      " 85%|████████▍ | 705/830 [26:57<04:44,  2.28s/it]"
     ]
    },
    {
     "name": "stdout",
     "output_type": "stream",
     "text": [
      "1014980562187116544\n",
      "Tweet fetched:  #BachmannPreis \n",
      "Lesung von Martina Clavadetscher\n",
      "\n",
      "Hildegard Keller - selbst ein bisschen gebrabbelt? Aber schön auf den Text eingelassen. Note: 2-\n",
      "\n",
      "Michael Wiederstein - 1/8 der eigenen Kritik hätte gekürzt werden können, aber man merkt Lust am Text &amp; der eigenen Kritik. Note: 3+\n"
     ]
    },
    {
     "name": "stderr",
     "output_type": "stream",
     "text": [
      "\r",
      " 85%|████████▌ | 706/830 [26:59<04:42,  2.28s/it]"
     ]
    },
    {
     "name": "stdout",
     "output_type": "stream",
     "text": [
      "1014980562187116544\n",
      "Tweet fetched:  #BachmannPreis \n",
      "Lesung von Martina Clavadetscher\n",
      "\n",
      "Hildegard Keller - selbst ein bisschen gebrabbelt? Aber schön auf den Text eingelassen. Note: 2-\n",
      "\n",
      "Michael Wiederstein - 1/8 der eigenen Kritik hätte gekürzt werden können, aber man merkt Lust am Text &amp; der eigenen Kritik. Note: 3+\n"
     ]
    },
    {
     "name": "stderr",
     "output_type": "stream",
     "text": [
      "\r",
      " 85%|████████▌ | 707/830 [27:02<04:39,  2.27s/it]"
     ]
    },
    {
     "name": "stdout",
     "output_type": "stream",
     "text": [
      "1014980562187116544\n",
      "Tweet fetched:  #BachmannPreis \n",
      "Lesung von Martina Clavadetscher\n",
      "\n",
      "Hildegard Keller - selbst ein bisschen gebrabbelt? Aber schön auf den Text eingelassen. Note: 2-\n",
      "\n",
      "Michael Wiederstein - 1/8 der eigenen Kritik hätte gekürzt werden können, aber man merkt Lust am Text &amp; der eigenen Kritik. Note: 3+\n"
     ]
    },
    {
     "name": "stderr",
     "output_type": "stream",
     "text": [
      "\r",
      " 85%|████████▌ | 708/830 [27:04<04:35,  2.26s/it]"
     ]
    },
    {
     "name": "stdout",
     "output_type": "stream",
     "text": [
      "1014980562187116544\n",
      "Tweet fetched:  #BachmannPreis \n",
      "Lesung von Martina Clavadetscher\n",
      "\n",
      "Hildegard Keller - selbst ein bisschen gebrabbelt? Aber schön auf den Text eingelassen. Note: 2-\n",
      "\n",
      "Michael Wiederstein - 1/8 der eigenen Kritik hätte gekürzt werden können, aber man merkt Lust am Text &amp; der eigenen Kritik. Note: 3+\n"
     ]
    },
    {
     "name": "stderr",
     "output_type": "stream",
     "text": [
      "\r",
      " 85%|████████▌ | 709/830 [27:06<04:34,  2.26s/it]"
     ]
    },
    {
     "name": "stdout",
     "output_type": "stream",
     "text": [
      "1014980562187116544\n",
      "Tweet fetched:  #BachmannPreis \n",
      "Lesung von Martina Clavadetscher\n",
      "\n",
      "Hildegard Keller - selbst ein bisschen gebrabbelt? Aber schön auf den Text eingelassen. Note: 2-\n",
      "\n",
      "Michael Wiederstein - 1/8 der eigenen Kritik hätte gekürzt werden können, aber man merkt Lust am Text &amp; der eigenen Kritik. Note: 3+\n"
     ]
    },
    {
     "name": "stderr",
     "output_type": "stream",
     "text": [
      "\r",
      " 86%|████████▌ | 710/830 [27:09<04:34,  2.29s/it]"
     ]
    },
    {
     "name": "stdout",
     "output_type": "stream",
     "text": [
      "1014983571126345735\n",
      "Tweet fetched:  #BachmannPreis \n",
      "Lesung von Martina Clavadetscher\n",
      "\n",
      "Nora Gomringer - Diese Kritik hatte alles, was eine gute Kritik braucht; eine eigene Meinung. Muster erkannt.\n",
      "Note: 3+\n",
      "\n",
      "Morgen dann mehr!\n",
      "\n",
      "Gute Nacht und macht bitte weiter so, ihr seid sehr unterhaltsam. 😅\n"
     ]
    },
    {
     "name": "stderr",
     "output_type": "stream",
     "text": [
      "\r",
      " 86%|████████▌ | 711/830 [27:11<04:44,  2.39s/it]"
     ]
    },
    {
     "name": "stdout",
     "output_type": "stream",
     "text": [
      "1015136454123687936\n",
      "Tweet fetched:  Steigern wir die Vorfreude auf die Lesung @tddlit von #AnselmNeft heute um 14.30 Uhr bei den #tddl. In @derfreitag spricht unser Autor über rechte Ideologie, die Depression unserer Zeit und einen neu freizulegenden spirituellen Freiheitsbegriff. #vomlicht\n",
      "https://t.co/jObp0xuczY https://t.co/tvr7gc1B0h\n"
     ]
    },
    {
     "name": "stderr",
     "output_type": "stream",
     "text": [
      "\r",
      " 86%|████████▌ | 712/830 [27:13<04:37,  2.35s/it]"
     ]
    },
    {
     "name": "stdout",
     "output_type": "stream",
     "text": [
      "1015136454123687936\n",
      "Tweet fetched:  Steigern wir die Vorfreude auf die Lesung @tddlit von #AnselmNeft heute um 14.30 Uhr bei den #tddl. In @derfreitag spricht unser Autor über rechte Ideologie, die Depression unserer Zeit und einen neu freizulegenden spirituellen Freiheitsbegriff. #vomlicht\n",
      "https://t.co/jObp0xuczY https://t.co/tvr7gc1B0h\n"
     ]
    },
    {
     "name": "stderr",
     "output_type": "stream",
     "text": [
      "\r",
      " 86%|████████▌ | 713/830 [27:16<04:31,  2.32s/it]"
     ]
    },
    {
     "name": "stdout",
     "output_type": "stream",
     "text": [
      "1015146401511165952\n",
      "Tweet fetched:  Ich habe Angst vor der Lesung #tddl\n"
     ]
    },
    {
     "name": "stderr",
     "output_type": "stream",
     "text": [
      "\r",
      " 86%|████████▌ | 714/830 [27:18<04:28,  2.31s/it]"
     ]
    },
    {
     "name": "stdout",
     "output_type": "stream",
     "text": [
      "1015147550943404032\n",
      "Tweet fetched:  wunderbar die erste lesung vom bachmannpreis heute..ich werde zuhören, gerne zuhören\n",
      "\n",
      "#bachmannpreis\n"
     ]
    },
    {
     "name": "stderr",
     "output_type": "stream",
     "text": [
      "\r",
      " 86%|████████▌ | 715/830 [27:20<04:24,  2.30s/it]"
     ]
    },
    {
     "name": "stdout",
     "output_type": "stream",
     "text": [
      "1015151008387862528\n",
      "Tweet fetched:  muß mich korrigieren, die lesung von corinna sievers ist mir in vielerley hinsicht doch zu eintönig..schade,die qualität des bewerbungs-videos wird in der lesung leider nicht gehalten.trotzdem viel glück\n",
      "\n",
      "#bachmannpreis\n"
     ]
    },
    {
     "name": "stderr",
     "output_type": "stream",
     "text": [
      "\r",
      " 86%|████████▋ | 716/830 [27:23<04:21,  2.29s/it]"
     ]
    },
    {
     "name": "stdout",
     "output_type": "stream",
     "text": [
      "1015151008387862528\n",
      "Tweet fetched:  muß mich korrigieren, die lesung von corinna sievers ist mir in vielerley hinsicht doch zu eintönig..schade,die qualität des bewerbungs-videos wird in der lesung leider nicht gehalten.trotzdem viel glück\n",
      "\n",
      "#bachmannpreis\n"
     ]
    },
    {
     "name": "stderr",
     "output_type": "stream",
     "text": [
      "\r",
      " 86%|████████▋ | 717/830 [27:25<04:18,  2.29s/it]"
     ]
    },
    {
     "name": "stdout",
     "output_type": "stream",
     "text": [
      "1015151008387862528\n",
      "Tweet fetched:  muß mich korrigieren, die lesung von corinna sievers ist mir in vielerley hinsicht doch zu eintönig..schade,die qualität des bewerbungs-videos wird in der lesung leider nicht gehalten.trotzdem viel glück\n",
      "\n",
      "#bachmannpreis\n"
     ]
    },
    {
     "name": "stderr",
     "output_type": "stream",
     "text": [
      "\r",
      " 87%|████████▋ | 718/830 [27:27<04:15,  2.28s/it]"
     ]
    },
    {
     "name": "stdout",
     "output_type": "stream",
     "text": [
      "1015151008387862528\n",
      "Tweet fetched:  muß mich korrigieren, die lesung von corinna sievers ist mir in vielerley hinsicht doch zu eintönig..schade,die qualität des bewerbungs-videos wird in der lesung leider nicht gehalten.trotzdem viel glück\n",
      "\n",
      "#bachmannpreis\n"
     ]
    },
    {
     "name": "stderr",
     "output_type": "stream",
     "text": [
      "\r",
      " 87%|████████▋ | 719/830 [27:29<04:12,  2.27s/it]"
     ]
    },
    {
     "name": "stdout",
     "output_type": "stream",
     "text": [
      "1015151055494053888\n",
      "Tweet fetched:  Jetzt während der Lesung aufstehen und dreimal laut: »Ficken!« in den Saal rufen. #tddl\n"
     ]
    },
    {
     "name": "stderr",
     "output_type": "stream",
     "text": [
      "\r",
      " 87%|████████▋ | 720/830 [27:32<04:09,  2.27s/it]"
     ]
    },
    {
     "name": "stdout",
     "output_type": "stream",
     "text": [
      "1015164413165305857\n",
      "Tweet fetched:  Sie liest gut, aber wo ist ihre Sprache? #Klein #tddl #tddl18\n"
     ]
    },
    {
     "name": "stderr",
     "output_type": "stream",
     "text": [
      "\r",
      " 87%|████████▋ | 721/830 [27:34<04:11,  2.30s/it]"
     ]
    },
    {
     "name": "stdout",
     "output_type": "stream",
     "text": [
      "1015164413165305857\n",
      "Tweet fetched:  Sie liest gut, aber wo ist ihre Sprache? #Klein #tddl #tddl18\n"
     ]
    },
    {
     "name": "stderr",
     "output_type": "stream",
     "text": [
      "\r",
      " 87%|████████▋ | 722/830 [27:36<04:13,  2.35s/it]"
     ]
    },
    {
     "name": "stdout",
     "output_type": "stream",
     "text": [
      "1015165277590425600\n",
      "Tweet fetched:  @HansHuett Ich mag, dass sie sich wirklich in den Text einbringt, nicht einfach nur vorliest. #tddl\n"
     ]
    },
    {
     "name": "stderr",
     "output_type": "stream",
     "text": [
      "\r",
      " 87%|████████▋ | 723/830 [27:39<04:08,  2.32s/it]"
     ]
    },
    {
     "name": "stdout",
     "output_type": "stream",
     "text": [
      "1015168131201949697\n",
      "Tweet fetched:  #tddl18 #tddl #allyklein liest sehr emotional und stimmreich aus ihrem Text \"Carter\" @ ORF Klagenfurt https://t.co/plnDRu0dFY\n"
     ]
    },
    {
     "name": "stderr",
     "output_type": "stream",
     "text": [
      "\r",
      " 87%|████████▋ | 724/830 [27:41<04:03,  2.30s/it]"
     ]
    },
    {
     "name": "stdout",
     "output_type": "stream",
     "text": [
      "1015168131201949697\n",
      "Tweet fetched:  #tddl18 #tddl #allyklein liest sehr emotional und stimmreich aus ihrem Text \"Carter\" @ ORF Klagenfurt https://t.co/plnDRu0dFY\n"
     ]
    },
    {
     "name": "stderr",
     "output_type": "stream",
     "text": [
      "\r",
      " 87%|████████▋ | 725/830 [27:43<03:59,  2.28s/it]"
     ]
    },
    {
     "name": "stdout",
     "output_type": "stream",
     "text": [
      "1015173462716043264\n",
      "Tweet fetched:  @cginoffice Jetzt dachten wir ganz kurz, es ging um eine Lesung beim #Bachmannwettbewerb und die Gesichter der Jury ;)\n"
     ]
    },
    {
     "name": "stderr",
     "output_type": "stream",
     "text": [
      "\r",
      " 87%|████████▋ | 726/830 [27:46<04:00,  2.31s/it]"
     ]
    },
    {
     "name": "stdout",
     "output_type": "stream",
     "text": [
      "1015173462716043264\n",
      "Tweet fetched:  @cginoffice Jetzt dachten wir ganz kurz, es ging um eine Lesung beim #Bachmannwettbewerb und die Gesichter der Jury ;)\n"
     ]
    },
    {
     "name": "stderr",
     "output_type": "stream",
     "text": [
      "\r",
      " 88%|████████▊ | 727/830 [27:48<03:56,  2.30s/it]"
     ]
    },
    {
     "name": "stdout",
     "output_type": "stream",
     "text": [
      "1015179482687303680\n",
      "Tweet fetched:  #tddl Was für ein Kurzporträt von Natalka... 😍 Toll geschrieben und gelesen von Tanja Maljartschuk\n"
     ]
    },
    {
     "name": "stderr",
     "output_type": "stream",
     "text": [
      "\r",
      " 88%|████████▊ | 728/830 [27:50<03:53,  2.28s/it]"
     ]
    },
    {
     "name": "stdout",
     "output_type": "stream",
     "text": [
      "1015179482687303680\n",
      "Tweet fetched:  #tddl Was für ein Kurzporträt von Natalka... 😍 Toll geschrieben und gelesen von Tanja Maljartschuk\n"
     ]
    },
    {
     "name": "stderr",
     "output_type": "stream",
     "text": [
      "\r",
      " 88%|████████▊ | 729/830 [27:52<03:50,  2.28s/it]"
     ]
    },
    {
     "name": "stdout",
     "output_type": "stream",
     "text": [
      "1015179482687303680\n",
      "Tweet fetched:  #tddl Was für ein Kurzporträt von Natalka... 😍 Toll geschrieben und gelesen von Tanja Maljartschuk\n"
     ]
    },
    {
     "name": "stderr",
     "output_type": "stream",
     "text": [
      "\r",
      " 88%|████████▊ | 730/830 [27:55<03:47,  2.27s/it]"
     ]
    },
    {
     "name": "stdout",
     "output_type": "stream",
     "text": [
      "1015198272774959104\n",
      "Tweet fetched:  Oh, es geht schon los? Die Nachmittagslesungen könnten heute interessant werden: @bov und Anselm Neft. #tddl (Live auf 3Sat)\n"
     ]
    },
    {
     "name": "stderr",
     "output_type": "stream",
     "text": [
      "\r",
      " 88%|████████▊ | 731/830 [27:57<04:01,  2.44s/it]"
     ]
    },
    {
     "name": "stdout",
     "output_type": "stream",
     "text": [
      "1015198272774959104\n",
      "Tweet fetched:  Oh, es geht schon los? Die Nachmittagslesungen könnten heute interessant werden: @bov und Anselm Neft. #tddl (Live auf 3Sat)\n"
     ]
    },
    {
     "name": "stderr",
     "output_type": "stream",
     "text": [
      "\r",
      " 88%|████████▊ | 732/830 [28:00<04:10,  2.55s/it]"
     ]
    },
    {
     "name": "stdout",
     "output_type": "stream",
     "text": [
      "1015198272774959104\n",
      "Tweet fetched:  Oh, es geht schon los? Die Nachmittagslesungen könnten heute interessant werden: @bov und Anselm Neft. #tddl (Live auf 3Sat)\n"
     ]
    },
    {
     "name": "stderr",
     "output_type": "stream",
     "text": [
      "\r",
      " 88%|████████▊ | 733/830 [28:03<03:59,  2.47s/it]"
     ]
    },
    {
     "name": "stdout",
     "output_type": "stream",
     "text": [
      "1015198682327801856\n",
      "Tweet fetched:  Eine Familiengeschichte, sehr gut gelesen @bov #tddl\n"
     ]
    },
    {
     "name": "stderr",
     "output_type": "stream",
     "text": [
      "\r",
      " 88%|████████▊ | 734/830 [28:05<03:50,  2.41s/it]"
     ]
    },
    {
     "name": "stdout",
     "output_type": "stream",
     "text": [
      "1015198682327801856\n",
      "Tweet fetched:  Eine Familiengeschichte, sehr gut gelesen @bov #tddl\n"
     ]
    },
    {
     "name": "stderr",
     "output_type": "stream",
     "text": [
      "\r",
      " 89%|████████▊ | 735/830 [28:08<04:05,  2.58s/it]"
     ]
    },
    {
     "name": "stdout",
     "output_type": "stream",
     "text": [
      "1015201593111863296\n",
      "Tweet fetched:  Schön gelesen, auch #tddl #bovbjerg\n"
     ]
    },
    {
     "name": "stderr",
     "output_type": "stream",
     "text": [
      "\r",
      " 89%|████████▊ | 736/830 [28:10<04:03,  2.59s/it]"
     ]
    },
    {
     "name": "stdout",
     "output_type": "stream",
     "text": [
      "1015201593111863296\n",
      "Tweet fetched:  Schön gelesen, auch #tddl #bovbjerg\n"
     ]
    },
    {
     "name": "stderr",
     "output_type": "stream",
     "text": [
      "\r",
      " 89%|████████▉ | 737/830 [28:13<03:51,  2.49s/it]"
     ]
    },
    {
     "name": "stdout",
     "output_type": "stream",
     "text": [
      "1015201593111863296\n",
      "Tweet fetched:  Schön gelesen, auch #tddl #bovbjerg\n"
     ]
    },
    {
     "name": "stderr",
     "output_type": "stream",
     "text": [
      "\r",
      " 89%|████████▉ | 738/830 [28:15<03:42,  2.42s/it]"
     ]
    },
    {
     "name": "stdout",
     "output_type": "stream",
     "text": [
      "1015213436597362688\n",
      "Tweet fetched:  #neft #tddl Machs wie Miltos - gefällt mir gut. Hängt wohl auch mit der Lesung zusammen. Macht er super.\n"
     ]
    },
    {
     "name": "stderr",
     "output_type": "stream",
     "text": [
      "\r",
      " 89%|████████▉ | 739/830 [28:17<03:35,  2.37s/it]"
     ]
    },
    {
     "name": "stdout",
     "output_type": "stream",
     "text": [
      "1015213436597362688\n",
      "Tweet fetched:  #neft #tddl Machs wie Miltos - gefällt mir gut. Hängt wohl auch mit der Lesung zusammen. Macht er super.\n"
     ]
    },
    {
     "name": "stderr",
     "output_type": "stream",
     "text": [
      "\r",
      " 89%|████████▉ | 740/830 [28:19<03:30,  2.34s/it]"
     ]
    },
    {
     "name": "stdout",
     "output_type": "stream",
     "text": [
      "1015213436597362688\n",
      "Tweet fetched:  #neft #tddl Machs wie Miltos - gefällt mir gut. Hängt wohl auch mit der Lesung zusammen. Macht er super.\n"
     ]
    },
    {
     "name": "stderr",
     "output_type": "stream",
     "text": [
      "\r",
      " 89%|████████▉ | 741/830 [28:22<03:29,  2.36s/it]"
     ]
    },
    {
     "name": "stdout",
     "output_type": "stream",
     "text": [
      "1015214361856675840\n",
      "Tweet fetched:  Sehr gute Lesung. #Neft #tddl #tddl18\n"
     ]
    },
    {
     "name": "stderr",
     "output_type": "stream",
     "text": [
      "\r",
      " 89%|████████▉ | 742/830 [28:24<03:24,  2.33s/it]"
     ]
    },
    {
     "name": "stdout",
     "output_type": "stream",
     "text": [
      "1015251921261690882\n",
      "Tweet fetched:  #BachmannPreis \n",
      "Weiter geht's mit den Kritiken für die Kritiker von der Joshua Groß Lesung.\n",
      "\n",
      "Sagt jetzt nichts über die Qualität der anderen Lesungen aus, ich komm einfach nicht mit, ihr lest mir zu viel beim Bachmann Preis, wenn man noch nebenbei arbeiten geht.\n"
     ]
    },
    {
     "name": "stderr",
     "output_type": "stream",
     "text": [
      "\r",
      " 90%|████████▉ | 743/830 [28:26<03:20,  2.31s/it]"
     ]
    },
    {
     "name": "stdout",
     "output_type": "stream",
     "text": [
      "1015254115176407040\n",
      "Tweet fetched:  #BachmannPreis \n",
      "Lesung von Joshua Groß\n",
      "\n",
      "Klaus Kastberger - Die Gegenwart der sozialen Medien wie Twitter sind science fiction. Schade; aber der Text ist gut, oder? Note 2-\n",
      "\n",
      "Insa Wilke - Hat der Text Potential für Schulbücher in hundert Jahren? Falls ja, dann gut begründet. Note:2\n"
     ]
    },
    {
     "name": "stderr",
     "output_type": "stream",
     "text": [
      "\r",
      " 90%|████████▉ | 744/830 [28:29<03:21,  2.35s/it]"
     ]
    },
    {
     "name": "stdout",
     "output_type": "stream",
     "text": [
      "1015254115176407040\n",
      "Tweet fetched:  #BachmannPreis \n",
      "Lesung von Joshua Groß\n",
      "\n",
      "Klaus Kastberger - Die Gegenwart der sozialen Medien wie Twitter sind science fiction. Schade; aber der Text ist gut, oder? Note 2-\n",
      "\n",
      "Insa Wilke - Hat der Text Potential für Schulbücher in hundert Jahren? Falls ja, dann gut begründet. Note:2\n"
     ]
    },
    {
     "name": "stderr",
     "output_type": "stream",
     "text": [
      "\r",
      " 90%|████████▉ | 745/830 [28:31<03:17,  2.32s/it]"
     ]
    },
    {
     "name": "stdout",
     "output_type": "stream",
     "text": [
      "1015254115176407040\n",
      "Tweet fetched:  #BachmannPreis \n",
      "Lesung von Joshua Groß\n",
      "\n",
      "Klaus Kastberger - Die Gegenwart der sozialen Medien wie Twitter sind science fiction. Schade; aber der Text ist gut, oder? Note 2-\n",
      "\n",
      "Insa Wilke - Hat der Text Potential für Schulbücher in hundert Jahren? Falls ja, dann gut begründet. Note:2\n"
     ]
    },
    {
     "name": "stderr",
     "output_type": "stream",
     "text": [
      "\r",
      " 90%|████████▉ | 746/830 [28:33<03:13,  2.31s/it]"
     ]
    },
    {
     "name": "stdout",
     "output_type": "stream",
     "text": [
      "1015254115176407040\n",
      "Tweet fetched:  #BachmannPreis \n",
      "Lesung von Joshua Groß\n",
      "\n",
      "Klaus Kastberger - Die Gegenwart der sozialen Medien wie Twitter sind science fiction. Schade; aber der Text ist gut, oder? Note 2-\n",
      "\n",
      "Insa Wilke - Hat der Text Potential für Schulbücher in hundert Jahren? Falls ja, dann gut begründet. Note:2\n"
     ]
    },
    {
     "name": "stderr",
     "output_type": "stream",
     "text": [
      "\r",
      " 90%|█████████ | 747/830 [28:36<03:10,  2.29s/it]"
     ]
    },
    {
     "name": "stdout",
     "output_type": "stream",
     "text": [
      "1015254115176407040\n",
      "Tweet fetched:  #BachmannPreis \n",
      "Lesung von Joshua Groß\n",
      "\n",
      "Klaus Kastberger - Die Gegenwart der sozialen Medien wie Twitter sind science fiction. Schade; aber der Text ist gut, oder? Note 2-\n",
      "\n",
      "Insa Wilke - Hat der Text Potential für Schulbücher in hundert Jahren? Falls ja, dann gut begründet. Note:2\n"
     ]
    },
    {
     "name": "stderr",
     "output_type": "stream",
     "text": [
      "\r",
      " 90%|█████████ | 748/830 [28:38<03:07,  2.29s/it]"
     ]
    },
    {
     "name": "stdout",
     "output_type": "stream",
     "text": [
      "1015255250612170753\n",
      "Tweet fetched:  #BachmannPreis \n",
      "Lesung von Joshua Groß\n",
      "\n",
      "Stefan Gmünder - Retadierende Momente sind auch deine Kritiken für mich. Note: 2-\n",
      "\n",
      "Hubert Winkels - Orientierungslos im Bildungsroman? Klingt komisch, aber im Widerspruch zu den anderen Kritikern zeigst du Talent. Note: 3+\n"
     ]
    },
    {
     "name": "stderr",
     "output_type": "stream",
     "text": [
      "\r",
      " 90%|█████████ | 749/830 [28:40<03:07,  2.32s/it]"
     ]
    },
    {
     "name": "stdout",
     "output_type": "stream",
     "text": [
      "1015255250612170753\n",
      "Tweet fetched:  #BachmannPreis \n",
      "Lesung von Joshua Groß\n",
      "\n",
      "Stefan Gmünder - Retadierende Momente sind auch deine Kritiken für mich. Note: 2-\n",
      "\n",
      "Hubert Winkels - Orientierungslos im Bildungsroman? Klingt komisch, aber im Widerspruch zu den anderen Kritikern zeigst du Talent. Note: 3+\n"
     ]
    },
    {
     "name": "stderr",
     "output_type": "stream",
     "text": [
      "\r",
      " 90%|█████████ | 750/830 [28:42<03:03,  2.30s/it]"
     ]
    },
    {
     "name": "stdout",
     "output_type": "stream",
     "text": [
      "1015255250612170753\n",
      "Tweet fetched:  #BachmannPreis \n",
      "Lesung von Joshua Groß\n",
      "\n",
      "Stefan Gmünder - Retadierende Momente sind auch deine Kritiken für mich. Note: 2-\n",
      "\n",
      "Hubert Winkels - Orientierungslos im Bildungsroman? Klingt komisch, aber im Widerspruch zu den anderen Kritikern zeigst du Talent. Note: 3+\n"
     ]
    },
    {
     "name": "stderr",
     "output_type": "stream",
     "text": [
      "\r",
      " 90%|█████████ | 751/830 [28:45<03:01,  2.30s/it]"
     ]
    },
    {
     "name": "stdout",
     "output_type": "stream",
     "text": [
      "1015255250612170753\n",
      "Tweet fetched:  #BachmannPreis \n",
      "Lesung von Joshua Groß\n",
      "\n",
      "Stefan Gmünder - Retadierende Momente sind auch deine Kritiken für mich. Note: 2-\n",
      "\n",
      "Hubert Winkels - Orientierungslos im Bildungsroman? Klingt komisch, aber im Widerspruch zu den anderen Kritikern zeigst du Talent. Note: 3+\n"
     ]
    },
    {
     "name": "stderr",
     "output_type": "stream",
     "text": [
      "\r",
      " 91%|█████████ | 752/830 [28:47<03:04,  2.36s/it]"
     ]
    },
    {
     "name": "stdout",
     "output_type": "stream",
     "text": [
      "1015256442528509953\n",
      "Tweet fetched:  #BachmannPreis \n",
      "Lesung von Joshua Groß\n",
      "\n",
      "Hildegard Keller - Mit der Hauptfigur zum Sportevent gehen, kann man machen. Der Sound des Textes ist gut, auch die Kritik. Note: 2\n",
      "\n",
      "Michael Wiederstein -Der Text ein Thermomix? - Vielleicht die eigene Kritik etwas zu Herzen nehmen. Note:3-\n"
     ]
    },
    {
     "name": "stderr",
     "output_type": "stream",
     "text": [
      "\r",
      " 91%|█████████ | 753/830 [28:50<03:00,  2.34s/it]"
     ]
    },
    {
     "name": "stdout",
     "output_type": "stream",
     "text": [
      "1015256442528509953\n",
      "Tweet fetched:  #BachmannPreis \n",
      "Lesung von Joshua Groß\n",
      "\n",
      "Hildegard Keller - Mit der Hauptfigur zum Sportevent gehen, kann man machen. Der Sound des Textes ist gut, auch die Kritik. Note: 2\n",
      "\n",
      "Michael Wiederstein -Der Text ein Thermomix? - Vielleicht die eigene Kritik etwas zu Herzen nehmen. Note:3-\n"
     ]
    },
    {
     "name": "stderr",
     "output_type": "stream",
     "text": [
      "\r",
      " 91%|█████████ | 754/830 [28:52<02:59,  2.37s/it]"
     ]
    },
    {
     "name": "stdout",
     "output_type": "stream",
     "text": [
      "1015256442528509953\n",
      "Tweet fetched:  #BachmannPreis \n",
      "Lesung von Joshua Groß\n",
      "\n",
      "Hildegard Keller - Mit der Hauptfigur zum Sportevent gehen, kann man machen. Der Sound des Textes ist gut, auch die Kritik. Note: 2\n",
      "\n",
      "Michael Wiederstein -Der Text ein Thermomix? - Vielleicht die eigene Kritik etwas zu Herzen nehmen. Note:3-\n"
     ]
    },
    {
     "name": "stderr",
     "output_type": "stream",
     "text": [
      "\r",
      " 91%|█████████ | 755/830 [28:54<02:55,  2.33s/it]"
     ]
    },
    {
     "name": "stdout",
     "output_type": "stream",
     "text": [
      "1015256442528509953\n",
      "Tweet fetched:  #BachmannPreis \n",
      "Lesung von Joshua Groß\n",
      "\n",
      "Hildegard Keller - Mit der Hauptfigur zum Sportevent gehen, kann man machen. Der Sound des Textes ist gut, auch die Kritik. Note: 2\n",
      "\n",
      "Michael Wiederstein -Der Text ein Thermomix? - Vielleicht die eigene Kritik etwas zu Herzen nehmen. Note:3-\n"
     ]
    },
    {
     "name": "stderr",
     "output_type": "stream",
     "text": [
      "\r",
      " 91%|█████████ | 756/830 [28:57<02:52,  2.33s/it]"
     ]
    },
    {
     "name": "stdout",
     "output_type": "stream",
     "text": [
      "1015256442528509953\n",
      "Tweet fetched:  #BachmannPreis \n",
      "Lesung von Joshua Groß\n",
      "\n",
      "Hildegard Keller - Mit der Hauptfigur zum Sportevent gehen, kann man machen. Der Sound des Textes ist gut, auch die Kritik. Note: 2\n",
      "\n",
      "Michael Wiederstein -Der Text ein Thermomix? - Vielleicht die eigene Kritik etwas zu Herzen nehmen. Note:3-\n"
     ]
    },
    {
     "name": "stderr",
     "output_type": "stream",
     "text": [
      "\r",
      " 91%|█████████ | 757/830 [28:59<02:51,  2.35s/it]"
     ]
    },
    {
     "name": "stdout",
     "output_type": "stream",
     "text": [
      "1015256442528509953\n",
      "Tweet fetched:  #BachmannPreis \n",
      "Lesung von Joshua Groß\n",
      "\n",
      "Hildegard Keller - Mit der Hauptfigur zum Sportevent gehen, kann man machen. Der Sound des Textes ist gut, auch die Kritik. Note: 2\n",
      "\n",
      "Michael Wiederstein -Der Text ein Thermomix? - Vielleicht die eigene Kritik etwas zu Herzen nehmen. Note:3-\n"
     ]
    },
    {
     "name": "stderr",
     "output_type": "stream",
     "text": [
      "\r",
      " 91%|█████████▏| 758/830 [29:01<02:47,  2.32s/it]"
     ]
    },
    {
     "name": "stdout",
     "output_type": "stream",
     "text": [
      "1015256442528509953\n",
      "Tweet fetched:  #BachmannPreis \n",
      "Lesung von Joshua Groß\n",
      "\n",
      "Hildegard Keller - Mit der Hauptfigur zum Sportevent gehen, kann man machen. Der Sound des Textes ist gut, auch die Kritik. Note: 2\n",
      "\n",
      "Michael Wiederstein -Der Text ein Thermomix? - Vielleicht die eigene Kritik etwas zu Herzen nehmen. Note:3-\n"
     ]
    },
    {
     "name": "stderr",
     "output_type": "stream",
     "text": [
      "\r",
      " 91%|█████████▏| 759/830 [29:03<02:43,  2.31s/it]"
     ]
    },
    {
     "name": "stdout",
     "output_type": "stream",
     "text": [
      "1015258255487008768\n",
      "Tweet fetched:  #BachmannPreis \n",
      "Lesung von Joshua Groß\n",
      "\n",
      "Nora Gomringer - Sagst du auch bitches und hoes, wenn du drauf bist; hätte mir jetzt ein Kumpel gekontert, um mich zu provozieren. Am Ende bleibt die Frage unbeantwortet im Raum stehen: Was ist denn sprachinnovativ? Note: 3+\n"
     ]
    },
    {
     "name": "stderr",
     "output_type": "stream",
     "text": [
      "\r",
      " 92%|█████████▏| 760/830 [29:06<02:44,  2.35s/it]"
     ]
    },
    {
     "name": "stdout",
     "output_type": "stream",
     "text": [
      "1015258255487008768\n",
      "Tweet fetched:  #BachmannPreis \n",
      "Lesung von Joshua Groß\n",
      "\n",
      "Nora Gomringer - Sagst du auch bitches und hoes, wenn du drauf bist; hätte mir jetzt ein Kumpel gekontert, um mich zu provozieren. Am Ende bleibt die Frage unbeantwortet im Raum stehen: Was ist denn sprachinnovativ? Note: 3+\n"
     ]
    },
    {
     "name": "stderr",
     "output_type": "stream",
     "text": [
      "\r",
      " 92%|█████████▏| 761/830 [29:08<02:40,  2.32s/it]"
     ]
    },
    {
     "name": "stdout",
     "output_type": "stream",
     "text": [
      "1015282585298227200\n",
      "Tweet fetched:  #BachmannPreis \n",
      "Lesung von Corinna T.Sievers\n",
      "\n",
      "Klaus Kastberger - Hätte ein Mann diesen Text geschrieben, wie wäre er angekommen? Und auch sonst gute Meinungen. Note: 3+\n",
      "\n",
      "Insa Wilke - Die Frau, die es will. Literarische Radikalität fehlt trotzdem; gut zusammen gefasst. Note 2+\n"
     ]
    },
    {
     "name": "stderr",
     "output_type": "stream",
     "text": [
      "\r",
      " 92%|█████████▏| 762/830 [29:11<02:54,  2.56s/it]"
     ]
    },
    {
     "name": "stdout",
     "output_type": "stream",
     "text": [
      "1015282585298227200\n",
      "Tweet fetched:  #BachmannPreis \n",
      "Lesung von Corinna T.Sievers\n",
      "\n",
      "Klaus Kastberger - Hätte ein Mann diesen Text geschrieben, wie wäre er angekommen? Und auch sonst gute Meinungen. Note: 3+\n",
      "\n",
      "Insa Wilke - Die Frau, die es will. Literarische Radikalität fehlt trotzdem; gut zusammen gefasst. Note 2+\n"
     ]
    },
    {
     "name": "stderr",
     "output_type": "stream",
     "text": [
      "\r",
      " 92%|█████████▏| 763/830 [29:14<02:45,  2.47s/it]"
     ]
    },
    {
     "name": "stdout",
     "output_type": "stream",
     "text": [
      "1015282585298227200\n",
      "Tweet fetched:  #BachmannPreis \n",
      "Lesung von Corinna T.Sievers\n",
      "\n",
      "Klaus Kastberger - Hätte ein Mann diesen Text geschrieben, wie wäre er angekommen? Und auch sonst gute Meinungen. Note: 3+\n",
      "\n",
      "Insa Wilke - Die Frau, die es will. Literarische Radikalität fehlt trotzdem; gut zusammen gefasst. Note 2+\n"
     ]
    },
    {
     "name": "stderr",
     "output_type": "stream",
     "text": [
      "\r",
      " 92%|█████████▏| 764/830 [29:16<02:38,  2.41s/it]"
     ]
    },
    {
     "name": "stdout",
     "output_type": "stream",
     "text": [
      "1015282585298227200\n",
      "Tweet fetched:  #BachmannPreis \n",
      "Lesung von Corinna T.Sievers\n",
      "\n",
      "Klaus Kastberger - Hätte ein Mann diesen Text geschrieben, wie wäre er angekommen? Und auch sonst gute Meinungen. Note: 3+\n",
      "\n",
      "Insa Wilke - Die Frau, die es will. Literarische Radikalität fehlt trotzdem; gut zusammen gefasst. Note 2+\n"
     ]
    },
    {
     "name": "stderr",
     "output_type": "stream",
     "text": [
      "\r",
      " 92%|█████████▏| 765/830 [29:18<02:34,  2.38s/it]"
     ]
    },
    {
     "name": "stdout",
     "output_type": "stream",
     "text": [
      "1015283372170600448\n",
      "Tweet fetched:  #BachmannPreis \n",
      "Lesung von Corinna T.Sievers\n",
      "\n",
      "Stefan Gmünder - Setzt zu sehr auf Effekte; nicht so die Kritik. Note: 2\n",
      "\n",
      "Hubert Winkels - Ist Freud nicht schon in der Wissenschaft veraltet und überholt? Wieso dann noch zum Interpretieren benutzen? Ansonsten bodenständig. Note: 3\n"
     ]
    },
    {
     "name": "stderr",
     "output_type": "stream",
     "text": [
      "\r",
      " 92%|█████████▏| 766/830 [29:20<02:31,  2.37s/it]"
     ]
    },
    {
     "name": "stdout",
     "output_type": "stream",
     "text": [
      "1015283372170600448\n",
      "Tweet fetched:  #BachmannPreis \n",
      "Lesung von Corinna T.Sievers\n",
      "\n",
      "Stefan Gmünder - Setzt zu sehr auf Effekte; nicht so die Kritik. Note: 2\n",
      "\n",
      "Hubert Winkels - Ist Freud nicht schon in der Wissenschaft veraltet und überholt? Wieso dann noch zum Interpretieren benutzen? Ansonsten bodenständig. Note: 3\n"
     ]
    },
    {
     "name": "stderr",
     "output_type": "stream",
     "text": [
      "\r",
      " 92%|█████████▏| 767/830 [29:23<02:27,  2.33s/it]"
     ]
    },
    {
     "name": "stdout",
     "output_type": "stream",
     "text": [
      "1015283372170600448\n",
      "Tweet fetched:  #BachmannPreis \n",
      "Lesung von Corinna T.Sievers\n",
      "\n",
      "Stefan Gmünder - Setzt zu sehr auf Effekte; nicht so die Kritik. Note: 2\n",
      "\n",
      "Hubert Winkels - Ist Freud nicht schon in der Wissenschaft veraltet und überholt? Wieso dann noch zum Interpretieren benutzen? Ansonsten bodenständig. Note: 3\n"
     ]
    },
    {
     "name": "stderr",
     "output_type": "stream",
     "text": [
      "\r",
      " 93%|█████████▎| 768/830 [29:25<02:23,  2.31s/it]"
     ]
    },
    {
     "name": "stdout",
     "output_type": "stream",
     "text": [
      "1015283372170600448\n",
      "Tweet fetched:  #BachmannPreis \n",
      "Lesung von Corinna T.Sievers\n",
      "\n",
      "Stefan Gmünder - Setzt zu sehr auf Effekte; nicht so die Kritik. Note: 2\n",
      "\n",
      "Hubert Winkels - Ist Freud nicht schon in der Wissenschaft veraltet und überholt? Wieso dann noch zum Interpretieren benutzen? Ansonsten bodenständig. Note: 3\n"
     ]
    },
    {
     "name": "stderr",
     "output_type": "stream",
     "text": [
      "\r",
      " 93%|█████████▎| 769/830 [29:27<02:21,  2.32s/it]"
     ]
    },
    {
     "name": "stdout",
     "output_type": "stream",
     "text": [
      "1015283372170600448\n",
      "Tweet fetched:  #BachmannPreis \n",
      "Lesung von Corinna T.Sievers\n",
      "\n",
      "Stefan Gmünder - Setzt zu sehr auf Effekte; nicht so die Kritik. Note: 2\n",
      "\n",
      "Hubert Winkels - Ist Freud nicht schon in der Wissenschaft veraltet und überholt? Wieso dann noch zum Interpretieren benutzen? Ansonsten bodenständig. Note: 3\n"
     ]
    },
    {
     "name": "stderr",
     "output_type": "stream",
     "text": [
      "\r",
      " 93%|█████████▎| 770/830 [29:30<02:21,  2.36s/it]"
     ]
    },
    {
     "name": "stdout",
     "output_type": "stream",
     "text": [
      "1015284087479730176\n",
      "Tweet fetched:  #BachmannPreis \n",
      "Lesung von Corinna T.Sievers\n",
      "\n",
      "Hildegard Keller - Nicht radikal genug? Die Kollegen stimmen teilweise zu, also eine gute Kritik? Note: 3\n",
      "\n",
      "Michael Wiederstein - Wunderbare Kritik; wer hat nicht Angst vor dem Zahnarztstuhl? Note: 2-\n"
     ]
    },
    {
     "name": "stderr",
     "output_type": "stream",
     "text": [
      "\r",
      " 93%|█████████▎| 771/830 [29:32<02:18,  2.34s/it]"
     ]
    },
    {
     "name": "stdout",
     "output_type": "stream",
     "text": [
      "1015284087479730176\n",
      "Tweet fetched:  #BachmannPreis \n",
      "Lesung von Corinna T.Sievers\n",
      "\n",
      "Hildegard Keller - Nicht radikal genug? Die Kollegen stimmen teilweise zu, also eine gute Kritik? Note: 3\n",
      "\n",
      "Michael Wiederstein - Wunderbare Kritik; wer hat nicht Angst vor dem Zahnarztstuhl? Note: 2-\n"
     ]
    },
    {
     "name": "stderr",
     "output_type": "stream",
     "text": [
      "\r",
      " 93%|█████████▎| 772/830 [29:34<02:14,  2.31s/it]"
     ]
    },
    {
     "name": "stdout",
     "output_type": "stream",
     "text": [
      "1015284087479730176\n",
      "Tweet fetched:  #BachmannPreis \n",
      "Lesung von Corinna T.Sievers\n",
      "\n",
      "Hildegard Keller - Nicht radikal genug? Die Kollegen stimmen teilweise zu, also eine gute Kritik? Note: 3\n",
      "\n",
      "Michael Wiederstein - Wunderbare Kritik; wer hat nicht Angst vor dem Zahnarztstuhl? Note: 2-\n"
     ]
    },
    {
     "name": "stderr",
     "output_type": "stream",
     "text": [
      "\r",
      " 93%|█████████▎| 773/830 [29:37<02:11,  2.30s/it]"
     ]
    },
    {
     "name": "stdout",
     "output_type": "stream",
     "text": [
      "1015284087479730176\n",
      "Tweet fetched:  #BachmannPreis \n",
      "Lesung von Corinna T.Sievers\n",
      "\n",
      "Hildegard Keller - Nicht radikal genug? Die Kollegen stimmen teilweise zu, also eine gute Kritik? Note: 3\n",
      "\n",
      "Michael Wiederstein - Wunderbare Kritik; wer hat nicht Angst vor dem Zahnarztstuhl? Note: 2-\n"
     ]
    },
    {
     "name": "stderr",
     "output_type": "stream",
     "text": [
      "\r",
      " 93%|█████████▎| 774/830 [29:39<02:08,  2.29s/it]"
     ]
    },
    {
     "name": "stdout",
     "output_type": "stream",
     "text": [
      "1015284087479730176\n",
      "Tweet fetched:  #BachmannPreis \n",
      "Lesung von Corinna T.Sievers\n",
      "\n",
      "Hildegard Keller - Nicht radikal genug? Die Kollegen stimmen teilweise zu, also eine gute Kritik? Note: 3\n",
      "\n",
      "Michael Wiederstein - Wunderbare Kritik; wer hat nicht Angst vor dem Zahnarztstuhl? Note: 2-\n"
     ]
    },
    {
     "name": "stderr",
     "output_type": "stream",
     "text": [
      "\r",
      " 93%|█████████▎| 775/830 [29:41<02:05,  2.29s/it]"
     ]
    },
    {
     "name": "stdout",
     "output_type": "stream",
     "text": [
      "1015284087479730176\n",
      "Tweet fetched:  #BachmannPreis \n",
      "Lesung von Corinna T.Sievers\n",
      "\n",
      "Hildegard Keller - Nicht radikal genug? Die Kollegen stimmen teilweise zu, also eine gute Kritik? Note: 3\n",
      "\n",
      "Michael Wiederstein - Wunderbare Kritik; wer hat nicht Angst vor dem Zahnarztstuhl? Note: 2-\n"
     ]
    },
    {
     "name": "stderr",
     "output_type": "stream",
     "text": [
      "\r",
      " 93%|█████████▎| 776/830 [29:43<02:02,  2.28s/it]"
     ]
    },
    {
     "name": "stdout",
     "output_type": "stream",
     "text": [
      "1015284689144295424\n",
      "Tweet fetched:  #BachmannPreis\n",
      "Lesung von Corinna T.Sievers\n",
      "\n",
      "Nora Gomringer - Darf weibliche Lust männliche Lustklischees bedienen? Ein interessanter Gedanke. Note: 2-\n"
     ]
    },
    {
     "name": "stderr",
     "output_type": "stream",
     "text": [
      "\r",
      " 94%|█████████▎| 777/830 [29:46<02:02,  2.31s/it]"
     ]
    },
    {
     "name": "stdout",
     "output_type": "stream",
     "text": [
      "1015309436821352448\n",
      "Tweet fetched:  Die Lesung von @bov nachhören und sofort wissen: wenn der Text nicht gewinnt dann nur, weil er vom ersten Satz an im Orbit kreist, jenseits vom Rahmen, für den Klagenfurt steht, nur darum. #tddl #tddl18\n"
     ]
    },
    {
     "name": "stderr",
     "output_type": "stream",
     "text": [
      "\r",
      " 94%|█████████▎| 778/830 [29:48<01:59,  2.29s/it]"
     ]
    },
    {
     "name": "stdout",
     "output_type": "stream",
     "text": [
      "1015309436821352448\n",
      "Tweet fetched:  Die Lesung von @bov nachhören und sofort wissen: wenn der Text nicht gewinnt dann nur, weil er vom ersten Satz an im Orbit kreist, jenseits vom Rahmen, für den Klagenfurt steht, nur darum. #tddl #tddl18\n"
     ]
    },
    {
     "name": "stderr",
     "output_type": "stream",
     "text": [
      "\r",
      " 94%|█████████▍| 779/830 [29:50<01:57,  2.31s/it]"
     ]
    },
    {
     "name": "stdout",
     "output_type": "stream",
     "text": [
      "1015310379356950528\n",
      "Tweet fetched:  Den Text hören, die Stimme, den Klang, und die beschriebenen Orte vor sich sehen, Hammerklopfgeräusch im Ursteinmuseum Holzmaden inklusive, und das Kopfkino mit \"Holz\" und \"Maden\" und \"Urstein\" meiner Kindheit: eins. #tddl #tddl18 @bov\n"
     ]
    },
    {
     "name": "stderr",
     "output_type": "stream",
     "text": [
      "\r",
      " 94%|█████████▍| 780/830 [29:53<01:54,  2.30s/it]"
     ]
    },
    {
     "name": "stdout",
     "output_type": "stream",
     "text": [
      "1015310379356950528\n",
      "Tweet fetched:  Den Text hören, die Stimme, den Klang, und die beschriebenen Orte vor sich sehen, Hammerklopfgeräusch im Ursteinmuseum Holzmaden inklusive, und das Kopfkino mit \"Holz\" und \"Maden\" und \"Urstein\" meiner Kindheit: eins. #tddl #tddl18 @bov\n"
     ]
    },
    {
     "name": "stderr",
     "output_type": "stream",
     "text": [
      "\r",
      " 94%|█████████▍| 781/830 [29:55<01:52,  2.29s/it]"
     ]
    },
    {
     "name": "stdout",
     "output_type": "stream",
     "text": [
      "1015310379356950528\n",
      "Tweet fetched:  Den Text hören, die Stimme, den Klang, und die beschriebenen Orte vor sich sehen, Hammerklopfgeräusch im Ursteinmuseum Holzmaden inklusive, und das Kopfkino mit \"Holz\" und \"Maden\" und \"Urstein\" meiner Kindheit: eins. #tddl #tddl18 @bov\n"
     ]
    },
    {
     "name": "stderr",
     "output_type": "stream",
     "text": [
      "\r",
      " 94%|█████████▍| 782/830 [29:57<01:49,  2.28s/it]"
     ]
    },
    {
     "name": "stdout",
     "output_type": "stream",
     "text": [
      "1015310379356950528\n",
      "Tweet fetched:  Den Text hören, die Stimme, den Klang, und die beschriebenen Orte vor sich sehen, Hammerklopfgeräusch im Ursteinmuseum Holzmaden inklusive, und das Kopfkino mit \"Holz\" und \"Maden\" und \"Urstein\" meiner Kindheit: eins. #tddl #tddl18 @bov\n"
     ]
    },
    {
     "name": "stderr",
     "output_type": "stream",
     "text": [
      "\r",
      " 94%|█████████▍| 783/830 [30:00<01:49,  2.32s/it]"
     ]
    },
    {
     "name": "stdout",
     "output_type": "stream",
     "text": [
      "1015310379356950528\n",
      "Tweet fetched:  Den Text hören, die Stimme, den Klang, und die beschriebenen Orte vor sich sehen, Hammerklopfgeräusch im Ursteinmuseum Holzmaden inklusive, und das Kopfkino mit \"Holz\" und \"Maden\" und \"Urstein\" meiner Kindheit: eins. #tddl #tddl18 @bov\n"
     ]
    },
    {
     "name": "stderr",
     "output_type": "stream",
     "text": [
      "\r",
      " 94%|█████████▍| 784/830 [30:02<01:48,  2.36s/it]"
     ]
    },
    {
     "name": "stdout",
     "output_type": "stream",
     "text": [
      "1014770273671942144\n",
      "Tweet fetched:  Mit starken Worten hat Feridun Zaimoglu gestern den #bachmannwettbewerb eröffnet und den Blick auf die Fremden und Verlassenen gerichtet. Mit der Wienerin Raphaela Edelbauer beginnen heute um 10 die Lesungen. Live auf @3sat (bsh)\n",
      " #tddl #tddl18\n"
     ]
    },
    {
     "name": "stderr",
     "output_type": "stream",
     "text": [
      "\r",
      " 95%|█████████▍| 785/830 [30:04<01:44,  2.33s/it]"
     ]
    },
    {
     "name": "stdout",
     "output_type": "stream",
     "text": [
      "1015333581193928707\n",
      "Tweet fetched:  Es war eine bewegende Lesung unseres Autors #AnselmNeft bei den #tddl. Wer sie verpasst hat, sollte sich diese, sobald es die Server @tddlit wieder hergeben, ansehen! Den bisher nicht veröffentlichten Text findet man nun online.\n",
      "Wir gratulieren! #vomlicht\n",
      "https://t.co/0B3JxoayEe\n"
     ]
    },
    {
     "name": "stderr",
     "output_type": "stream",
     "text": [
      "\r",
      " 95%|█████████▍| 786/830 [30:07<01:41,  2.31s/it]"
     ]
    },
    {
     "name": "stdout",
     "output_type": "stream",
     "text": [
      "1015333581193928707\n",
      "Tweet fetched:  Es war eine bewegende Lesung unseres Autors #AnselmNeft bei den #tddl. Wer sie verpasst hat, sollte sich diese, sobald es die Server @tddlit wieder hergeben, ansehen! Den bisher nicht veröffentlichten Text findet man nun online.\n",
      "Wir gratulieren! #vomlicht\n",
      "https://t.co/0B3JxoayEe\n"
     ]
    },
    {
     "name": "stderr",
     "output_type": "stream",
     "text": [
      "\r",
      " 95%|█████████▍| 787/830 [30:09<01:38,  2.29s/it]"
     ]
    },
    {
     "name": "stdout",
     "output_type": "stream",
     "text": [
      "1015333581193928707\n",
      "Tweet fetched:  Es war eine bewegende Lesung unseres Autors #AnselmNeft bei den #tddl. Wer sie verpasst hat, sollte sich diese, sobald es die Server @tddlit wieder hergeben, ansehen! Den bisher nicht veröffentlichten Text findet man nun online.\n",
      "Wir gratulieren! #vomlicht\n",
      "https://t.co/0B3JxoayEe\n"
     ]
    },
    {
     "name": "stderr",
     "output_type": "stream",
     "text": [
      "\r",
      " 95%|█████████▍| 788/830 [30:12<01:42,  2.43s/it]"
     ]
    },
    {
     "name": "stdout",
     "output_type": "stream",
     "text": [
      "1015333581193928707\n",
      "Tweet fetched:  Es war eine bewegende Lesung unseres Autors #AnselmNeft bei den #tddl. Wer sie verpasst hat, sollte sich diese, sobald es die Server @tddlit wieder hergeben, ansehen! Den bisher nicht veröffentlichten Text findet man nun online.\n",
      "Wir gratulieren! #vomlicht\n",
      "https://t.co/0B3JxoayEe\n"
     ]
    },
    {
     "name": "stderr",
     "output_type": "stream",
     "text": [
      "\r",
      " 95%|█████████▌| 789/830 [30:14<01:38,  2.40s/it]"
     ]
    },
    {
     "name": "stdout",
     "output_type": "stream",
     "text": [
      "1015333581193928707\n",
      "Tweet fetched:  Es war eine bewegende Lesung unseres Autors #AnselmNeft bei den #tddl. Wer sie verpasst hat, sollte sich diese, sobald es die Server @tddlit wieder hergeben, ansehen! Den bisher nicht veröffentlichten Text findet man nun online.\n",
      "Wir gratulieren! #vomlicht\n",
      "https://t.co/0B3JxoayEe\n"
     ]
    },
    {
     "name": "stderr",
     "output_type": "stream",
     "text": [
      "\r",
      " 95%|█████████▌| 790/830 [30:16<01:34,  2.36s/it]"
     ]
    },
    {
     "name": "stdout",
     "output_type": "stream",
     "text": [
      "1015338024115359744\n",
      "Tweet fetched:  #BachmannPreis \n",
      "Lesung von Ally Klein\n",
      "\n",
      "Insa Wilke - halten wir fest:  Schreibtipp für jeden angehenden Autor, schiefe Bilder sind entweder noch nicht gut heraus gemeißelt aus Marmor oder gewollt, hier leider unklar. Note: 2-\n",
      "\n",
      "Stefan Gmünder - Mir gehen gerade die Zeichen aus, um\n"
     ]
    },
    {
     "name": "stderr",
     "output_type": "stream",
     "text": [
      "\r",
      " 95%|█████████▌| 791/830 [30:19<01:31,  2.35s/it]"
     ]
    },
    {
     "name": "stdout",
     "output_type": "stream",
     "text": [
      "1015338024115359744\n",
      "Tweet fetched:  #BachmannPreis \n",
      "Lesung von Ally Klein\n",
      "\n",
      "Insa Wilke - halten wir fest:  Schreibtipp für jeden angehenden Autor, schiefe Bilder sind entweder noch nicht gut heraus gemeißelt aus Marmor oder gewollt, hier leider unklar. Note: 2-\n",
      "\n",
      "Stefan Gmünder - Mir gehen gerade die Zeichen aus, um\n"
     ]
    },
    {
     "name": "stderr",
     "output_type": "stream",
     "text": [
      "\r",
      " 95%|█████████▌| 792/830 [30:21<01:28,  2.32s/it]"
     ]
    },
    {
     "name": "stdout",
     "output_type": "stream",
     "text": [
      "1015338846463168512\n",
      "Tweet fetched:  #BachmannPreis \n",
      "Lesung von Ally Klein\n",
      "\n",
      "Hubert Winkels - Muss schon sagen: Diese Kritik wie ein Sherlock Holmes der Logikfehler. Note: 2\n",
      "\n",
      "Hildegard Keller - schönes Feedback an Autorin mit Tipps bzgl. Adjektiven und Lob für Performance. Note: 2\n"
     ]
    },
    {
     "name": "stderr",
     "output_type": "stream",
     "text": [
      "\r",
      " 96%|█████████▌| 793/830 [30:23<01:25,  2.30s/it]"
     ]
    },
    {
     "name": "stdout",
     "output_type": "stream",
     "text": [
      "1015338846463168512\n",
      "Tweet fetched:  #BachmannPreis \n",
      "Lesung von Ally Klein\n",
      "\n",
      "Hubert Winkels - Muss schon sagen: Diese Kritik wie ein Sherlock Holmes der Logikfehler. Note: 2\n",
      "\n",
      "Hildegard Keller - schönes Feedback an Autorin mit Tipps bzgl. Adjektiven und Lob für Performance. Note: 2\n"
     ]
    },
    {
     "name": "stderr",
     "output_type": "stream",
     "text": [
      "\r",
      " 96%|█████████▌| 794/830 [30:25<01:22,  2.29s/it]"
     ]
    },
    {
     "name": "stdout",
     "output_type": "stream",
     "text": [
      "1015338846463168512\n",
      "Tweet fetched:  #BachmannPreis \n",
      "Lesung von Ally Klein\n",
      "\n",
      "Hubert Winkels - Muss schon sagen: Diese Kritik wie ein Sherlock Holmes der Logikfehler. Note: 2\n",
      "\n",
      "Hildegard Keller - schönes Feedback an Autorin mit Tipps bzgl. Adjektiven und Lob für Performance. Note: 2\n"
     ]
    },
    {
     "name": "stderr",
     "output_type": "stream",
     "text": [
      "\r",
      " 96%|█████████▌| 795/830 [30:28<01:21,  2.32s/it]"
     ]
    },
    {
     "name": "stdout",
     "output_type": "stream",
     "text": [
      "1015338846463168512\n",
      "Tweet fetched:  #BachmannPreis \n",
      "Lesung von Ally Klein\n",
      "\n",
      "Hubert Winkels - Muss schon sagen: Diese Kritik wie ein Sherlock Holmes der Logikfehler. Note: 2\n",
      "\n",
      "Hildegard Keller - schönes Feedback an Autorin mit Tipps bzgl. Adjektiven und Lob für Performance. Note: 2\n"
     ]
    },
    {
     "name": "stderr",
     "output_type": "stream",
     "text": [
      "\r",
      " 96%|█████████▌| 796/830 [30:30<01:20,  2.36s/it]"
     ]
    },
    {
     "name": "stdout",
     "output_type": "stream",
     "text": [
      "1015338846463168512\n",
      "Tweet fetched:  #BachmannPreis \n",
      "Lesung von Ally Klein\n",
      "\n",
      "Hubert Winkels - Muss schon sagen: Diese Kritik wie ein Sherlock Holmes der Logikfehler. Note: 2\n",
      "\n",
      "Hildegard Keller - schönes Feedback an Autorin mit Tipps bzgl. Adjektiven und Lob für Performance. Note: 2\n"
     ]
    },
    {
     "name": "stderr",
     "output_type": "stream",
     "text": [
      "\r",
      " 96%|█████████▌| 797/830 [30:32<01:17,  2.34s/it]"
     ]
    },
    {
     "name": "stdout",
     "output_type": "stream",
     "text": [
      "1015338846463168512\n",
      "Tweet fetched:  #BachmannPreis \n",
      "Lesung von Ally Klein\n",
      "\n",
      "Hubert Winkels - Muss schon sagen: Diese Kritik wie ein Sherlock Holmes der Logikfehler. Note: 2\n",
      "\n",
      "Hildegard Keller - schönes Feedback an Autorin mit Tipps bzgl. Adjektiven und Lob für Performance. Note: 2\n"
     ]
    },
    {
     "name": "stderr",
     "output_type": "stream",
     "text": [
      "\r",
      " 96%|█████████▌| 798/830 [30:35<01:14,  2.32s/it]"
     ]
    },
    {
     "name": "stdout",
     "output_type": "stream",
     "text": [
      "1015338846463168512\n",
      "Tweet fetched:  #BachmannPreis \n",
      "Lesung von Ally Klein\n",
      "\n",
      "Hubert Winkels - Muss schon sagen: Diese Kritik wie ein Sherlock Holmes der Logikfehler. Note: 2\n",
      "\n",
      "Hildegard Keller - schönes Feedback an Autorin mit Tipps bzgl. Adjektiven und Lob für Performance. Note: 2\n"
     ]
    },
    {
     "name": "stderr",
     "output_type": "stream",
     "text": [
      "\r",
      " 96%|█████████▋| 799/830 [30:37<01:11,  2.30s/it]"
     ]
    },
    {
     "name": "stdout",
     "output_type": "stream",
     "text": [
      "1015338846463168512\n",
      "Tweet fetched:  #BachmannPreis \n",
      "Lesung von Ally Klein\n",
      "\n",
      "Hubert Winkels - Muss schon sagen: Diese Kritik wie ein Sherlock Holmes der Logikfehler. Note: 2\n",
      "\n",
      "Hildegard Keller - schönes Feedback an Autorin mit Tipps bzgl. Adjektiven und Lob für Performance. Note: 2\n"
     ]
    },
    {
     "name": "stderr",
     "output_type": "stream",
     "text": [
      "\r",
      " 96%|█████████▋| 800/830 [30:39<01:09,  2.33s/it]"
     ]
    },
    {
     "name": "stdout",
     "output_type": "stream",
     "text": [
      "1015339631884361728\n",
      "Tweet fetched:  @SophiePassmann Vielleicht nicht. Aber der Text war top gelesen, schöne Sprache. #tddl\n"
     ]
    },
    {
     "name": "stderr",
     "output_type": "stream",
     "text": [
      "\r",
      " 97%|█████████▋| 801/830 [30:42<01:06,  2.31s/it]"
     ]
    },
    {
     "name": "stdout",
     "output_type": "stream",
     "text": [
      "1015339631884361728\n",
      "Tweet fetched:  @SophiePassmann Vielleicht nicht. Aber der Text war top gelesen, schöne Sprache. #tddl\n"
     ]
    },
    {
     "name": "stderr",
     "output_type": "stream",
     "text": [
      "\r",
      " 97%|█████████▋| 802/830 [30:44<01:04,  2.29s/it]"
     ]
    },
    {
     "name": "stdout",
     "output_type": "stream",
     "text": [
      "1015339631884361728\n",
      "Tweet fetched:  @SophiePassmann Vielleicht nicht. Aber der Text war top gelesen, schöne Sprache. #tddl\n"
     ]
    },
    {
     "name": "stderr",
     "output_type": "stream",
     "text": [
      "\r",
      " 97%|█████████▋| 803/830 [30:46<01:02,  2.30s/it]"
     ]
    },
    {
     "name": "stdout",
     "output_type": "stream",
     "text": [
      "1015340309323100160\n",
      "Tweet fetched:  #BachmannPreis \n",
      "Lesung von Ally Klein\n",
      "\n",
      "Michael Wiederstein - Der Text lebt &amp; hat Organe! - - Wie war das mit den schiefen Bildern? Nein, bin wieder ernst. Du brennst für den Text, das ist schön mitzuerleben. Note: 2+\n",
      "\n",
      "Nora Gomringer - Beklemmend tolle Lesung! Reicht auch. Note 2-\n"
     ]
    },
    {
     "name": "stderr",
     "output_type": "stream",
     "text": [
      "\r",
      " 97%|█████████▋| 804/830 [30:49<01:00,  2.32s/it]"
     ]
    },
    {
     "name": "stdout",
     "output_type": "stream",
     "text": [
      "1015340309323100160\n",
      "Tweet fetched:  #BachmannPreis \n",
      "Lesung von Ally Klein\n",
      "\n",
      "Michael Wiederstein - Der Text lebt &amp; hat Organe! - - Wie war das mit den schiefen Bildern? Nein, bin wieder ernst. Du brennst für den Text, das ist schön mitzuerleben. Note: 2+\n",
      "\n",
      "Nora Gomringer - Beklemmend tolle Lesung! Reicht auch. Note 2-\n"
     ]
    },
    {
     "name": "stderr",
     "output_type": "stream",
     "text": [
      "\r",
      " 97%|█████████▋| 805/830 [30:51<00:57,  2.30s/it]"
     ]
    },
    {
     "name": "stdout",
     "output_type": "stream",
     "text": [
      "1015340309323100160\n",
      "Tweet fetched:  #BachmannPreis \n",
      "Lesung von Ally Klein\n",
      "\n",
      "Michael Wiederstein - Der Text lebt &amp; hat Organe! - - Wie war das mit den schiefen Bildern? Nein, bin wieder ernst. Du brennst für den Text, das ist schön mitzuerleben. Note: 2+\n",
      "\n",
      "Nora Gomringer - Beklemmend tolle Lesung! Reicht auch. Note 2-\n"
     ]
    },
    {
     "name": "stderr",
     "output_type": "stream",
     "text": [
      "\r",
      " 97%|█████████▋| 806/830 [30:53<00:56,  2.35s/it]"
     ]
    },
    {
     "name": "stdout",
     "output_type": "stream",
     "text": [
      "1015340309323100160\n",
      "Tweet fetched:  #BachmannPreis \n",
      "Lesung von Ally Klein\n",
      "\n",
      "Michael Wiederstein - Der Text lebt &amp; hat Organe! - - Wie war das mit den schiefen Bildern? Nein, bin wieder ernst. Du brennst für den Text, das ist schön mitzuerleben. Note: 2+\n",
      "\n",
      "Nora Gomringer - Beklemmend tolle Lesung! Reicht auch. Note 2-\n"
     ]
    },
    {
     "name": "stderr",
     "output_type": "stream",
     "text": [
      "\r",
      " 97%|█████████▋| 807/830 [30:56<00:53,  2.32s/it]"
     ]
    },
    {
     "name": "stdout",
     "output_type": "stream",
     "text": [
      "1015340309323100160\n",
      "Tweet fetched:  #BachmannPreis \n",
      "Lesung von Ally Klein\n",
      "\n",
      "Michael Wiederstein - Der Text lebt &amp; hat Organe! - - Wie war das mit den schiefen Bildern? Nein, bin wieder ernst. Du brennst für den Text, das ist schön mitzuerleben. Note: 2+\n",
      "\n",
      "Nora Gomringer - Beklemmend tolle Lesung! Reicht auch. Note 2-\n"
     ]
    },
    {
     "name": "stderr",
     "output_type": "stream",
     "text": [
      "\r",
      " 97%|█████████▋| 808/830 [30:58<00:50,  2.30s/it]"
     ]
    },
    {
     "name": "stdout",
     "output_type": "stream",
     "text": [
      "1015340309323100160\n",
      "Tweet fetched:  #BachmannPreis \n",
      "Lesung von Ally Klein\n",
      "\n",
      "Michael Wiederstein - Der Text lebt &amp; hat Organe! - - Wie war das mit den schiefen Bildern? Nein, bin wieder ernst. Du brennst für den Text, das ist schön mitzuerleben. Note: 2+\n",
      "\n",
      "Nora Gomringer - Beklemmend tolle Lesung! Reicht auch. Note 2-\n"
     ]
    },
    {
     "name": "stderr",
     "output_type": "stream",
     "text": [
      "\r",
      " 97%|█████████▋| 809/830 [31:00<00:49,  2.37s/it]"
     ]
    },
    {
     "name": "stdout",
     "output_type": "stream",
     "text": [
      "1015340309323100160\n",
      "Tweet fetched:  #BachmannPreis \n",
      "Lesung von Ally Klein\n",
      "\n",
      "Michael Wiederstein - Der Text lebt &amp; hat Organe! - - Wie war das mit den schiefen Bildern? Nein, bin wieder ernst. Du brennst für den Text, das ist schön mitzuerleben. Note: 2+\n",
      "\n",
      "Nora Gomringer - Beklemmend tolle Lesung! Reicht auch. Note 2-\n"
     ]
    },
    {
     "name": "stderr",
     "output_type": "stream",
     "text": [
      "\r",
      " 98%|█████████▊| 810/830 [31:03<00:46,  2.34s/it]"
     ]
    },
    {
     "name": "stdout",
     "output_type": "stream",
     "text": [
      "1015509303682363394\n",
      "Tweet fetched:  #tddl Nolte jetzt in der Lesung ohne Bart? Kognitive Dissonanz.\n"
     ]
    },
    {
     "name": "stderr",
     "output_type": "stream",
     "text": [
      "\r",
      " 98%|█████████▊| 811/830 [31:05<00:43,  2.31s/it]"
     ]
    },
    {
     "name": "stdout",
     "output_type": "stream",
     "text": [
      "1015509465444093952\n",
      "Tweet fetched:  Interessanter Leseduktus #tddl\n"
     ]
    },
    {
     "name": "stderr",
     "output_type": "stream",
     "text": [
      "\r",
      " 98%|█████████▊| 812/830 [31:07<00:41,  2.32s/it]"
     ]
    },
    {
     "name": "stdout",
     "output_type": "stream",
     "text": [
      "1015515641430859776\n",
      "Tweet fetched:  @Johannes42 @shorstkotte Diese Lesung ist zumindest auch ein weiterer Beitrag für unser Ekel-Thema. #tddl\n"
     ]
    },
    {
     "name": "stderr",
     "output_type": "stream",
     "text": [
      "\r",
      " 98%|█████████▊| 813/830 [31:10<00:39,  2.34s/it]"
     ]
    },
    {
     "name": "stdout",
     "output_type": "stream",
     "text": [
      "1015528451175043072\n",
      "Tweet fetched:  #tddl mh, manchmal wäre es wirklich gut, wenn die Texte von professionellen Vorlesenden gelesen werden. Vielleicht wäre ich aufmerksamer.\n"
     ]
    },
    {
     "name": "stderr",
     "output_type": "stream",
     "text": [
      "\r",
      " 98%|█████████▊| 814/830 [31:12<00:38,  2.43s/it]"
     ]
    },
    {
     "name": "stdout",
     "output_type": "stream",
     "text": [
      "1015533474365820928\n",
      "Tweet fetched:  Wie sollen wir bloß, während der Lesung noch googeln, zwei Mediengeräte reichen doch #tddl\n"
     ]
    },
    {
     "name": "stderr",
     "output_type": "stream",
     "text": [
      "\r",
      " 98%|█████████▊| 815/830 [31:14<00:35,  2.40s/it]"
     ]
    },
    {
     "name": "stdout",
     "output_type": "stream",
     "text": [
      "1015552128847368192\n",
      "Tweet fetched:  Herzklopfen und Beklemmnis bei der Lesung von Özlem Özgül Dündar. Schade, dass der Text ausschließlich kleingeschrieben und ohne Interpunktionen ist.\n",
      "#tddl #tddl18 https://t.co/a1r1q6BZq3\n"
     ]
    },
    {
     "name": "stderr",
     "output_type": "stream",
     "text": [
      "\r",
      " 98%|█████████▊| 816/830 [31:17<00:33,  2.37s/it]"
     ]
    },
    {
     "name": "stdout",
     "output_type": "stream",
     "text": [
      "1015552128847368192\n",
      "Tweet fetched:  Herzklopfen und Beklemmnis bei der Lesung von Özlem Özgül Dündar. Schade, dass der Text ausschließlich kleingeschrieben und ohne Interpunktionen ist.\n",
      "#tddl #tddl18 https://t.co/a1r1q6BZq3\n"
     ]
    },
    {
     "name": "stderr",
     "output_type": "stream",
     "text": [
      "\r",
      " 98%|█████████▊| 817/830 [31:19<00:30,  2.34s/it]"
     ]
    },
    {
     "name": "stdout",
     "output_type": "stream",
     "text": [
      "1015552985873690624\n",
      "Tweet fetched:  Beeindruckender Text und berührender Vortrag von Özlem #Dündar. Dafür hat es sich sogar gelohnt, die pausenfüllende Stimmen-Imitation zu ertragen. #tddl\n"
     ]
    },
    {
     "name": "stderr",
     "output_type": "stream",
     "text": [
      "\r",
      " 99%|█████████▊| 818/830 [31:21<00:28,  2.34s/it]"
     ]
    },
    {
     "name": "stdout",
     "output_type": "stream",
     "text": [
      "1015552985873690624\n",
      "Tweet fetched:  Beeindruckender Text und berührender Vortrag von Özlem #Dündar. Dafür hat es sich sogar gelohnt, die pausenfüllende Stimmen-Imitation zu ertragen. #tddl\n"
     ]
    },
    {
     "name": "stderr",
     "output_type": "stream",
     "text": [
      "\r",
      " 99%|█████████▊| 819/830 [31:24<00:25,  2.31s/it]"
     ]
    },
    {
     "name": "stdout",
     "output_type": "stream",
     "text": [
      "1015552985873690624\n",
      "Tweet fetched:  Beeindruckender Text und berührender Vortrag von Özlem #Dündar. Dafür hat es sich sogar gelohnt, die pausenfüllende Stimmen-Imitation zu ertragen. #tddl\n"
     ]
    },
    {
     "name": "stderr",
     "output_type": "stream",
     "text": [
      "\r",
      " 99%|█████████▉| 820/830 [31:27<00:24,  2.49s/it]"
     ]
    },
    {
     "name": "stdout",
     "output_type": "stream",
     "text": [
      "1015562227942903808\n",
      "Tweet fetched:  Wird man eigentlich nach der lesung in u-haft genommen? #tddl\n"
     ]
    },
    {
     "name": "stderr",
     "output_type": "stream",
     "text": [
      "\r",
      " 99%|█████████▉| 821/830 [31:29<00:21,  2.44s/it]"
     ]
    },
    {
     "name": "stdout",
     "output_type": "stream",
     "text": [
      "1015576143863394304\n",
      "[{'code': 179, 'message': 'Sorry, you are not authorized to see this status.'}]\n",
      "Inside the exception - no:2\n"
     ]
    },
    {
     "name": "stderr",
     "output_type": "stream",
     "text": [
      "\r",
      " 99%|█████████▉| 822/830 [31:31<00:19,  2.40s/it]"
     ]
    },
    {
     "name": "stdout",
     "output_type": "stream",
     "text": [
      "1015576143863394304\n",
      "[{'code': 179, 'message': 'Sorry, you are not authorized to see this status.'}]\n",
      "Inside the exception - no:2\n"
     ]
    },
    {
     "name": "stderr",
     "output_type": "stream",
     "text": [
      "\r",
      " 99%|█████████▉| 823/830 [31:33<00:16,  2.36s/it]"
     ]
    },
    {
     "name": "stdout",
     "output_type": "stream",
     "text": [
      "1015576143863394304\n",
      "[{'code': 179, 'message': 'Sorry, you are not authorized to see this status.'}]\n",
      "Inside the exception - no:2\n"
     ]
    },
    {
     "name": "stderr",
     "output_type": "stream",
     "text": [
      "\r",
      " 99%|█████████▉| 824/830 [31:36<00:13,  2.32s/it]"
     ]
    },
    {
     "name": "stdout",
     "output_type": "stream",
     "text": [
      "1015646627716005888\n",
      "Tweet fetched:  Ich habe für Özlem gestimmt #tddl #TeamÖzlem - eine sehr schöne Lesung. Gratulation! https://t.co/GJUTLDjhHi\n"
     ]
    },
    {
     "name": "stderr",
     "output_type": "stream",
     "text": [
      "\r",
      " 99%|█████████▉| 825/830 [31:38<00:11,  2.31s/it]"
     ]
    },
    {
     "name": "stdout",
     "output_type": "stream",
     "text": [
      "1015646627716005888\n",
      "Tweet fetched:  Ich habe für Özlem gestimmt #tddl #TeamÖzlem - eine sehr schöne Lesung. Gratulation! https://t.co/GJUTLDjhHi\n"
     ]
    },
    {
     "name": "stderr",
     "output_type": "stream",
     "text": [
      "\r",
      "100%|█████████▉| 826/830 [31:40<00:09,  2.30s/it]"
     ]
    },
    {
     "name": "stdout",
     "output_type": "stream",
     "text": [
      "1015886907224543232\n",
      "Tweet fetched:  Phantastisch gelesen! großartig surreal-dadaistischer Text! Hauptpreis für den Herrn Magister! #tddl\n"
     ]
    },
    {
     "name": "stderr",
     "output_type": "stream",
     "text": [
      "\r",
      "100%|█████████▉| 827/830 [31:42<00:06,  2.28s/it]"
     ]
    },
    {
     "name": "stdout",
     "output_type": "stream",
     "text": [
      "1015886907224543232\n",
      "Tweet fetched:  Phantastisch gelesen! großartig surreal-dadaistischer Text! Hauptpreis für den Herrn Magister! #tddl\n"
     ]
    },
    {
     "name": "stderr",
     "output_type": "stream",
     "text": [
      "\r",
      "100%|█████████▉| 828/830 [31:45<00:04,  2.28s/it]"
     ]
    },
    {
     "name": "stdout",
     "output_type": "stream",
     "text": [
      "1015886907224543232\n",
      "Tweet fetched:  Phantastisch gelesen! großartig surreal-dadaistischer Text! Hauptpreis für den Herrn Magister! #tddl\n"
     ]
    },
    {
     "name": "stderr",
     "output_type": "stream",
     "text": [
      "\r",
      "100%|█████████▉| 829/830 [31:47<00:02,  2.27s/it]"
     ]
    },
    {
     "name": "stdout",
     "output_type": "stream",
     "text": [
      "1014785883952820225\n",
      "Tweet fetched:  Erinnert mich ein wenig an Georg Kleins \"Miakro\", was Raphaela Edelbauer da vorliest.\n",
      "Und gefällt mir erstaunlich gut.\n",
      "\n",
      "#tddl\n"
     ]
    },
    {
     "name": "stderr",
     "output_type": "stream",
     "text": [
      "100%|██████████| 830/830 [31:49<00:00,  2.30s/it]\n"
     ]
    }
   ],
   "source": [
    "annotations_aspect = 'data/aspect.csv'\n",
    "annotations_polarity = 'data/polarity.csv'\n",
    "\n",
    "aspectResultFile = \"data/aspect_with_tweets.csv\"\n",
    "polarityResultFile = \"data/polarity_with_tweets.csv\"\n",
    "\n",
    "# createDataset(annotations_aspect, aspectResultFile)\n",
    "createDataset(annotations_polarity, polarityResultFile)"
   ]
  },
  {
   "cell_type": "code",
   "execution_count": 36,
   "id": "immune-challenge",
   "metadata": {},
   "outputs": [],
   "source": [
    "def preprocess(input_csv, output_csv):\n",
    "    \n",
    "    dataset_df = pd.read_csv(input_csv, names = [\"tweet_id\",\"text\",\"label\",\"aspect\"])\n",
    "\n",
    "    texts = list(dataset_df['text'])\n",
    "    aspects = list(dataset_df['aspect'])\n",
    "    labels = list(dataset_df['label'])\n",
    "    final_data = []\n",
    "    \n",
    "    print(len(texts))\n",
    "    for i, text in enumerate(texts):\n",
    "        try:\n",
    "            pos_aspect = text.replace(',','').replace('!','').replace('\"','').replace('#','').replace('?','').replace('.','').replace('\\n',' ').split().index(aspects[i].split()[0])\n",
    "        except:\n",
    "            try:\n",
    "                pos_aspect = text.replace('\\n',' ').split().index(aspects[i].split()[0])\n",
    "            except:\n",
    "                print(\"SKIPPED BECAUSE ASPECT NOT IN SENTENCE\")\n",
    "                continue\n",
    "        aspect_len = len(aspects[i].split())\n",
    "        final_pos_aspect = [k for k in range(pos_aspect, pos_aspect+aspect_len)]\n",
    "        final_data.append([text, final_pos_aspect, labels[i].split('_')[0]])\n",
    "\n",
    "    train, test = train_test_split(final_data, test_size=.2, shuffle=True, random_state=32)\n",
    "\n",
    "    with open(output_csv.split('.csv')[0] + '_train.csv', \"w\") as f:\n",
    "        writer = csv.writer(f)\n",
    "        writer.writerows(train)\n",
    "        \n",
    "    with open(output_csv.split('.csv')[0] + '_test.csv', \"w\") as f:\n",
    "        writer = csv.writer(f)\n",
    "        writer.writerows(test)"
   ]
  },
  {
   "cell_type": "code",
   "execution_count": 37,
   "id": "outdoor-riverside",
   "metadata": {},
   "outputs": [
    {
     "name": "stdout",
     "output_type": "stream",
     "text": [
      "803\n",
      "SKIPPED BECAUSE ASPECT NOT IN SENTENCE\n",
      "SKIPPED BECAUSE ASPECT NOT IN SENTENCE\n",
      "SKIPPED BECAUSE ASPECT NOT IN SENTENCE\n",
      "SKIPPED BECAUSE ASPECT NOT IN SENTENCE\n",
      "SKIPPED BECAUSE ASPECT NOT IN SENTENCE\n",
      "SKIPPED BECAUSE ASPECT NOT IN SENTENCE\n",
      "SKIPPED BECAUSE ASPECT NOT IN SENTENCE\n",
      "SKIPPED BECAUSE ASPECT NOT IN SENTENCE\n",
      "SKIPPED BECAUSE ASPECT NOT IN SENTENCE\n",
      "SKIPPED BECAUSE ASPECT NOT IN SENTENCE\n",
      "SKIPPED BECAUSE ASPECT NOT IN SENTENCE\n",
      "SKIPPED BECAUSE ASPECT NOT IN SENTENCE\n",
      "SKIPPED BECAUSE ASPECT NOT IN SENTENCE\n",
      "SKIPPED BECAUSE ASPECT NOT IN SENTENCE\n",
      "SKIPPED BECAUSE ASPECT NOT IN SENTENCE\n",
      "SKIPPED BECAUSE ASPECT NOT IN SENTENCE\n",
      "SKIPPED BECAUSE ASPECT NOT IN SENTENCE\n",
      "SKIPPED BECAUSE ASPECT NOT IN SENTENCE\n",
      "SKIPPED BECAUSE ASPECT NOT IN SENTENCE\n",
      "SKIPPED BECAUSE ASPECT NOT IN SENTENCE\n",
      "SKIPPED BECAUSE ASPECT NOT IN SENTENCE\n",
      "SKIPPED BECAUSE ASPECT NOT IN SENTENCE\n",
      "SKIPPED BECAUSE ASPECT NOT IN SENTENCE\n",
      "SKIPPED BECAUSE ASPECT NOT IN SENTENCE\n",
      "SKIPPED BECAUSE ASPECT NOT IN SENTENCE\n",
      "SKIPPED BECAUSE ASPECT NOT IN SENTENCE\n",
      "SKIPPED BECAUSE ASPECT NOT IN SENTENCE\n",
      "SKIPPED BECAUSE ASPECT NOT IN SENTENCE\n",
      "SKIPPED BECAUSE ASPECT NOT IN SENTENCE\n",
      "SKIPPED BECAUSE ASPECT NOT IN SENTENCE\n",
      "SKIPPED BECAUSE ASPECT NOT IN SENTENCE\n",
      "SKIPPED BECAUSE ASPECT NOT IN SENTENCE\n",
      "SKIPPED BECAUSE ASPECT NOT IN SENTENCE\n",
      "SKIPPED BECAUSE ASPECT NOT IN SENTENCE\n",
      "SKIPPED BECAUSE ASPECT NOT IN SENTENCE\n"
     ]
    }
   ],
   "source": [
    "# aspectFinalFile = 'data/aspect_final.csv'\n",
    "polarityFinalFile = 'data/polarity_final.csv'\n",
    "\n",
    "# preprocess(aspectResultFile, aspectFinalFile)\n",
    "preprocess(polarityResultFile, polarityFinalFile)"
   ]
  },
  {
   "cell_type": "code",
   "execution_count": null,
   "id": "banner-gospel",
   "metadata": {},
   "outputs": [],
   "source": []
  }
 ],
 "metadata": {
  "kernelspec": {
   "display_name": "Python 3",
   "language": "python",
   "name": "python3"
  },
  "language_info": {
   "codemirror_mode": {
    "name": "ipython",
    "version": 3
   },
   "file_extension": ".py",
   "mimetype": "text/x-python",
   "name": "python",
   "nbconvert_exporter": "python",
   "pygments_lexer": "ipython3",
   "version": "3.9.2"
  }
 },
 "nbformat": 4,
 "nbformat_minor": 5
}
